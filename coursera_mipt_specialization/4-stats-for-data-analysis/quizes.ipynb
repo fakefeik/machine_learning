{
 "cells": [
  {
   "cell_type": "markdown",
   "metadata": {},
   "source": [
    "# Week 1"
   ]
  },
  {
   "cell_type": "markdown",
   "metadata": {},
   "source": [
    "## Доверительные интервалы"
   ]
  },
  {
   "cell_type": "markdown",
   "metadata": {},
   "source": [
    "### Practice Quiz: Доверительные интервалы для среднего"
   ]
  },
  {
   "cell_type": "markdown",
   "metadata": {},
   "source": [
    "#### 2.\n",
    "\n",
    "Для 61 большого города в Англии и Уэльсе известны средняя годовая смертность на 100000 населения (по данным 1958–1964) и концентрация кальция в питьевой воде (в частях на миллион). Чем выше концентрация кальция, тем жёстче вода. Города дополнительно поделены на северные и южные.\n",
    "\n",
    "Постройте 95% доверительный интервал для средней годовой смертности в больших городах. Чему равна его нижняя граница? Округлите ответ до 4 знаков после десятичной точки.\n",
    "\n",
    "**Будьте осторожны при использовании метода std()!** Дело в том, что у объекта numpy он по умолчанию вычисляется как $\\sqrt{\\frac1{n}\\sum\\limits_{i=1}^n\\left(X_i-\\bar{X}\\right)^2}$ а у объекта pandas — как $\\sqrt{\\frac1{n-1}\\sum\\limits_{i=1}^n\\left(X_i-\\bar{X}\\right)^2}$\n",
    "\n",
    "Нас интересует только второй вариант, несмещённая оценка стандартного отклонения.\n",
    "\n",
    "Чтобы не думать всё время о том, правильно ли вычисляется в вашем случае std(), можно всегда использовать std(ddof=1) (ddof — difference in degrees of freedom), тогда нормировка всегда будет на n-1."
   ]
  },
  {
   "cell_type": "code",
   "execution_count": 1,
   "metadata": {
    "collapsed": false
   },
   "outputs": [
    {
     "name": "stdout",
     "output_type": "stream",
     "text": [
      "Populating the interactive namespace from numpy and matplotlib\n"
     ]
    },
    {
     "data": {
      "text/html": [
       "<div>\n",
       "<table border=\"1\" class=\"dataframe\">\n",
       "  <thead>\n",
       "    <tr style=\"text-align: right;\">\n",
       "      <th></th>\n",
       "      <th>location</th>\n",
       "      <th>town</th>\n",
       "      <th>mortality</th>\n",
       "      <th>hardness</th>\n",
       "    </tr>\n",
       "  </thead>\n",
       "  <tbody>\n",
       "    <tr>\n",
       "      <th>0</th>\n",
       "      <td>South</td>\n",
       "      <td>Bath</td>\n",
       "      <td>1247</td>\n",
       "      <td>105</td>\n",
       "    </tr>\n",
       "    <tr>\n",
       "      <th>1</th>\n",
       "      <td>North</td>\n",
       "      <td>Birkenhead</td>\n",
       "      <td>1668</td>\n",
       "      <td>17</td>\n",
       "    </tr>\n",
       "    <tr>\n",
       "      <th>2</th>\n",
       "      <td>South</td>\n",
       "      <td>Birmingham</td>\n",
       "      <td>1466</td>\n",
       "      <td>5</td>\n",
       "    </tr>\n",
       "    <tr>\n",
       "      <th>3</th>\n",
       "      <td>North</td>\n",
       "      <td>Blackburn</td>\n",
       "      <td>1800</td>\n",
       "      <td>14</td>\n",
       "    </tr>\n",
       "    <tr>\n",
       "      <th>4</th>\n",
       "      <td>North</td>\n",
       "      <td>Blackpool</td>\n",
       "      <td>1609</td>\n",
       "      <td>18</td>\n",
       "    </tr>\n",
       "  </tbody>\n",
       "</table>\n",
       "</div>"
      ],
      "text/plain": [
       "  location        town  mortality  hardness\n",
       "0    South        Bath       1247       105\n",
       "1    North  Birkenhead       1668        17\n",
       "2    South  Birmingham       1466         5\n",
       "3    North   Blackburn       1800        14\n",
       "4    North   Blackpool       1609        18"
      ]
     },
     "execution_count": 1,
     "metadata": {},
     "output_type": "execute_result"
    }
   ],
   "source": [
    "import math\n",
    "import numpy as np\n",
    "import pandas as pd\n",
    "from statsmodels.stats.weightstats import _zconfint_generic, _tconfint_generic\n",
    "\n",
    "import matplotlib.pyplot as plt\n",
    "%matplotlib inline\n",
    "%pylab inline\n",
    "\n",
    "data = pd.read_csv('water.txt', delimiter='\\t')\n",
    "data.head(5)"
   ]
  },
  {
   "cell_type": "code",
   "execution_count": 2,
   "metadata": {
    "collapsed": false
   },
   "outputs": [],
   "source": [
    "def get_interval(column):\n",
    "    mean, std = column.mean(), column.std(ddof=1)\n",
    "    return _tconfint_generic(mean, std/np.sqrt(len(column)), len(column) - 1, 0.05, 'two-sided')"
   ]
  },
  {
   "cell_type": "code",
   "execution_count": 3,
   "metadata": {
    "collapsed": false
   },
   "outputs": [
    {
     "data": {
      "text/plain": [
       "1476.0833"
      ]
     },
     "execution_count": 3,
     "metadata": {},
     "output_type": "execute_result"
    }
   ],
   "source": [
    "round(get_interval(data['mortality'])[0], ndigits=4)"
   ]
  },
  {
   "cell_type": "markdown",
   "metadata": {},
   "source": [
    "#### 3.\n",
    "\n",
    "На данных из предыдущего вопроса постройте 95% доверительный интервал для средней годовой смертности по всем южным городам. Чему равна его верхняя граница? Округлите ответ до 4 знаков после десятичной точки."
   ]
  },
  {
   "cell_type": "code",
   "execution_count": 4,
   "metadata": {
    "collapsed": false
   },
   "outputs": [
    {
     "data": {
      "text/plain": [
       "1433.4636"
      ]
     },
     "execution_count": 4,
     "metadata": {},
     "output_type": "execute_result"
    }
   ],
   "source": [
    "round(get_interval(data[data.location == 'South']['mortality'])[1], ndigits=4)"
   ]
  },
  {
   "cell_type": "markdown",
   "metadata": {},
   "source": [
    "#### 4.\n",
    "\n",
    "На тех же данных постройте 95% доверительный интервал для средней годовой смертности по всем северным городам. Пересекается ли этот интервал с предыдущим? Как вы думаете, какой из этого можно сделать вывод?"
   ]
  },
  {
   "cell_type": "code",
   "execution_count": 5,
   "metadata": {
    "collapsed": false
   },
   "outputs": [
    {
     "data": {
      "text/plain": [
       "(1586.5605251961385, 1680.6394748038613)"
      ]
     },
     "execution_count": 5,
     "metadata": {},
     "output_type": "execute_result"
    }
   ],
   "source": [
    "get_interval(data[data.location == 'North']['mortality'])"
   ]
  },
  {
   "cell_type": "markdown",
   "metadata": {},
   "source": [
    "#### 5.\n",
    "Пересекаются ли 95% доверительные интервалы для средней жёсткости воды в северных и южных городах?"
   ]
  },
  {
   "cell_type": "code",
   "execution_count": 6,
   "metadata": {
    "collapsed": false
   },
   "outputs": [
    {
     "data": {
      "text/plain": [
       "((21.422487285724259, 39.377512714275738),\n",
       " (53.467198692036106, 86.071262846425441))"
      ]
     },
     "execution_count": 6,
     "metadata": {},
     "output_type": "execute_result"
    }
   ],
   "source": [
    "get_interval(data[data.location == 'North']['hardness']), get_interval(data[data.location == 'South']['hardness'])"
   ]
  },
  {
   "cell_type": "markdown",
   "metadata": {},
   "source": [
    "#### 6.\n",
    "\n",
    "Вспомним формулу доверительного интервала для среднего нормально распределённой случайной величины с дисперсией $\\sigma^2$: \n",
    "\n",
    "$\\bar{X}_n\\pm z_{1-\\frac{\\alpha}{2}} \\frac{\\sigma}{\\sqrt{n}}$\n",
    "\n",
    "При $\\sigma=1$ какой нужен объём выборки, чтобы на уровне доверия 95% оценить среднее с точностью $\\pm0.1$?"
   ]
  },
  {
   "cell_type": "code",
   "execution_count": 7,
   "metadata": {
    "collapsed": false
   },
   "outputs": [],
   "source": [
    "# TODO"
   ]
  },
  {
   "cell_type": "markdown",
   "metadata": {},
   "source": [
    "### Practice Quiz: Доверительные интервалы для долей"
   ]
  },
  {
   "cell_type": "code",
   "execution_count": 8,
   "metadata": {
    "collapsed": true
   },
   "outputs": [],
   "source": [
    "# TODO"
   ]
  },
  {
   "cell_type": "markdown",
   "metadata": {},
   "source": [
    "### Quiz: Доверительные интервалы"
   ]
  },
  {
   "cell_type": "markdown",
   "metadata": {},
   "source": [
    "#### 1.\n",
    "\n",
    "Давайте уточним правило трёх сигм. Утверждение: 99.7% вероятностной массы случайной величины $X\\sim N\\left(\\mu,\\sigma^2\\right)$ лежит в интервале $\\mu\\pm c \\cdot \\sigma$. Чему равно точное значение константы $c$? Округлите ответ до четырёх знаков после десятичной точки."
   ]
  },
  {
   "cell_type": "code",
   "execution_count": 9,
   "metadata": {
    "collapsed": false
   },
   "outputs": [
    {
     "data": {
      "text/plain": [
       "2.9676999999999998"
      ]
     },
     "execution_count": 9,
     "metadata": {},
     "output_type": "execute_result"
    }
   ],
   "source": [
    "import scipy.stats\n",
    "round(scipy.stats.norm.interval(0.997, loc=0, scale=1)[1], ndigits=4)"
   ]
  },
  {
   "cell_type": "markdown",
   "metadata": {},
   "source": [
    "#### 5.\n",
    "\n",
    "В пятилетнем рандомизированном исследовании Гарвардской медицинской школы 11037 испытуемых через день принимали аспирин, а ещё 11034 — плацебо. Исследование было слепым, то есть, испытуемые не знали, что именно они принимают.\n",
    "\n",
    "За 5 лет инфаркт случился у 104 испытуемых, принимавших аспирин, и у 189 принимавших плацебо.\n",
    "\n",
    "Оцените, насколько вероятность инфаркта снижается при приёме аспирина. Округлите ответ до четырёх знаков после десятичной точки."
   ]
  },
  {
   "cell_type": "code",
   "execution_count": 10,
   "metadata": {
    "collapsed": false
   },
   "outputs": [
    {
     "data": {
      "text/plain": [
       "0.0077"
      ]
     },
     "execution_count": 10,
     "metadata": {},
     "output_type": "execute_result"
    }
   ],
   "source": [
    "aspirin = 11037\n",
    "placebo = 11034\n",
    "\n",
    "aspirin_heart_attack = 104\n",
    "placebo_heart_attack = 189\n",
    "\n",
    "round(189/11034 - 104/11037, ndigits=4)"
   ]
  },
  {
   "cell_type": "markdown",
   "metadata": {},
   "source": [
    "#### 6.\n",
    "\n",
    "Постройте теперь 95% доверительный интервал для снижения вероятности инфаркта при приёме аспирина. Чему равна его верхняя граница? Округлите ответ до четырёх знаков после десятичной точки."
   ]
  },
  {
   "cell_type": "code",
   "execution_count": 11,
   "metadata": {
    "collapsed": false
   },
   "outputs": [
    {
     "data": {
      "text/plain": [
       "(0.0046877506750494392, 0.010724297276960124)"
      ]
     },
     "execution_count": 11,
     "metadata": {},
     "output_type": "execute_result"
    }
   ],
   "source": [
    "def proportions_confint_diff_ind(sample1, sample2, alpha = 0.05):    \n",
    "    z = scipy.stats.norm.ppf(1 - alpha / 2.)   \n",
    "    p1 = float(sum(sample1)) / len(sample1)\n",
    "    p2 = float(sum(sample2)) / len(sample2)\n",
    "    \n",
    "    left_boundary = (p1 - p2) - z * np.sqrt(p1 * (1 - p1)/ len(sample1) + p2 * (1 - p2)/ len(sample2))\n",
    "    right_boundary = (p1 - p2) + z * np.sqrt(p1 * (1 - p1)/ len(sample1) + p2 * (1 - p2)/ len(sample2))\n",
    "    \n",
    "    return (left_boundary, right_boundary)\n",
    "\n",
    "sample1 = np.array([1] * placebo_heart_attack + [0] * (placebo - placebo_heart_attack))\n",
    "sample2 = np.array([1] * aspirin_heart_attack + [0] * (aspirin - aspirin_heart_attack))\n",
    "proportions_confint_diff_ind(sample1, sample2)"
   ]
  },
  {
   "cell_type": "markdown",
   "metadata": {},
   "source": [
    "#### 7.\n",
    "\n",
    "Продолжим анализировать данные эксперимента Гарвардской медицинской школы.\n",
    "\n",
    "Для бернуллиевских случайных величин $X\\sim Ber(p)$ часто вычисляют величину $\\frac{p}{1-p}$, которая называется шансами (odds). Чтобы оценить шансы по выборке, вместо $p$ нужно подставить $\\hat{p}$. Например, шансы инфаркта в контрольной группе, принимавшей плацебо, можно оценить как\n",
    "\n",
    "$\\frac{\\frac{189}{11034}}{1-\\frac{189}{11034}} = \\frac{189}{11034-189}\\approx 0.0174$\n",
    "\n",
    "Оцените, во сколько раз понижаются шансы инфаркта при регулярном приёме аспирина. Округлите ответ до четырёх знаков после десятичной точки."
   ]
  },
  {
   "cell_type": "code",
   "execution_count": 12,
   "metadata": {
    "collapsed": false
   },
   "outputs": [
    {
     "data": {
      "text/plain": [
       "1.8321"
      ]
     },
     "execution_count": 12,
     "metadata": {},
     "output_type": "execute_result"
    }
   ],
   "source": [
    "round((189/(11034-189))/(104/(11037-104)), ndigits=4)"
   ]
  },
  {
   "cell_type": "markdown",
   "metadata": {},
   "source": [
    "#### 8.\n",
    "\n",
    "Величина, которую вы оценили в предыдущем вопросе, называется отношением шансов. Постройте для отношения шансов 95% доверительный интервал с помощью бутстрепа. Чему равна его нижняя граница? Округлите ответ до 4 знаков после десятичной точки.\n",
    "\n",
    "Чтобы получить в точности такой же доверительный интервал, как у нас:\n",
    "\n",
    "* составьте векторы исходов в контрольной и тестовой выборках так, чтобы в начале шли все единицы, а потом все нули;\n",
    "* установите random seed=0;\n",
    "* сделайте по 1000 псевдовыборок из каждой группы пациентов с помощью функции get_bootstrap_samples."
   ]
  },
  {
   "cell_type": "code",
   "execution_count": 13,
   "metadata": {
    "collapsed": true
   },
   "outputs": [],
   "source": [
    "def get_bootstrap_samples(data, n_samples):\n",
    "    indices = np.random.randint(0, len(data), (n_samples, len(data)))\n",
    "    samples = data[indices]\n",
    "    return samples\n",
    "\n",
    "def stat_intervals(stat, alpha):\n",
    "    boundaries = np.percentile(stat, [100 * alpha / 2., 100 * (1 - alpha / 2.)])\n",
    "    return boundaries\n",
    "\n",
    "def get_odds(sample):\n",
    "    s = sample.sum()\n",
    "    return s/(len(sample) - s)"
   ]
  },
  {
   "cell_type": "code",
   "execution_count": 14,
   "metadata": {
    "collapsed": false
   },
   "outputs": [
    {
     "data": {
      "text/plain": [
       "array([ 1.46286276,  2.35093673])"
      ]
     },
     "execution_count": 14,
     "metadata": {},
     "output_type": "execute_result"
    }
   ],
   "source": [
    "np.random.seed(0)\n",
    "\n",
    "a = get_bootstrap_samples(sample1, 1000)\n",
    "b = get_bootstrap_samples(sample2, 1000)\n",
    "\n",
    "odds_a = list(map(get_odds, a))\n",
    "odds_b = list(map(get_odds, b))\n",
    "\n",
    "odds = np.array(odds_a)/np.array(odds_b)\n",
    "\n",
    "stat_intervals(odds, 0.05)"
   ]
  },
  {
   "cell_type": "markdown",
   "metadata": {},
   "source": [
    "## Проверка гипотез"
   ]
  },
  {
   "cell_type": "markdown",
   "metadata": {},
   "source": [
    "### Quiz: Практика проверки гипотез"
   ]
  },
  {
   "cell_type": "markdown",
   "metadata": {},
   "source": [
    "#### 1.\n",
    "\n",
    "По данным опроса, 75% работников ресторанов утверждают, что испытывают на работе существенный стресс, оказывающий негативное влияние на их личную жизнь. Крупная ресторанная сеть опрашивает 100 своих работников, чтобы выяснить, отличается ли уровень стресса работников в их ресторанах от среднего. 67 из 100 работников отметили высокий уровень стресса.\n",
    "\n",
    "Посчитайте достигаемый уровень значимости, округлите ответ до четырёх знаков после десятичной точки."
   ]
  },
  {
   "cell_type": "code",
   "execution_count": 15,
   "metadata": {
    "collapsed": false
   },
   "outputs": [
    {
     "data": {
      "text/plain": [
       "0.082222588913866079"
      ]
     },
     "execution_count": 15,
     "metadata": {},
     "output_type": "execute_result"
    }
   ],
   "source": [
    "scipy.stats.binom_test(67, 100, 0.75, alternative='two-sided')"
   ]
  },
  {
   "cell_type": "markdown",
   "metadata": {},
   "source": [
    "#### 3.\n",
    "\n",
    "The Wage Tract — заповедник в округе Тома, Джорджия, США, деревья в котором не затронуты деятельностью человека со времён первых поселенцев. Для участка заповедника размером 200х200 м имеется информация о координатах сосен (sn — координата в направлении север-юг, we — в направлении запад-восток, обе от 0 до 200).\n",
    "\n",
    "Проверим, можно ли пространственное распределение сосен считать равномерным, или они растут кластерами.\n",
    "\n",
    "Загрузите данные, поделите участок на 5х5 одинаковых квадратов размера 40x40 м, посчитайте количество сосен в каждом квадрате (чтобы получить такой же результат, как у нас, используйте функцию scipy.stats.binned_statistic_2d).\n",
    "\n",
    "Если сосны действительно растут равномерно, какое среднее ожидаемое количество сосен в каждом квадрате? В правильном ответе два знака после десятичной точки."
   ]
  },
  {
   "cell_type": "code",
   "execution_count": 16,
   "metadata": {
    "collapsed": false
   },
   "outputs": [
    {
     "data": {
      "text/html": [
       "<div>\n",
       "<table border=\"1\" class=\"dataframe\">\n",
       "  <thead>\n",
       "    <tr style=\"text-align: right;\">\n",
       "      <th></th>\n",
       "      <th>sn</th>\n",
       "      <th>we</th>\n",
       "    </tr>\n",
       "  </thead>\n",
       "  <tbody>\n",
       "    <tr>\n",
       "      <th>0</th>\n",
       "      <td>200.0</td>\n",
       "      <td>8.8</td>\n",
       "    </tr>\n",
       "    <tr>\n",
       "      <th>1</th>\n",
       "      <td>199.3</td>\n",
       "      <td>10.0</td>\n",
       "    </tr>\n",
       "    <tr>\n",
       "      <th>2</th>\n",
       "      <td>193.6</td>\n",
       "      <td>22.4</td>\n",
       "    </tr>\n",
       "    <tr>\n",
       "      <th>3</th>\n",
       "      <td>167.7</td>\n",
       "      <td>35.6</td>\n",
       "    </tr>\n",
       "    <tr>\n",
       "      <th>4</th>\n",
       "      <td>183.9</td>\n",
       "      <td>45.4</td>\n",
       "    </tr>\n",
       "  </tbody>\n",
       "</table>\n",
       "</div>"
      ],
      "text/plain": [
       "      sn    we\n",
       "0  200.0   8.8\n",
       "1  199.3  10.0\n",
       "2  193.6  22.4\n",
       "3  167.7  35.6\n",
       "4  183.9  45.4"
      ]
     },
     "execution_count": 16,
     "metadata": {},
     "output_type": "execute_result"
    }
   ],
   "source": [
    "pines = pd.read_csv('pines.txt', delimiter='\\t')\n",
    "pines.head(5)"
   ]
  },
  {
   "cell_type": "code",
   "execution_count": 17,
   "metadata": {
    "collapsed": false
   },
   "outputs": [
    {
     "data": {
      "text/plain": [
       "23.359999999999999"
      ]
     },
     "execution_count": 17,
     "metadata": {},
     "output_type": "execute_result"
    }
   ],
   "source": [
    "stat = scipy.stats.binned_statistic_2d(pines['we'], pines['sn'], None, 'count', bins=[5, 5])\n",
    "stat.statistic.mean()"
   ]
  },
  {
   "cell_type": "markdown",
   "metadata": {},
   "source": [
    "#### 4.\n",
    "\n",
    "Чтобы сравнить распределение сосен с равномерным, посчитайте значение статистики хи-квадрат для полученных 5х5 квадратов. Округлите ответ до двух знаков после десятичной точки."
   ]
  },
  {
   "cell_type": "code",
   "execution_count": 18,
   "metadata": {
    "collapsed": false
   },
   "outputs": [
    {
     "data": {
      "text/plain": [
       "150.58904109589042"
      ]
     },
     "execution_count": 18,
     "metadata": {},
     "output_type": "execute_result"
    }
   ],
   "source": [
    "chi = scipy.stats.chisquare(stat.statistic.reshape(25))\n",
    "chi.statistic"
   ]
  },
  {
   "cell_type": "markdown",
   "metadata": {},
   "source": [
    "#### 5.\n",
    "\n",
    "Насколько велико это значение? Если нулевая гипотеза справедлива, с какой вероятностью его можно было получить случайно?\n",
    "\n",
    "Нулевое распределение статистики — хи-квадрат с $25−1=24$ степенями свободы (поскольку у равномерного распределения, с которым мы сравниваем данные, нет ни одного оцениваемого по выборке параметра, число степеней свободы $K−1$, где $K$ — количество интервалов).\n",
    "\n",
    "Посчитайте достигаемый уровень значимости.\n",
    "\n",
    "Если вы используете функцию scipy.stats.chi2.cdf, в качестве значения параметра df нужно взять 24 (это число степеней свободы); если функцию scipy.stats.chisquare — параметр ddof нужно брать равным 0 (это как раз количество параметров теоретического распределения, оцениваемых по выборке).\n",
    "\n",
    "Отвергается ли гипотеза равномерности на уровне значимости 0.05?"
   ]
  },
  {
   "cell_type": "code",
   "execution_count": 19,
   "metadata": {
    "collapsed": false
   },
   "outputs": [
    {
     "data": {
      "text/plain": [
       "2.5746697749672791e-20"
      ]
     },
     "execution_count": 19,
     "metadata": {},
     "output_type": "execute_result"
    }
   ],
   "source": [
    "chi.pvalue"
   ]
  },
  {
   "cell_type": "markdown",
   "metadata": {
    "collapsed": true
   },
   "source": [
    "# Week 2"
   ]
  },
  {
   "cell_type": "markdown",
   "metadata": {},
   "source": [
    "## Параметрические критерии"
   ]
  },
  {
   "cell_type": "markdown",
   "metadata": {},
   "source": [
    "### Practice Quiz: Критерии Стьюдента"
   ]
  },
  {
   "cell_type": "markdown",
   "metadata": {},
   "source": [
    "#### 4.\n",
    "\n",
    "Уровень кальция в крови здоровых молодых женщин равен в среднем 9.5 милиграммам на децилитр и имеет характерное стандартное отклонение 0.4 мг/дл. В сельской больнице Гватемалы для 160 здоровых беременных женщин при первом обращении для ведения беременности был измерен уровень кальция; среднее значение составило 9.57 мг/дл. Можно ли утверждать, что средний уровень кальция в этой популяции отличается от 9.5?\n",
    "\n",
    "Посчитайте достигаемый уровень значимости. Поскольку известны только среднее и дисперсия, а не сама выборка, нельзя использовать стандартные функции критериев — нужно реализовать формулу достигаемого уровня значимости самостоятельно.\n",
    "\n",
    "Округлите ответ до четырёх знаков после десятичной точки."
   ]
  },
  {
   "cell_type": "code",
   "execution_count": 20,
   "metadata": {
    "collapsed": false
   },
   "outputs": [
    {
     "data": {
      "text/plain": [
       "0.026856695507523787"
      ]
     },
     "execution_count": 20,
     "metadata": {},
     "output_type": "execute_result"
    }
   ],
   "source": [
    "mu = 9.5\n",
    "sigma = 0.4\n",
    "\n",
    "n = 160\n",
    "x_ = 9.57\n",
    "\n",
    "z = (x_ - mu)/(sigma/np.sqrt(n))\n",
    "2*(1 - scipy.stats.norm.cdf(abs(z)))"
   ]
  },
  {
   "cell_type": "markdown",
   "metadata": {},
   "source": [
    "#### 6.\n",
    "\n",
    "Имеются данные о стоимости и размерах 53940 бриллиантов:\n",
    "\n",
    "Отделите 25% случайных наблюдений в тестовую выборку с помощью функции sklearn.cross_validation.train_test_split (зафиксируйте random state = 1). На обучающей выборке настройте две регрессионные модели:\n",
    "\n",
    "1. линейную регрессию с помощью LinearRegression без параметров\n",
    "2. случайный лес с помощью RandomForestRegressor с random_state=1.\n",
    "\n",
    "Какая из моделей лучше предсказывает цену бриллиантов? Сделайте предсказания на тестовой выборке, посчитайте модули отклонений предсказаний от истинных цен. Проверьте гипотезу об одинаковом среднем качестве предсказаний, вычислите достигаемый уровень значимости. Отвергается ли гипотеза об одинаковом качестве моделей против двусторонней альтернативы на уровне значимости $α=0.05$?"
   ]
  },
  {
   "cell_type": "code",
   "execution_count": 21,
   "metadata": {
    "collapsed": false
   },
   "outputs": [
    {
     "data": {
      "text/html": [
       "<div>\n",
       "<table border=\"1\" class=\"dataframe\">\n",
       "  <thead>\n",
       "    <tr style=\"text-align: right;\">\n",
       "      <th></th>\n",
       "      <th>carat</th>\n",
       "      <th>depth</th>\n",
       "      <th>table</th>\n",
       "      <th>price</th>\n",
       "      <th>x</th>\n",
       "      <th>y</th>\n",
       "      <th>z</th>\n",
       "    </tr>\n",
       "  </thead>\n",
       "  <tbody>\n",
       "    <tr>\n",
       "      <th>0</th>\n",
       "      <td>0.23</td>\n",
       "      <td>61.5</td>\n",
       "      <td>55.0</td>\n",
       "      <td>326</td>\n",
       "      <td>3.95</td>\n",
       "      <td>3.98</td>\n",
       "      <td>2.43</td>\n",
       "    </tr>\n",
       "    <tr>\n",
       "      <th>1</th>\n",
       "      <td>0.21</td>\n",
       "      <td>59.8</td>\n",
       "      <td>61.0</td>\n",
       "      <td>326</td>\n",
       "      <td>3.89</td>\n",
       "      <td>3.84</td>\n",
       "      <td>2.31</td>\n",
       "    </tr>\n",
       "    <tr>\n",
       "      <th>2</th>\n",
       "      <td>0.23</td>\n",
       "      <td>56.9</td>\n",
       "      <td>65.0</td>\n",
       "      <td>327</td>\n",
       "      <td>4.05</td>\n",
       "      <td>4.07</td>\n",
       "      <td>2.31</td>\n",
       "    </tr>\n",
       "    <tr>\n",
       "      <th>3</th>\n",
       "      <td>0.29</td>\n",
       "      <td>62.4</td>\n",
       "      <td>58.0</td>\n",
       "      <td>334</td>\n",
       "      <td>4.20</td>\n",
       "      <td>4.23</td>\n",
       "      <td>2.63</td>\n",
       "    </tr>\n",
       "    <tr>\n",
       "      <th>4</th>\n",
       "      <td>0.31</td>\n",
       "      <td>63.3</td>\n",
       "      <td>58.0</td>\n",
       "      <td>335</td>\n",
       "      <td>4.34</td>\n",
       "      <td>4.35</td>\n",
       "      <td>2.75</td>\n",
       "    </tr>\n",
       "  </tbody>\n",
       "</table>\n",
       "</div>"
      ],
      "text/plain": [
       "   carat  depth  table  price     x     y     z\n",
       "0   0.23   61.5   55.0    326  3.95  3.98  2.43\n",
       "1   0.21   59.8   61.0    326  3.89  3.84  2.31\n",
       "2   0.23   56.9   65.0    327  4.05  4.07  2.31\n",
       "3   0.29   62.4   58.0    334  4.20  4.23  2.63\n",
       "4   0.31   63.3   58.0    335  4.34  4.35  2.75"
      ]
     },
     "execution_count": 21,
     "metadata": {},
     "output_type": "execute_result"
    }
   ],
   "source": [
    "data = pd.read_csv('diamonds.txt', delimiter='\\t')\n",
    "data.head()"
   ]
  },
  {
   "cell_type": "code",
   "execution_count": 22,
   "metadata": {
    "collapsed": false
   },
   "outputs": [
    {
     "data": {
      "text/plain": [
       "Ttest_relResult(statistic=12.745056775182134, pvalue=5.428654818173066e-37)"
      ]
     },
     "execution_count": 22,
     "metadata": {},
     "output_type": "execute_result"
    }
   ],
   "source": [
    "from sklearn.linear_model import LinearRegression\n",
    "from sklearn.ensemble import RandomForestRegressor\n",
    "from sklearn.cross_validation import train_test_split\n",
    "\n",
    "X_train, X_test, y_train, y_test = train_test_split(data.drop('price', axis=1), data['price'], test_size=0.25, random_state=1)\n",
    "\n",
    "linear = LinearRegression()\n",
    "linear.fit(X_train, y_train)\n",
    "\n",
    "forest = RandomForestRegressor(random_state=1)\n",
    "forest.fit(X_train, y_train)\n",
    "\n",
    "linear_pred = linear.predict(X_test)\n",
    "forest_pred = forest.predict(X_test)\n",
    "\n",
    "linear_errors = np.abs(linear_pred - y_test)\n",
    "forest_errors = np.abs(forest_pred - y_test)\n",
    "\n",
    "scipy.stats.ttest_rel(linear_errors, forest_errors)"
   ]
  },
  {
   "cell_type": "markdown",
   "metadata": {},
   "source": [
    "\n",
    "#### 7.\n",
    "\n",
    "В предыдущей задаче посчитайте 95% доверительный интервал для разности средних абсолютных ошибок предсказаний регрессии и случайного леса. Чему равна его ближайшая к нулю граница? Округлите до десятков (поскольку случайный лес может давать немного разные предсказания в зависимости от версий библиотек, мы просим вас так сильно округлить, чтобы полученное значение наверняка совпало с нашим)."
   ]
  },
  {
   "cell_type": "code",
   "execution_count": 23,
   "metadata": {
    "collapsed": false
   },
   "outputs": [
    {
     "data": {
      "text/plain": [
       "(72.497265650113349, 98.849770256267391)"
      ]
     },
     "execution_count": 23,
     "metadata": {},
     "output_type": "execute_result"
    }
   ],
   "source": [
    "get_interval(linear_errors - forest_errors)"
   ]
  },
  {
   "cell_type": "markdown",
   "metadata": {},
   "source": [
    "### Quiz: Параметрические критерии"
   ]
  },
  {
   "cell_type": "markdown",
   "metadata": {},
   "source": [
    "#### 3.\n",
    "\n",
    "В одном из выпусков программы \"Разрушители легенд\" проверялось, действительно ли заразительна зевота. В эксперименте участвовало 50 испытуемых, проходивших собеседование на программу. Каждый из них разговаривал с рекрутером; в конце 34 из 50 бесед рекрутер зевал. Затем испытуемых просили подождать решения рекрутера в соседней пустой комнате.\n",
    "\n",
    "Во время ожидания 10 из 34 испытуемых экспериментальной группы и 4 из 16 испытуемых контрольной начали зевать. Таким образом, разница в доле зевающих людей в этих двух группах составила примерно 4.4%. Ведущие заключили, что миф о заразительности зевоты подтверждён.\n",
    "\n",
    "Можно ли утверждать, что доли зевающих в контрольной и экспериментальной группах отличаются статистически значимо? Посчитайте достигаемый уровень значимости при альтернативе заразительности зевоты, округлите до четырёх знаков после десятичной точки."
   ]
  },
  {
   "cell_type": "code",
   "execution_count": 24,
   "metadata": {
    "collapsed": true
   },
   "outputs": [],
   "source": [
    "def proportions_diff_z_stat_ind(sample1, sample2):\n",
    "    n1 = len(sample1)\n",
    "    n2 = len(sample2)\n",
    "    \n",
    "    p1 = float(sum(sample1)) / n1\n",
    "    p2 = float(sum(sample2)) / n2 \n",
    "    P = float(p1*n1 + p2*n2) / (n1 + n2)\n",
    "    \n",
    "    return (p1 - p2) / np.sqrt(P * (1 - P) * (1. / n1 + 1. / n2))\n",
    "\n",
    "def proportions_diff_z_test(z_stat, alternative = 'two-sided'):\n",
    "    if alternative not in ('two-sided', 'less', 'greater'):\n",
    "        raise ValueError(\"alternative not recognized\\n\"\n",
    "                         \"should be 'two-sided', 'less' or 'greater'\")\n",
    "    \n",
    "    if alternative == 'two-sided':\n",
    "        return 2 * (1 - scipy.stats.norm.cdf(np.abs(z_stat)))\n",
    "    \n",
    "    if alternative == 'less':\n",
    "        return scipy.stats.norm.cdf(z_stat)\n",
    "\n",
    "    if alternative == 'greater':\n",
    "        return 1 - scipy.stats.norm.cdf(z_stat)"
   ]
  },
  {
   "cell_type": "code",
   "execution_count": 25,
   "metadata": {
    "collapsed": false
   },
   "outputs": [
    {
     "data": {
      "text/plain": [
       "0.37293045872523534"
      ]
     },
     "execution_count": 25,
     "metadata": {},
     "output_type": "execute_result"
    }
   ],
   "source": [
    "exp = np.concatenate([np.ones(10), np.zeros(24)])\n",
    "test = np.concatenate([np.ones(4), np.zeros(12)])\n",
    "\n",
    "proportions_diff_z_test(proportions_diff_z_stat_ind(exp, test), alternative='greater')"
   ]
  },
  {
   "cell_type": "markdown",
   "metadata": {},
   "source": [
    "#### 4.\n",
    "\n",
    "Имеются данные измерений двухсот швейцарских тысячефранковых банкнот, бывших в обращении в первой половине XX века. Сто из банкнот были настоящими, и сто — поддельными. На рисунке ниже показаны измеренные признаки:\n",
    "\n",
    "Загрузите данные:\n",
    "\n",
    "Отделите 50 случайных наблюдений в тестовую выборку с помощью функции sklearn.cross_validation.train_test_split (зафиксируйте random state = 1). На оставшихся 150 настройте два классификатора поддельности банкнот:\n",
    "\n",
    "1. логистическая регрессия по признакам $X1,X2,X3$;\n",
    "2. логистическая регрессия по признакам $X4,X5,X6$.\n",
    "\n",
    "Каждым из классификаторов сделайте предсказания меток классов на тестовой выборке. Одинаковы ли доли ошибочных предсказаний двух классификаторов? Проверьте гипотезу, вычислите достигаемый уровень значимости. Введите номер первой значащей цифры (например, если вы получили $5.5×10−8$, нужно ввести 8)."
   ]
  },
  {
   "cell_type": "code",
   "execution_count": 26,
   "metadata": {
    "collapsed": false
   },
   "outputs": [
    {
     "data": {
      "text/html": [
       "<div>\n",
       "<table border=\"1\" class=\"dataframe\">\n",
       "  <thead>\n",
       "    <tr style=\"text-align: right;\">\n",
       "      <th></th>\n",
       "      <th>X1</th>\n",
       "      <th>X2</th>\n",
       "      <th>X3</th>\n",
       "      <th>X4</th>\n",
       "      <th>X5</th>\n",
       "      <th>X6</th>\n",
       "      <th>real</th>\n",
       "    </tr>\n",
       "  </thead>\n",
       "  <tbody>\n",
       "    <tr>\n",
       "      <th>0</th>\n",
       "      <td>214.8</td>\n",
       "      <td>131.0</td>\n",
       "      <td>131.1</td>\n",
       "      <td>9.0</td>\n",
       "      <td>9.7</td>\n",
       "      <td>141.0</td>\n",
       "      <td>1</td>\n",
       "    </tr>\n",
       "    <tr>\n",
       "      <th>1</th>\n",
       "      <td>214.6</td>\n",
       "      <td>129.7</td>\n",
       "      <td>129.7</td>\n",
       "      <td>8.1</td>\n",
       "      <td>9.5</td>\n",
       "      <td>141.7</td>\n",
       "      <td>1</td>\n",
       "    </tr>\n",
       "    <tr>\n",
       "      <th>2</th>\n",
       "      <td>214.8</td>\n",
       "      <td>129.7</td>\n",
       "      <td>129.7</td>\n",
       "      <td>8.7</td>\n",
       "      <td>9.6</td>\n",
       "      <td>142.2</td>\n",
       "      <td>1</td>\n",
       "    </tr>\n",
       "    <tr>\n",
       "      <th>3</th>\n",
       "      <td>214.8</td>\n",
       "      <td>129.7</td>\n",
       "      <td>129.6</td>\n",
       "      <td>7.5</td>\n",
       "      <td>10.4</td>\n",
       "      <td>142.0</td>\n",
       "      <td>1</td>\n",
       "    </tr>\n",
       "    <tr>\n",
       "      <th>4</th>\n",
       "      <td>215.0</td>\n",
       "      <td>129.6</td>\n",
       "      <td>129.7</td>\n",
       "      <td>10.4</td>\n",
       "      <td>7.7</td>\n",
       "      <td>141.8</td>\n",
       "      <td>1</td>\n",
       "    </tr>\n",
       "  </tbody>\n",
       "</table>\n",
       "</div>"
      ],
      "text/plain": [
       "      X1     X2     X3    X4    X5     X6  real\n",
       "0  214.8  131.0  131.1   9.0   9.7  141.0     1\n",
       "1  214.6  129.7  129.7   8.1   9.5  141.7     1\n",
       "2  214.8  129.7  129.7   8.7   9.6  142.2     1\n",
       "3  214.8  129.7  129.6   7.5  10.4  142.0     1\n",
       "4  215.0  129.6  129.7  10.4   7.7  141.8     1"
      ]
     },
     "execution_count": 26,
     "metadata": {},
     "output_type": "execute_result"
    }
   ],
   "source": [
    "data = pd.read_csv('banknotes.txt', delimiter='\\t')\n",
    "data.head()"
   ]
  },
  {
   "cell_type": "code",
   "execution_count": 27,
   "metadata": {
    "collapsed": true
   },
   "outputs": [],
   "source": [
    "def proportions_diff_z_test(z_stat, alternative = 'two-sided'):\n",
    "    if alternative not in ('two-sided', 'less', 'greater'):\n",
    "        raise ValueError(\"alternative not recognized\\n\"\n",
    "                         \"should be 'two-sided', 'less' or 'greater'\")\n",
    "    \n",
    "    if alternative == 'two-sided':\n",
    "        return 2 * (1 - scipy.stats.norm.cdf(np.abs(z_stat)))\n",
    "    \n",
    "    if alternative == 'less':\n",
    "        return scipy.stats.norm.cdf(z_stat)\n",
    "\n",
    "    if alternative == 'greater':\n",
    "        return 1 - scipy.stats.norm.cdf(z_stat)\n",
    "\n",
    "def proportions_diff_confint_rel(sample1, sample2, alpha = 0.05):\n",
    "    z = scipy.stats.norm.ppf(1 - alpha / 2.)\n",
    "    sample = list(zip(sample1, sample2))\n",
    "    n = len(sample)\n",
    "        \n",
    "    f = sum([1 if (x[0] == 1 and x[1] == 0) else 0 for x in sample])\n",
    "    g = sum([1 if (x[0] == 0 and x[1] == 1) else 0 for x in sample])\n",
    "    \n",
    "    left_boundary = float(f - g) / n  - z * np.sqrt(float((f + g)) / n**2 - float((f - g)**2) / n**3)\n",
    "    right_boundary = float(f - g) / n  + z * np.sqrt(float((f + g)) / n**2 - float((f - g)**2) / n**3)\n",
    "    return (left_boundary, right_boundary)\n",
    "\n",
    "def proportions_diff_z_stat_rel(sample1, sample2):\n",
    "    sample = list(zip(sample1, sample2))\n",
    "    n = len(sample)\n",
    "    \n",
    "    f = sum([1 if (x[0] == 1 and x[1] == 0) else 0 for x in sample])\n",
    "    g = sum([1 if (x[0] == 0 and x[1] == 1) else 0 for x in sample])\n",
    "    \n",
    "    return float(f - g) / np.sqrt(f + g - float((f - g)**2) / n )"
   ]
  },
  {
   "cell_type": "code",
   "execution_count": 28,
   "metadata": {
    "collapsed": false
   },
   "outputs": [
    {
     "data": {
      "text/plain": [
       "0.0032969384555543435"
      ]
     },
     "execution_count": 28,
     "metadata": {},
     "output_type": "execute_result"
    }
   ],
   "source": [
    "from sklearn.linear_model import LogisticRegression\n",
    "\n",
    "X_train, X_test, y_train, y_test = train_test_split(data.drop('real', axis=1), data['real'], test_size=50, random_state=1)\n",
    "\n",
    "X1 = ['X4', 'X5', 'X6']\n",
    "X2 = ['X1', 'X2', 'X3']\n",
    "\n",
    "l1 = LogisticRegression()\n",
    "l1.fit(X_train.drop(X1, axis=1), y_train)\n",
    "\n",
    "l2 = LogisticRegression()\n",
    "l2.fit(X_train.drop(X2, axis=1), y_train)\n",
    "\n",
    "pred1 = l1.predict(X_test.drop(X1, axis=1))\n",
    "pred2 = l2.predict(X_test.drop(X2, axis=1))\n",
    "\n",
    "err1 = np.abs(y_test - pred1)\n",
    "err2 = np.abs(y_test - pred2)\n",
    "\n",
    "proportions_diff_z_test(proportions_diff_z_stat_rel(err1, err2))"
   ]
  },
  {
   "cell_type": "markdown",
   "metadata": {},
   "source": [
    "#### 5.\n",
    "\n",
    "В предыдущей задаче посчитайте 95% доверительный интервал для разности долей ошибок двух классификаторов. Чему равна его ближайшая к нулю граница? Округлите до четырёх знаков после десятичной точки."
   ]
  },
  {
   "cell_type": "code",
   "execution_count": 29,
   "metadata": {
    "collapsed": false
   },
   "outputs": [
    {
     "data": {
      "text/plain": [
       "(0.059945206279614305, 0.30005479372038568)"
      ]
     },
     "execution_count": 29,
     "metadata": {},
     "output_type": "execute_result"
    }
   ],
   "source": [
    "proportions_diff_confint_rel(err1, err2)"
   ]
  },
  {
   "cell_type": "markdown",
   "metadata": {},
   "source": [
    "#### 6.\n",
    "\n",
    "Ежегодно более 200000 людей по всему миру сдают стандартизированный экзамен GMAT при поступлении на программы MBA. Средний результат составляет 525 баллов, стандартное отклонение — 100 баллов.\n",
    "\n",
    "Сто студентов закончили специальные подготовительные курсы и сдали экзамен. Средний полученный ими балл — 541.4. Проверьте гипотезу о неэффективности программы против односторонней альтернативы о том, что программа работает. Отвергается ли на уровне значимости 0.05 нулевая гипотеза? Введите достигаемый уровень значимости, округлённый до 4 знаков после десятичной точки."
   ]
  },
  {
   "cell_type": "code",
   "execution_count": 30,
   "metadata": {
    "collapsed": false
   },
   "outputs": [],
   "source": [
    "def get_p(x_):\n",
    "    mu = 525\n",
    "    sigma = 100\n",
    "    n = 100\n",
    "\n",
    "    z = (x_ - mu)/(sigma/np.sqrt(n))\n",
    "    return 1 - scipy.stats.norm.cdf(z)"
   ]
  },
  {
   "cell_type": "code",
   "execution_count": 31,
   "metadata": {
    "collapsed": false
   },
   "outputs": [
    {
     "data": {
      "text/plain": [
       "0.050502583474103968"
      ]
     },
     "execution_count": 31,
     "metadata": {},
     "output_type": "execute_result"
    }
   ],
   "source": [
    "get_p(541.4)"
   ]
  },
  {
   "cell_type": "markdown",
   "metadata": {},
   "source": [
    "#### 7.\n",
    "\n",
    "Оцените теперь эффективность подготовительных курсов, средний балл 100 выпускников которых равен 541.5. Отвергается ли на уровне значимости 0.05 та же самая нулевая гипотеза против той же самой альтернативы? Введите достигаемый уровень значимости, округлённый до 4 знаков после десятичной точки."
   ]
  },
  {
   "cell_type": "code",
   "execution_count": 32,
   "metadata": {
    "collapsed": false
   },
   "outputs": [
    {
     "data": {
      "text/plain": [
       "0.049471468033648103"
      ]
     },
     "execution_count": 32,
     "metadata": {},
     "output_type": "execute_result"
    }
   ],
   "source": [
    "get_p(541.5)"
   ]
  },
  {
   "cell_type": "markdown",
   "metadata": {},
   "source": [
    "## Непараметрические критерии"
   ]
  },
  {
   "cell_type": "markdown",
   "metadata": {},
   "source": [
    "### Quiz: Непараметрические критерии"
   ]
  },
  {
   "cell_type": "markdown",
   "metadata": {},
   "source": [
    "#### 4.\n",
    "\n",
    "Давайте вернёмся к данным выживаемости пациентов с лейкоцитарной лимфомой из видео про критерий знаков:\n",
    "\n",
    "$49,58,75,110,112,132,151,276,281,362^∗$\n",
    "\n",
    "Измерено остаточное время жизни с момента начала наблюдения (в неделях); звёздочка обозначает цензурирование сверху — исследование длилось 7 лет, и остаточное время жизни одного пациента, который дожил до конца наблюдения, неизвестно.\n",
    "\n",
    "Поскольку цензурировано только одно наблюдение, для проверки гипотезы $H_0:medX=200$ на этих данных можно использовать критерий знаковых рангов — можно считать, что время дожития последнего пациента в точности равно 362, на ранг этого наблюдения это никак не повлияет.\n",
    "\n",
    "Критерием знаковых рангов проверьте эту гипотезу против двусторонней альтернативы, введите достигаемый уровень значимости, округлённый до четырёх знаков после десятичной точки."
   ]
  },
  {
   "cell_type": "code",
   "execution_count": 33,
   "metadata": {
    "collapsed": false
   },
   "outputs": [
    {
     "data": {
      "text/plain": [
       "WilcoxonResult(statistic=17.0, pvalue=0.28450269791120752)"
      ]
     },
     "execution_count": 33,
     "metadata": {},
     "output_type": "execute_result"
    }
   ],
   "source": [
    "medX = 200\n",
    "X_ = [49, 58, 75, 110, 112, 132, 151, 276, 281, 362]\n",
    "scipy.stats.wilcoxon(np.array(X_) - medX)"
   ]
  },
  {
   "cell_type": "markdown",
   "metadata": {},
   "source": [
    "#### 5.\n",
    "\n",
    "В ходе исследования влияния лесозаготовки на биоразнообразие лесов острова Борнео собраны данные о количестве видов деревьев в 12 лесах, где вырубка не ведётся:\n",
    "\n",
    "$22,22,15,13,19,19,18,20,21,13,13,15,$\n",
    "\n",
    "и в 9 лесах, где идёт вырубка:\n",
    "\n",
    "$17,18,18,15,12,4,14,15,10.$\n",
    "\n",
    "Проверьте гипотезу о равенстве среднего количества видов в двух типах лесов против односторонней альтернативы о снижении биоразнообразия в вырубаемых лесах. Используйте ранговый критерий. Чему равен достигаемый уровень значимости? Округлите до четырёх знаков после десятичной точки."
   ]
  },
  {
   "cell_type": "code",
   "execution_count": 34,
   "metadata": {
    "collapsed": false
   },
   "outputs": [
    {
     "data": {
      "text/plain": [
       "MannwhitneyuResult(statistic=27.0, pvalue=0.029004992720873729)"
      ]
     },
     "execution_count": 34,
     "metadata": {},
     "output_type": "execute_result"
    }
   ],
   "source": [
    "X1 = [22, 22, 15, 13, 19, 19, 18, 20, 21, 13, 13, 15]\n",
    "X2 = [17, 18, 18, 15, 12, 4, 14, 15, 10]\n",
    "scipy.stats.mannwhitneyu(X2, X1, alternative='less')"
   ]
  },
  {
   "cell_type": "markdown",
   "metadata": {},
   "source": [
    "#### 6.\n",
    "\n",
    "28 января 1986 года космический шаттл \"Челленджер\" взорвался при взлёте. Семь астронавтов, находившихся на борту, погибли. В ходе расследования причин катастрофы основной версией была неполадка с резиновыми уплотнительными кольцами в соединении с ракетными ускорителями. Для 23 предшествовавших катастрофе полётов \"Челленджера\" известны температура воздуха и появление повреждений хотя бы у одного из уплотнительных колец.\n",
    "\n",
    "С помощью бутстрепа постройте 95% доверительный интервал для разности средних температур воздуха при запусках, когда уплотнительные кольца повреждались, и запусках, когда повреждений не было. Чему равна его ближайшая к нулю граница? Округлите до четырёх знаков после запятой.\n",
    "\n",
    "Чтобы получить в точности такой же доверительный интервал, как у нас:\n",
    "* установите random seed = 0 перед первым вызовом функции get_bootstrap_samples, один раз\n",
    "* сделайте по 1000 псевдовыборок из каждой выборки."
   ]
  },
  {
   "cell_type": "code",
   "execution_count": 35,
   "metadata": {
    "collapsed": false
   },
   "outputs": [
    {
     "data": {
      "text/html": [
       "<div>\n",
       "<table border=\"1\" class=\"dataframe\">\n",
       "  <thead>\n",
       "    <tr style=\"text-align: right;\">\n",
       "      <th></th>\n",
       "      <th>Unnamed: 0</th>\n",
       "      <th>Temperature</th>\n",
       "      <th>Incident</th>\n",
       "    </tr>\n",
       "  </thead>\n",
       "  <tbody>\n",
       "    <tr>\n",
       "      <th>0</th>\n",
       "      <td>Apr12.81</td>\n",
       "      <td>18.9</td>\n",
       "      <td>0</td>\n",
       "    </tr>\n",
       "    <tr>\n",
       "      <th>1</th>\n",
       "      <td>Nov12.81</td>\n",
       "      <td>21.1</td>\n",
       "      <td>1</td>\n",
       "    </tr>\n",
       "    <tr>\n",
       "      <th>2</th>\n",
       "      <td>Mar22.82</td>\n",
       "      <td>20.6</td>\n",
       "      <td>0</td>\n",
       "    </tr>\n",
       "    <tr>\n",
       "      <th>3</th>\n",
       "      <td>Nov11.82</td>\n",
       "      <td>20.0</td>\n",
       "      <td>0</td>\n",
       "    </tr>\n",
       "    <tr>\n",
       "      <th>4</th>\n",
       "      <td>Apr04.83</td>\n",
       "      <td>19.4</td>\n",
       "      <td>0</td>\n",
       "    </tr>\n",
       "  </tbody>\n",
       "</table>\n",
       "</div>"
      ],
      "text/plain": [
       "  Unnamed: 0  Temperature  Incident\n",
       "0   Apr12.81         18.9         0\n",
       "1   Nov12.81         21.1         1\n",
       "2   Mar22.82         20.6         0\n",
       "3   Nov11.82         20.0         0\n",
       "4   Apr04.83         19.4         0"
      ]
     },
     "execution_count": 35,
     "metadata": {},
     "output_type": "execute_result"
    }
   ],
   "source": [
    "challenger = pd.read_csv('challenger.txt', delimiter='\\t')\n",
    "challenger.head()"
   ]
  },
  {
   "cell_type": "code",
   "execution_count": 36,
   "metadata": {
    "collapsed": false
   },
   "outputs": [],
   "source": [
    "incident = challenger[challenger.Incident == 1].Temperature\n",
    "no_incident = challenger[challenger.Incident == 0].Temperature"
   ]
  },
  {
   "cell_type": "code",
   "execution_count": 37,
   "metadata": {
    "collapsed": false
   },
   "outputs": [
    {
     "data": {
      "text/plain": [
       "array([-8.06457589, -1.45040179])"
      ]
     },
     "execution_count": 37,
     "metadata": {},
     "output_type": "execute_result"
    }
   ],
   "source": [
    "np.random.seed(0)\n",
    "\n",
    "incident_mean = np.array(list(map(np.mean, get_bootstrap_samples(np.array(incident), 1000))))\n",
    "no_incident_mean = np.array(list(map(np.mean, get_bootstrap_samples(np.array(no_incident), 1000))))\n",
    "\n",
    "stat_intervals(incident_mean - no_incident_mean, 0.05)"
   ]
  },
  {
   "cell_type": "markdown",
   "metadata": {},
   "source": [
    "#### 7.\n",
    "\n",
    "На данных предыдущей задачи проверьте гипотезу об одинаковой средней температуре воздуха в дни, когда уплотнительный кольца повреждались, и дни, когда повреждений не было. Используйте перестановочный критерий и двустороннюю альтернативу. Чему равен достигаемый уровень значимости? Округлите до четырёх знаков после десятичной точки.\n",
    "\n",
    "Чтобы получить такое же значение, как мы:\n",
    "* установите random seed = 0;\n",
    "* возьмите 10000 перестановок."
   ]
  },
  {
   "cell_type": "code",
   "execution_count": 38,
   "metadata": {
    "collapsed": true
   },
   "outputs": [],
   "source": [
    "def permutation_t_stat_ind(sample1, sample2):\n",
    "    return np.mean(sample1) - np.mean(sample2)\n",
    "\n",
    "def get_random_combinations(n1, n2, max_combinations):\n",
    "    index = list(range(n1 + n2))\n",
    "    indices = set([tuple(index)])\n",
    "    for i in range(max_combinations - 1):\n",
    "        np.random.shuffle(index)\n",
    "        indices.add(tuple(index))\n",
    "    return [(index[:n1], index[n1:]) for index in indices]\n",
    "\n",
    "def permutation_zero_dist_ind(sample1, sample2, max_combinations = None):\n",
    "    joined_sample = np.hstack((sample1, sample2))\n",
    "    n1 = len(sample1)\n",
    "    n = len(joined_sample)\n",
    "    \n",
    "    if max_combinations:\n",
    "        indices = get_random_combinations(n1, len(sample2), max_combinations)\n",
    "    else:\n",
    "        indices = [(list(index), filter(lambda i: i not in index, range(n))) \\\n",
    "                    for index in itertools.combinations(range(n), n1)]\n",
    "    \n",
    "    distr = [joined_sample[list(i[0])].mean() - joined_sample[list(i[1])].mean() \\\n",
    "             for i in indices]\n",
    "    return distr\n",
    "\n",
    "def permutation_test(sample, mean, max_permutations = None, alternative = 'two-sided'):\n",
    "    if alternative not in ('two-sided', 'less', 'greater'):\n",
    "        raise ValueError(\"alternative not recognized\\n\"\n",
    "                         \"should be 'two-sided', 'less' or 'greater'\")\n",
    "    \n",
    "    t_stat = permutation_t_stat_ind(sample, mean)\n",
    "    \n",
    "    zero_distr = permutation_zero_dist_ind(sample, mean, max_permutations)\n",
    "    \n",
    "    if alternative == 'two-sided':\n",
    "        return sum([1. if abs(x) >= abs(t_stat) else 0. for x in zero_distr]) / len(zero_distr)\n",
    "    \n",
    "    if alternative == 'less':\n",
    "        return sum([1. if x <= t_stat else 0. for x in zero_distr]) / len(zero_distr)\n",
    "\n",
    "    if alternative == 'greater':\n",
    "        return sum([1. if x >= t_stat else 0. for x in zero_distr]) / len(zero_distr)"
   ]
  },
  {
   "cell_type": "code",
   "execution_count": 39,
   "metadata": {
    "collapsed": false
   },
   "outputs": [
    {
     "data": {
      "text/plain": [
       "0.0057000000000000002"
      ]
     },
     "execution_count": 39,
     "metadata": {},
     "output_type": "execute_result"
    }
   ],
   "source": [
    "np.random.seed(0)\n",
    "permutation_test(incident, no_incident, max_permutations=10000)"
   ]
  },
  {
   "cell_type": "markdown",
   "metadata": {},
   "source": [
    "# Week 3"
   ]
  },
  {
   "cell_type": "markdown",
   "metadata": {},
   "source": [
    "## Корреляции"
   ]
  },
  {
   "cell_type": "markdown",
   "metadata": {},
   "source": [
    "### Practice Quiz: Коэффициенты корреляции"
   ]
  },
  {
   "cell_type": "markdown",
   "metadata": {},
   "source": [
    "#### 4.\n",
    "\n",
    "Есть ли связь между неграмотностью и рождаемостью? Для 94 стран, уровень неграмотности женщин в которых больше 5%, известны доля неграмотных среди женщин старше 15 (на 2003 год) и средняя рождаемость на одну женщину (на 2005 год).\n",
    "\n",
    "Чему равен выборочный коэффициент корреляции Пирсона между этими двумя признаками? Округлите до четырёх знаков после десятичной точки."
   ]
  },
  {
   "cell_type": "code",
   "execution_count": 40,
   "metadata": {
    "collapsed": false
   },
   "outputs": [
    {
     "data": {
      "text/html": [
       "<div>\n",
       "<table border=\"1\" class=\"dataframe\">\n",
       "  <thead>\n",
       "    <tr style=\"text-align: right;\">\n",
       "      <th></th>\n",
       "      <th>Country</th>\n",
       "      <th>Illit</th>\n",
       "      <th>Births</th>\n",
       "    </tr>\n",
       "  </thead>\n",
       "  <tbody>\n",
       "    <tr>\n",
       "      <th>0</th>\n",
       "      <td>Albania</td>\n",
       "      <td>20.5</td>\n",
       "      <td>1.78</td>\n",
       "    </tr>\n",
       "    <tr>\n",
       "      <th>1</th>\n",
       "      <td>Algeria</td>\n",
       "      <td>39.1</td>\n",
       "      <td>2.44</td>\n",
       "    </tr>\n",
       "    <tr>\n",
       "      <th>2</th>\n",
       "      <td>Bahrain</td>\n",
       "      <td>15.0</td>\n",
       "      <td>2.34</td>\n",
       "    </tr>\n",
       "    <tr>\n",
       "      <th>3</th>\n",
       "      <td>Belize</td>\n",
       "      <td>5.9</td>\n",
       "      <td>2.97</td>\n",
       "    </tr>\n",
       "    <tr>\n",
       "      <th>4</th>\n",
       "      <td>Benin</td>\n",
       "      <td>73.5</td>\n",
       "      <td>5.60</td>\n",
       "    </tr>\n",
       "  </tbody>\n",
       "</table>\n",
       "</div>"
      ],
      "text/plain": [
       "   Country  Illit  Births\n",
       "0  Albania   20.5    1.78\n",
       "1  Algeria   39.1    2.44\n",
       "2  Bahrain   15.0    2.34\n",
       "3   Belize    5.9    2.97\n",
       "4    Benin   73.5    5.60"
      ]
     },
     "execution_count": 40,
     "metadata": {},
     "output_type": "execute_result"
    }
   ],
   "source": [
    "illiteracy = pd.read_csv('illiteracy.txt', delimiter='\\t')\n",
    "illiteracy.head()"
   ]
  },
  {
   "cell_type": "code",
   "execution_count": 41,
   "metadata": {
    "collapsed": false
   },
   "outputs": [
    {
     "data": {
      "text/html": [
       "<div>\n",
       "<table border=\"1\" class=\"dataframe\">\n",
       "  <thead>\n",
       "    <tr style=\"text-align: right;\">\n",
       "      <th></th>\n",
       "      <th>Illit</th>\n",
       "      <th>Births</th>\n",
       "    </tr>\n",
       "  </thead>\n",
       "  <tbody>\n",
       "    <tr>\n",
       "      <th>Illit</th>\n",
       "      <td>1.000000</td>\n",
       "      <td>0.768663</td>\n",
       "    </tr>\n",
       "    <tr>\n",
       "      <th>Births</th>\n",
       "      <td>0.768663</td>\n",
       "      <td>1.000000</td>\n",
       "    </tr>\n",
       "  </tbody>\n",
       "</table>\n",
       "</div>"
      ],
      "text/plain": [
       "           Illit    Births\n",
       "Illit   1.000000  0.768663\n",
       "Births  0.768663  1.000000"
      ]
     },
     "execution_count": 41,
     "metadata": {},
     "output_type": "execute_result"
    }
   ],
   "source": [
    "illiteracy.corr()"
   ]
  },
  {
   "cell_type": "markdown",
   "metadata": {},
   "source": [
    "#### 5.\n",
    "\n",
    "Чему равен выборочный коэффициент корреляции Спирмена признаков из предыдущего вопроса? Округлите до четырёх знаков после десятичной точки."
   ]
  },
  {
   "cell_type": "code",
   "execution_count": 42,
   "metadata": {
    "collapsed": false
   },
   "outputs": [
    {
     "data": {
      "text/html": [
       "<div>\n",
       "<table border=\"1\" class=\"dataframe\">\n",
       "  <thead>\n",
       "    <tr style=\"text-align: right;\">\n",
       "      <th></th>\n",
       "      <th>Illit</th>\n",
       "      <th>Births</th>\n",
       "    </tr>\n",
       "  </thead>\n",
       "  <tbody>\n",
       "    <tr>\n",
       "      <th>Illit</th>\n",
       "      <td>1.000000</td>\n",
       "      <td>0.752962</td>\n",
       "    </tr>\n",
       "    <tr>\n",
       "      <th>Births</th>\n",
       "      <td>0.752962</td>\n",
       "      <td>1.000000</td>\n",
       "    </tr>\n",
       "  </tbody>\n",
       "</table>\n",
       "</div>"
      ],
      "text/plain": [
       "           Illit    Births\n",
       "Illit   1.000000  0.752962\n",
       "Births  0.752962  1.000000"
      ]
     },
     "execution_count": 42,
     "metadata": {},
     "output_type": "execute_result"
    }
   ],
   "source": [
    "illiteracy.corr(method='spearman')"
   ]
  },
  {
   "cell_type": "markdown",
   "metadata": {},
   "source": [
    "### Quiz: Корреляционный анализ"
   ]
  },
  {
   "cell_type": "markdown",
   "metadata": {},
   "source": [
    "#### 1.\n",
    "\n",
    "Для 61 большого города в Англии и Уэльсе известны средняя годовая смертность на 100000 населения (по данным 1958–1964) и концентрация кальция в питьевой воде (в частях на маллион). Чем выше концентрация кальция, тем жёстче вода. Города дополнительно поделены на северные и южные.\n",
    "\n",
    "Есть ли связь между жёсткостью воды и средней годовой смертностью? Посчитайте значение коэффициента корреляции Пирсона между этими признаками, округлите его до четырёх знаков после десятичной точки."
   ]
  },
  {
   "cell_type": "code",
   "execution_count": 43,
   "metadata": {
    "collapsed": false
   },
   "outputs": [
    {
     "data": {
      "text/html": [
       "<div>\n",
       "<table border=\"1\" class=\"dataframe\">\n",
       "  <thead>\n",
       "    <tr style=\"text-align: right;\">\n",
       "      <th></th>\n",
       "      <th>location</th>\n",
       "      <th>town</th>\n",
       "      <th>mortality</th>\n",
       "      <th>hardness</th>\n",
       "    </tr>\n",
       "  </thead>\n",
       "  <tbody>\n",
       "    <tr>\n",
       "      <th>0</th>\n",
       "      <td>South</td>\n",
       "      <td>Bath</td>\n",
       "      <td>1247</td>\n",
       "      <td>105</td>\n",
       "    </tr>\n",
       "    <tr>\n",
       "      <th>1</th>\n",
       "      <td>North</td>\n",
       "      <td>Birkenhead</td>\n",
       "      <td>1668</td>\n",
       "      <td>17</td>\n",
       "    </tr>\n",
       "    <tr>\n",
       "      <th>2</th>\n",
       "      <td>South</td>\n",
       "      <td>Birmingham</td>\n",
       "      <td>1466</td>\n",
       "      <td>5</td>\n",
       "    </tr>\n",
       "    <tr>\n",
       "      <th>3</th>\n",
       "      <td>North</td>\n",
       "      <td>Blackburn</td>\n",
       "      <td>1800</td>\n",
       "      <td>14</td>\n",
       "    </tr>\n",
       "    <tr>\n",
       "      <th>4</th>\n",
       "      <td>North</td>\n",
       "      <td>Blackpool</td>\n",
       "      <td>1609</td>\n",
       "      <td>18</td>\n",
       "    </tr>\n",
       "  </tbody>\n",
       "</table>\n",
       "</div>"
      ],
      "text/plain": [
       "  location        town  mortality  hardness\n",
       "0    South        Bath       1247       105\n",
       "1    North  Birkenhead       1668        17\n",
       "2    South  Birmingham       1466         5\n",
       "3    North   Blackburn       1800        14\n",
       "4    North   Blackpool       1609        18"
      ]
     },
     "execution_count": 43,
     "metadata": {},
     "output_type": "execute_result"
    }
   ],
   "source": [
    "water = pd.read_csv('water.txt', delimiter='\\t')\n",
    "water.head()"
   ]
  },
  {
   "cell_type": "code",
   "execution_count": 44,
   "metadata": {
    "collapsed": false
   },
   "outputs": [
    {
     "data": {
      "text/plain": [
       "-0.65484862320424631"
      ]
     },
     "execution_count": 44,
     "metadata": {},
     "output_type": "execute_result"
    }
   ],
   "source": [
    "water.hardness.corr(water.mortality)"
   ]
  },
  {
   "cell_type": "markdown",
   "metadata": {},
   "source": [
    "#### 2.\n",
    "\n",
    "В предыдущей задаче посчитайте значение коэффициента корреляции Спирмена между средней годовой смертностью и жёсткостью воды. Округлите до четырёх знаков после десятичной точки."
   ]
  },
  {
   "cell_type": "code",
   "execution_count": 45,
   "metadata": {
    "collapsed": false
   },
   "outputs": [
    {
     "data": {
      "text/plain": [
       "-0.63166461891665016"
      ]
     },
     "execution_count": 45,
     "metadata": {},
     "output_type": "execute_result"
    }
   ],
   "source": [
    "water.hardness.corr(water.mortality, method='spearman')"
   ]
  },
  {
   "cell_type": "markdown",
   "metadata": {},
   "source": [
    "#### 3.\n",
    "\n",
    "Сохраняется ли связь между признаками, если разбить выборку на северные и южные города? Посчитайте значения корреляции Пирсона между средней годовой смертностью и жёсткостью воды в каждой из двух подвыборок, введите наименьшее по модулю из двух значений, округлив его до четырёх знаков после десятичной точки."
   ]
  },
  {
   "cell_type": "code",
   "execution_count": 46,
   "metadata": {
    "collapsed": false
   },
   "outputs": [
    {
     "data": {
      "text/plain": [
       "(-0.60215327154841569, -0.36859783832887189)"
      ]
     },
     "execution_count": 46,
     "metadata": {},
     "output_type": "execute_result"
    }
   ],
   "source": [
    "south = water[water.location == 'South']\n",
    "north = water[water.location == 'North']\n",
    "\n",
    "south_corr = south.hardness.corr(south.mortality)\n",
    "north_corr = north.hardness.corr(north.mortality)\n",
    "\n",
    "south_corr, north_corr"
   ]
  },
  {
   "cell_type": "markdown",
   "metadata": {},
   "source": [
    "#### 4.\n",
    "\n",
    "Среди респондентов General Social Survey 2014 года хотя бы раз в месяц проводят вечер в баре 203 женщины и 239 мужчин; реже, чем раз в месяц, это делают 718 женщин и 515 мужчин.\n",
    "\n",
    "Посчитайте значение коэффициента корреляции Мэтьюса между полом и частотой похода в бары. Округлите значение до трёх знаков после десятичной точки."
   ]
  },
  {
   "cell_type": "code",
   "execution_count": 47,
   "metadata": {
    "collapsed": false
   },
   "outputs": [
    {
     "data": {
      "text/plain": [
       "0.10900237458678963"
      ]
     },
     "execution_count": 47,
     "metadata": {},
     "output_type": "execute_result"
    }
   ],
   "source": [
    "tp = 239\n",
    "fp = 203\n",
    "tn = 718\n",
    "fn = 515\n",
    "\n",
    "(tp*tn - fp*fn)/np.sqrt((tp + fp)*(tp + fn)*(tn + fp)*(tn + fn))"
   ]
  },
  {
   "cell_type": "markdown",
   "metadata": {},
   "source": [
    "#### 5.\n",
    "\n",
    "В предыдущей задаче проверьте, значимо ли коэффициент корреляции Мэтьюса отличается от нуля. Посчитайте достигаемый уровень значимости; используйте функцию scipy.stats.chi2_contingency. Введите номер первой значащей цифры (например, если вы получили $5.5\\times10^{-8}$, нужно ввести 8)."
   ]
  },
  {
   "cell_type": "code",
   "execution_count": 48,
   "metadata": {
    "collapsed": false
   },
   "outputs": [
    {
     "data": {
      "text/plain": [
       "(19.407530788543038,\n",
       " 1.0558987006638725e-05,\n",
       " 1,\n",
       " array([[ 198.96597015,  555.03402985],\n",
       "        [ 243.03402985,  677.96597015]]))"
      ]
     },
     "execution_count": 48,
     "metadata": {},
     "output_type": "execute_result"
    }
   ],
   "source": [
    "scipy.stats.chi2_contingency([[tp, fn], [fp, tn]])"
   ]
  },
  {
   "cell_type": "markdown",
   "metadata": {},
   "source": [
    "#### 6.\n",
    "\n",
    "В предыдущей задаче давайте попробуем ответить на немного другой вопрос: отличаются ли доля мужчин и доля женщин, относительно часто проводящих вечера в баре? Постройте 95% доверительный интервал для разности долей, вычитая долю женщин из доли мужчин. Чему равна его нижняя граница? Округлите до четырёх знаков после десятичной точки."
   ]
  },
  {
   "cell_type": "code",
   "execution_count": 49,
   "metadata": {
    "collapsed": false
   },
   "outputs": [
    {
     "data": {
      "text/plain": [
       "(0.053905233215813156, 0.13922183141523897)"
      ]
     },
     "execution_count": 49,
     "metadata": {},
     "output_type": "execute_result"
    }
   ],
   "source": [
    "men = np.concatenate([np.ones(tp), np.zeros(fn)])\n",
    "women = np.concatenate([np.ones(fp), np.zeros(tn)])\n",
    "\n",
    "proportions_confint_diff_ind(men, women)"
   ]
  },
  {
   "cell_type": "markdown",
   "metadata": {},
   "source": [
    "#### 7.\n",
    "\n",
    "Проверьте гипотезу о равенстве долей любителей часто проводить вечера в баре среди мужчин и женщин. Посчитайте достигаемый уровень значимости, используя двустороннюю альтернативу. Введите номер первой значащей цифры (например, если вы получили $5.5\\times10^{-8}$, нужно ввести 8)."
   ]
  },
  {
   "cell_type": "code",
   "execution_count": 50,
   "metadata": {
    "collapsed": false
   },
   "outputs": [
    {
     "data": {
      "text/plain": [
       "8.1534530895766011e-06"
      ]
     },
     "execution_count": 50,
     "metadata": {},
     "output_type": "execute_result"
    }
   ],
   "source": [
    "proportions_diff_z_test(proportions_diff_z_stat_ind(men, women))"
   ]
  },
  {
   "cell_type": "markdown",
   "metadata": {},
   "source": [
    "#### 8.\n",
    "\n",
    "Посмотрим на данные General Social Survey 2014 года и проанализируем, как связаны ответы на вопросы \"Счастливы ли вы?\" и \"Довольны ли вы вашим финансовым положением?\"\n",
    "\n",
    "|                    | Не доволен | Более или менее | Доволен |\n",
    "|--------------------|------------|-----------------|---------|\n",
    "| Не очень счастлив  | 197        | 111             | 33      |\n",
    "| Достаточно счастлив| 382        | 685             | 331     |\n",
    "| Очень счастлив     | 110        | 342             | 333     |\n",
    "\n",
    "Чему равно значение статистики хи-квадрат для этой таблицы сопряжённости? Округлите ответ до четырёх знаков после десятичной точки."
   ]
  },
  {
   "cell_type": "code",
   "execution_count": 51,
   "metadata": {
    "collapsed": false
   },
   "outputs": [
    {
     "data": {
      "text/plain": [
       "293.68311039689746"
      ]
     },
     "execution_count": 51,
     "metadata": {},
     "output_type": "execute_result"
    }
   ],
   "source": [
    "happy = np.array([\n",
    "    [197, 111, 33],\n",
    "    [382, 685, 331],\n",
    "    [110, 342, 333]\n",
    "])\n",
    "cont = scipy.stats.chi2_contingency(happy)\n",
    "cont[0]"
   ]
  },
  {
   "cell_type": "markdown",
   "metadata": {},
   "source": [
    "#### 9.\n",
    "\n",
    "На данных из предыдущего вопроса посчитайте значение достигаемого уровня значимости. Введите номер первой значащей цифры (например, если вы получили $5.5\\times10^{-8}$, нужно ввести 8)."
   ]
  },
  {
   "cell_type": "code",
   "execution_count": 52,
   "metadata": {
    "collapsed": false
   },
   "outputs": [
    {
     "data": {
      "text/plain": [
       "2.4964299580093467e-62"
      ]
     },
     "execution_count": 52,
     "metadata": {},
     "output_type": "execute_result"
    }
   ],
   "source": [
    "cont[1]"
   ]
  },
  {
   "cell_type": "markdown",
   "metadata": {},
   "source": [
    "#### 10.\n",
    "\n",
    "Чему в предыдущей задаче равно значение коэффициента V Крамера для рассматриваемых признаков? Округлите ответ до четырёх знаков после десятичной точки."
   ]
  },
  {
   "cell_type": "code",
   "execution_count": 53,
   "metadata": {
    "collapsed": false
   },
   "outputs": [
    {
     "data": {
      "text/plain": [
       "0.2412013934500338"
      ]
     },
     "execution_count": 53,
     "metadata": {},
     "output_type": "execute_result"
    }
   ],
   "source": [
    "n = np.sum(happy)\n",
    "np.sqrt(cont[0]/(n*2))"
   ]
  },
  {
   "cell_type": "markdown",
   "metadata": {},
   "source": [
    "## Множественная проверка гипотез"
   ]
  },
  {
   "cell_type": "markdown",
   "metadata": {},
   "source": [
    "### Quiz: Множественная проверка гипотез"
   ]
  },
  {
   "cell_type": "markdown",
   "metadata": {},
   "source": [
    "#### 2.\n",
    "\n",
    "Классификатор C4.5 и три его модификации: с оптимизацией гиперпараметра m, гиперпараметра cf и с одновременной оптимизацией обоих гиперпараметров. Эти четыре классификатора сравнивались на 14 наборах данных. На каждом датасете был посчитан AUC каждого классификатора. Данные записаны в файле:\n",
    "\n",
    "Используя критерий знаковых рангов, проведите попарное сравнение каждого классификатора с каждым. Выберите два классификатора, различие между которыми наиболее статистически значимо."
   ]
  },
  {
   "cell_type": "code",
   "execution_count": 54,
   "metadata": {
    "collapsed": false
   },
   "outputs": [
    {
     "data": {
      "text/html": [
       "<div>\n",
       "<table border=\"1\" class=\"dataframe\">\n",
       "  <thead>\n",
       "    <tr style=\"text-align: right;\">\n",
       "      <th></th>\n",
       "      <th>Unnamed: 0</th>\n",
       "      <th>C4.5</th>\n",
       "      <th>C4.5+m</th>\n",
       "      <th>C4.5+cf</th>\n",
       "      <th>C4.5+m+cf</th>\n",
       "    </tr>\n",
       "  </thead>\n",
       "  <tbody>\n",
       "    <tr>\n",
       "      <th>0</th>\n",
       "      <td>adult (sample)</td>\n",
       "      <td>0.763</td>\n",
       "      <td>0.768</td>\n",
       "      <td>0.771</td>\n",
       "      <td>0.798</td>\n",
       "    </tr>\n",
       "    <tr>\n",
       "      <th>1</th>\n",
       "      <td>breast cancer</td>\n",
       "      <td>0.599</td>\n",
       "      <td>0.591</td>\n",
       "      <td>0.590</td>\n",
       "      <td>0.569</td>\n",
       "    </tr>\n",
       "    <tr>\n",
       "      <th>2</th>\n",
       "      <td>breast cancer wisconsin</td>\n",
       "      <td>0.954</td>\n",
       "      <td>0.971</td>\n",
       "      <td>0.968</td>\n",
       "      <td>0.967</td>\n",
       "    </tr>\n",
       "    <tr>\n",
       "      <th>3</th>\n",
       "      <td>cmc</td>\n",
       "      <td>0.628</td>\n",
       "      <td>0.661</td>\n",
       "      <td>0.654</td>\n",
       "      <td>0.657</td>\n",
       "    </tr>\n",
       "    <tr>\n",
       "      <th>4</th>\n",
       "      <td>ionosphere</td>\n",
       "      <td>0.882</td>\n",
       "      <td>0.888</td>\n",
       "      <td>0.886</td>\n",
       "      <td>0.898</td>\n",
       "    </tr>\n",
       "  </tbody>\n",
       "</table>\n",
       "</div>"
      ],
      "text/plain": [
       "                Unnamed: 0   C4.5  C4.5+m  C4.5+cf  C4.5+m+cf\n",
       "0           adult (sample)  0.763   0.768    0.771      0.798\n",
       "1            breast cancer  0.599   0.591    0.590      0.569\n",
       "2  breast cancer wisconsin  0.954   0.971    0.968      0.967\n",
       "3                      cmc  0.628   0.661    0.654      0.657\n",
       "4               ionosphere  0.882   0.888    0.886      0.898"
      ]
     },
     "execution_count": 54,
     "metadata": {},
     "output_type": "execute_result"
    }
   ],
   "source": [
    "aucs = pd.read_csv('AUCs.txt', delimiter='\\t')\n",
    "aucs.head()"
   ]
  },
  {
   "cell_type": "code",
   "execution_count": 55,
   "metadata": {
    "collapsed": false
   },
   "outputs": [
    {
     "data": {
      "text/plain": [
       "[('C4.5 C4.5+m', WilcoxonResult(statistic=6.5, pvalue=0.01075713311978963)),\n",
       " ('C4.5 C4.5+cf', WilcoxonResult(statistic=43.0, pvalue=0.86126233009534803)),\n",
       " ('C4.5 C4.5+m+cf',\n",
       "  WilcoxonResult(statistic=11.0, pvalue=0.015906444101703374)),\n",
       " ('C4.5+m C4.5+cf',\n",
       "  WilcoxonResult(statistic=17.0, pvalue=0.046332729793395394)),\n",
       " ('C4.5+m C4.5+m+cf',\n",
       "  WilcoxonResult(statistic=22.0, pvalue=0.32782567584464062)),\n",
       " ('C4.5+cf C4.5+m+cf',\n",
       "  WilcoxonResult(statistic=10.0, pvalue=0.022909099354356588))]"
      ]
     },
     "execution_count": 55,
     "metadata": {},
     "output_type": "execute_result"
    }
   ],
   "source": [
    "import itertools\n",
    "\n",
    "columns = map(lambda x: (aucs.columns[x[0]], aucs.columns[x[1]]), itertools.combinations(range(1, 5), 2))\n",
    "wilcoxon = list(map(lambda x: ('{} {}'.format(x[0], x[1]), scipy.stats.wilcoxon(aucs[x[0]], aucs[x[1]])), columns))\n",
    "wilcoxon"
   ]
  },
  {
   "cell_type": "markdown",
   "metadata": {},
   "source": [
    "#### 3.\n",
    "\n",
    "Сколько статистически значимых на уровне 0.05 различий мы обнаружили?"
   ]
  },
  {
   "cell_type": "code",
   "execution_count": 56,
   "metadata": {
    "collapsed": false
   },
   "outputs": [
    {
     "data": {
      "text/plain": [
       "4"
      ]
     },
     "execution_count": 56,
     "metadata": {},
     "output_type": "execute_result"
    }
   ],
   "source": [
    "len(list(filter(lambda x: x[1][1] < 0.05, wilcoxon)))"
   ]
  },
  {
   "cell_type": "markdown",
   "metadata": {},
   "source": [
    "#### 5.\n",
    "\n",
    "Сравнивая 4 классификатора между собой, мы проверили 6 гипотез. Давайте сделаем поправку на множественную проверку. Начнём с метода Холма. Сколько гипотез можно отвергнуть на уровне значимости 0.05 после поправки этим методом?"
   ]
  },
  {
   "cell_type": "code",
   "execution_count": 57,
   "metadata": {
    "collapsed": false
   },
   "outputs": [
    {
     "data": {
      "text/plain": [
       "(array([False, False, False, False, False, False], dtype=bool),\n",
       " array([ 0.0645428 ,  0.86126233,  0.07953222,  0.13899819,  0.65565135,\n",
       "         0.0916364 ]),\n",
       " 0.008512444610847103,\n",
       " 0.008333333333333333)"
      ]
     },
     "execution_count": 57,
     "metadata": {},
     "output_type": "execute_result"
    }
   ],
   "source": [
    "from statsmodels.sandbox.stats.multicomp import multipletests \n",
    "\n",
    "pvalues = np.array(list(map(lambda x: x[1][1], wilcoxon)))\n",
    "multipletests(pvalues, alpha=0.05, method='holm')"
   ]
  },
  {
   "cell_type": "markdown",
   "metadata": {},
   "source": [
    "#### 6.\n",
    "\n",
    "Сколько гипотез можно отвергнуть на уровне значимости 0.05 после поправки методом Бенджамини-Хохберга?"
   ]
  },
  {
   "cell_type": "code",
   "execution_count": 58,
   "metadata": {
    "collapsed": false
   },
   "outputs": [
    {
     "data": {
      "text/plain": [
       "(array([ True, False,  True, False, False,  True], dtype=bool),\n",
       " array([ 0.0458182 ,  0.86126233,  0.0458182 ,  0.06949909,  0.39339081,\n",
       "         0.0458182 ]),\n",
       " 0.008512444610847103,\n",
       " 0.008333333333333333)"
      ]
     },
     "execution_count": 58,
     "metadata": {},
     "output_type": "execute_result"
    }
   ],
   "source": [
    "multipletests(pvalues, alpha=0.05, method='fdr_bh')"
   ]
  },
  {
   "cell_type": "markdown",
   "metadata": {},
   "source": [
    "## Регрессия"
   ]
  },
  {
   "cell_type": "markdown",
   "metadata": {},
   "source": [
    "### Quiz: Практика построения регрессии"
   ]
  },
  {
   "cell_type": "markdown",
   "metadata": {
    "collapsed": true
   },
   "source": [
    "#### 1.\n",
    "\n",
    "Давайте проанализируем данные опроса 4361 женщин из Ботсваны:\n",
    "\n",
    "О каждой из них мы знаем:\n",
    "\n",
    "* сколько детей она родила (признак ceb)\n",
    "* возраст (age)\n",
    "* длительность получения образования (educ)\n",
    "* религиозная принадлежность (religion)\n",
    "* идеальное, по её мнению, количество детей в семье (idlnchld)\n",
    "* была ли она когда-нибудь замужем (evermarr)\n",
    "* возраст первого замужества (agefm)\n",
    "* длительность получения образования мужем (heduc)\n",
    "* знает ли она о методах контрацепции (knowmeth)\n",
    "* использует ли она методы контрацепции (usemeth)\n",
    "* живёт ли она в городе (urban)\n",
    "* есть ли у неё электричество, радио, телевизор и велосипед (electric, radio, tv, bicycle)\n",
    "\n",
    "Давайте научимся оценивать количество детей ceb по остальным признакам.\n",
    "\n",
    "Загрузите данные и внимательно изучите их. Сколько разных значений принимает признак religion?"
   ]
  },
  {
   "cell_type": "code",
   "execution_count": 59,
   "metadata": {
    "collapsed": false
   },
   "outputs": [
    {
     "data": {
      "text/html": [
       "<div>\n",
       "<table border=\"1\" class=\"dataframe\">\n",
       "  <thead>\n",
       "    <tr style=\"text-align: right;\">\n",
       "      <th></th>\n",
       "      <th>ceb</th>\n",
       "      <th>age</th>\n",
       "      <th>educ</th>\n",
       "      <th>religion</th>\n",
       "      <th>idlnchld</th>\n",
       "      <th>knowmeth</th>\n",
       "      <th>usemeth</th>\n",
       "      <th>evermarr</th>\n",
       "      <th>agefm</th>\n",
       "      <th>heduc</th>\n",
       "      <th>urban</th>\n",
       "      <th>electric</th>\n",
       "      <th>radio</th>\n",
       "      <th>tv</th>\n",
       "      <th>bicycle</th>\n",
       "    </tr>\n",
       "  </thead>\n",
       "  <tbody>\n",
       "    <tr>\n",
       "      <th>0</th>\n",
       "      <td>0</td>\n",
       "      <td>18</td>\n",
       "      <td>10</td>\n",
       "      <td>catholic</td>\n",
       "      <td>4.0</td>\n",
       "      <td>1.0</td>\n",
       "      <td>1.0</td>\n",
       "      <td>0</td>\n",
       "      <td>NaN</td>\n",
       "      <td>NaN</td>\n",
       "      <td>1</td>\n",
       "      <td>1.0</td>\n",
       "      <td>1.0</td>\n",
       "      <td>1.0</td>\n",
       "      <td>1.0</td>\n",
       "    </tr>\n",
       "    <tr>\n",
       "      <th>1</th>\n",
       "      <td>2</td>\n",
       "      <td>43</td>\n",
       "      <td>11</td>\n",
       "      <td>protestant</td>\n",
       "      <td>2.0</td>\n",
       "      <td>1.0</td>\n",
       "      <td>1.0</td>\n",
       "      <td>1</td>\n",
       "      <td>20.0</td>\n",
       "      <td>14.0</td>\n",
       "      <td>1</td>\n",
       "      <td>1.0</td>\n",
       "      <td>1.0</td>\n",
       "      <td>1.0</td>\n",
       "      <td>1.0</td>\n",
       "    </tr>\n",
       "    <tr>\n",
       "      <th>2</th>\n",
       "      <td>0</td>\n",
       "      <td>49</td>\n",
       "      <td>4</td>\n",
       "      <td>spirit</td>\n",
       "      <td>4.0</td>\n",
       "      <td>1.0</td>\n",
       "      <td>0.0</td>\n",
       "      <td>1</td>\n",
       "      <td>22.0</td>\n",
       "      <td>1.0</td>\n",
       "      <td>1</td>\n",
       "      <td>1.0</td>\n",
       "      <td>1.0</td>\n",
       "      <td>0.0</td>\n",
       "      <td>0.0</td>\n",
       "    </tr>\n",
       "    <tr>\n",
       "      <th>3</th>\n",
       "      <td>0</td>\n",
       "      <td>24</td>\n",
       "      <td>12</td>\n",
       "      <td>other</td>\n",
       "      <td>2.0</td>\n",
       "      <td>1.0</td>\n",
       "      <td>0.0</td>\n",
       "      <td>0</td>\n",
       "      <td>NaN</td>\n",
       "      <td>NaN</td>\n",
       "      <td>1</td>\n",
       "      <td>1.0</td>\n",
       "      <td>1.0</td>\n",
       "      <td>1.0</td>\n",
       "      <td>1.0</td>\n",
       "    </tr>\n",
       "    <tr>\n",
       "      <th>4</th>\n",
       "      <td>3</td>\n",
       "      <td>32</td>\n",
       "      <td>13</td>\n",
       "      <td>other</td>\n",
       "      <td>3.0</td>\n",
       "      <td>1.0</td>\n",
       "      <td>1.0</td>\n",
       "      <td>1</td>\n",
       "      <td>24.0</td>\n",
       "      <td>12.0</td>\n",
       "      <td>1</td>\n",
       "      <td>1.0</td>\n",
       "      <td>1.0</td>\n",
       "      <td>1.0</td>\n",
       "      <td>1.0</td>\n",
       "    </tr>\n",
       "  </tbody>\n",
       "</table>\n",
       "</div>"
      ],
      "text/plain": [
       "   ceb  age  educ    religion  idlnchld  knowmeth  usemeth  evermarr  agefm  \\\n",
       "0    0   18    10    catholic       4.0       1.0      1.0         0    NaN   \n",
       "1    2   43    11  protestant       2.0       1.0      1.0         1   20.0   \n",
       "2    0   49     4      spirit       4.0       1.0      0.0         1   22.0   \n",
       "3    0   24    12       other       2.0       1.0      0.0         0    NaN   \n",
       "4    3   32    13       other       3.0       1.0      1.0         1   24.0   \n",
       "\n",
       "   heduc  urban  electric  radio   tv  bicycle  \n",
       "0    NaN      1       1.0    1.0  1.0      1.0  \n",
       "1   14.0      1       1.0    1.0  1.0      1.0  \n",
       "2    1.0      1       1.0    1.0  0.0      0.0  \n",
       "3    NaN      1       1.0    1.0  1.0      1.0  \n",
       "4   12.0      1       1.0    1.0  1.0      1.0  "
      ]
     },
     "execution_count": 59,
     "metadata": {},
     "output_type": "execute_result"
    }
   ],
   "source": [
    "botswana = pd.read_csv('botswana.csv', delimiter='\\t')\n",
    "botswana.head()"
   ]
  },
  {
   "cell_type": "code",
   "execution_count": 60,
   "metadata": {
    "collapsed": false
   },
   "outputs": [
    {
     "data": {
      "text/plain": [
       "(4,)"
      ]
     },
     "execution_count": 60,
     "metadata": {},
     "output_type": "execute_result"
    }
   ],
   "source": [
    "botswana['religion'].unique().shape"
   ]
  },
  {
   "cell_type": "markdown",
   "metadata": {},
   "source": [
    "#### 2.\n",
    "\n",
    "Во многих признаках есть пропущенные значения. Сколько объектов из 4361 останется, если выбросить все, содержащие пропуски?"
   ]
  },
  {
   "cell_type": "code",
   "execution_count": 61,
   "metadata": {
    "collapsed": false
   },
   "outputs": [
    {
     "data": {
      "text/plain": [
       "1834"
      ]
     },
     "execution_count": 61,
     "metadata": {},
     "output_type": "execute_result"
    }
   ],
   "source": [
    "botswana.dropna().shape[0]"
   ]
  },
  {
   "cell_type": "markdown",
   "metadata": {},
   "source": [
    "#### 3.\n",
    "\n",
    "В разных признаках пропуски возникают по разным причинам и должны обрабатываться по-разному.\n",
    "\n",
    "Например, в признаке agefm пропуски стоят только там, где evermarr=0, то есть, они соответствуют женщинам, никогда не выходившим замуж. Таким образом, для этого признака NaN соответствует значению \"не применимо\".\n",
    "\n",
    "В подобных случаях, когда признак $x_1$ на части объектов в принципе не может принимать никакие значения, рекомендуется поступать так:\n",
    "\n",
    "* создать новый бинарный признак $x_2 = \\begin{cases} 1, & x_1 = \\text{'не применимо'}, \\\\ 0, & \\text{иначе}; \\end{cases}$\n",
    "* заменить \"не применимо\" в $x_1$  на произвольную константу $c$, которая среди других значений $x_1$ не встречается.\n",
    "\n",
    "Теперь, когда мы построим регрессию на оба признака и получим модель вида \n",
    "\n",
    "$y=\\beta_0 + \\beta_1 x_1 + \\beta_2 x_2,$\n",
    "\n",
    "на тех объектах, где $x_1$  было измерено, регрессионное уравнение примет вид\n",
    "\n",
    "$y=\\beta_0 + \\beta_1 x,$\n",
    "\n",
    "а там, где $x_1$  было \"не применимо\", получится\n",
    "\n",
    "$y=\\beta_0 + \\beta_1 c + \\beta_2.$\n",
    "\n",
    "Выбор $c$ влияет только на значение и интерпретацию $\\beta_2$, но не $\\beta_1$.\n",
    "\n",
    "Давайте используем этот метод для обработки пропусков в agefm и heduc.\n",
    "\n",
    "1. Создайте признак nevermarr, равный единице там, где в agefm пропуски.\n",
    "2. Удалите признак evermarr — в сумме с nevermarr он даёт константу, значит, в нашей матрице $X$ будет мультиколлинеарность.\n",
    "3. Замените NaN в признаке agefm на $c_{agefm}=0$.\n",
    "4. У объектов, где nevermarr = 1, замените NaN в признаке heduc на $c_{heduc_1}=-1$ (ноль использовать нельзя, так как он уже встречается у некоторых объектов выборки).\n",
    "\n",
    "Сколько осталось пропущенных значений в признаке heduc?"
   ]
  },
  {
   "cell_type": "code",
   "execution_count": 62,
   "metadata": {
    "collapsed": false
   },
   "outputs": [
    {
     "data": {
      "text/html": [
       "<div>\n",
       "<table border=\"1\" class=\"dataframe\">\n",
       "  <thead>\n",
       "    <tr style=\"text-align: right;\">\n",
       "      <th></th>\n",
       "      <th>ceb</th>\n",
       "      <th>age</th>\n",
       "      <th>educ</th>\n",
       "      <th>religion</th>\n",
       "      <th>idlnchld</th>\n",
       "      <th>knowmeth</th>\n",
       "      <th>usemeth</th>\n",
       "      <th>agefm</th>\n",
       "      <th>heduc</th>\n",
       "      <th>urban</th>\n",
       "      <th>electric</th>\n",
       "      <th>radio</th>\n",
       "      <th>tv</th>\n",
       "      <th>bicycle</th>\n",
       "      <th>nevermarr</th>\n",
       "    </tr>\n",
       "  </thead>\n",
       "  <tbody>\n",
       "    <tr>\n",
       "      <th>0</th>\n",
       "      <td>0</td>\n",
       "      <td>18</td>\n",
       "      <td>10</td>\n",
       "      <td>catholic</td>\n",
       "      <td>4.0</td>\n",
       "      <td>1.0</td>\n",
       "      <td>1.0</td>\n",
       "      <td>0.0</td>\n",
       "      <td>-1.0</td>\n",
       "      <td>1</td>\n",
       "      <td>1.0</td>\n",
       "      <td>1.0</td>\n",
       "      <td>1.0</td>\n",
       "      <td>1.0</td>\n",
       "      <td>1</td>\n",
       "    </tr>\n",
       "    <tr>\n",
       "      <th>1</th>\n",
       "      <td>2</td>\n",
       "      <td>43</td>\n",
       "      <td>11</td>\n",
       "      <td>protestant</td>\n",
       "      <td>2.0</td>\n",
       "      <td>1.0</td>\n",
       "      <td>1.0</td>\n",
       "      <td>20.0</td>\n",
       "      <td>14.0</td>\n",
       "      <td>1</td>\n",
       "      <td>1.0</td>\n",
       "      <td>1.0</td>\n",
       "      <td>1.0</td>\n",
       "      <td>1.0</td>\n",
       "      <td>0</td>\n",
       "    </tr>\n",
       "    <tr>\n",
       "      <th>2</th>\n",
       "      <td>0</td>\n",
       "      <td>49</td>\n",
       "      <td>4</td>\n",
       "      <td>spirit</td>\n",
       "      <td>4.0</td>\n",
       "      <td>1.0</td>\n",
       "      <td>0.0</td>\n",
       "      <td>22.0</td>\n",
       "      <td>1.0</td>\n",
       "      <td>1</td>\n",
       "      <td>1.0</td>\n",
       "      <td>1.0</td>\n",
       "      <td>0.0</td>\n",
       "      <td>0.0</td>\n",
       "      <td>0</td>\n",
       "    </tr>\n",
       "    <tr>\n",
       "      <th>3</th>\n",
       "      <td>0</td>\n",
       "      <td>24</td>\n",
       "      <td>12</td>\n",
       "      <td>other</td>\n",
       "      <td>2.0</td>\n",
       "      <td>1.0</td>\n",
       "      <td>0.0</td>\n",
       "      <td>0.0</td>\n",
       "      <td>-1.0</td>\n",
       "      <td>1</td>\n",
       "      <td>1.0</td>\n",
       "      <td>1.0</td>\n",
       "      <td>1.0</td>\n",
       "      <td>1.0</td>\n",
       "      <td>1</td>\n",
       "    </tr>\n",
       "    <tr>\n",
       "      <th>4</th>\n",
       "      <td>3</td>\n",
       "      <td>32</td>\n",
       "      <td>13</td>\n",
       "      <td>other</td>\n",
       "      <td>3.0</td>\n",
       "      <td>1.0</td>\n",
       "      <td>1.0</td>\n",
       "      <td>24.0</td>\n",
       "      <td>12.0</td>\n",
       "      <td>1</td>\n",
       "      <td>1.0</td>\n",
       "      <td>1.0</td>\n",
       "      <td>1.0</td>\n",
       "      <td>1.0</td>\n",
       "      <td>0</td>\n",
       "    </tr>\n",
       "  </tbody>\n",
       "</table>\n",
       "</div>"
      ],
      "text/plain": [
       "   ceb  age  educ    religion  idlnchld  knowmeth  usemeth  agefm  heduc  \\\n",
       "0    0   18    10    catholic       4.0       1.0      1.0    0.0   -1.0   \n",
       "1    2   43    11  protestant       2.0       1.0      1.0   20.0   14.0   \n",
       "2    0   49     4      spirit       4.0       1.0      0.0   22.0    1.0   \n",
       "3    0   24    12       other       2.0       1.0      0.0    0.0   -1.0   \n",
       "4    3   32    13       other       3.0       1.0      1.0   24.0   12.0   \n",
       "\n",
       "   urban  electric  radio   tv  bicycle  nevermarr  \n",
       "0      1       1.0    1.0  1.0      1.0          1  \n",
       "1      1       1.0    1.0  1.0      1.0          0  \n",
       "2      1       1.0    1.0  0.0      0.0          0  \n",
       "3      1       1.0    1.0  1.0      1.0          1  \n",
       "4      1       1.0    1.0  1.0      1.0          0  "
      ]
     },
     "execution_count": 62,
     "metadata": {},
     "output_type": "execute_result"
    }
   ],
   "source": [
    "botswana['nevermarr'] = botswana['agefm'].map(lambda x: 1 if np.isnan(x) else 0)\n",
    "botswana = botswana.drop('evermarr', axis=1)\n",
    "botswana['agefm'] = botswana['agefm'].map(lambda x: 0 if np.isnan(x) else x)\n",
    "botswana.loc[botswana.nevermarr == 1, 'heduc'] = botswana[botswana.nevermarr == 1]['heduc'].map(lambda x: -1 if np.isnan(x) else x)\n",
    "botswana.head()"
   ]
  },
  {
   "cell_type": "code",
   "execution_count": 63,
   "metadata": {
    "collapsed": false
   },
   "outputs": [
    {
     "data": {
      "text/plain": [
       "123"
      ]
     },
     "execution_count": 63,
     "metadata": {},
     "output_type": "execute_result"
    }
   ],
   "source": [
    "botswana['heduc'].isnull().sum()"
   ]
  },
  {
   "cell_type": "markdown",
   "metadata": {},
   "source": [
    "#### 4.\n",
    "\n",
    "Избавимся от оставшихся пропусков.\n",
    "\n",
    "Для признаков idlnchld, heduc и usemeth проведите операцию, аналогичную предыдущей: создайте индикаторы пропусков по этим признакам (idlnchld_noans, heduc_noans, usemeth_noans), замените пропуски на нехарактерные значения ($c_{idlnchld}=-1$, $c_{heduc_2}=-2$ (значение -1 мы уже использовали), $c_{usemeth}=-1$).\n",
    "\n",
    "Остались только пропуски в признаках knowmeth, electric, radio, tv и bicycle. Их очень мало, так что удалите объекты, на которых их значения пропущены.\n",
    "\n",
    "Какого размера теперь наша матрица данных? Умножьте количество строк на количество всех столбцов (включая отклик ceb)."
   ]
  },
  {
   "cell_type": "code",
   "execution_count": 64,
   "metadata": {
    "collapsed": false
   },
   "outputs": [
    {
     "data": {
      "text/html": [
       "<div>\n",
       "<table border=\"1\" class=\"dataframe\">\n",
       "  <thead>\n",
       "    <tr style=\"text-align: right;\">\n",
       "      <th></th>\n",
       "      <th>ceb</th>\n",
       "      <th>age</th>\n",
       "      <th>educ</th>\n",
       "      <th>religion</th>\n",
       "      <th>idlnchld</th>\n",
       "      <th>knowmeth</th>\n",
       "      <th>usemeth</th>\n",
       "      <th>agefm</th>\n",
       "      <th>heduc</th>\n",
       "      <th>urban</th>\n",
       "      <th>electric</th>\n",
       "      <th>radio</th>\n",
       "      <th>tv</th>\n",
       "      <th>bicycle</th>\n",
       "      <th>nevermarr</th>\n",
       "      <th>idlnchld_noans</th>\n",
       "      <th>heduc_noans</th>\n",
       "      <th>usemeth_noans</th>\n",
       "    </tr>\n",
       "  </thead>\n",
       "  <tbody>\n",
       "    <tr>\n",
       "      <th>0</th>\n",
       "      <td>0</td>\n",
       "      <td>18</td>\n",
       "      <td>10</td>\n",
       "      <td>catholic</td>\n",
       "      <td>4.0</td>\n",
       "      <td>1.0</td>\n",
       "      <td>1.0</td>\n",
       "      <td>0.0</td>\n",
       "      <td>-1.0</td>\n",
       "      <td>1</td>\n",
       "      <td>1.0</td>\n",
       "      <td>1.0</td>\n",
       "      <td>1.0</td>\n",
       "      <td>1.0</td>\n",
       "      <td>1</td>\n",
       "      <td>0</td>\n",
       "      <td>0</td>\n",
       "      <td>0</td>\n",
       "    </tr>\n",
       "    <tr>\n",
       "      <th>1</th>\n",
       "      <td>2</td>\n",
       "      <td>43</td>\n",
       "      <td>11</td>\n",
       "      <td>protestant</td>\n",
       "      <td>2.0</td>\n",
       "      <td>1.0</td>\n",
       "      <td>1.0</td>\n",
       "      <td>20.0</td>\n",
       "      <td>14.0</td>\n",
       "      <td>1</td>\n",
       "      <td>1.0</td>\n",
       "      <td>1.0</td>\n",
       "      <td>1.0</td>\n",
       "      <td>1.0</td>\n",
       "      <td>0</td>\n",
       "      <td>0</td>\n",
       "      <td>0</td>\n",
       "      <td>0</td>\n",
       "    </tr>\n",
       "    <tr>\n",
       "      <th>2</th>\n",
       "      <td>0</td>\n",
       "      <td>49</td>\n",
       "      <td>4</td>\n",
       "      <td>spirit</td>\n",
       "      <td>4.0</td>\n",
       "      <td>1.0</td>\n",
       "      <td>0.0</td>\n",
       "      <td>22.0</td>\n",
       "      <td>1.0</td>\n",
       "      <td>1</td>\n",
       "      <td>1.0</td>\n",
       "      <td>1.0</td>\n",
       "      <td>0.0</td>\n",
       "      <td>0.0</td>\n",
       "      <td>0</td>\n",
       "      <td>0</td>\n",
       "      <td>0</td>\n",
       "      <td>0</td>\n",
       "    </tr>\n",
       "    <tr>\n",
       "      <th>3</th>\n",
       "      <td>0</td>\n",
       "      <td>24</td>\n",
       "      <td>12</td>\n",
       "      <td>other</td>\n",
       "      <td>2.0</td>\n",
       "      <td>1.0</td>\n",
       "      <td>0.0</td>\n",
       "      <td>0.0</td>\n",
       "      <td>-1.0</td>\n",
       "      <td>1</td>\n",
       "      <td>1.0</td>\n",
       "      <td>1.0</td>\n",
       "      <td>1.0</td>\n",
       "      <td>1.0</td>\n",
       "      <td>1</td>\n",
       "      <td>0</td>\n",
       "      <td>0</td>\n",
       "      <td>0</td>\n",
       "    </tr>\n",
       "    <tr>\n",
       "      <th>4</th>\n",
       "      <td>3</td>\n",
       "      <td>32</td>\n",
       "      <td>13</td>\n",
       "      <td>other</td>\n",
       "      <td>3.0</td>\n",
       "      <td>1.0</td>\n",
       "      <td>1.0</td>\n",
       "      <td>24.0</td>\n",
       "      <td>12.0</td>\n",
       "      <td>1</td>\n",
       "      <td>1.0</td>\n",
       "      <td>1.0</td>\n",
       "      <td>1.0</td>\n",
       "      <td>1.0</td>\n",
       "      <td>0</td>\n",
       "      <td>0</td>\n",
       "      <td>0</td>\n",
       "      <td>0</td>\n",
       "    </tr>\n",
       "  </tbody>\n",
       "</table>\n",
       "</div>"
      ],
      "text/plain": [
       "   ceb  age  educ    religion  idlnchld  knowmeth  usemeth  agefm  heduc  \\\n",
       "0    0   18    10    catholic       4.0       1.0      1.0    0.0   -1.0   \n",
       "1    2   43    11  protestant       2.0       1.0      1.0   20.0   14.0   \n",
       "2    0   49     4      spirit       4.0       1.0      0.0   22.0    1.0   \n",
       "3    0   24    12       other       2.0       1.0      0.0    0.0   -1.0   \n",
       "4    3   32    13       other       3.0       1.0      1.0   24.0   12.0   \n",
       "\n",
       "   urban  electric  radio   tv  bicycle  nevermarr  idlnchld_noans  \\\n",
       "0      1       1.0    1.0  1.0      1.0          1               0   \n",
       "1      1       1.0    1.0  1.0      1.0          0               0   \n",
       "2      1       1.0    1.0  0.0      0.0          0               0   \n",
       "3      1       1.0    1.0  1.0      1.0          1               0   \n",
       "4      1       1.0    1.0  1.0      1.0          0               0   \n",
       "\n",
       "   heduc_noans  usemeth_noans  \n",
       "0            0              0  \n",
       "1            0              0  \n",
       "2            0              0  \n",
       "3            0              0  \n",
       "4            0              0  "
      ]
     },
     "execution_count": 64,
     "metadata": {},
     "output_type": "execute_result"
    }
   ],
   "source": [
    "indicator = lambda x: 1 if np.isnan(x) else 0\n",
    "fill_c = lambda c: (lambda x: c if np.isnan(x) else x)\n",
    "\n",
    "botswana['idlnchld_noans'] = botswana['idlnchld'].map(indicator)\n",
    "botswana['heduc_noans'] = botswana['heduc'].map(indicator)\n",
    "botswana['usemeth_noans'] = botswana['usemeth'].map(indicator)\n",
    "\n",
    "botswana['idlnchld'] = botswana['idlnchld'].map(fill_c(-1))\n",
    "botswana['heduc'] = botswana['heduc'].map(fill_c(-2))\n",
    "botswana['usemeth'] = botswana['usemeth'].map(fill_c(-1))\n",
    "\n",
    "botswana = botswana.dropna()\n",
    "\n",
    "botswana.head(5)"
   ]
  },
  {
   "cell_type": "code",
   "execution_count": 65,
   "metadata": {
    "collapsed": false
   },
   "outputs": [
    {
     "data": {
      "text/plain": [
       "78264"
      ]
     },
     "execution_count": 65,
     "metadata": {},
     "output_type": "execute_result"
    }
   ],
   "source": [
    "botswana.shape[0]*botswana.shape[1]"
   ]
  },
  {
   "cell_type": "markdown",
   "metadata": {},
   "source": [
    "#### 5.\n",
    "\n",
    "Постройте регрессию количества детей ceb на все имеющиеся признаки методом smf.ols, как в разобранном до этого примере. Какой получился коэффициент детерминации $R^2$? Округлите до трёх знаков после десятичной точки.\n",
    "\n",
    "Если код из примера у вас не воспроизводится:\n",
    "\n",
    "* убедитесь, что вы сделали так:\n",
    "`import statsmodels.formula.api as smf`\n",
    "* возможно, вам нужно обновить библиотеку patsy; выполните в командной строке\n",
    "`pip install -U patsy`"
   ]
  },
  {
   "cell_type": "code",
   "execution_count": 66,
   "metadata": {
    "collapsed": false
   },
   "outputs": [
    {
     "data": {
      "text/html": [
       "<table class=\"simpletable\">\n",
       "<caption>OLS Regression Results</caption>\n",
       "<tr>\n",
       "  <th>Dep. Variable:</th>           <td>ceb</td>       <th>  R-squared:         </th> <td>   0.644</td> \n",
       "</tr>\n",
       "<tr>\n",
       "  <th>Model:</th>                   <td>OLS</td>       <th>  Adj. R-squared:    </th> <td>   0.643</td> \n",
       "</tr>\n",
       "<tr>\n",
       "  <th>Method:</th>             <td>Least Squares</td>  <th>  F-statistic:       </th> <td>   412.5</td> \n",
       "</tr>\n",
       "<tr>\n",
       "  <th>Date:</th>             <td>Mon, 02 Jan 2017</td> <th>  Prob (F-statistic):</th>  <td>  0.00</td>  \n",
       "</tr>\n",
       "<tr>\n",
       "  <th>Time:</th>                 <td>15:10:35</td>     <th>  Log-Likelihood:    </th> <td> -7732.1</td> \n",
       "</tr>\n",
       "<tr>\n",
       "  <th>No. Observations:</th>      <td>  4348</td>      <th>  AIC:               </th> <td>1.550e+04</td>\n",
       "</tr>\n",
       "<tr>\n",
       "  <th>Df Residuals:</th>          <td>  4328</td>      <th>  BIC:               </th> <td>1.563e+04</td>\n",
       "</tr>\n",
       "<tr>\n",
       "  <th>Df Model:</th>              <td>    19</td>      <th>                     </th>     <td> </td>    \n",
       "</tr>\n",
       "<tr>\n",
       "  <th>Covariance Type:</th>      <td>nonrobust</td>    <th>                     </th>     <td> </td>    \n",
       "</tr>\n",
       "</table>\n",
       "<table class=\"simpletable\">\n",
       "<tr>\n",
       "             <td></td>               <th>coef</th>     <th>std err</th>      <th>t</th>      <th>P>|t|</th> <th>[95.0% Conf. Int.]</th> \n",
       "</tr>\n",
       "<tr>\n",
       "  <th>Intercept</th>              <td>   -1.0263</td> <td>    0.212</td> <td>   -4.835</td> <td> 0.000</td> <td>   -1.443    -0.610</td>\n",
       "</tr>\n",
       "<tr>\n",
       "  <th>religion[T.other]</th>      <td>   -0.0830</td> <td>    0.083</td> <td>   -1.001</td> <td> 0.317</td> <td>   -0.245     0.080</td>\n",
       "</tr>\n",
       "<tr>\n",
       "  <th>religion[T.protestant]</th> <td>   -0.0149</td> <td>    0.082</td> <td>   -0.181</td> <td> 0.857</td> <td>   -0.176     0.146</td>\n",
       "</tr>\n",
       "<tr>\n",
       "  <th>religion[T.spirit]</th>     <td>   -0.0191</td> <td>    0.077</td> <td>   -0.248</td> <td> 0.804</td> <td>   -0.171     0.132</td>\n",
       "</tr>\n",
       "<tr>\n",
       "  <th>age</th>                    <td>    0.1703</td> <td>    0.003</td> <td>   51.891</td> <td> 0.000</td> <td>    0.164     0.177</td>\n",
       "</tr>\n",
       "<tr>\n",
       "  <th>educ</th>                   <td>   -0.0724</td> <td>    0.007</td> <td>   -9.843</td> <td> 0.000</td> <td>   -0.087    -0.058</td>\n",
       "</tr>\n",
       "<tr>\n",
       "  <th>idlnchld</th>               <td>    0.0760</td> <td>    0.011</td> <td>    6.923</td> <td> 0.000</td> <td>    0.054     0.098</td>\n",
       "</tr>\n",
       "<tr>\n",
       "  <th>knowmeth</th>               <td>    0.5564</td> <td>    0.121</td> <td>    4.580</td> <td> 0.000</td> <td>    0.318     0.795</td>\n",
       "</tr>\n",
       "<tr>\n",
       "  <th>usemeth</th>                <td>    0.6473</td> <td>    0.048</td> <td>   13.424</td> <td> 0.000</td> <td>    0.553     0.742</td>\n",
       "</tr>\n",
       "<tr>\n",
       "  <th>agefm</th>                  <td>   -0.0604</td> <td>    0.007</td> <td>   -9.213</td> <td> 0.000</td> <td>   -0.073    -0.048</td>\n",
       "</tr>\n",
       "<tr>\n",
       "  <th>heduc</th>                  <td>   -0.0551</td> <td>    0.008</td> <td>   -6.838</td> <td> 0.000</td> <td>   -0.071    -0.039</td>\n",
       "</tr>\n",
       "<tr>\n",
       "  <th>urban</th>                  <td>   -0.2137</td> <td>    0.047</td> <td>   -4.527</td> <td> 0.000</td> <td>   -0.306    -0.121</td>\n",
       "</tr>\n",
       "<tr>\n",
       "  <th>electric</th>               <td>   -0.2685</td> <td>    0.077</td> <td>   -3.479</td> <td> 0.001</td> <td>   -0.420    -0.117</td>\n",
       "</tr>\n",
       "<tr>\n",
       "  <th>radio</th>                  <td>   -0.0235</td> <td>    0.051</td> <td>   -0.461</td> <td> 0.645</td> <td>   -0.123     0.076</td>\n",
       "</tr>\n",
       "<tr>\n",
       "  <th>tv</th>                     <td>   -0.1451</td> <td>    0.093</td> <td>   -1.566</td> <td> 0.118</td> <td>   -0.327     0.037</td>\n",
       "</tr>\n",
       "<tr>\n",
       "  <th>bicycle</th>                <td>    0.2139</td> <td>    0.050</td> <td>    4.260</td> <td> 0.000</td> <td>    0.115     0.312</td>\n",
       "</tr>\n",
       "<tr>\n",
       "  <th>nevermarr</th>              <td>   -2.2393</td> <td>    0.148</td> <td>  -15.143</td> <td> 0.000</td> <td>   -2.529    -1.949</td>\n",
       "</tr>\n",
       "<tr>\n",
       "  <th>idlnchld_noans</th>         <td>    0.6539</td> <td>    0.153</td> <td>    4.286</td> <td> 0.000</td> <td>    0.355     0.953</td>\n",
       "</tr>\n",
       "<tr>\n",
       "  <th>heduc_noans</th>            <td>   -0.8724</td> <td>    0.145</td> <td>   -6.026</td> <td> 0.000</td> <td>   -1.156    -0.589</td>\n",
       "</tr>\n",
       "<tr>\n",
       "  <th>usemeth_noans</th>          <td>    0.7652</td> <td>    0.196</td> <td>    3.910</td> <td> 0.000</td> <td>    0.382     1.149</td>\n",
       "</tr>\n",
       "</table>\n",
       "<table class=\"simpletable\">\n",
       "<tr>\n",
       "  <th>Omnibus:</th>       <td>224.411</td> <th>  Durbin-Watson:     </th> <td>   1.887</td> \n",
       "</tr>\n",
       "<tr>\n",
       "  <th>Prob(Omnibus):</th> <td> 0.000</td>  <th>  Jarque-Bera (JB):  </th> <td> 859.014</td> \n",
       "</tr>\n",
       "<tr>\n",
       "  <th>Skew:</th>          <td> 0.003</td>  <th>  Prob(JB):          </th> <td>2.93e-187</td>\n",
       "</tr>\n",
       "<tr>\n",
       "  <th>Kurtosis:</th>      <td> 5.178</td>  <th>  Cond. No.          </th> <td>    361.</td> \n",
       "</tr>\n",
       "</table>"
      ],
      "text/plain": [
       "<class 'statsmodels.iolib.summary.Summary'>\n",
       "\"\"\"\n",
       "                            OLS Regression Results                            \n",
       "==============================================================================\n",
       "Dep. Variable:                    ceb   R-squared:                       0.644\n",
       "Model:                            OLS   Adj. R-squared:                  0.643\n",
       "Method:                 Least Squares   F-statistic:                     412.5\n",
       "Date:                Mon, 02 Jan 2017   Prob (F-statistic):               0.00\n",
       "Time:                        15:10:35   Log-Likelihood:                -7732.1\n",
       "No. Observations:                4348   AIC:                         1.550e+04\n",
       "Df Residuals:                    4328   BIC:                         1.563e+04\n",
       "Df Model:                          19                                         \n",
       "Covariance Type:            nonrobust                                         \n",
       "==========================================================================================\n",
       "                             coef    std err          t      P>|t|      [95.0% Conf. Int.]\n",
       "------------------------------------------------------------------------------------------\n",
       "Intercept                 -1.0263      0.212     -4.835      0.000        -1.443    -0.610\n",
       "religion[T.other]         -0.0830      0.083     -1.001      0.317        -0.245     0.080\n",
       "religion[T.protestant]    -0.0149      0.082     -0.181      0.857        -0.176     0.146\n",
       "religion[T.spirit]        -0.0191      0.077     -0.248      0.804        -0.171     0.132\n",
       "age                        0.1703      0.003     51.891      0.000         0.164     0.177\n",
       "educ                      -0.0724      0.007     -9.843      0.000        -0.087    -0.058\n",
       "idlnchld                   0.0760      0.011      6.923      0.000         0.054     0.098\n",
       "knowmeth                   0.5564      0.121      4.580      0.000         0.318     0.795\n",
       "usemeth                    0.6473      0.048     13.424      0.000         0.553     0.742\n",
       "agefm                     -0.0604      0.007     -9.213      0.000        -0.073    -0.048\n",
       "heduc                     -0.0551      0.008     -6.838      0.000        -0.071    -0.039\n",
       "urban                     -0.2137      0.047     -4.527      0.000        -0.306    -0.121\n",
       "electric                  -0.2685      0.077     -3.479      0.001        -0.420    -0.117\n",
       "radio                     -0.0235      0.051     -0.461      0.645        -0.123     0.076\n",
       "tv                        -0.1451      0.093     -1.566      0.118        -0.327     0.037\n",
       "bicycle                    0.2139      0.050      4.260      0.000         0.115     0.312\n",
       "nevermarr                 -2.2393      0.148    -15.143      0.000        -2.529    -1.949\n",
       "idlnchld_noans             0.6539      0.153      4.286      0.000         0.355     0.953\n",
       "heduc_noans               -0.8724      0.145     -6.026      0.000        -1.156    -0.589\n",
       "usemeth_noans              0.7652      0.196      3.910      0.000         0.382     1.149\n",
       "==============================================================================\n",
       "Omnibus:                      224.411   Durbin-Watson:                   1.887\n",
       "Prob(Omnibus):                  0.000   Jarque-Bera (JB):              859.014\n",
       "Skew:                           0.003   Prob(JB):                    2.93e-187\n",
       "Kurtosis:                       5.178   Cond. No.                         361.\n",
       "==============================================================================\n",
       "\n",
       "Warnings:\n",
       "[1] Standard Errors assume that the covariance matrix of the errors is correctly specified.\n",
       "\"\"\""
      ]
     },
     "execution_count": 66,
     "metadata": {},
     "output_type": "execute_result"
    }
   ],
   "source": [
    "import statsmodels.formula.api as smf\n",
    "import statsmodels.stats.api as sms\n",
    "\n",
    "m1 = smf.ols('ceb ~ age + educ + religion + idlnchld + knowmeth + usemeth + agefm + heduc + urban +' +\n",
    "             'electric + radio + tv + bicycle + nevermarr + idlnchld_noans + heduc_noans + usemeth_noans', \n",
    "             data=botswana)\n",
    "fitted = m1.fit()\n",
    "fitted.summary()"
   ]
  },
  {
   "cell_type": "markdown",
   "metadata": {},
   "source": [
    "#### 6.\n",
    "\n",
    "Обратите внимание, что для признака religion в модели автоматически создалось несколько бинарных фиктивных переменных. Сколько их?"
   ]
  },
  {
   "cell_type": "code",
   "execution_count": 67,
   "metadata": {
    "collapsed": false
   },
   "outputs": [
    {
     "data": {
      "text/plain": [
       "3"
      ]
     },
     "execution_count": 67,
     "metadata": {},
     "output_type": "execute_result"
    }
   ],
   "source": [
    "3"
   ]
  },
  {
   "cell_type": "markdown",
   "metadata": {},
   "source": [
    "#### 7.\n",
    "\n",
    "Проверьте критерием Бройша-Пагана гомоскедастичность ошибки в построенной модели. Выполняется ли она?\n",
    "\n",
    "Если ошибка гетероскедастична, перенастройте модель, сделав поправку Уайта типа HC1."
   ]
  },
  {
   "cell_type": "code",
   "execution_count": 68,
   "metadata": {
    "collapsed": false
   },
   "outputs": [
    {
     "data": {
      "text/plain": [
       "(1120.1205909391381,\n",
       " 1.1452927633439797e-225,\n",
       " 79.046224328159923,\n",
       " 2.0791008841131832e-262)"
      ]
     },
     "execution_count": 68,
     "metadata": {},
     "output_type": "execute_result"
    }
   ],
   "source": [
    "sms.het_breushpagan(fitted.resid, fitted.model.exog)"
   ]
  },
  {
   "cell_type": "code",
   "execution_count": 69,
   "metadata": {
    "collapsed": false
   },
   "outputs": [
    {
     "data": {
      "text/html": [
       "<table class=\"simpletable\">\n",
       "<caption>OLS Regression Results</caption>\n",
       "<tr>\n",
       "  <th>Dep. Variable:</th>           <td>ceb</td>       <th>  R-squared:         </th> <td>   0.644</td> \n",
       "</tr>\n",
       "<tr>\n",
       "  <th>Model:</th>                   <td>OLS</td>       <th>  Adj. R-squared:    </th> <td>   0.643</td> \n",
       "</tr>\n",
       "<tr>\n",
       "  <th>Method:</th>             <td>Least Squares</td>  <th>  F-statistic:       </th> <td>   345.0</td> \n",
       "</tr>\n",
       "<tr>\n",
       "  <th>Date:</th>             <td>Mon, 02 Jan 2017</td> <th>  Prob (F-statistic):</th>  <td>  0.00</td>  \n",
       "</tr>\n",
       "<tr>\n",
       "  <th>Time:</th>                 <td>15:10:36</td>     <th>  Log-Likelihood:    </th> <td> -7732.1</td> \n",
       "</tr>\n",
       "<tr>\n",
       "  <th>No. Observations:</th>      <td>  4348</td>      <th>  AIC:               </th> <td>1.550e+04</td>\n",
       "</tr>\n",
       "<tr>\n",
       "  <th>Df Residuals:</th>          <td>  4328</td>      <th>  BIC:               </th> <td>1.563e+04</td>\n",
       "</tr>\n",
       "<tr>\n",
       "  <th>Df Model:</th>              <td>    19</td>      <th>                     </th>     <td> </td>    \n",
       "</tr>\n",
       "<tr>\n",
       "  <th>Covariance Type:</th>         <td>HC1</td>       <th>                     </th>     <td> </td>    \n",
       "</tr>\n",
       "</table>\n",
       "<table class=\"simpletable\">\n",
       "<tr>\n",
       "             <td></td>               <th>coef</th>     <th>std err</th>      <th>z</th>      <th>P>|z|</th> <th>[95.0% Conf. Int.]</th> \n",
       "</tr>\n",
       "<tr>\n",
       "  <th>Intercept</th>              <td>   -1.0263</td> <td>    0.266</td> <td>   -3.863</td> <td> 0.000</td> <td>   -1.547    -0.506</td>\n",
       "</tr>\n",
       "<tr>\n",
       "  <th>religion[T.other]</th>      <td>   -0.0830</td> <td>    0.078</td> <td>   -1.067</td> <td> 0.286</td> <td>   -0.235     0.069</td>\n",
       "</tr>\n",
       "<tr>\n",
       "  <th>religion[T.protestant]</th> <td>   -0.0149</td> <td>    0.078</td> <td>   -0.192</td> <td> 0.848</td> <td>   -0.167     0.137</td>\n",
       "</tr>\n",
       "<tr>\n",
       "  <th>religion[T.spirit]</th>     <td>   -0.0191</td> <td>    0.071</td> <td>   -0.268</td> <td> 0.789</td> <td>   -0.159     0.121</td>\n",
       "</tr>\n",
       "<tr>\n",
       "  <th>age</th>                    <td>    0.1703</td> <td>    0.004</td> <td>   38.627</td> <td> 0.000</td> <td>    0.162     0.179</td>\n",
       "</tr>\n",
       "<tr>\n",
       "  <th>educ</th>                   <td>   -0.0724</td> <td>    0.007</td> <td>   -9.924</td> <td> 0.000</td> <td>   -0.087    -0.058</td>\n",
       "</tr>\n",
       "<tr>\n",
       "  <th>idlnchld</th>               <td>    0.0760</td> <td>    0.015</td> <td>    5.236</td> <td> 0.000</td> <td>    0.048     0.104</td>\n",
       "</tr>\n",
       "<tr>\n",
       "  <th>knowmeth</th>               <td>    0.5564</td> <td>    0.174</td> <td>    3.190</td> <td> 0.001</td> <td>    0.215     0.898</td>\n",
       "</tr>\n",
       "<tr>\n",
       "  <th>usemeth</th>                <td>    0.6473</td> <td>    0.052</td> <td>   12.478</td> <td> 0.000</td> <td>    0.546     0.749</td>\n",
       "</tr>\n",
       "<tr>\n",
       "  <th>agefm</th>                  <td>   -0.0604</td> <td>    0.010</td> <td>   -6.174</td> <td> 0.000</td> <td>   -0.080    -0.041</td>\n",
       "</tr>\n",
       "<tr>\n",
       "  <th>heduc</th>                  <td>   -0.0551</td> <td>    0.009</td> <td>   -6.126</td> <td> 0.000</td> <td>   -0.073    -0.037</td>\n",
       "</tr>\n",
       "<tr>\n",
       "  <th>urban</th>                  <td>   -0.2137</td> <td>    0.046</td> <td>   -4.667</td> <td> 0.000</td> <td>   -0.303    -0.124</td>\n",
       "</tr>\n",
       "<tr>\n",
       "  <th>electric</th>               <td>   -0.2685</td> <td>    0.072</td> <td>   -3.732</td> <td> 0.000</td> <td>   -0.410    -0.128</td>\n",
       "</tr>\n",
       "<tr>\n",
       "  <th>radio</th>                  <td>   -0.0235</td> <td>    0.053</td> <td>   -0.446</td> <td> 0.656</td> <td>   -0.127     0.080</td>\n",
       "</tr>\n",
       "<tr>\n",
       "  <th>tv</th>                     <td>   -0.1451</td> <td>    0.082</td> <td>   -1.766</td> <td> 0.077</td> <td>   -0.306     0.016</td>\n",
       "</tr>\n",
       "<tr>\n",
       "  <th>bicycle</th>                <td>    0.2139</td> <td>    0.048</td> <td>    4.412</td> <td> 0.000</td> <td>    0.119     0.309</td>\n",
       "</tr>\n",
       "<tr>\n",
       "  <th>nevermarr</th>              <td>   -2.2393</td> <td>    0.202</td> <td>  -11.082</td> <td> 0.000</td> <td>   -2.635    -1.843</td>\n",
       "</tr>\n",
       "<tr>\n",
       "  <th>idlnchld_noans</th>         <td>    0.6539</td> <td>    0.216</td> <td>    3.029</td> <td> 0.002</td> <td>    0.231     1.077</td>\n",
       "</tr>\n",
       "<tr>\n",
       "  <th>heduc_noans</th>            <td>   -0.8724</td> <td>    0.191</td> <td>   -4.556</td> <td> 0.000</td> <td>   -1.248    -0.497</td>\n",
       "</tr>\n",
       "<tr>\n",
       "  <th>usemeth_noans</th>          <td>    0.7652</td> <td>    0.213</td> <td>    3.590</td> <td> 0.000</td> <td>    0.347     1.183</td>\n",
       "</tr>\n",
       "</table>\n",
       "<table class=\"simpletable\">\n",
       "<tr>\n",
       "  <th>Omnibus:</th>       <td>224.411</td> <th>  Durbin-Watson:     </th> <td>   1.887</td> \n",
       "</tr>\n",
       "<tr>\n",
       "  <th>Prob(Omnibus):</th> <td> 0.000</td>  <th>  Jarque-Bera (JB):  </th> <td> 859.014</td> \n",
       "</tr>\n",
       "<tr>\n",
       "  <th>Skew:</th>          <td> 0.003</td>  <th>  Prob(JB):          </th> <td>2.93e-187</td>\n",
       "</tr>\n",
       "<tr>\n",
       "  <th>Kurtosis:</th>      <td> 5.178</td>  <th>  Cond. No.          </th> <td>    361.</td> \n",
       "</tr>\n",
       "</table>"
      ],
      "text/plain": [
       "<class 'statsmodels.iolib.summary.Summary'>\n",
       "\"\"\"\n",
       "                            OLS Regression Results                            \n",
       "==============================================================================\n",
       "Dep. Variable:                    ceb   R-squared:                       0.644\n",
       "Model:                            OLS   Adj. R-squared:                  0.643\n",
       "Method:                 Least Squares   F-statistic:                     345.0\n",
       "Date:                Mon, 02 Jan 2017   Prob (F-statistic):               0.00\n",
       "Time:                        15:10:36   Log-Likelihood:                -7732.1\n",
       "No. Observations:                4348   AIC:                         1.550e+04\n",
       "Df Residuals:                    4328   BIC:                         1.563e+04\n",
       "Df Model:                          19                                         \n",
       "Covariance Type:                  HC1                                         \n",
       "==========================================================================================\n",
       "                             coef    std err          z      P>|z|      [95.0% Conf. Int.]\n",
       "------------------------------------------------------------------------------------------\n",
       "Intercept                 -1.0263      0.266     -3.863      0.000        -1.547    -0.506\n",
       "religion[T.other]         -0.0830      0.078     -1.067      0.286        -0.235     0.069\n",
       "religion[T.protestant]    -0.0149      0.078     -0.192      0.848        -0.167     0.137\n",
       "religion[T.spirit]        -0.0191      0.071     -0.268      0.789        -0.159     0.121\n",
       "age                        0.1703      0.004     38.627      0.000         0.162     0.179\n",
       "educ                      -0.0724      0.007     -9.924      0.000        -0.087    -0.058\n",
       "idlnchld                   0.0760      0.015      5.236      0.000         0.048     0.104\n",
       "knowmeth                   0.5564      0.174      3.190      0.001         0.215     0.898\n",
       "usemeth                    0.6473      0.052     12.478      0.000         0.546     0.749\n",
       "agefm                     -0.0604      0.010     -6.174      0.000        -0.080    -0.041\n",
       "heduc                     -0.0551      0.009     -6.126      0.000        -0.073    -0.037\n",
       "urban                     -0.2137      0.046     -4.667      0.000        -0.303    -0.124\n",
       "electric                  -0.2685      0.072     -3.732      0.000        -0.410    -0.128\n",
       "radio                     -0.0235      0.053     -0.446      0.656        -0.127     0.080\n",
       "tv                        -0.1451      0.082     -1.766      0.077        -0.306     0.016\n",
       "bicycle                    0.2139      0.048      4.412      0.000         0.119     0.309\n",
       "nevermarr                 -2.2393      0.202    -11.082      0.000        -2.635    -1.843\n",
       "idlnchld_noans             0.6539      0.216      3.029      0.002         0.231     1.077\n",
       "heduc_noans               -0.8724      0.191     -4.556      0.000        -1.248    -0.497\n",
       "usemeth_noans              0.7652      0.213      3.590      0.000         0.347     1.183\n",
       "==============================================================================\n",
       "Omnibus:                      224.411   Durbin-Watson:                   1.887\n",
       "Prob(Omnibus):                  0.000   Jarque-Bera (JB):              859.014\n",
       "Skew:                           0.003   Prob(JB):                    2.93e-187\n",
       "Kurtosis:                       5.178   Cond. No.                         361.\n",
       "==============================================================================\n",
       "\n",
       "Warnings:\n",
       "[1] Standard Errors are heteroscedasticity robust (HC1)\n",
       "\"\"\""
      ]
     },
     "execution_count": 69,
     "metadata": {},
     "output_type": "execute_result"
    }
   ],
   "source": [
    "fitted = m1.fit(cov_type='HC1')\n",
    "fitted.summary()"
   ]
  },
  {
   "cell_type": "markdown",
   "metadata": {},
   "source": [
    "#### 8.\n",
    "\n",
    "Удалите из модели незначимые признаки religion, radio и tv. Проверьте гомоскедастичность ошибки, при необходимости сделайте поправку Уайта.\n",
    "\n",
    "Не произошло ли значимого ухудшения модели после удаления этой группы признаков? Проверьте с помощью критерия Фишера. Чему равен его достигаемый уровень значимости? Округлите до четырёх цифр после десятичной точки.\n",
    "\n",
    "Если достигаемый уровень значимости получился маленький, верните все удалённые признаки; если он достаточно велик, оставьте модель без религии, тв и радио."
   ]
  },
  {
   "cell_type": "code",
   "execution_count": 70,
   "metadata": {
    "collapsed": false
   },
   "outputs": [
    {
     "data": {
      "text/html": [
       "<table class=\"simpletable\">\n",
       "<caption>OLS Regression Results</caption>\n",
       "<tr>\n",
       "  <th>Dep. Variable:</th>           <td>ceb</td>       <th>  R-squared:         </th> <td>   0.644</td> \n",
       "</tr>\n",
       "<tr>\n",
       "  <th>Model:</th>                   <td>OLS</td>       <th>  Adj. R-squared:    </th> <td>   0.643</td> \n",
       "</tr>\n",
       "<tr>\n",
       "  <th>Method:</th>             <td>Least Squares</td>  <th>  F-statistic:       </th> <td>   559.5</td> \n",
       "</tr>\n",
       "<tr>\n",
       "  <th>Date:</th>             <td>Mon, 02 Jan 2017</td> <th>  Prob (F-statistic):</th>  <td>  0.00</td>  \n",
       "</tr>\n",
       "<tr>\n",
       "  <th>Time:</th>                 <td>15:10:36</td>     <th>  Log-Likelihood:    </th> <td> -7734.5</td> \n",
       "</tr>\n",
       "<tr>\n",
       "  <th>No. Observations:</th>      <td>  4348</td>      <th>  AIC:               </th> <td>1.550e+04</td>\n",
       "</tr>\n",
       "<tr>\n",
       "  <th>Df Residuals:</th>          <td>  4333</td>      <th>  BIC:               </th> <td>1.559e+04</td>\n",
       "</tr>\n",
       "<tr>\n",
       "  <th>Df Model:</th>              <td>    14</td>      <th>                     </th>     <td> </td>    \n",
       "</tr>\n",
       "<tr>\n",
       "  <th>Covariance Type:</th>      <td>nonrobust</td>    <th>                     </th>     <td> </td>    \n",
       "</tr>\n",
       "</table>\n",
       "<table class=\"simpletable\">\n",
       "<tr>\n",
       "         <td></td>           <th>coef</th>     <th>std err</th>      <th>t</th>      <th>P>|t|</th> <th>[95.0% Conf. Int.]</th> \n",
       "</tr>\n",
       "<tr>\n",
       "  <th>Intercept</th>      <td>   -1.0698</td> <td>    0.198</td> <td>   -5.393</td> <td> 0.000</td> <td>   -1.459    -0.681</td>\n",
       "</tr>\n",
       "<tr>\n",
       "  <th>age</th>            <td>    0.1702</td> <td>    0.003</td> <td>   52.271</td> <td> 0.000</td> <td>    0.164     0.177</td>\n",
       "</tr>\n",
       "<tr>\n",
       "  <th>educ</th>           <td>   -0.0729</td> <td>    0.007</td> <td>  -10.285</td> <td> 0.000</td> <td>   -0.087    -0.059</td>\n",
       "</tr>\n",
       "<tr>\n",
       "  <th>idlnchld</th>       <td>    0.0770</td> <td>    0.011</td> <td>    7.042</td> <td> 0.000</td> <td>    0.056     0.098</td>\n",
       "</tr>\n",
       "<tr>\n",
       "  <th>knowmeth</th>       <td>    0.5610</td> <td>    0.121</td> <td>    4.628</td> <td> 0.000</td> <td>    0.323     0.799</td>\n",
       "</tr>\n",
       "<tr>\n",
       "  <th>usemeth</th>        <td>    0.6516</td> <td>    0.048</td> <td>   13.537</td> <td> 0.000</td> <td>    0.557     0.746</td>\n",
       "</tr>\n",
       "<tr>\n",
       "  <th>agefm</th>          <td>   -0.0606</td> <td>    0.007</td> <td>   -9.240</td> <td> 0.000</td> <td>   -0.073    -0.048</td>\n",
       "</tr>\n",
       "<tr>\n",
       "  <th>heduc</th>          <td>   -0.0573</td> <td>    0.008</td> <td>   -7.186</td> <td> 0.000</td> <td>   -0.073    -0.042</td>\n",
       "</tr>\n",
       "<tr>\n",
       "  <th>urban</th>          <td>   -0.2190</td> <td>    0.047</td> <td>   -4.682</td> <td> 0.000</td> <td>   -0.311    -0.127</td>\n",
       "</tr>\n",
       "<tr>\n",
       "  <th>electric</th>       <td>   -0.3207</td> <td>    0.070</td> <td>   -4.584</td> <td> 0.000</td> <td>   -0.458    -0.184</td>\n",
       "</tr>\n",
       "<tr>\n",
       "  <th>bicycle</th>        <td>    0.2046</td> <td>    0.049</td> <td>    4.154</td> <td> 0.000</td> <td>    0.108     0.301</td>\n",
       "</tr>\n",
       "<tr>\n",
       "  <th>nevermarr</th>      <td>   -2.2501</td> <td>    0.148</td> <td>  -15.231</td> <td> 0.000</td> <td>   -2.540    -1.961</td>\n",
       "</tr>\n",
       "<tr>\n",
       "  <th>idlnchld_noans</th> <td>    0.6565</td> <td>    0.152</td> <td>    4.310</td> <td> 0.000</td> <td>    0.358     0.955</td>\n",
       "</tr>\n",
       "<tr>\n",
       "  <th>heduc_noans</th>    <td>   -0.8853</td> <td>    0.145</td> <td>   -6.122</td> <td> 0.000</td> <td>   -1.169    -0.602</td>\n",
       "</tr>\n",
       "<tr>\n",
       "  <th>usemeth_noans</th>  <td>    0.7732</td> <td>    0.196</td> <td>    3.955</td> <td> 0.000</td> <td>    0.390     1.156</td>\n",
       "</tr>\n",
       "</table>\n",
       "<table class=\"simpletable\">\n",
       "<tr>\n",
       "  <th>Omnibus:</th>       <td>224.096</td> <th>  Durbin-Watson:     </th> <td>   1.886</td> \n",
       "</tr>\n",
       "<tr>\n",
       "  <th>Prob(Omnibus):</th> <td> 0.000</td>  <th>  Jarque-Bera (JB):  </th> <td> 856.760</td> \n",
       "</tr>\n",
       "<tr>\n",
       "  <th>Skew:</th>          <td> 0.004</td>  <th>  Prob(JB):          </th> <td>9.06e-187</td>\n",
       "</tr>\n",
       "<tr>\n",
       "  <th>Kurtosis:</th>      <td> 5.175</td>  <th>  Cond. No.          </th> <td>    345.</td> \n",
       "</tr>\n",
       "</table>"
      ],
      "text/plain": [
       "<class 'statsmodels.iolib.summary.Summary'>\n",
       "\"\"\"\n",
       "                            OLS Regression Results                            \n",
       "==============================================================================\n",
       "Dep. Variable:                    ceb   R-squared:                       0.644\n",
       "Model:                            OLS   Adj. R-squared:                  0.643\n",
       "Method:                 Least Squares   F-statistic:                     559.5\n",
       "Date:                Mon, 02 Jan 2017   Prob (F-statistic):               0.00\n",
       "Time:                        15:10:36   Log-Likelihood:                -7734.5\n",
       "No. Observations:                4348   AIC:                         1.550e+04\n",
       "Df Residuals:                    4333   BIC:                         1.559e+04\n",
       "Df Model:                          14                                         \n",
       "Covariance Type:            nonrobust                                         \n",
       "==================================================================================\n",
       "                     coef    std err          t      P>|t|      [95.0% Conf. Int.]\n",
       "----------------------------------------------------------------------------------\n",
       "Intercept         -1.0698      0.198     -5.393      0.000        -1.459    -0.681\n",
       "age                0.1702      0.003     52.271      0.000         0.164     0.177\n",
       "educ              -0.0729      0.007    -10.285      0.000        -0.087    -0.059\n",
       "idlnchld           0.0770      0.011      7.042      0.000         0.056     0.098\n",
       "knowmeth           0.5610      0.121      4.628      0.000         0.323     0.799\n",
       "usemeth            0.6516      0.048     13.537      0.000         0.557     0.746\n",
       "agefm             -0.0606      0.007     -9.240      0.000        -0.073    -0.048\n",
       "heduc             -0.0573      0.008     -7.186      0.000        -0.073    -0.042\n",
       "urban             -0.2190      0.047     -4.682      0.000        -0.311    -0.127\n",
       "electric          -0.3207      0.070     -4.584      0.000        -0.458    -0.184\n",
       "bicycle            0.2046      0.049      4.154      0.000         0.108     0.301\n",
       "nevermarr         -2.2501      0.148    -15.231      0.000        -2.540    -1.961\n",
       "idlnchld_noans     0.6565      0.152      4.310      0.000         0.358     0.955\n",
       "heduc_noans       -0.8853      0.145     -6.122      0.000        -1.169    -0.602\n",
       "usemeth_noans      0.7732      0.196      3.955      0.000         0.390     1.156\n",
       "==============================================================================\n",
       "Omnibus:                      224.096   Durbin-Watson:                   1.886\n",
       "Prob(Omnibus):                  0.000   Jarque-Bera (JB):              856.760\n",
       "Skew:                           0.004   Prob(JB):                    9.06e-187\n",
       "Kurtosis:                       5.175   Cond. No.                         345.\n",
       "==============================================================================\n",
       "\n",
       "Warnings:\n",
       "[1] Standard Errors assume that the covariance matrix of the errors is correctly specified.\n",
       "\"\"\""
      ]
     },
     "execution_count": 70,
     "metadata": {},
     "output_type": "execute_result"
    }
   ],
   "source": [
    "m2 = smf.ols('ceb ~ age + educ + idlnchld + knowmeth + usemeth + agefm + heduc + urban +' +\n",
    "             'electric + bicycle + nevermarr + idlnchld_noans + heduc_noans + usemeth_noans', \n",
    "             data=botswana)\n",
    "fitted = m2.fit()\n",
    "fitted.summary()"
   ]
  },
  {
   "cell_type": "code",
   "execution_count": 71,
   "metadata": {
    "collapsed": false
   },
   "outputs": [
    {
     "data": {
      "text/plain": [
       "(1112.4700385717538,\n",
       " 1.1197458896536614e-228,\n",
       " 106.41517187062945,\n",
       " 3.5926113125349889e-265)"
      ]
     },
     "execution_count": 71,
     "metadata": {},
     "output_type": "execute_result"
    }
   ],
   "source": [
    "sms.het_breushpagan(fitted.resid, fitted.model.exog)"
   ]
  },
  {
   "cell_type": "code",
   "execution_count": 72,
   "metadata": {
    "collapsed": false
   },
   "outputs": [
    {
     "data": {
      "text/html": [
       "<table class=\"simpletable\">\n",
       "<caption>OLS Regression Results</caption>\n",
       "<tr>\n",
       "  <th>Dep. Variable:</th>           <td>ceb</td>       <th>  R-squared:         </th> <td>   0.644</td> \n",
       "</tr>\n",
       "<tr>\n",
       "  <th>Model:</th>                   <td>OLS</td>       <th>  Adj. R-squared:    </th> <td>   0.643</td> \n",
       "</tr>\n",
       "<tr>\n",
       "  <th>Method:</th>             <td>Least Squares</td>  <th>  F-statistic:       </th> <td>   463.4</td> \n",
       "</tr>\n",
       "<tr>\n",
       "  <th>Date:</th>             <td>Mon, 02 Jan 2017</td> <th>  Prob (F-statistic):</th>  <td>  0.00</td>  \n",
       "</tr>\n",
       "<tr>\n",
       "  <th>Time:</th>                 <td>15:10:36</td>     <th>  Log-Likelihood:    </th> <td> -7734.5</td> \n",
       "</tr>\n",
       "<tr>\n",
       "  <th>No. Observations:</th>      <td>  4348</td>      <th>  AIC:               </th> <td>1.550e+04</td>\n",
       "</tr>\n",
       "<tr>\n",
       "  <th>Df Residuals:</th>          <td>  4333</td>      <th>  BIC:               </th> <td>1.559e+04</td>\n",
       "</tr>\n",
       "<tr>\n",
       "  <th>Df Model:</th>              <td>    14</td>      <th>                     </th>     <td> </td>    \n",
       "</tr>\n",
       "<tr>\n",
       "  <th>Covariance Type:</th>         <td>HC1</td>       <th>                     </th>     <td> </td>    \n",
       "</tr>\n",
       "</table>\n",
       "<table class=\"simpletable\">\n",
       "<tr>\n",
       "         <td></td>           <th>coef</th>     <th>std err</th>      <th>z</th>      <th>P>|z|</th> <th>[95.0% Conf. Int.]</th> \n",
       "</tr>\n",
       "<tr>\n",
       "  <th>Intercept</th>      <td>   -1.0698</td> <td>    0.258</td> <td>   -4.152</td> <td> 0.000</td> <td>   -1.575    -0.565</td>\n",
       "</tr>\n",
       "<tr>\n",
       "  <th>age</th>            <td>    0.1702</td> <td>    0.004</td> <td>   38.746</td> <td> 0.000</td> <td>    0.162     0.179</td>\n",
       "</tr>\n",
       "<tr>\n",
       "  <th>educ</th>           <td>   -0.0729</td> <td>    0.007</td> <td>  -10.311</td> <td> 0.000</td> <td>   -0.087    -0.059</td>\n",
       "</tr>\n",
       "<tr>\n",
       "  <th>idlnchld</th>       <td>    0.0770</td> <td>    0.014</td> <td>    5.323</td> <td> 0.000</td> <td>    0.049     0.105</td>\n",
       "</tr>\n",
       "<tr>\n",
       "  <th>knowmeth</th>       <td>    0.5610</td> <td>    0.174</td> <td>    3.224</td> <td> 0.001</td> <td>    0.220     0.902</td>\n",
       "</tr>\n",
       "<tr>\n",
       "  <th>usemeth</th>        <td>    0.6516</td> <td>    0.052</td> <td>   12.571</td> <td> 0.000</td> <td>    0.550     0.753</td>\n",
       "</tr>\n",
       "<tr>\n",
       "  <th>agefm</th>          <td>   -0.0606</td> <td>    0.010</td> <td>   -6.192</td> <td> 0.000</td> <td>   -0.080    -0.041</td>\n",
       "</tr>\n",
       "<tr>\n",
       "  <th>heduc</th>          <td>   -0.0573</td> <td>    0.009</td> <td>   -6.440</td> <td> 0.000</td> <td>   -0.075    -0.040</td>\n",
       "</tr>\n",
       "<tr>\n",
       "  <th>urban</th>          <td>   -0.2190</td> <td>    0.045</td> <td>   -4.814</td> <td> 0.000</td> <td>   -0.308    -0.130</td>\n",
       "</tr>\n",
       "<tr>\n",
       "  <th>electric</th>       <td>   -0.3207</td> <td>    0.063</td> <td>   -5.076</td> <td> 0.000</td> <td>   -0.445    -0.197</td>\n",
       "</tr>\n",
       "<tr>\n",
       "  <th>bicycle</th>        <td>    0.2046</td> <td>    0.048</td> <td>    4.279</td> <td> 0.000</td> <td>    0.111     0.298</td>\n",
       "</tr>\n",
       "<tr>\n",
       "  <th>nevermarr</th>      <td>   -2.2501</td> <td>    0.202</td> <td>  -11.158</td> <td> 0.000</td> <td>   -2.645    -1.855</td>\n",
       "</tr>\n",
       "<tr>\n",
       "  <th>idlnchld_noans</th> <td>    0.6565</td> <td>    0.216</td> <td>    3.043</td> <td> 0.002</td> <td>    0.234     1.079</td>\n",
       "</tr>\n",
       "<tr>\n",
       "  <th>heduc_noans</th>    <td>   -0.8853</td> <td>    0.191</td> <td>   -4.638</td> <td> 0.000</td> <td>   -1.259    -0.511</td>\n",
       "</tr>\n",
       "<tr>\n",
       "  <th>usemeth_noans</th>  <td>    0.7732</td> <td>    0.212</td> <td>    3.639</td> <td> 0.000</td> <td>    0.357     1.190</td>\n",
       "</tr>\n",
       "</table>\n",
       "<table class=\"simpletable\">\n",
       "<tr>\n",
       "  <th>Omnibus:</th>       <td>224.096</td> <th>  Durbin-Watson:     </th> <td>   1.886</td> \n",
       "</tr>\n",
       "<tr>\n",
       "  <th>Prob(Omnibus):</th> <td> 0.000</td>  <th>  Jarque-Bera (JB):  </th> <td> 856.760</td> \n",
       "</tr>\n",
       "<tr>\n",
       "  <th>Skew:</th>          <td> 0.004</td>  <th>  Prob(JB):          </th> <td>9.06e-187</td>\n",
       "</tr>\n",
       "<tr>\n",
       "  <th>Kurtosis:</th>      <td> 5.175</td>  <th>  Cond. No.          </th> <td>    345.</td> \n",
       "</tr>\n",
       "</table>"
      ],
      "text/plain": [
       "<class 'statsmodels.iolib.summary.Summary'>\n",
       "\"\"\"\n",
       "                            OLS Regression Results                            \n",
       "==============================================================================\n",
       "Dep. Variable:                    ceb   R-squared:                       0.644\n",
       "Model:                            OLS   Adj. R-squared:                  0.643\n",
       "Method:                 Least Squares   F-statistic:                     463.4\n",
       "Date:                Mon, 02 Jan 2017   Prob (F-statistic):               0.00\n",
       "Time:                        15:10:36   Log-Likelihood:                -7734.5\n",
       "No. Observations:                4348   AIC:                         1.550e+04\n",
       "Df Residuals:                    4333   BIC:                         1.559e+04\n",
       "Df Model:                          14                                         \n",
       "Covariance Type:                  HC1                                         \n",
       "==================================================================================\n",
       "                     coef    std err          z      P>|z|      [95.0% Conf. Int.]\n",
       "----------------------------------------------------------------------------------\n",
       "Intercept         -1.0698      0.258     -4.152      0.000        -1.575    -0.565\n",
       "age                0.1702      0.004     38.746      0.000         0.162     0.179\n",
       "educ              -0.0729      0.007    -10.311      0.000        -0.087    -0.059\n",
       "idlnchld           0.0770      0.014      5.323      0.000         0.049     0.105\n",
       "knowmeth           0.5610      0.174      3.224      0.001         0.220     0.902\n",
       "usemeth            0.6516      0.052     12.571      0.000         0.550     0.753\n",
       "agefm             -0.0606      0.010     -6.192      0.000        -0.080    -0.041\n",
       "heduc             -0.0573      0.009     -6.440      0.000        -0.075    -0.040\n",
       "urban             -0.2190      0.045     -4.814      0.000        -0.308    -0.130\n",
       "electric          -0.3207      0.063     -5.076      0.000        -0.445    -0.197\n",
       "bicycle            0.2046      0.048      4.279      0.000         0.111     0.298\n",
       "nevermarr         -2.2501      0.202    -11.158      0.000        -2.645    -1.855\n",
       "idlnchld_noans     0.6565      0.216      3.043      0.002         0.234     1.079\n",
       "heduc_noans       -0.8853      0.191     -4.638      0.000        -1.259    -0.511\n",
       "usemeth_noans      0.7732      0.212      3.639      0.000         0.357     1.190\n",
       "==============================================================================\n",
       "Omnibus:                      224.096   Durbin-Watson:                   1.886\n",
       "Prob(Omnibus):                  0.000   Jarque-Bera (JB):              856.760\n",
       "Skew:                           0.004   Prob(JB):                    9.06e-187\n",
       "Kurtosis:                       5.175   Cond. No.                         345.\n",
       "==============================================================================\n",
       "\n",
       "Warnings:\n",
       "[1] Standard Errors are heteroscedasticity robust (HC1)\n",
       "\"\"\""
      ]
     },
     "execution_count": 72,
     "metadata": {},
     "output_type": "execute_result"
    }
   ],
   "source": [
    "fitted = m2.fit(cov_type='HC1')\n",
    "fitted.summary()"
   ]
  },
  {
   "cell_type": "code",
   "execution_count": 73,
   "metadata": {
    "collapsed": false
   },
   "outputs": [
    {
     "name": "stderr",
     "output_type": "stream",
     "text": [
      "C:\\Anaconda3\\lib\\site-packages\\statsmodels\\regression\\linear_model.py:1540: InvalidTestWarning: F test for comparison is likely invalid with robust covariance, proceeding anyway\n",
      "  InvalidTestWarning)\n"
     ]
    },
    {
     "data": {
      "text/plain": [
       "(0.91923577846299032, 0.46723055472756159, 5.0)"
      ]
     },
     "execution_count": 73,
     "metadata": {},
     "output_type": "execute_result"
    }
   ],
   "source": [
    "m1.fit(cov_type='HC1').compare_f_test(m2.fit(cov_type='HC1'))"
   ]
  },
  {
   "cell_type": "markdown",
   "metadata": {},
   "source": [
    "#### 9.\n",
    "\n",
    "Признак usemeth_noans значим по критерию Стьюдента, то есть, при его удалении модель значимо ухудшится. Но вообще-то отдельно его удалять нельзя: из-за того, что мы перекодировали пропуски в usemeth произвольно выбранным значением $c_{usemeth }=-1$, удалять usemeth_noans и usemeth можно только вместе.\n",
    "\n",
    "Удалите из текущей модели usemeth_noans и usemeth. Проверьте критерием Фишера гипотезу о том, что качество модели не ухудшилось. Введите номер первой значащей цифры в достигаемом уровне значимости (например, если вы получили $5.5\\times10^{-8}$, нужно ввести 8).\n",
    "\n",
    "Если достигаемый уровень значимости получился маленький, верните удалённые признаки; если он достаточно велик, оставьте модель без usemeth и usemeth_noans."
   ]
  },
  {
   "cell_type": "code",
   "execution_count": 74,
   "metadata": {
    "collapsed": false
   },
   "outputs": [
    {
     "data": {
      "text/html": [
       "<table class=\"simpletable\">\n",
       "<caption>OLS Regression Results</caption>\n",
       "<tr>\n",
       "  <th>Dep. Variable:</th>           <td>ceb</td>       <th>  R-squared:         </th> <td>   0.629</td> \n",
       "</tr>\n",
       "<tr>\n",
       "  <th>Model:</th>                   <td>OLS</td>       <th>  Adj. R-squared:    </th> <td>   0.628</td> \n",
       "</tr>\n",
       "<tr>\n",
       "  <th>Method:</th>             <td>Least Squares</td>  <th>  F-statistic:       </th> <td>   611.3</td> \n",
       "</tr>\n",
       "<tr>\n",
       "  <th>Date:</th>             <td>Mon, 02 Jan 2017</td> <th>  Prob (F-statistic):</th>  <td>  0.00</td>  \n",
       "</tr>\n",
       "<tr>\n",
       "  <th>Time:</th>                 <td>15:10:36</td>     <th>  Log-Likelihood:    </th> <td> -7825.7</td> \n",
       "</tr>\n",
       "<tr>\n",
       "  <th>No. Observations:</th>      <td>  4348</td>      <th>  AIC:               </th> <td>1.568e+04</td>\n",
       "</tr>\n",
       "<tr>\n",
       "  <th>Df Residuals:</th>          <td>  4335</td>      <th>  BIC:               </th> <td>1.576e+04</td>\n",
       "</tr>\n",
       "<tr>\n",
       "  <th>Df Model:</th>              <td>    12</td>      <th>                     </th>     <td> </td>    \n",
       "</tr>\n",
       "<tr>\n",
       "  <th>Covariance Type:</th>      <td>nonrobust</td>    <th>                     </th>     <td> </td>    \n",
       "</tr>\n",
       "</table>\n",
       "<table class=\"simpletable\">\n",
       "<tr>\n",
       "         <td></td>           <th>coef</th>     <th>std err</th>      <th>t</th>      <th>P>|t|</th> <th>[95.0% Conf. Int.]</th> \n",
       "</tr>\n",
       "<tr>\n",
       "  <th>Intercept</th>      <td>   -1.1931</td> <td>    0.202</td> <td>   -5.897</td> <td> 0.000</td> <td>   -1.590    -0.796</td>\n",
       "</tr>\n",
       "<tr>\n",
       "  <th>age</th>            <td>    0.1776</td> <td>    0.003</td> <td>   54.368</td> <td> 0.000</td> <td>    0.171     0.184</td>\n",
       "</tr>\n",
       "<tr>\n",
       "  <th>educ</th>           <td>   -0.0560</td> <td>    0.007</td> <td>   -7.862</td> <td> 0.000</td> <td>   -0.070    -0.042</td>\n",
       "</tr>\n",
       "<tr>\n",
       "  <th>idlnchld</th>       <td>    0.0705</td> <td>    0.011</td> <td>    6.317</td> <td> 0.000</td> <td>    0.049     0.092</td>\n",
       "</tr>\n",
       "<tr>\n",
       "  <th>knowmeth</th>       <td>    0.8739</td> <td>    0.121</td> <td>    7.203</td> <td> 0.000</td> <td>    0.636     1.112</td>\n",
       "</tr>\n",
       "<tr>\n",
       "  <th>agefm</th>          <td>   -0.0649</td> <td>    0.007</td> <td>   -9.716</td> <td> 0.000</td> <td>   -0.078    -0.052</td>\n",
       "</tr>\n",
       "<tr>\n",
       "  <th>heduc</th>          <td>   -0.0521</td> <td>    0.008</td> <td>   -6.411</td> <td> 0.000</td> <td>   -0.068    -0.036</td>\n",
       "</tr>\n",
       "<tr>\n",
       "  <th>urban</th>          <td>   -0.1866</td> <td>    0.048</td> <td>   -3.917</td> <td> 0.000</td> <td>   -0.280    -0.093</td>\n",
       "</tr>\n",
       "<tr>\n",
       "  <th>electric</th>       <td>   -0.3218</td> <td>    0.071</td> <td>   -4.505</td> <td> 0.000</td> <td>   -0.462    -0.182</td>\n",
       "</tr>\n",
       "<tr>\n",
       "  <th>bicycle</th>        <td>    0.1979</td> <td>    0.050</td> <td>    3.935</td> <td> 0.000</td> <td>    0.099     0.296</td>\n",
       "</tr>\n",
       "<tr>\n",
       "  <th>nevermarr</th>      <td>   -2.3625</td> <td>    0.150</td> <td>  -15.707</td> <td> 0.000</td> <td>   -2.657    -2.068</td>\n",
       "</tr>\n",
       "<tr>\n",
       "  <th>idlnchld_noans</th> <td>    0.5266</td> <td>    0.155</td> <td>    3.393</td> <td> 0.001</td> <td>    0.222     0.831</td>\n",
       "</tr>\n",
       "<tr>\n",
       "  <th>heduc_noans</th>    <td>   -0.7947</td> <td>    0.147</td> <td>   -5.389</td> <td> 0.000</td> <td>   -1.084    -0.506</td>\n",
       "</tr>\n",
       "</table>\n",
       "<table class=\"simpletable\">\n",
       "<tr>\n",
       "  <th>Omnibus:</th>       <td>250.641</td> <th>  Durbin-Watson:     </th> <td>   1.910</td> \n",
       "</tr>\n",
       "<tr>\n",
       "  <th>Prob(Omnibus):</th> <td> 0.000</td>  <th>  Jarque-Bera (JB):  </th> <td> 936.515</td> \n",
       "</tr>\n",
       "<tr>\n",
       "  <th>Skew:</th>          <td>-0.158</td>  <th>  Prob(JB):          </th> <td>4.35e-204</td>\n",
       "</tr>\n",
       "<tr>\n",
       "  <th>Kurtosis:</th>      <td> 5.251</td>  <th>  Cond. No.          </th> <td>    345.</td> \n",
       "</tr>\n",
       "</table>"
      ],
      "text/plain": [
       "<class 'statsmodels.iolib.summary.Summary'>\n",
       "\"\"\"\n",
       "                            OLS Regression Results                            \n",
       "==============================================================================\n",
       "Dep. Variable:                    ceb   R-squared:                       0.629\n",
       "Model:                            OLS   Adj. R-squared:                  0.628\n",
       "Method:                 Least Squares   F-statistic:                     611.3\n",
       "Date:                Mon, 02 Jan 2017   Prob (F-statistic):               0.00\n",
       "Time:                        15:10:36   Log-Likelihood:                -7825.7\n",
       "No. Observations:                4348   AIC:                         1.568e+04\n",
       "Df Residuals:                    4335   BIC:                         1.576e+04\n",
       "Df Model:                          12                                         \n",
       "Covariance Type:            nonrobust                                         \n",
       "==================================================================================\n",
       "                     coef    std err          t      P>|t|      [95.0% Conf. Int.]\n",
       "----------------------------------------------------------------------------------\n",
       "Intercept         -1.1931      0.202     -5.897      0.000        -1.590    -0.796\n",
       "age                0.1776      0.003     54.368      0.000         0.171     0.184\n",
       "educ              -0.0560      0.007     -7.862      0.000        -0.070    -0.042\n",
       "idlnchld           0.0705      0.011      6.317      0.000         0.049     0.092\n",
       "knowmeth           0.8739      0.121      7.203      0.000         0.636     1.112\n",
       "agefm             -0.0649      0.007     -9.716      0.000        -0.078    -0.052\n",
       "heduc             -0.0521      0.008     -6.411      0.000        -0.068    -0.036\n",
       "urban             -0.1866      0.048     -3.917      0.000        -0.280    -0.093\n",
       "electric          -0.3218      0.071     -4.505      0.000        -0.462    -0.182\n",
       "bicycle            0.1979      0.050      3.935      0.000         0.099     0.296\n",
       "nevermarr         -2.3625      0.150    -15.707      0.000        -2.657    -2.068\n",
       "idlnchld_noans     0.5266      0.155      3.393      0.001         0.222     0.831\n",
       "heduc_noans       -0.7947      0.147     -5.389      0.000        -1.084    -0.506\n",
       "==============================================================================\n",
       "Omnibus:                      250.641   Durbin-Watson:                   1.910\n",
       "Prob(Omnibus):                  0.000   Jarque-Bera (JB):              936.515\n",
       "Skew:                          -0.158   Prob(JB):                    4.35e-204\n",
       "Kurtosis:                       5.251   Cond. No.                         345.\n",
       "==============================================================================\n",
       "\n",
       "Warnings:\n",
       "[1] Standard Errors assume that the covariance matrix of the errors is correctly specified.\n",
       "\"\"\""
      ]
     },
     "execution_count": 74,
     "metadata": {},
     "output_type": "execute_result"
    }
   ],
   "source": [
    "m3 = smf.ols('ceb ~ age + educ + idlnchld + knowmeth + agefm + heduc + urban +' +\n",
    "             'electric + bicycle + nevermarr + idlnchld_noans + heduc_noans', \n",
    "             data=botswana)\n",
    "fitted = m3.fit()\n",
    "fitted.summary()"
   ]
  },
  {
   "cell_type": "code",
   "execution_count": 75,
   "metadata": {
    "collapsed": false
   },
   "outputs": [
    {
     "data": {
      "text/plain": [
       "(92.890582301098021, 3.1552009480371243e-40, 2.0)"
      ]
     },
     "execution_count": 75,
     "metadata": {},
     "output_type": "execute_result"
    }
   ],
   "source": [
    "m2.fit().compare_f_test(m3.fit())"
   ]
  },
  {
   "cell_type": "markdown",
   "metadata": {},
   "source": [
    "#### 10.\n",
    "\n",
    "Посмотрите на доверительные интервалы для коэффициентов итоговой модели (не забудьте использовать поправку Уайта, если есть гетероскедастичность ошибки) и выберите правильные выводы."
   ]
  },
  {
   "cell_type": "code",
   "execution_count": 76,
   "metadata": {
    "collapsed": false
   },
   "outputs": [
    {
     "data": {
      "text/html": [
       "<table class=\"simpletable\">\n",
       "<caption>OLS Regression Results</caption>\n",
       "<tr>\n",
       "  <th>Dep. Variable:</th>           <td>ceb</td>       <th>  R-squared:         </th> <td>   0.644</td> \n",
       "</tr>\n",
       "<tr>\n",
       "  <th>Model:</th>                   <td>OLS</td>       <th>  Adj. R-squared:    </th> <td>   0.643</td> \n",
       "</tr>\n",
       "<tr>\n",
       "  <th>Method:</th>             <td>Least Squares</td>  <th>  F-statistic:       </th> <td>   463.4</td> \n",
       "</tr>\n",
       "<tr>\n",
       "  <th>Date:</th>             <td>Mon, 02 Jan 2017</td> <th>  Prob (F-statistic):</th>  <td>  0.00</td>  \n",
       "</tr>\n",
       "<tr>\n",
       "  <th>Time:</th>                 <td>15:10:36</td>     <th>  Log-Likelihood:    </th> <td> -7734.5</td> \n",
       "</tr>\n",
       "<tr>\n",
       "  <th>No. Observations:</th>      <td>  4348</td>      <th>  AIC:               </th> <td>1.550e+04</td>\n",
       "</tr>\n",
       "<tr>\n",
       "  <th>Df Residuals:</th>          <td>  4333</td>      <th>  BIC:               </th> <td>1.559e+04</td>\n",
       "</tr>\n",
       "<tr>\n",
       "  <th>Df Model:</th>              <td>    14</td>      <th>                     </th>     <td> </td>    \n",
       "</tr>\n",
       "<tr>\n",
       "  <th>Covariance Type:</th>         <td>HC1</td>       <th>                     </th>     <td> </td>    \n",
       "</tr>\n",
       "</table>\n",
       "<table class=\"simpletable\">\n",
       "<tr>\n",
       "         <td></td>           <th>coef</th>     <th>std err</th>      <th>z</th>      <th>P>|z|</th> <th>[95.0% Conf. Int.]</th> \n",
       "</tr>\n",
       "<tr>\n",
       "  <th>Intercept</th>      <td>   -1.0698</td> <td>    0.258</td> <td>   -4.152</td> <td> 0.000</td> <td>   -1.575    -0.565</td>\n",
       "</tr>\n",
       "<tr>\n",
       "  <th>age</th>            <td>    0.1702</td> <td>    0.004</td> <td>   38.746</td> <td> 0.000</td> <td>    0.162     0.179</td>\n",
       "</tr>\n",
       "<tr>\n",
       "  <th>educ</th>           <td>   -0.0729</td> <td>    0.007</td> <td>  -10.311</td> <td> 0.000</td> <td>   -0.087    -0.059</td>\n",
       "</tr>\n",
       "<tr>\n",
       "  <th>idlnchld</th>       <td>    0.0770</td> <td>    0.014</td> <td>    5.323</td> <td> 0.000</td> <td>    0.049     0.105</td>\n",
       "</tr>\n",
       "<tr>\n",
       "  <th>knowmeth</th>       <td>    0.5610</td> <td>    0.174</td> <td>    3.224</td> <td> 0.001</td> <td>    0.220     0.902</td>\n",
       "</tr>\n",
       "<tr>\n",
       "  <th>usemeth</th>        <td>    0.6516</td> <td>    0.052</td> <td>   12.571</td> <td> 0.000</td> <td>    0.550     0.753</td>\n",
       "</tr>\n",
       "<tr>\n",
       "  <th>agefm</th>          <td>   -0.0606</td> <td>    0.010</td> <td>   -6.192</td> <td> 0.000</td> <td>   -0.080    -0.041</td>\n",
       "</tr>\n",
       "<tr>\n",
       "  <th>heduc</th>          <td>   -0.0573</td> <td>    0.009</td> <td>   -6.440</td> <td> 0.000</td> <td>   -0.075    -0.040</td>\n",
       "</tr>\n",
       "<tr>\n",
       "  <th>urban</th>          <td>   -0.2190</td> <td>    0.045</td> <td>   -4.814</td> <td> 0.000</td> <td>   -0.308    -0.130</td>\n",
       "</tr>\n",
       "<tr>\n",
       "  <th>electric</th>       <td>   -0.3207</td> <td>    0.063</td> <td>   -5.076</td> <td> 0.000</td> <td>   -0.445    -0.197</td>\n",
       "</tr>\n",
       "<tr>\n",
       "  <th>bicycle</th>        <td>    0.2046</td> <td>    0.048</td> <td>    4.279</td> <td> 0.000</td> <td>    0.111     0.298</td>\n",
       "</tr>\n",
       "<tr>\n",
       "  <th>nevermarr</th>      <td>   -2.2501</td> <td>    0.202</td> <td>  -11.158</td> <td> 0.000</td> <td>   -2.645    -1.855</td>\n",
       "</tr>\n",
       "<tr>\n",
       "  <th>idlnchld_noans</th> <td>    0.6565</td> <td>    0.216</td> <td>    3.043</td> <td> 0.002</td> <td>    0.234     1.079</td>\n",
       "</tr>\n",
       "<tr>\n",
       "  <th>heduc_noans</th>    <td>   -0.8853</td> <td>    0.191</td> <td>   -4.638</td> <td> 0.000</td> <td>   -1.259    -0.511</td>\n",
       "</tr>\n",
       "<tr>\n",
       "  <th>usemeth_noans</th>  <td>    0.7732</td> <td>    0.212</td> <td>    3.639</td> <td> 0.000</td> <td>    0.357     1.190</td>\n",
       "</tr>\n",
       "</table>\n",
       "<table class=\"simpletable\">\n",
       "<tr>\n",
       "  <th>Omnibus:</th>       <td>224.096</td> <th>  Durbin-Watson:     </th> <td>   1.886</td> \n",
       "</tr>\n",
       "<tr>\n",
       "  <th>Prob(Omnibus):</th> <td> 0.000</td>  <th>  Jarque-Bera (JB):  </th> <td> 856.760</td> \n",
       "</tr>\n",
       "<tr>\n",
       "  <th>Skew:</th>          <td> 0.004</td>  <th>  Prob(JB):          </th> <td>9.06e-187</td>\n",
       "</tr>\n",
       "<tr>\n",
       "  <th>Kurtosis:</th>      <td> 5.175</td>  <th>  Cond. No.          </th> <td>    345.</td> \n",
       "</tr>\n",
       "</table>"
      ],
      "text/plain": [
       "<class 'statsmodels.iolib.summary.Summary'>\n",
       "\"\"\"\n",
       "                            OLS Regression Results                            \n",
       "==============================================================================\n",
       "Dep. Variable:                    ceb   R-squared:                       0.644\n",
       "Model:                            OLS   Adj. R-squared:                  0.643\n",
       "Method:                 Least Squares   F-statistic:                     463.4\n",
       "Date:                Mon, 02 Jan 2017   Prob (F-statistic):               0.00\n",
       "Time:                        15:10:36   Log-Likelihood:                -7734.5\n",
       "No. Observations:                4348   AIC:                         1.550e+04\n",
       "Df Residuals:                    4333   BIC:                         1.559e+04\n",
       "Df Model:                          14                                         \n",
       "Covariance Type:                  HC1                                         \n",
       "==================================================================================\n",
       "                     coef    std err          z      P>|z|      [95.0% Conf. Int.]\n",
       "----------------------------------------------------------------------------------\n",
       "Intercept         -1.0698      0.258     -4.152      0.000        -1.575    -0.565\n",
       "age                0.1702      0.004     38.746      0.000         0.162     0.179\n",
       "educ              -0.0729      0.007    -10.311      0.000        -0.087    -0.059\n",
       "idlnchld           0.0770      0.014      5.323      0.000         0.049     0.105\n",
       "knowmeth           0.5610      0.174      3.224      0.001         0.220     0.902\n",
       "usemeth            0.6516      0.052     12.571      0.000         0.550     0.753\n",
       "agefm             -0.0606      0.010     -6.192      0.000        -0.080    -0.041\n",
       "heduc             -0.0573      0.009     -6.440      0.000        -0.075    -0.040\n",
       "urban             -0.2190      0.045     -4.814      0.000        -0.308    -0.130\n",
       "electric          -0.3207      0.063     -5.076      0.000        -0.445    -0.197\n",
       "bicycle            0.2046      0.048      4.279      0.000         0.111     0.298\n",
       "nevermarr         -2.2501      0.202    -11.158      0.000        -2.645    -1.855\n",
       "idlnchld_noans     0.6565      0.216      3.043      0.002         0.234     1.079\n",
       "heduc_noans       -0.8853      0.191     -4.638      0.000        -1.259    -0.511\n",
       "usemeth_noans      0.7732      0.212      3.639      0.000         0.357     1.190\n",
       "==============================================================================\n",
       "Omnibus:                      224.096   Durbin-Watson:                   1.886\n",
       "Prob(Omnibus):                  0.000   Jarque-Bera (JB):              856.760\n",
       "Skew:                           0.004   Prob(JB):                    9.06e-187\n",
       "Kurtosis:                       5.175   Cond. No.                         345.\n",
       "==============================================================================\n",
       "\n",
       "Warnings:\n",
       "[1] Standard Errors are heteroscedasticity robust (HC1)\n",
       "\"\"\""
      ]
     },
     "execution_count": 76,
     "metadata": {},
     "output_type": "execute_result"
    }
   ],
   "source": [
    "m2.fit(cov_type='HC1').summary()"
   ]
  },
  {
   "cell_type": "markdown",
   "metadata": {},
   "source": [
    "# Week 4"
   ]
  },
  {
   "cell_type": "markdown",
   "metadata": {},
   "source": [
    "## 4. Задачи оттока"
   ]
  },
  {
   "cell_type": "markdown",
   "metadata": {
    "collapsed": true
   },
   "source": [
    "### Quiz: Анализ эффективности удержания"
   ]
  },
  {
   "cell_type": "markdown",
   "metadata": {},
   "source": [
    "#### 1.\n",
    "\n",
    "В этом задании вам предлагается проанализировать данные одной из американских телекоммуникационных компаний о пользователях, которые потенциально могут уйти.\n",
    "\n",
    "Измерены следующие признаки:\n",
    "* state — штат США\n",
    "* account_length — длительность использования аккаунта\n",
    "* area_code — деление пользователей на псевдорегионы, использующееся в телекоме\n",
    "* intl_plan — подключена ли у пользователя услуга международного общения\n",
    "* vmail_plan — подключена ли у пользователя услуга голосовых сообщений\n",
    "* vmail_message — количество голосых сообщений, который пользователь отправил / принял\n",
    "* day_calls — сколько пользователь совершил дневных звонков\n",
    "* day_mins — сколько пользователь проговорил минут в течение дня\n",
    "* day_charge — сколько пользователь заплатил за свою дневную активность\n",
    "* eve_calls, eve_mins, eve_charge — аналогичные метрики относительно вечерней активности\n",
    "* night_calls, night_mins, night_charge — аналогичные метрики относительно ночной активности\n",
    "* intl_calls, intl_mins, intl_charge — аналогичные метрики относительно международного общения\n",
    "* custserv_calls — сколько раз пользователь позвонил в службу поддержки\n",
    "* treatment — номер стратегии, которая применялись для удержания абонентов (0, 2 = два разных типа воздействия, 1 = контрольная группа)\n",
    "* mes_estim — оценка интенсивности пользования интернет мессенджерами\n",
    "* churn — результат оттока: перестал ли абонент пользоваться услугами оператора\n",
    "\n",
    "Давайте рассмотрим всех пользователей из контрольной группы (treatment = 1). Для таких пользователей мы хотим проверить гипотезу о том, что штат абонента не влияет на то, перестанет ли абонент пользоваться услугами оператора.\n",
    "\n",
    "Для этого мы воспользуемся критерием хи-квадрат. Постройте таблицы сопряженности между каждой из всех 1275 возможных неупорядоченных пар штатов и значением признака churn. Для каждой такой таблицы 2x2 применить критерий хи-квадрат можно с помощью функции\n",
    "\n",
    "`scipy.stats.chi2_contingency(subtable, correction=False)`\n",
    "\n",
    "Заметьте, что, например, (AZ, HI) и (HI, AZ) — это одна и та же пара. Обязательно выставьте correction=False (о том, что это значит, вы узнаете из следующих вопросов).\n",
    "\n",
    "Сколько достигаемых уровней значимости оказались меньше, чем $\\alpha=0.05$?"
   ]
  },
  {
   "cell_type": "code",
   "execution_count": 77,
   "metadata": {
    "collapsed": false
   },
   "outputs": [
    {
     "data": {
      "text/html": [
       "<div>\n",
       "<table border=\"1\" class=\"dataframe\">\n",
       "  <thead>\n",
       "    <tr style=\"text-align: right;\">\n",
       "      <th></th>\n",
       "      <th>Unnamed: 0</th>\n",
       "      <th>state</th>\n",
       "      <th>account_length</th>\n",
       "      <th>area_code</th>\n",
       "      <th>intl_plan</th>\n",
       "      <th>vmail_plan</th>\n",
       "      <th>vmail_message</th>\n",
       "      <th>day_mins</th>\n",
       "      <th>day_calls</th>\n",
       "      <th>day_charge</th>\n",
       "      <th>...</th>\n",
       "      <th>night_mins</th>\n",
       "      <th>night_calls</th>\n",
       "      <th>night_charge</th>\n",
       "      <th>intl_mins</th>\n",
       "      <th>intl_calls</th>\n",
       "      <th>intl_charge</th>\n",
       "      <th>custserv_calls</th>\n",
       "      <th>treatment</th>\n",
       "      <th>mes_estim</th>\n",
       "      <th>churn</th>\n",
       "    </tr>\n",
       "  </thead>\n",
       "  <tbody>\n",
       "    <tr>\n",
       "      <th>0</th>\n",
       "      <td>0</td>\n",
       "      <td>KS</td>\n",
       "      <td>128</td>\n",
       "      <td>415</td>\n",
       "      <td>no</td>\n",
       "      <td>yes</td>\n",
       "      <td>25</td>\n",
       "      <td>265.1</td>\n",
       "      <td>110</td>\n",
       "      <td>45.07</td>\n",
       "      <td>...</td>\n",
       "      <td>244.7</td>\n",
       "      <td>91</td>\n",
       "      <td>11.01</td>\n",
       "      <td>10.0</td>\n",
       "      <td>3</td>\n",
       "      <td>2.70</td>\n",
       "      <td>1</td>\n",
       "      <td>1</td>\n",
       "      <td>0.65</td>\n",
       "      <td>False.</td>\n",
       "    </tr>\n",
       "    <tr>\n",
       "      <th>1</th>\n",
       "      <td>1</td>\n",
       "      <td>OH</td>\n",
       "      <td>107</td>\n",
       "      <td>415</td>\n",
       "      <td>no</td>\n",
       "      <td>yes</td>\n",
       "      <td>26</td>\n",
       "      <td>161.6</td>\n",
       "      <td>123</td>\n",
       "      <td>27.47</td>\n",
       "      <td>...</td>\n",
       "      <td>254.4</td>\n",
       "      <td>103</td>\n",
       "      <td>11.45</td>\n",
       "      <td>13.7</td>\n",
       "      <td>3</td>\n",
       "      <td>3.70</td>\n",
       "      <td>1</td>\n",
       "      <td>0</td>\n",
       "      <td>0.55</td>\n",
       "      <td>False.</td>\n",
       "    </tr>\n",
       "    <tr>\n",
       "      <th>2</th>\n",
       "      <td>2</td>\n",
       "      <td>NJ</td>\n",
       "      <td>137</td>\n",
       "      <td>415</td>\n",
       "      <td>no</td>\n",
       "      <td>no</td>\n",
       "      <td>0</td>\n",
       "      <td>243.4</td>\n",
       "      <td>114</td>\n",
       "      <td>41.38</td>\n",
       "      <td>...</td>\n",
       "      <td>162.6</td>\n",
       "      <td>104</td>\n",
       "      <td>7.32</td>\n",
       "      <td>12.2</td>\n",
       "      <td>5</td>\n",
       "      <td>3.29</td>\n",
       "      <td>0</td>\n",
       "      <td>0</td>\n",
       "      <td>0.72</td>\n",
       "      <td>False.</td>\n",
       "    </tr>\n",
       "    <tr>\n",
       "      <th>3</th>\n",
       "      <td>3</td>\n",
       "      <td>OH</td>\n",
       "      <td>84</td>\n",
       "      <td>408</td>\n",
       "      <td>yes</td>\n",
       "      <td>no</td>\n",
       "      <td>0</td>\n",
       "      <td>299.4</td>\n",
       "      <td>71</td>\n",
       "      <td>50.90</td>\n",
       "      <td>...</td>\n",
       "      <td>196.9</td>\n",
       "      <td>89</td>\n",
       "      <td>8.86</td>\n",
       "      <td>6.6</td>\n",
       "      <td>7</td>\n",
       "      <td>1.78</td>\n",
       "      <td>2</td>\n",
       "      <td>1</td>\n",
       "      <td>0.28</td>\n",
       "      <td>False.</td>\n",
       "    </tr>\n",
       "    <tr>\n",
       "      <th>4</th>\n",
       "      <td>4</td>\n",
       "      <td>OK</td>\n",
       "      <td>75</td>\n",
       "      <td>415</td>\n",
       "      <td>yes</td>\n",
       "      <td>no</td>\n",
       "      <td>0</td>\n",
       "      <td>166.7</td>\n",
       "      <td>113</td>\n",
       "      <td>28.34</td>\n",
       "      <td>...</td>\n",
       "      <td>186.9</td>\n",
       "      <td>121</td>\n",
       "      <td>8.41</td>\n",
       "      <td>10.1</td>\n",
       "      <td>3</td>\n",
       "      <td>2.73</td>\n",
       "      <td>3</td>\n",
       "      <td>2</td>\n",
       "      <td>0.45</td>\n",
       "      <td>False.</td>\n",
       "    </tr>\n",
       "  </tbody>\n",
       "</table>\n",
       "<p>5 rows × 23 columns</p>\n",
       "</div>"
      ],
      "text/plain": [
       "   Unnamed: 0 state  account_length  area_code intl_plan vmail_plan  \\\n",
       "0           0    KS             128        415        no        yes   \n",
       "1           1    OH             107        415        no        yes   \n",
       "2           2    NJ             137        415        no         no   \n",
       "3           3    OH              84        408       yes         no   \n",
       "4           4    OK              75        415       yes         no   \n",
       "\n",
       "   vmail_message  day_mins  day_calls  day_charge   ...    night_mins  \\\n",
       "0             25     265.1        110       45.07   ...         244.7   \n",
       "1             26     161.6        123       27.47   ...         254.4   \n",
       "2              0     243.4        114       41.38   ...         162.6   \n",
       "3              0     299.4         71       50.90   ...         196.9   \n",
       "4              0     166.7        113       28.34   ...         186.9   \n",
       "\n",
       "   night_calls  night_charge  intl_mins  intl_calls  intl_charge  \\\n",
       "0           91         11.01       10.0           3         2.70   \n",
       "1          103         11.45       13.7           3         3.70   \n",
       "2          104          7.32       12.2           5         3.29   \n",
       "3           89          8.86        6.6           7         1.78   \n",
       "4          121          8.41       10.1           3         2.73   \n",
       "\n",
       "   custserv_calls  treatment  mes_estim   churn  \n",
       "0               1          1       0.65  False.  \n",
       "1               1          0       0.55  False.  \n",
       "2               0          0       0.72  False.  \n",
       "3               2          1       0.28  False.  \n",
       "4               3          2       0.45  False.  \n",
       "\n",
       "[5 rows x 23 columns]"
      ]
     },
     "execution_count": 77,
     "metadata": {},
     "output_type": "execute_result"
    }
   ],
   "source": [
    "data = pd.read_csv('churn_analysis.csv')\n",
    "data.head()"
   ]
  },
  {
   "cell_type": "code",
   "execution_count": 78,
   "metadata": {
    "collapsed": false
   },
   "outputs": [],
   "source": [
    "states = list(set(data.state.values))\n",
    "pairs = list(itertools.combinations(states, 2))\n",
    "\n",
    "pivoted = data.loc[data.treatment == 1,:].pivot_table(index=\"state\", values=\"area_code\", columns=\"churn\",\n",
    "                                                      aggfunc=len, fill_value=0)"
   ]
  },
  {
   "cell_type": "code",
   "execution_count": 79,
   "metadata": {
    "collapsed": false
   },
   "outputs": [
    {
     "data": {
      "text/plain": [
       "count    1275.000000\n",
       "mean        0.501827\n",
       "std         0.279722\n",
       "min         0.014306\n",
       "25%         0.261811\n",
       "50%         0.495521\n",
       "75%         0.732278\n",
       "max         1.000000\n",
       "dtype: float64"
      ]
     },
     "execution_count": 79,
     "metadata": {},
     "output_type": "execute_result"
    }
   ],
   "source": [
    "pvals1 = list(map(lambda x: scipy.stats.chi2_contingency(pivoted.loc[[x[0], x[1]],:], correction=False)[1], pairs))\n",
    "pd.Series(pvals1).describe()"
   ]
  },
  {
   "cell_type": "code",
   "execution_count": 80,
   "metadata": {
    "collapsed": false
   },
   "outputs": [
    {
     "data": {
      "text/plain": [
       "34"
      ]
     },
     "execution_count": 80,
     "metadata": {},
     "output_type": "execute_result"
    }
   ],
   "source": [
    "len(list(filter(lambda x: x < 0.05, pvals1)))"
   ]
  },
  {
   "cell_type": "markdown",
   "metadata": {},
   "source": [
    "#### 3.\n",
    "\n",
    "В основе критерия xи-квадрат лежит предположение о том, что если верна нулевая гипотеза, то дискретное биномиальное распределение данных по клеткам в таблице сопряженности может быть аппроксимировано с помощью непрерывного распределения xи-квадрат. Однако точность такой аппроксимации существенно зависит от суммарного количества наблюдений и их распределения в этой таблице (отсюда и ограничения при использовании критерия xи-квадрат).\n",
    "\n",
    "Одним из способов коррекции точности аппроксимации является поправка Йетса на непрерывность. Эта поправка заключается в вычитании константы 0.5 из каждого модуля разности наблюденного $O_i$ и ожидаемого $E_i$ значений, то есть, статистика с такой поправкой выглядит так: \n",
    "\n",
    "$\\chi _{\\text{Yates}}^{2}=\\sum _{i=1}^{N}{(|O_{i}-E_{i}|-0.5)^{2} \\over E_{i}}.$\n",
    "\n",
    "Такая поправка, как несложно догадаться по формуле, как правило, уменьшает значение статистики $\\chi^{2}$, то есть увеличивает достигаемый уровень значимости.\n",
    "\n",
    "Эта поправка обычно используется для таблиц сопряженности размером 2x2 и для небольшого количества наблюдений. Такая поправка, однако, не является серебрянной пулей, и часто критикуется за то, что статистический критерий при ее использовании становится слишком консервативным, то есть часто не отвергает нулевую гипотезу там, где она неверна (совершает ошибку II рода).\n",
    "\n",
    "Полезно знать, что эта поправка часто включена по умолчанию (например, в функции scipy.stats.chi2_contingency) и понимать ее влияние на оценку достигаемого уровня значимости.\n",
    "\n",
    "Проведите те же самые сравнения, что и в вопросе №1, только с включенной коррекцией\n",
    "\n",
    "`scipy.stats.chi2_contingency(subtable, correction=True)`\n",
    "\n",
    "и сравните полученные результаты, отметив все верные варианты."
   ]
  },
  {
   "cell_type": "code",
   "execution_count": 81,
   "metadata": {
    "collapsed": false
   },
   "outputs": [
    {
     "data": {
      "text/plain": [
       "count    1275.000000\n",
       "mean        0.664057\n",
       "std         0.253253\n",
       "min         0.050044\n",
       "25%         0.486674\n",
       "50%         0.730948\n",
       "75%         0.872053\n",
       "max         1.000000\n",
       "dtype: float64"
      ]
     },
     "execution_count": 81,
     "metadata": {},
     "output_type": "execute_result"
    }
   ],
   "source": [
    "pvals2 = list(map(lambda x: scipy.stats.chi2_contingency(pivoted.loc[[x[0], x[1]],:], correction=True)[1], pairs))\n",
    "pd.Series(pvals2).describe()"
   ]
  },
  {
   "cell_type": "code",
   "execution_count": 82,
   "metadata": {
    "collapsed": false
   },
   "outputs": [
    {
     "data": {
      "text/plain": [
       "0"
      ]
     },
     "execution_count": 82,
     "metadata": {},
     "output_type": "execute_result"
    }
   ],
   "source": [
    "len(list(filter(lambda x: x < 0.05, pvals2)))"
   ]
  },
  {
   "cell_type": "markdown",
   "metadata": {},
   "source": [
    "#### 4.\n",
    "\n",
    "Что если у нас мало данных, мы не хотим использовать аппроксимацию дискретного распределения непрерывным и использовать сомнительную поправку, предположения критерия xи-квадрат не выполняются, а проверить гипотезу о том, что данные принадлежат одному распределению, нужно?\n",
    "\n",
    "В таком случае прибегают к так называемому точному критерию Фишера. Этот критерий не использует приближений и в точности вычисляет значение достигаемого уровня значимости используя комбинаторный подход.\n",
    "\n",
    "Пусть у нас есть таблица сопряженности 2x2:\n",
    "\n",
    "|               |Группа 1|Группа 2|$\\Sigma$     |\n",
    "|---------------|--------|--------|-------------|\n",
    "| Воздействие 1 | $a$    | $b$    | $a+b$       |\n",
    "| Воздействие 2 | $c$    | $d$    | $c+d$       |\n",
    "| $\\Sigma$      | $a+c$  | $b+d$  | $n=a+b+c+d$ |\n",
    "\n",
    "Тогда вероятность получить именно такие $a,b,c,d$ при фиксированных значениях сумм по строкам и по столбцам) задается выражением\n",
    "\n",
    "$p={\\frac {\\displaystyle {{a+b} \\choose {a}}\\displaystyle {{c+d} \\choose {c}}}{\\displaystyle {{n} \\choose {a+c}}}}={ \\dfrac {(a+b)!~(c+d)!~(a+c)!~(b+d)!}{a!~~b!~~c!~~d!~~n!}}.$\n",
    "\n",
    "В числителе этой дроби стоит суммарное количество способов выбрать $a$ и $c$ из $a+b$ и $c+d$ соответственно. А в знаменателе — количество способов выбрать число объектов, равное сумме элементов первого столбца $a+c$ из общего количества рассматриваемых объектов $n$.\n",
    "\n",
    "Чтобы посчитать достигаемый уровень значимости критерия Фишера, нужно перебрать все возможные значения $a,b,c,d$, в клетках этой таблицы так, чтобы построковые и постолбцовые суммы не изменились. Для каждого такого набора $a,b,c,d$ нужно вычислить значение $p_i$ по формуле выше и просуммировать все такие значения $p_i$, которые меньше или равны $p$, которое мы вычислили по наблюдаемым значениям $a,b,c,d$.\n",
    "\n",
    "Понятно, что такой критерий вычислительно неудобен в силу большого количества факториалов в формуле выше. То есть даже при небольших выборках для вычисления значения этого критерия приходится оперировать очень большими числами. Поэтому данным критерием пользуются обычно только для таблиц 2x2, но сам критерий никак не ограничен количеством строк и столбцов, и его можно построить для любой таблицы $n\\times m$\n",
    "\n",
    "Посчитайте для каждой пары штатов, как и в первом задании, достигаемый уровень значимости с помощью точного критерия Фишера и сравните получившиеся значения с двумя другими подходами, описанными выше.\n",
    "\n",
    "Точный критерий Фишера удобно вычислять с помощью функции\n",
    "\n",
    "`scipy.stats.fisher_exact`\n",
    "\n",
    "которая принимает на вход таблицу сопряженности 2x2."
   ]
  },
  {
   "cell_type": "code",
   "execution_count": 83,
   "metadata": {
    "collapsed": false
   },
   "outputs": [
    {
     "data": {
      "text/plain": [
       "count    1275.000000\n",
       "mean        0.648338\n",
       "std         0.311891\n",
       "min         0.026963\n",
       "25%         0.387902\n",
       "50%         0.673781\n",
       "75%         1.000000\n",
       "max         1.000000\n",
       "dtype: float64"
      ]
     },
     "execution_count": 83,
     "metadata": {},
     "output_type": "execute_result"
    }
   ],
   "source": [
    "pvals3 = list(map(lambda x: scipy.stats.fisher_exact(pivoted.loc[[x[0], x[1]],:])[1], pairs))\n",
    "pd.Series(pvals3).describe()"
   ]
  },
  {
   "cell_type": "markdown",
   "metadata": {},
   "source": [
    "#### 5.\n",
    "\n",
    "Давайте попробуем применить полученные знания о разных видах корреляции и ее применимости на практике.\n",
    "\n",
    "Рассмотрим пару признаков **day_calls** и **mes_estim**. Посчитайте корреляцию Пирсона между этими признаками на всех данных, ее значимость.\n",
    "\n",
    "Отметьте все верные утверждения."
   ]
  },
  {
   "cell_type": "code",
   "execution_count": 84,
   "metadata": {
    "collapsed": false
   },
   "outputs": [
    {
     "data": {
      "text/plain": [
       "(-0.051794350587572625, 0.0027798836869756707)"
      ]
     },
     "execution_count": 84,
     "metadata": {},
     "output_type": "execute_result"
    }
   ],
   "source": [
    "scipy.stats.pearsonr(data['day_calls'], data['mes_estim'])"
   ]
  },
  {
   "cell_type": "markdown",
   "metadata": {},
   "source": [
    "#### 6.\n",
    "\n",
    "Еще раз рассмотрим пару признаков day_calls и mes_estim. Посчитайте корреляцию Спирмена между этими признаками на всех данных, ее значимость.\n",
    "\n",
    "Отметьте все верные утверждения."
   ]
  },
  {
   "cell_type": "code",
   "execution_count": 85,
   "metadata": {
    "collapsed": false
   },
   "outputs": [
    {
     "data": {
      "text/plain": [
       "SpearmanrResult(correlation=0.043349880533927444, pvalue=0.012317367189170541)"
      ]
     },
     "execution_count": 85,
     "metadata": {},
     "output_type": "execute_result"
    }
   ],
   "source": [
    "scipy.stats.spearmanr(data['day_calls'], data['mes_estim'])"
   ]
  },
  {
   "cell_type": "markdown",
   "metadata": {},
   "source": [
    "#### 7.\n",
    "\n",
    "Как можно интерпретировать полученные значения коэффициентов корреляции и достигаемые уровни значимости при проверки гипотез о равенстве нулю этих коэффициентов?"
   ]
  },
  {
   "cell_type": "code",
   "execution_count": 86,
   "metadata": {
    "collapsed": false
   },
   "outputs": [
    {
     "data": {
      "image/png": "[encoded data removed]",
      "text/plain": [
       "<matplotlib.figure.Figure at 0x2dd41e51ac8>"
      ]
     },
     "metadata": {},
     "output_type": "display_data"
    }
   ],
   "source": [
    "plt.figure(figsize(16,7))\n",
    "plt.subplot(121)\n",
    "scipy.stats.probplot(data['day_calls'], dist=\"norm\", plot=pylab)\n",
    "plt.subplot(122)\n",
    "scipy.stats.probplot(data['mes_estim'], dist=\"norm\", plot=pylab)\n",
    "pylab.show()"
   ]
  },
  {
   "cell_type": "markdown",
   "metadata": {},
   "source": [
    "#### 8.\n",
    "\n",
    "Посчитайте значение коэффицента корреляции Крамера между двумя признаками: штатом (state) и оттоком пользователей (churn) для всех пользователей, которые находились в контрольной группе (treatment=1). Что можно сказать о достигаемом уровне значимости при проверке гипотезы о равенство нулю этого коэффициента?"
   ]
  },
  {
   "cell_type": "code",
   "execution_count": 87,
   "metadata": {
    "collapsed": false
   },
   "outputs": [
    {
     "data": {
      "text/plain": [
       "(array(['KS', 'OH', 'LA', 'IA', 'VT', 'CO', 'WY', 'MO', 'GA', 'AK', 'MA',\n",
       "        'NJ', 'AR', 'MI', 'IN', 'MN', 'SD', 'TX', 'DC', 'NY', 'OR', 'AZ',\n",
       "        'MS', 'UT', 'ME', 'ID', 'FL', 'NV', 'WA', 'WV', 'NH', 'VA', 'NM',\n",
       "        'KY', 'MT', 'PA', 'RI', 'DE', 'OK', 'NE', 'CT', 'WI', 'CA', 'NC',\n",
       "        'MD', 'TN', 'AL', 'IL', 'ND', 'HI', 'SC'], dtype=object),\n",
       " array(['False.', 'True.'], dtype=object))"
      ]
     },
     "execution_count": 87,
     "metadata": {},
     "output_type": "execute_result"
    }
   ],
   "source": [
    "t1 = data[data.treatment == 1]\n",
    "\n",
    "possible_states = t1['state'].unique()\n",
    "possible_churns = t1['churn'].unique()\n",
    "\n",
    "possible_states, possible_churns"
   ]
  },
  {
   "cell_type": "code",
   "execution_count": 88,
   "metadata": {
    "collapsed": true
   },
   "outputs": [],
   "source": [
    "def cramers_stat(confusion_matrix):\n",
    "    chi2 = scipy.stats.chi2_contingency(confusion_matrix)[0]\n",
    "    n = confusion_matrix.sum()\n",
    "    return np.sqrt(chi2/(n*(min(confusion_matrix.shape) - 1)))"
   ]
  },
  {
   "cell_type": "code",
   "execution_count": 89,
   "metadata": {
    "collapsed": false
   },
   "outputs": [],
   "source": [
    "confusions = []\n",
    "for state in possible_states:\n",
    "    for churn in possible_churns:\n",
    "        cond = t1[(t1.state == state) & (t1.churn == churn)]\n",
    "        confusions.append(len(cond))\n",
    "confusion_matrix = np.array(confusions).reshape((len(possible_states), len(possible_churns)))"
   ]
  },
  {
   "cell_type": "code",
   "execution_count": 90,
   "metadata": {
    "collapsed": false
   },
   "outputs": [
    {
     "data": {
      "text/plain": [
       "0.20039321502033317"
      ]
     },
     "execution_count": 90,
     "metadata": {},
     "output_type": "execute_result"
    }
   ],
   "source": [
    "cramers_stat(confusion_matrix)"
   ]
  },
  {
   "cell_type": "code",
   "execution_count": null,
   "metadata": {
    "collapsed": true
   },
   "outputs": [],
   "source": []
  }
 ],
 "metadata": {
  "anaconda-cloud": {},
  "kernelspec": {
   "display_name": "Python [Root]",
   "language": "python",
   "name": "Python [Root]"
  },
  "language_info": {
   "codemirror_mode": {
    "name": "ipython",
    "version": 3
   },
   "file_extension": ".py",
   "mimetype": "text/x-python",
   "name": "python",
   "nbconvert_exporter": "python",
   "pygments_lexer": "ipython3",
   "version": "3.5.2"
  }
 },
 "nbformat": 4,
 "nbformat_minor": 0
}
