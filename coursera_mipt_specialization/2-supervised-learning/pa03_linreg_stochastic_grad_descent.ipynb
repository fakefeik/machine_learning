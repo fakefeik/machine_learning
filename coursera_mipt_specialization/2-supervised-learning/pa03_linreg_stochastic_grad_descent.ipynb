{
 "cells": [
  {
   "cell_type": "markdown",
   "metadata": {},
   "source": [
    "# Линейная регрессия и стохастический градиентный спуск"
   ]
  },
  {
   "cell_type": "markdown",
   "metadata": {},
   "source": [
    "Задание основано на материалах лекций по линейной регрессии и градиентному спуску. Вы будете прогнозировать выручку компании в зависимости от уровня ее инвестиций в рекламу по TV, в газетах и по радио."
   ]
  },
  {
   "cell_type": "markdown",
   "metadata": {},
   "source": [
    "## Вы научитесь:\n",
    "- решать задачу восстановления линейной регрессии\n",
    "- реализовывать стохастический градиентный спуск для ее настройки\n",
    "- решать задачу линейной регрессии аналитически"
   ]
  },
  {
   "cell_type": "markdown",
   "metadata": {},
   "source": [
    "## Введение\n",
    "Линейная регрессия - один из наиболее хорошо изученных методов машинного обучения, позволяющий прогнозировать значения количественного признака в виде линейной комбинации прочих признаков с параметрами - весами модели. Оптимальные (в смысле минимальности некоторого функционала ошибки) параметры линейной регрессии можно найти аналитически с помощью нормального уравнения или численно с помощью методов оптимизации.  "
   ]
  },
  {
   "cell_type": "markdown",
   "metadata": {},
   "source": [
    "Линейная регрессия использует простой функционал качества - среднеквадратичную ошибку. Мы будем работать с выборкой, содержащей 3 признака. Для настройки параметров (весов) модели решается следующая задача:\n",
    "$$\\Large \\frac{1}{\\ell}\\sum_{i=1}^\\ell{{((w_0 + w_1x_{i1} + w_2x_{i2} +  w_3x_{i3}) - y_i)}^2} \\rightarrow \\min_{w_0, w_1, w_2, w_3},$$\n",
    "где $x_{i1}, x_{i2}, x_{i3}$ - значения признаков $i$-го объекта, $y_i$ - значение целевого признака $i$-го объекта, $\\ell$ - число объектов в обучающей выборке."
   ]
  },
  {
   "cell_type": "markdown",
   "metadata": {},
   "source": [
    "## Градиентный спуск\n",
    "Параметры $w_0, w_1, w_2, w_3$, по которым минимизируется среднеквадратичная ошибка, можно находить численно с помощью градиентного спуска.\n",
    "Градиентный шаг для весов будет выглядеть следующим образом:\n",
    "$$\\Large w_0 \\leftarrow w_0 - \\frac{2\\eta}{\\ell} \\sum_{i=1}^\\ell{{((w_0 + w_1x_{i1} + w_2x_{i2} +  w_3x_{i3}) - y_i)}}$$\n",
    "$$\\Large w_j \\leftarrow w_j - \\frac{2\\eta}{\\ell} \\sum_{i=1}^\\ell{{x_{ij}((w_0 + w_1x_{i1} + w_2x_{i2} +  w_3x_{i3}) - y_i)}},\\ j \\in \\{1,2,3\\}$$\n",
    "Здесь $\\eta$ - параметр, шаг градиентного спуска."
   ]
  },
  {
   "cell_type": "markdown",
   "metadata": {},
   "source": [
    "## Стохастический градиентный спуск\n",
    "Проблема градиентного спуска, описанного выше, в том, что на больших выборках считать на каждом шаге градиент по всем имеющимся данным может быть очень вычислительно сложно. \n",
    "В стохастическом варианте градиентного спуска поправки для весов вычисляются только с учетом одного случайно взятого объекта обучающей выборки:\n",
    "$$\\Large w_0 \\leftarrow w_0 - \\frac{2\\eta}{\\ell} {((w_0 + w_1x_{k1} + w_2x_{k2} +  w_3x_{k3}) - y_k)}$$\n",
    "$$\\Large w_j \\leftarrow w_j - \\frac{2\\eta}{\\ell} {x_{kj}((w_0 + w_1x_{k1} + w_2x_{k2} +  w_3x_{k3}) - y_k)},\\ j \\in \\{1,2,3\\},$$\n",
    "где $k$ - случайный индекс, $k \\in \\{1, \\ldots, \\ell\\}$."
   ]
  },
  {
   "cell_type": "markdown",
   "metadata": {},
   "source": [
    "## Нормальное уравнение \n",
    "Нахождение вектора оптимальных весов $w$ может быть сделано и аналитически.\n",
    "Мы хотим найти такой вектор весов $w$, чтобы вектор $y$, приближающий целевой признак, получался умножением матрицы $X$ (состоящей из всех признаков объектов обучающей выборки, кроме целевого) на вектор весов $w$. То есть, чтобы выполнялось матричное уравнение:\n",
    "$$\\Large y = Xw$$\n",
    "Домножением слева на $X^T$ получаем:\n",
    "$$\\Large X^Ty = X^TXw$$\n",
    "Это хорошо, поскольку теперь матрица $X^TX$ - квадратная, и можно найти решение (вектор $w$) в виде:\n",
    "$$\\Large w = {(X^TX)}^{-1}X^Ty$$\n",
    "Матрица ${(X^TX)}^{-1}X^T$ - [*псевдообратная*](https://ru.wikipedia.org/wiki/Псевдообратная_матрица) для матрицы $X$. В NumPy такую матрицу можно вычислить с помощью функции [numpy.linalg.pinv](http://docs.scipy.org/doc/numpy-1.10.0/reference/generated/numpy.linalg.pinv.html).\n",
    "\n",
    "Однако, нахождение псевдообратной матрицы - операция вычислительно сложная и нестабильная в случае малого определителя матрицы $X$ (проблема мультиколлинеарности). \n",
    "На практике лучше находить вектор весов $w$ решением матричного уравнения \n",
    "$$\\Large X^TXw = X^Ty$$Это может быть сделано с помощью функции [numpy.linalg.solve](http://docs.scipy.org/doc/numpy-1.10.1/reference/generated/numpy.linalg.solve.html).\n",
    "\n",
    "Но все же на практике для больших матриц $X$ быстрее работает градиентный спуск, особенно его стохастическая версия."
   ]
  },
  {
   "cell_type": "markdown",
   "metadata": {},
   "source": [
    "## Инструкции по выполнению"
   ]
  },
  {
   "cell_type": "markdown",
   "metadata": {},
   "source": [
    "В начале напишем простую функцию для записи ответов в текстовый файл. Ответами будут числа, полученные в ходе решения этого задания, округленные до 3 знаков после запятой. Полученные файлы после выполнения задания надо отправить в форму на странице задания на Coursera.org."
   ]
  },
  {
   "cell_type": "code",
   "execution_count": 644,
   "metadata": {
    "collapsed": true
   },
   "outputs": [],
   "source": [
    "def write_answer_to_file(answer, filename):\n",
    "    with open(filename, 'w') as f_out:\n",
    "        f_out.write(str(round(answer, 3)))"
   ]
  },
  {
   "cell_type": "markdown",
   "metadata": {},
   "source": [
    "**1. Загрузите данные из файла *advertising.csv* в объект pandas DataFrame. [Источник данных](http://www-bcf.usc.edu/~gareth/ISL/data.html).**"
   ]
  },
  {
   "cell_type": "code",
   "execution_count": 645,
   "metadata": {
    "collapsed": false
   },
   "outputs": [],
   "source": [
    "import pandas as pd\n",
    "adver_data = pd.read_csv('advertising.csv')"
   ]
  },
  {
   "cell_type": "markdown",
   "metadata": {
    "collapsed": true
   },
   "source": [
    "**Посмотрите на первые 5 записей и на статистику признаков в этом наборе данных.**"
   ]
  },
  {
   "cell_type": "code",
   "execution_count": 646,
   "metadata": {
    "collapsed": false
   },
   "outputs": [
    {
     "data": {
      "text/html": [
       "<div>\n",
       "<table border=\"1\" class=\"dataframe\">\n",
       "  <thead>\n",
       "    <tr style=\"text-align: right;\">\n",
       "      <th></th>\n",
       "      <th>TV</th>\n",
       "      <th>Radio</th>\n",
       "      <th>Newspaper</th>\n",
       "      <th>Sales</th>\n",
       "    </tr>\n",
       "  </thead>\n",
       "  <tbody>\n",
       "    <tr>\n",
       "      <th>1</th>\n",
       "      <td>230.1</td>\n",
       "      <td>37.8</td>\n",
       "      <td>69.2</td>\n",
       "      <td>22.1</td>\n",
       "    </tr>\n",
       "    <tr>\n",
       "      <th>2</th>\n",
       "      <td>44.5</td>\n",
       "      <td>39.3</td>\n",
       "      <td>45.1</td>\n",
       "      <td>10.4</td>\n",
       "    </tr>\n",
       "    <tr>\n",
       "      <th>3</th>\n",
       "      <td>17.2</td>\n",
       "      <td>45.9</td>\n",
       "      <td>69.3</td>\n",
       "      <td>9.3</td>\n",
       "    </tr>\n",
       "    <tr>\n",
       "      <th>4</th>\n",
       "      <td>151.5</td>\n",
       "      <td>41.3</td>\n",
       "      <td>58.5</td>\n",
       "      <td>18.5</td>\n",
       "    </tr>\n",
       "    <tr>\n",
       "      <th>5</th>\n",
       "      <td>180.8</td>\n",
       "      <td>10.8</td>\n",
       "      <td>58.4</td>\n",
       "      <td>12.9</td>\n",
       "    </tr>\n",
       "  </tbody>\n",
       "</table>\n",
       "</div>"
      ],
      "text/plain": [
       "      TV  Radio  Newspaper  Sales\n",
       "1  230.1   37.8       69.2   22.1\n",
       "2   44.5   39.3       45.1   10.4\n",
       "3   17.2   45.9       69.3    9.3\n",
       "4  151.5   41.3       58.5   18.5\n",
       "5  180.8   10.8       58.4   12.9"
      ]
     },
     "execution_count": 646,
     "metadata": {},
     "output_type": "execute_result"
    }
   ],
   "source": [
    "# Ваш код здесь\n",
    "adver_data.head(5)"
   ]
  },
  {
   "cell_type": "code",
   "execution_count": 647,
   "metadata": {
    "collapsed": false
   },
   "outputs": [
    {
     "data": {
      "text/plain": [
       "(array([ 0.00439635,  0.00253635,  0.0035509 ,  0.00304363,  0.00321272,\n",
       "         0.00287454,  0.00371999,  0.00439635,  0.00338181,  0.00270544]),\n",
       " array([   0.7 ,   30.27,   59.84,   89.41,  118.98,  148.55,  178.12,\n",
       "         207.69,  237.26,  266.83,  296.4 ]),\n",
       " <a list of 10 Patch objects>)"
      ]
     },
     "execution_count": 647,
     "metadata": {},
     "output_type": "execute_result"
    },
    {
     "data": {
      "image/png": "[encoded data removed]",
      "text/plain": [
       "<matplotlib.figure.Figure at 0x1dbe06e7e48>"
      ]
     },
     "metadata": {},
     "output_type": "display_data"
    }
   ],
   "source": [
    "%matplotlib inline\n",
    "import matplotlib.pyplot as plt\n",
    "plt.hist(adver_data['TV'], normed=True)"
   ]
  },
  {
   "cell_type": "code",
   "execution_count": 648,
   "metadata": {
    "collapsed": false
   },
   "outputs": [
    {
     "data": {
      "text/plain": [
       "(array([ 0.03024194,  0.02016129,  0.02116935,  0.0171371 ,  0.01814516,\n",
       "         0.02318548,  0.0141129 ,  0.02116935,  0.02116935,  0.01512097]),\n",
       " array([  0.  ,   4.96,   9.92,  14.88,  19.84,  24.8 ,  29.76,  34.72,\n",
       "         39.68,  44.64,  49.6 ]),\n",
       " <a list of 10 Patch objects>)"
      ]
     },
     "execution_count": 648,
     "metadata": {},
     "output_type": "execute_result"
    },
    {
     "data": {
      "image/png": "[encoded data removed]",
      "text/plain": [
       "<matplotlib.figure.Figure at 0x1dbe18d4a20>"
      ]
     },
     "metadata": {},
     "output_type": "display_data"
    }
   ],
   "source": [
    "plt.hist(adver_data['Radio'], normed=True)"
   ]
  },
  {
   "cell_type": "code",
   "execution_count": 649,
   "metadata": {
    "collapsed": false
   },
   "outputs": [
    {
     "data": {
      "text/plain": [
       "(array([ 0.02066843,  0.0180299 ,  0.01539138,  0.01319261,  0.00923483,\n",
       "         0.0057168 ,  0.00395778,  0.00087951,  0.00043975,  0.00043975]),\n",
       " array([   0.3 ,   11.67,   23.04,   34.41,   45.78,   57.15,   68.52,\n",
       "          79.89,   91.26,  102.63,  114.  ]),\n",
       " <a list of 10 Patch objects>)"
      ]
     },
     "execution_count": 649,
     "metadata": {},
     "output_type": "execute_result"
    },
    {
     "data": {
      "image/png": "[encoded data removed]",
      "text/plain": [
       "<matplotlib.figure.Figure at 0x1dbe1b20630>"
      ]
     },
     "metadata": {},
     "output_type": "display_data"
    }
   ],
   "source": [
    "plt.hist(adver_data['Newspaper'], normed=True)"
   ]
  },
  {
   "cell_type": "code",
   "execution_count": 650,
   "metadata": {
    "collapsed": false
   },
   "outputs": [
    {
     "data": {
      "text/plain": [
       "(array([ 0.00393701,  0.01771654,  0.03937008,  0.09251969,  0.06889764,\n",
       "         0.05708661,  0.04330709,  0.03346457,  0.02362205,  0.01377953]),\n",
       " array([  1.6 ,   4.14,   6.68,   9.22,  11.76,  14.3 ,  16.84,  19.38,\n",
       "         21.92,  24.46,  27.  ]),\n",
       " <a list of 10 Patch objects>)"
      ]
     },
     "execution_count": 650,
     "metadata": {},
     "output_type": "execute_result"
    },
    {
     "data": {
      "image/png": "[encoded data removed]",
      "text/plain": [
       "<matplotlib.figure.Figure at 0x1dbe1b99828>"
      ]
     },
     "metadata": {},
     "output_type": "display_data"
    }
   ],
   "source": [
    "plt.hist(adver_data['Sales'], normed=True)"
   ]
  },
  {
   "cell_type": "markdown",
   "metadata": {},
   "source": [
    "**Создайте массивы NumPy *X* из столбцов TV, Radio и Newspaper и *y* - из столбца Sales. Используйте атрибут *values* объекта pandas DataFrame.**"
   ]
  },
  {
   "cell_type": "code",
   "execution_count": 651,
   "metadata": {
    "collapsed": false
   },
   "outputs": [],
   "source": [
    "X = np.array(adver_data[['TV', 'Radio', 'Newspaper']].values)\n",
    "y = np.array(adver_data['Sales'].values)"
   ]
  },
  {
   "cell_type": "markdown",
   "metadata": {},
   "source": [
    "**Отмасштабируйте столбцы матрицы *X*, вычтя из каждого значения среднее по соответствующему столбцу и поделив результат на стандартное отклонение. Для определенности, используйте методы mean и std векторов NumPy (реализация std в Pandas может отличаться). Обратите внимание, что в numpy вызов функции .mean() без параметров возвращает среднее по всем элементам массива, а не по столбцам, как в pandas. Чтобы произвести вычисление по столбцам, необходимо указать параметр axis.**"
   ]
  },
  {
   "cell_type": "code",
   "execution_count": 652,
   "metadata": {
    "collapsed": false
   },
   "outputs": [
    {
     "name": "stdout",
     "output_type": "stream",
     "text": [
      "[ 147.0425   23.264    30.554 ] [ 85.63933176  14.80964564  21.72410606]\n"
     ]
    }
   ],
   "source": [
    "import numpy as np\n",
    "means, stds = np.mean(X, axis=0), np.std(X, axis=0)\n",
    "print(means, stds)"
   ]
  },
  {
   "cell_type": "code",
   "execution_count": 653,
   "metadata": {
    "collapsed": false
   },
   "outputs": [
    {
     "name": "stdout",
     "output_type": "stream",
     "text": [
      "[[  9.69852266e-01   9.81522472e-01   1.77894547e+00]\n",
      " [ -1.19737623e+00   1.08280781e+00   6.69578760e-01]\n",
      " [ -1.51615499e+00   1.52846331e+00   1.78354865e+00]\n",
      " [  5.20496822e-02   1.21785493e+00   1.28640506e+00]\n",
      " [  3.94182198e-01  -8.41613655e-01   1.28180188e+00]\n",
      " [ -1.61540845e+00   1.73103399e+00   2.04592999e+00]\n",
      " [ -1.04557682e+00   6.43904671e-01  -3.24708413e-01]\n",
      " [ -3.13436589e-01  -2.47406325e-01  -8.72486994e-01]\n",
      " [ -1.61657614e+00  -1.42906863e+00  -1.36042422e+00]\n",
      " [  6.16042873e-01  -1.39530685e+00  -4.30581584e-01]\n",
      " [ -9.45155670e-01  -1.17923146e+00  -2.92486143e-01]\n",
      " [  7.90028350e-01   4.96973404e-02  -1.22232878e+00]\n",
      " [ -1.43908760e+00   7.99208859e-01   1.62704048e+00]\n",
      " [ -5.78501712e-01  -1.05768905e+00  -1.07502697e+00]\n",
      " [  6.66253447e-01   6.50657027e-01   7.11007392e-01]\n",
      " [  5.64664612e-01   1.65000572e+00   1.02862691e+00]\n",
      " [ -9.25304978e-01   9.00494200e-01   3.84117072e+00]\n",
      " [  1.56887609e+00   1.10306488e+00   1.16211917e+00]\n",
      " [ -9.08957349e-01  -1.86635121e-01  -5.64073843e-01]\n",
      " [  3.00679600e-03   4.29449843e-02  -5.27248393e-01]\n",
      " [  8.33232798e-01   2.99534513e-01   1.05164281e+00]\n",
      " [  1.05509347e+00  -1.22649795e+00  -3.24708413e-01]\n",
      " [ -1.56286250e+00  -4.97243498e-01   8.76721921e-01]\n",
      " [  9.48833887e-01  -4.29719938e-01  -2.00422516e-01]\n",
      " [ -9.89527805e-01  -7.20071247e-01  -5.64073843e-01]\n",
      " [  1.35285385e+00  -1.33453565e+00  -5.08835667e-01]\n",
      " [ -4.83714657e-02   4.07572210e-01  -8.26455181e-01]\n",
      " [  1.08662104e+00  -4.43224650e-01  -3.52327501e-01]\n",
      " [  1.18820988e+00   2.59020377e-01  -3.52327501e-01]\n",
      " [ -8.92609721e-01  -4.90491142e-01   4.71641962e-01]\n",
      " [  1.70316018e+00   3.40048650e-01   5.82118314e-01]\n",
      " [ -3.98677796e-01  -3.95958157e-01   3.70371972e-01]\n",
      " [ -5.82004775e-01  -1.46958277e+00  -2.55016247e-02]\n",
      " [  1.38438142e+00  -2.20396901e-01  -1.39264649e+00]\n",
      " [ -5.99520091e-01  -1.47633512e+00  -1.06582061e+00]\n",
      " [  1.67747105e+00  -1.29402151e+00  -1.01518562e+00]\n",
      " [  1.39956136e+00   1.38666383e+00  -1.17629696e+00]\n",
      " [ -8.44734522e-01   1.76479577e+00   6.97197848e-01]\n",
      " [ -1.21372386e+00   2.32010953e-01   2.09260624e-01]\n",
      " [  9.45330823e-01   9.74770116e-01   6.65620024e-02]\n",
      " [  6.47570443e-01  -6.50927121e-02   4.81492770e-02]\n",
      " [  3.49810063e-01   6.84418807e-01   3.74975153e-01]\n",
      " [  1.71133400e+00   2.99534513e-01  -1.32359877e+00]\n",
      " [  6.98948705e-01  -1.00367020e+00  -1.91216154e-01]\n",
      " [ -1.42390765e+00   1.64487393e-01   5.86721496e-01]\n",
      " [  3.27623995e-01  -5.15880000e-02   4.35460956e-02]\n",
      " [ -6.69581357e-01  -9.02384859e-01   2.36879713e-01]\n",
      " [  1.08428567e+00   1.23135965e+00  -5.54867481e-01]\n",
      " [  9.35989321e-01  -5.03995854e-01   8.90531465e-01]\n",
      " [ -9.35814168e-01  -7.80842451e-01   2.87514708e-01]\n",
      " [  6.16042873e-01  -1.36154507e+00   1.86244718e-01]\n",
      " [ -5.44638766e-01  -9.22641928e-01  -1.24074150e+00]\n",
      " [  8.09879042e-01   1.24486436e+00   4.16403786e-01]\n",
      " [  4.15200577e-01   1.54872038e+00   1.29561142e+00]\n",
      " [  1.35051848e+00   3.73810430e-01  -6.74550196e-01]\n",
      " [  6.05533683e-01   1.76479577e+00   1.35545278e+00]\n",
      " [ -1.63175608e+00   3.26543937e-01   4.99261050e-01]\n",
      " [ -1.26606546e-01  -2.74415749e-01  -6.42327927e-01]\n",
      " [  7.44488528e-01   1.77830048e+00   3.28943340e-01]\n",
      " [  7.43320840e-01   4.21076922e-01  -9.78360166e-01]\n",
      " [ -1.09228433e+00  -1.43582099e+00  -4.21375221e-01]\n",
      " [  1.33417085e+00   1.31238792e+00   1.11148417e+00]\n",
      " [  1.07727954e+00  -5.24252922e-01  -1.49787521e-01]\n",
      " [ -5.17781948e-01   4.27829278e-01  -1.01978880e+00]\n",
      " [ -1.86158622e-01   1.31914027e+00  -7.61366196e-02]\n",
      " [ -9.11292725e-01  -9.42898996e-01  -1.36502740e+00]\n",
      " [ -1.34917564e+00   9.02114765e-02  -1.30518604e+00]\n",
      " [ -9.04082253e-02  -5.91776482e-01  -9.36931533e-01]\n",
      " [  1.05509347e+00   2.86029801e-01  -9.00106083e-01]\n",
      " [  8.14549794e-01   1.39341619e+00  -1.54390703e-01]\n",
      " [  6.07869059e-01   4.95352838e-01   3.74975153e-01]\n",
      " [ -4.34876116e-01  -6.05281194e-01   5.27524584e-02]\n",
      " [ -1.40405696e+00   6.57409383e-01  -5.18042030e-01]\n",
      " [ -2.06009314e-01  -1.18598381e+00   3.43397329e-02]\n",
      " [  7.74848409e-01   9.02114765e-02  -8.03439274e-01]\n",
      " [ -1.51965805e+00   1.37991148e+00   2.70878810e+00]\n",
      " [ -1.39588315e+00  -1.46283041e+00  -4.53597491e-01]\n",
      " [ -3.09933525e-01   3.53553362e-01  -7.52804279e-01]\n",
      " [ -1.65394214e+00   4.48086346e-01  -9.73756984e-01]\n",
      " [ -3.62479475e-01  -1.05093669e+00  -3.43121138e-01]\n",
      " [ -8.24883830e-01   2.32010953e-01  -3.79946589e-01]\n",
      " [  1.08311798e+00  -1.29402151e+00   2.92117889e-01]\n",
      " [ -8.37728396e-01  -2.00139833e-01   8.95779092e-02]\n",
      " [ -9.18298852e-01   1.43393033e+00   2.32276531e-01]\n",
      " [  7.76016097e-01   1.33264499e+00   1.49419267e-01]\n",
      " [  5.38975481e-01  -3.28434597e-01   1.61783412e+00]\n",
      " [ -8.26051518e-01   2.86029801e-01  -6.69947015e-01]\n",
      " [ -4.24366926e-01   1.17058844e+00   1.50275459e+00]\n",
      " [ -6.85928986e-01   1.50982681e-01   1.97227908e+00]\n",
      " [ -4.34876116e-01   1.65675807e+00   9.59579186e-01]\n",
      " [ -1.48792614e-01  -1.24000266e+00  -9.78360166e-01]\n",
      " [ -1.38303858e+00  -1.46958277e+00   1.12593816e-01]\n",
      " [  8.25058983e-01   6.91171163e-01   1.30942097e+00]\n",
      " [  1.21273132e+00   8.93741844e-01   1.92164409e+00]\n",
      " [ -4.62900623e-01  -6.25538262e-01  -9.04709264e-01]\n",
      " [  1.89836839e-01   5.62876398e-01   1.02862691e+00]\n",
      " [  5.90353742e-01  -1.33453565e+00  -1.13486833e+00]\n",
      " [  4.42057396e-01  -1.52873340e-01  -3.93756133e-01]\n",
      " [  1.66579418e+00   1.28537849e+00   9.50372823e-01]\n",
      " [ -1.38283424e-01   1.24486436e+00   7.06404211e-01]\n",
      " [  8.79940308e-01  -1.28051680e+00   8.85928284e-01]\n",
      " [  1.74402926e+00   8.80237132e-01   3.23815396e+00]\n",
      " [  1.55486384e+00  -8.88880147e-01  -4.21375221e-01]\n",
      " [  4.77088029e-01  -4.09462869e-01  -5.82486569e-01]\n",
      " [  1.06443498e+00   7.45190011e-01  -1.16248742e+00]\n",
      " [ -1.06755854e-01   1.56222509e+00   1.30942097e+00]\n",
      " [ -1.42507534e+00  -8.28108943e-01  -3.93111688e-02]\n",
      " [ -6.61407543e-01  -1.55061104e+00  -3.38517957e-01]\n",
      " [ -1.56403019e+00  -1.54385868e+00  -2.28041604e-01]\n",
      " [  1.26527727e+00   2.45515665e-01  -1.15328106e+00]\n",
      " [  9.19641692e-01  -1.01717491e+00   1.19434143e+00]\n",
      " [  1.10530405e+00   9.95027184e-01  -3.38517957e-01]\n",
      " [  3.34630122e-01  -5.31005278e-01  -1.29597968e+00]\n",
      " [  7.30476274e-01  -1.79882765e-01  -9.13915627e-01]\n",
      " [ -8.03865450e-01   1.58923451e+00   1.81641536e-01]\n",
      " [ -8.40063771e-01   7.92456503e-01   1.01942054e+00]\n",
      " [ -9.15759131e-02  -6.05281194e-01  -2.28041604e-01]\n",
      " [ -8.24883830e-01  -1.51684926e+00  -7.25185191e-01]\n",
      " [ -2.49213762e-01   9.20751268e-01   2.23926360e+00]\n",
      " [ -1.49046586e+00  -4.90491142e-01  -3.79946589e-01]\n",
      " [ -6.70544700e-02   2.38763309e-01   7.20213755e-01]\n",
      " [ -1.49747198e+00  -1.05606848e-01   9.13547372e-01]\n",
      " [  8.98623313e-01  -1.40881156e+00  -6.88359740e-01]\n",
      " [ -2.79573643e-01   7.65447079e-01  -8.35661544e-01]\n",
      " [  9.62846140e-01   6.10142891e-01   2.00910454e+00]\n",
      " [ -6.98773552e-01  -7.74090095e-01  -2.14232060e-01]\n",
      " [ -1.62591764e+00   1.05579839e+00   9.22753735e-01]\n",
      " [ -7.80511695e-01  -1.57086811e+00  -9.82963347e-01]\n",
      " [  8.55418865e-01   1.73778635e+00  -1.25915423e+00]\n",
      " [ -1.02105537e+00  -7.60585383e-01   5.77515133e-01]\n",
      " [ -1.70882347e+00   1.10306488e+00  -1.00597925e+00]\n",
      " [  1.37971067e+00  -1.37504978e+00   5.72911952e-01]\n",
      " [ -1.61891151e+00   2.65772733e-01  -1.30978922e+00]\n",
      " [  8.49580427e-01   6.91171163e-01   6.69578760e-01]\n",
      " [ -1.28612050e+00   1.03554132e+00   1.61323094e+00]\n",
      " [ -1.15300409e+00   1.60273923e+00  -1.01518562e+00]\n",
      " [ -1.41806922e+00   1.06255074e+00  -9.78360166e-01]\n",
      " [  1.47896413e+00   3.80562786e-01   1.34164324e+00]\n",
      " [ -1.21489154e+00   1.77992105e-01  -4.62803854e-01]\n",
      " [  4.42057396e-01   1.39341619e+00  -1.32820195e+00]\n",
      " [ -8.59914463e-01  -4.22967582e-01  -8.12645637e-01]\n",
      " [  5.44813920e-01   8.19465927e-01   2.07354907e+00]\n",
      " [  8.57754241e-01   6.70914095e-01   3.38149702e-01]\n",
      " [ -4.95595880e-01  -1.18598381e+00   1.77038355e-01]\n",
      " [ -5.93681653e-01  -5.71519414e-01   3.84181516e-01]\n",
      " [ -7.87313476e-02  -1.44257334e+00  -9.92169710e-01]\n",
      " [  1.08662104e+00  -1.07794612e+00  -1.00597925e+00]\n",
      " [  1.12281936e+00   1.73778635e+00   6.32753309e-01]\n",
      " [ -1.27327593e+00   1.15033137e+00  -8.58677450e-01]\n",
      " [ -1.19504085e+00   1.71239749e-01  -4.58200672e-01]\n",
      " [  1.56070228e+00  -6.32290618e-01   2.96721070e-01]\n",
      " [ -3.04095087e-01  -1.00367020e+00   8.35293289e-01]\n",
      " [  5.90353742e-01   2.43084817e-03  -7.52804279e-01]\n",
      " [  2.83251860e-01   1.10981724e+00   3.28943340e-01]\n",
      " [  4.75920341e-01  -1.46120984e-01  -9.69153803e-01]\n",
      " [ -1.66912209e+00  -7.87594807e-01  -1.14407469e+00]\n",
      " [ -6.20538471e-01   1.36640677e+00   9.18150553e-01]\n",
      " [  3.21989902e-02  -1.48308748e+00  -2.87882962e-01]\n",
      " [ -1.58037782e+00   9.20751268e-01   6.74181942e-01]\n",
      " [ -1.79152496e-01  -3.28434597e-01   1.86244718e-01]\n",
      " [  2.97264113e-01  -3.48691665e-01   6.72064478e-03]\n",
      " [ -7.16288868e-01   8.46475352e-01   8.62912377e-01]\n",
      " [  4.82926468e-01  -3.48691665e-01  -2.28041604e-01]\n",
      " [  1.92172214e-01   9.13998912e-01  -1.06582061e+00]\n",
      " [ -3.48467222e-01  -5.78271770e-01  -1.15788424e+00]\n",
      " [  1.02123053e+00  -1.34128800e+00   2.49704176e+00]\n",
      " [ -1.50798117e+00   9.68017760e-01  -4.12168859e-01]\n",
      " [  6.97781017e-01  -1.21974559e+00  -5.13438849e-01]\n",
      " [  7.98202165e-01   2.26879163e-02   1.24497643e+00]\n",
      " [  1.60273904e+00  -8.55118367e-01  -1.11185242e+00]\n",
      " [ -1.13315340e+00  -7.87594807e-01  -5.59470662e-01]\n",
      " [  2.03849092e-01  -1.59625696e-01   7.75451931e-01]\n",
      " [ -1.48813048e+00  -2.13644545e-01  -6.23915201e-01]\n",
      " [  2.49388915e-01  -1.09145083e+00  -8.17248818e-01]\n",
      " [  8.79940308e-01  -1.34128800e+00  -8.03439274e-01]\n",
      " [  1.51633014e+00   1.73103399e+00   5.17673775e-01]\n",
      " [  1.18353913e+00   4.68343414e-01  -4.72010216e-01]\n",
      " [  2.70407294e-01  -1.04418434e+00   2.13863806e-01]\n",
      " [  1.51399477e+00  -1.41556392e+00  -3.15502050e-01]\n",
      " [  2.16693657e-01  -8.95632503e-01  -5.96296113e-01]\n",
      " [  1.11601758e-01  -1.39530685e+00  -1.02439198e+00]\n",
      " [  8.34400486e-01  -1.20624088e+00  -1.45184340e-01]\n",
      " [ -1.06075676e+00  -1.18598381e+00  -3.93111688e-02]\n",
      " [  1.64127273e+00   1.33264499e+00   1.89862818e+00]\n",
      " [  1.24659427e+00  -1.32616272e-01  -2.55016247e-02]\n",
      " [  6.76762637e-01   1.47444446e+00  -5.04232486e-01]\n",
      " [ -8.80728498e-02  -1.42906863e+00  -1.82009791e-01]\n",
      " [  5.14454038e-01   3.67058074e-01  -5.68677025e-01]\n",
      " [  1.62258973e+00  -6.32290618e-01  -1.23613832e+00]\n",
      " [ -1.49863967e+00  -7.53833027e-01  -3.29311594e-01]\n",
      " [ -1.25576062e+00   1.20435022e+00  -1.13947151e+00]\n",
      " [ -8.35393020e-01  -8.41613655e-01  -1.13026515e+00]\n",
      " [ -1.51615499e+00  -1.29402151e+00   4.81492770e-02]\n",
      " [  2.30705910e-01   1.26512143e+00  -1.24074150e+00]\n",
      " [  3.10313024e-02   8.32970639e-01  -1.13026515e+00]\n",
      " [ -1.27094056e+00  -1.32103093e+00  -7.71217005e-01]\n",
      " [ -6.17035408e-01  -1.24000266e+00  -1.03359834e+00]\n",
      " [  3.49810063e-01  -9.42898996e-01  -1.11185242e+00]\n",
      " [  1.59456522e+00   1.26512143e+00   1.64085003e+00]\n",
      " [  9.93206022e-01  -9.90165488e-01  -1.00597925e+00]]\n"
     ]
    }
   ],
   "source": [
    "X = (X - means)/stds\n",
    "print(X)"
   ]
  },
  {
   "cell_type": "markdown",
   "metadata": {},
   "source": [
    "**Добавьте к матрице *X* столбец из единиц, используя методы *hstack*, *ones* и *reshape* библиотеки NumPy. Вектор из единиц нужен для того, чтобы не обрабатывать отдельно коэффициент $w_0$ линейной регрессии.**"
   ]
  },
  {
   "cell_type": "code",
   "execution_count": 654,
   "metadata": {
    "collapsed": false
   },
   "outputs": [
    {
     "name": "stdout",
     "output_type": "stream",
     "text": [
      "[[  9.69852266e-01   9.81522472e-01   1.77894547e+00   1.00000000e+00]\n",
      " [ -1.19737623e+00   1.08280781e+00   6.69578760e-01   1.00000000e+00]\n",
      " [ -1.51615499e+00   1.52846331e+00   1.78354865e+00   1.00000000e+00]\n",
      " [  5.20496822e-02   1.21785493e+00   1.28640506e+00   1.00000000e+00]\n",
      " [  3.94182198e-01  -8.41613655e-01   1.28180188e+00   1.00000000e+00]\n",
      " [ -1.61540845e+00   1.73103399e+00   2.04592999e+00   1.00000000e+00]\n",
      " [ -1.04557682e+00   6.43904671e-01  -3.24708413e-01   1.00000000e+00]\n",
      " [ -3.13436589e-01  -2.47406325e-01  -8.72486994e-01   1.00000000e+00]\n",
      " [ -1.61657614e+00  -1.42906863e+00  -1.36042422e+00   1.00000000e+00]\n",
      " [  6.16042873e-01  -1.39530685e+00  -4.30581584e-01   1.00000000e+00]\n",
      " [ -9.45155670e-01  -1.17923146e+00  -2.92486143e-01   1.00000000e+00]\n",
      " [  7.90028350e-01   4.96973404e-02  -1.22232878e+00   1.00000000e+00]\n",
      " [ -1.43908760e+00   7.99208859e-01   1.62704048e+00   1.00000000e+00]\n",
      " [ -5.78501712e-01  -1.05768905e+00  -1.07502697e+00   1.00000000e+00]\n",
      " [  6.66253447e-01   6.50657027e-01   7.11007392e-01   1.00000000e+00]\n",
      " [  5.64664612e-01   1.65000572e+00   1.02862691e+00   1.00000000e+00]\n",
      " [ -9.25304978e-01   9.00494200e-01   3.84117072e+00   1.00000000e+00]\n",
      " [  1.56887609e+00   1.10306488e+00   1.16211917e+00   1.00000000e+00]\n",
      " [ -9.08957349e-01  -1.86635121e-01  -5.64073843e-01   1.00000000e+00]\n",
      " [  3.00679600e-03   4.29449843e-02  -5.27248393e-01   1.00000000e+00]\n",
      " [  8.33232798e-01   2.99534513e-01   1.05164281e+00   1.00000000e+00]\n",
      " [  1.05509347e+00  -1.22649795e+00  -3.24708413e-01   1.00000000e+00]\n",
      " [ -1.56286250e+00  -4.97243498e-01   8.76721921e-01   1.00000000e+00]\n",
      " [  9.48833887e-01  -4.29719938e-01  -2.00422516e-01   1.00000000e+00]\n",
      " [ -9.89527805e-01  -7.20071247e-01  -5.64073843e-01   1.00000000e+00]\n",
      " [  1.35285385e+00  -1.33453565e+00  -5.08835667e-01   1.00000000e+00]\n",
      " [ -4.83714657e-02   4.07572210e-01  -8.26455181e-01   1.00000000e+00]\n",
      " [  1.08662104e+00  -4.43224650e-01  -3.52327501e-01   1.00000000e+00]\n",
      " [  1.18820988e+00   2.59020377e-01  -3.52327501e-01   1.00000000e+00]\n",
      " [ -8.92609721e-01  -4.90491142e-01   4.71641962e-01   1.00000000e+00]\n",
      " [  1.70316018e+00   3.40048650e-01   5.82118314e-01   1.00000000e+00]\n",
      " [ -3.98677796e-01  -3.95958157e-01   3.70371972e-01   1.00000000e+00]\n",
      " [ -5.82004775e-01  -1.46958277e+00  -2.55016247e-02   1.00000000e+00]\n",
      " [  1.38438142e+00  -2.20396901e-01  -1.39264649e+00   1.00000000e+00]\n",
      " [ -5.99520091e-01  -1.47633512e+00  -1.06582061e+00   1.00000000e+00]\n",
      " [  1.67747105e+00  -1.29402151e+00  -1.01518562e+00   1.00000000e+00]\n",
      " [  1.39956136e+00   1.38666383e+00  -1.17629696e+00   1.00000000e+00]\n",
      " [ -8.44734522e-01   1.76479577e+00   6.97197848e-01   1.00000000e+00]\n",
      " [ -1.21372386e+00   2.32010953e-01   2.09260624e-01   1.00000000e+00]\n",
      " [  9.45330823e-01   9.74770116e-01   6.65620024e-02   1.00000000e+00]\n",
      " [  6.47570443e-01  -6.50927121e-02   4.81492770e-02   1.00000000e+00]\n",
      " [  3.49810063e-01   6.84418807e-01   3.74975153e-01   1.00000000e+00]\n",
      " [  1.71133400e+00   2.99534513e-01  -1.32359877e+00   1.00000000e+00]\n",
      " [  6.98948705e-01  -1.00367020e+00  -1.91216154e-01   1.00000000e+00]\n",
      " [ -1.42390765e+00   1.64487393e-01   5.86721496e-01   1.00000000e+00]\n",
      " [  3.27623995e-01  -5.15880000e-02   4.35460956e-02   1.00000000e+00]\n",
      " [ -6.69581357e-01  -9.02384859e-01   2.36879713e-01   1.00000000e+00]\n",
      " [  1.08428567e+00   1.23135965e+00  -5.54867481e-01   1.00000000e+00]\n",
      " [  9.35989321e-01  -5.03995854e-01   8.90531465e-01   1.00000000e+00]\n",
      " [ -9.35814168e-01  -7.80842451e-01   2.87514708e-01   1.00000000e+00]\n",
      " [  6.16042873e-01  -1.36154507e+00   1.86244718e-01   1.00000000e+00]\n",
      " [ -5.44638766e-01  -9.22641928e-01  -1.24074150e+00   1.00000000e+00]\n",
      " [  8.09879042e-01   1.24486436e+00   4.16403786e-01   1.00000000e+00]\n",
      " [  4.15200577e-01   1.54872038e+00   1.29561142e+00   1.00000000e+00]\n",
      " [  1.35051848e+00   3.73810430e-01  -6.74550196e-01   1.00000000e+00]\n",
      " [  6.05533683e-01   1.76479577e+00   1.35545278e+00   1.00000000e+00]\n",
      " [ -1.63175608e+00   3.26543937e-01   4.99261050e-01   1.00000000e+00]\n",
      " [ -1.26606546e-01  -2.74415749e-01  -6.42327927e-01   1.00000000e+00]\n",
      " [  7.44488528e-01   1.77830048e+00   3.28943340e-01   1.00000000e+00]\n",
      " [  7.43320840e-01   4.21076922e-01  -9.78360166e-01   1.00000000e+00]\n",
      " [ -1.09228433e+00  -1.43582099e+00  -4.21375221e-01   1.00000000e+00]\n",
      " [  1.33417085e+00   1.31238792e+00   1.11148417e+00   1.00000000e+00]\n",
      " [  1.07727954e+00  -5.24252922e-01  -1.49787521e-01   1.00000000e+00]\n",
      " [ -5.17781948e-01   4.27829278e-01  -1.01978880e+00   1.00000000e+00]\n",
      " [ -1.86158622e-01   1.31914027e+00  -7.61366196e-02   1.00000000e+00]\n",
      " [ -9.11292725e-01  -9.42898996e-01  -1.36502740e+00   1.00000000e+00]\n",
      " [ -1.34917564e+00   9.02114765e-02  -1.30518604e+00   1.00000000e+00]\n",
      " [ -9.04082253e-02  -5.91776482e-01  -9.36931533e-01   1.00000000e+00]\n",
      " [  1.05509347e+00   2.86029801e-01  -9.00106083e-01   1.00000000e+00]\n",
      " [  8.14549794e-01   1.39341619e+00  -1.54390703e-01   1.00000000e+00]\n",
      " [  6.07869059e-01   4.95352838e-01   3.74975153e-01   1.00000000e+00]\n",
      " [ -4.34876116e-01  -6.05281194e-01   5.27524584e-02   1.00000000e+00]\n",
      " [ -1.40405696e+00   6.57409383e-01  -5.18042030e-01   1.00000000e+00]\n",
      " [ -2.06009314e-01  -1.18598381e+00   3.43397329e-02   1.00000000e+00]\n",
      " [  7.74848409e-01   9.02114765e-02  -8.03439274e-01   1.00000000e+00]\n",
      " [ -1.51965805e+00   1.37991148e+00   2.70878810e+00   1.00000000e+00]\n",
      " [ -1.39588315e+00  -1.46283041e+00  -4.53597491e-01   1.00000000e+00]\n",
      " [ -3.09933525e-01   3.53553362e-01  -7.52804279e-01   1.00000000e+00]\n",
      " [ -1.65394214e+00   4.48086346e-01  -9.73756984e-01   1.00000000e+00]\n",
      " [ -3.62479475e-01  -1.05093669e+00  -3.43121138e-01   1.00000000e+00]\n",
      " [ -8.24883830e-01   2.32010953e-01  -3.79946589e-01   1.00000000e+00]\n",
      " [  1.08311798e+00  -1.29402151e+00   2.92117889e-01   1.00000000e+00]\n",
      " [ -8.37728396e-01  -2.00139833e-01   8.95779092e-02   1.00000000e+00]\n",
      " [ -9.18298852e-01   1.43393033e+00   2.32276531e-01   1.00000000e+00]\n",
      " [  7.76016097e-01   1.33264499e+00   1.49419267e-01   1.00000000e+00]\n",
      " [  5.38975481e-01  -3.28434597e-01   1.61783412e+00   1.00000000e+00]\n",
      " [ -8.26051518e-01   2.86029801e-01  -6.69947015e-01   1.00000000e+00]\n",
      " [ -4.24366926e-01   1.17058844e+00   1.50275459e+00   1.00000000e+00]\n",
      " [ -6.85928986e-01   1.50982681e-01   1.97227908e+00   1.00000000e+00]\n",
      " [ -4.34876116e-01   1.65675807e+00   9.59579186e-01   1.00000000e+00]\n",
      " [ -1.48792614e-01  -1.24000266e+00  -9.78360166e-01   1.00000000e+00]\n",
      " [ -1.38303858e+00  -1.46958277e+00   1.12593816e-01   1.00000000e+00]\n",
      " [  8.25058983e-01   6.91171163e-01   1.30942097e+00   1.00000000e+00]\n",
      " [  1.21273132e+00   8.93741844e-01   1.92164409e+00   1.00000000e+00]\n",
      " [ -4.62900623e-01  -6.25538262e-01  -9.04709264e-01   1.00000000e+00]\n",
      " [  1.89836839e-01   5.62876398e-01   1.02862691e+00   1.00000000e+00]\n",
      " [  5.90353742e-01  -1.33453565e+00  -1.13486833e+00   1.00000000e+00]\n",
      " [  4.42057396e-01  -1.52873340e-01  -3.93756133e-01   1.00000000e+00]\n",
      " [  1.66579418e+00   1.28537849e+00   9.50372823e-01   1.00000000e+00]\n",
      " [ -1.38283424e-01   1.24486436e+00   7.06404211e-01   1.00000000e+00]\n",
      " [  8.79940308e-01  -1.28051680e+00   8.85928284e-01   1.00000000e+00]\n",
      " [  1.74402926e+00   8.80237132e-01   3.23815396e+00   1.00000000e+00]\n",
      " [  1.55486384e+00  -8.88880147e-01  -4.21375221e-01   1.00000000e+00]\n",
      " [  4.77088029e-01  -4.09462869e-01  -5.82486569e-01   1.00000000e+00]\n",
      " [  1.06443498e+00   7.45190011e-01  -1.16248742e+00   1.00000000e+00]\n",
      " [ -1.06755854e-01   1.56222509e+00   1.30942097e+00   1.00000000e+00]\n",
      " [ -1.42507534e+00  -8.28108943e-01  -3.93111688e-02   1.00000000e+00]\n",
      " [ -6.61407543e-01  -1.55061104e+00  -3.38517957e-01   1.00000000e+00]\n",
      " [ -1.56403019e+00  -1.54385868e+00  -2.28041604e-01   1.00000000e+00]\n",
      " [  1.26527727e+00   2.45515665e-01  -1.15328106e+00   1.00000000e+00]\n",
      " [  9.19641692e-01  -1.01717491e+00   1.19434143e+00   1.00000000e+00]\n",
      " [  1.10530405e+00   9.95027184e-01  -3.38517957e-01   1.00000000e+00]\n",
      " [  3.34630122e-01  -5.31005278e-01  -1.29597968e+00   1.00000000e+00]\n",
      " [  7.30476274e-01  -1.79882765e-01  -9.13915627e-01   1.00000000e+00]\n",
      " [ -8.03865450e-01   1.58923451e+00   1.81641536e-01   1.00000000e+00]\n",
      " [ -8.40063771e-01   7.92456503e-01   1.01942054e+00   1.00000000e+00]\n",
      " [ -9.15759131e-02  -6.05281194e-01  -2.28041604e-01   1.00000000e+00]\n",
      " [ -8.24883830e-01  -1.51684926e+00  -7.25185191e-01   1.00000000e+00]\n",
      " [ -2.49213762e-01   9.20751268e-01   2.23926360e+00   1.00000000e+00]\n",
      " [ -1.49046586e+00  -4.90491142e-01  -3.79946589e-01   1.00000000e+00]\n",
      " [ -6.70544700e-02   2.38763309e-01   7.20213755e-01   1.00000000e+00]\n",
      " [ -1.49747198e+00  -1.05606848e-01   9.13547372e-01   1.00000000e+00]\n",
      " [  8.98623313e-01  -1.40881156e+00  -6.88359740e-01   1.00000000e+00]\n",
      " [ -2.79573643e-01   7.65447079e-01  -8.35661544e-01   1.00000000e+00]\n",
      " [  9.62846140e-01   6.10142891e-01   2.00910454e+00   1.00000000e+00]\n",
      " [ -6.98773552e-01  -7.74090095e-01  -2.14232060e-01   1.00000000e+00]\n",
      " [ -1.62591764e+00   1.05579839e+00   9.22753735e-01   1.00000000e+00]\n",
      " [ -7.80511695e-01  -1.57086811e+00  -9.82963347e-01   1.00000000e+00]\n",
      " [  8.55418865e-01   1.73778635e+00  -1.25915423e+00   1.00000000e+00]\n",
      " [ -1.02105537e+00  -7.60585383e-01   5.77515133e-01   1.00000000e+00]\n",
      " [ -1.70882347e+00   1.10306488e+00  -1.00597925e+00   1.00000000e+00]\n",
      " [  1.37971067e+00  -1.37504978e+00   5.72911952e-01   1.00000000e+00]\n",
      " [ -1.61891151e+00   2.65772733e-01  -1.30978922e+00   1.00000000e+00]\n",
      " [  8.49580427e-01   6.91171163e-01   6.69578760e-01   1.00000000e+00]\n",
      " [ -1.28612050e+00   1.03554132e+00   1.61323094e+00   1.00000000e+00]\n",
      " [ -1.15300409e+00   1.60273923e+00  -1.01518562e+00   1.00000000e+00]\n",
      " [ -1.41806922e+00   1.06255074e+00  -9.78360166e-01   1.00000000e+00]\n",
      " [  1.47896413e+00   3.80562786e-01   1.34164324e+00   1.00000000e+00]\n",
      " [ -1.21489154e+00   1.77992105e-01  -4.62803854e-01   1.00000000e+00]\n",
      " [  4.42057396e-01   1.39341619e+00  -1.32820195e+00   1.00000000e+00]\n",
      " [ -8.59914463e-01  -4.22967582e-01  -8.12645637e-01   1.00000000e+00]\n",
      " [  5.44813920e-01   8.19465927e-01   2.07354907e+00   1.00000000e+00]\n",
      " [  8.57754241e-01   6.70914095e-01   3.38149702e-01   1.00000000e+00]\n",
      " [ -4.95595880e-01  -1.18598381e+00   1.77038355e-01   1.00000000e+00]\n",
      " [ -5.93681653e-01  -5.71519414e-01   3.84181516e-01   1.00000000e+00]\n",
      " [ -7.87313476e-02  -1.44257334e+00  -9.92169710e-01   1.00000000e+00]\n",
      " [  1.08662104e+00  -1.07794612e+00  -1.00597925e+00   1.00000000e+00]\n",
      " [  1.12281936e+00   1.73778635e+00   6.32753309e-01   1.00000000e+00]\n",
      " [ -1.27327593e+00   1.15033137e+00  -8.58677450e-01   1.00000000e+00]\n",
      " [ -1.19504085e+00   1.71239749e-01  -4.58200672e-01   1.00000000e+00]\n",
      " [  1.56070228e+00  -6.32290618e-01   2.96721070e-01   1.00000000e+00]\n",
      " [ -3.04095087e-01  -1.00367020e+00   8.35293289e-01   1.00000000e+00]\n",
      " [  5.90353742e-01   2.43084817e-03  -7.52804279e-01   1.00000000e+00]\n",
      " [  2.83251860e-01   1.10981724e+00   3.28943340e-01   1.00000000e+00]\n",
      " [  4.75920341e-01  -1.46120984e-01  -9.69153803e-01   1.00000000e+00]\n",
      " [ -1.66912209e+00  -7.87594807e-01  -1.14407469e+00   1.00000000e+00]\n",
      " [ -6.20538471e-01   1.36640677e+00   9.18150553e-01   1.00000000e+00]\n",
      " [  3.21989902e-02  -1.48308748e+00  -2.87882962e-01   1.00000000e+00]\n",
      " [ -1.58037782e+00   9.20751268e-01   6.74181942e-01   1.00000000e+00]\n",
      " [ -1.79152496e-01  -3.28434597e-01   1.86244718e-01   1.00000000e+00]\n",
      " [  2.97264113e-01  -3.48691665e-01   6.72064478e-03   1.00000000e+00]\n",
      " [ -7.16288868e-01   8.46475352e-01   8.62912377e-01   1.00000000e+00]\n",
      " [  4.82926468e-01  -3.48691665e-01  -2.28041604e-01   1.00000000e+00]\n",
      " [  1.92172214e-01   9.13998912e-01  -1.06582061e+00   1.00000000e+00]\n",
      " [ -3.48467222e-01  -5.78271770e-01  -1.15788424e+00   1.00000000e+00]\n",
      " [  1.02123053e+00  -1.34128800e+00   2.49704176e+00   1.00000000e+00]\n",
      " [ -1.50798117e+00   9.68017760e-01  -4.12168859e-01   1.00000000e+00]\n",
      " [  6.97781017e-01  -1.21974559e+00  -5.13438849e-01   1.00000000e+00]\n",
      " [  7.98202165e-01   2.26879163e-02   1.24497643e+00   1.00000000e+00]\n",
      " [  1.60273904e+00  -8.55118367e-01  -1.11185242e+00   1.00000000e+00]\n",
      " [ -1.13315340e+00  -7.87594807e-01  -5.59470662e-01   1.00000000e+00]\n",
      " [  2.03849092e-01  -1.59625696e-01   7.75451931e-01   1.00000000e+00]\n",
      " [ -1.48813048e+00  -2.13644545e-01  -6.23915201e-01   1.00000000e+00]\n",
      " [  2.49388915e-01  -1.09145083e+00  -8.17248818e-01   1.00000000e+00]\n",
      " [  8.79940308e-01  -1.34128800e+00  -8.03439274e-01   1.00000000e+00]\n",
      " [  1.51633014e+00   1.73103399e+00   5.17673775e-01   1.00000000e+00]\n",
      " [  1.18353913e+00   4.68343414e-01  -4.72010216e-01   1.00000000e+00]\n",
      " [  2.70407294e-01  -1.04418434e+00   2.13863806e-01   1.00000000e+00]\n",
      " [  1.51399477e+00  -1.41556392e+00  -3.15502050e-01   1.00000000e+00]\n",
      " [  2.16693657e-01  -8.95632503e-01  -5.96296113e-01   1.00000000e+00]\n",
      " [  1.11601758e-01  -1.39530685e+00  -1.02439198e+00   1.00000000e+00]\n",
      " [  8.34400486e-01  -1.20624088e+00  -1.45184340e-01   1.00000000e+00]\n",
      " [ -1.06075676e+00  -1.18598381e+00  -3.93111688e-02   1.00000000e+00]\n",
      " [  1.64127273e+00   1.33264499e+00   1.89862818e+00   1.00000000e+00]\n",
      " [  1.24659427e+00  -1.32616272e-01  -2.55016247e-02   1.00000000e+00]\n",
      " [  6.76762637e-01   1.47444446e+00  -5.04232486e-01   1.00000000e+00]\n",
      " [ -8.80728498e-02  -1.42906863e+00  -1.82009791e-01   1.00000000e+00]\n",
      " [  5.14454038e-01   3.67058074e-01  -5.68677025e-01   1.00000000e+00]\n",
      " [  1.62258973e+00  -6.32290618e-01  -1.23613832e+00   1.00000000e+00]\n",
      " [ -1.49863967e+00  -7.53833027e-01  -3.29311594e-01   1.00000000e+00]\n",
      " [ -1.25576062e+00   1.20435022e+00  -1.13947151e+00   1.00000000e+00]\n",
      " [ -8.35393020e-01  -8.41613655e-01  -1.13026515e+00   1.00000000e+00]\n",
      " [ -1.51615499e+00  -1.29402151e+00   4.81492770e-02   1.00000000e+00]\n",
      " [  2.30705910e-01   1.26512143e+00  -1.24074150e+00   1.00000000e+00]\n",
      " [  3.10313024e-02   8.32970639e-01  -1.13026515e+00   1.00000000e+00]\n",
      " [ -1.27094056e+00  -1.32103093e+00  -7.71217005e-01   1.00000000e+00]\n",
      " [ -6.17035408e-01  -1.24000266e+00  -1.03359834e+00   1.00000000e+00]\n",
      " [  3.49810063e-01  -9.42898996e-01  -1.11185242e+00   1.00000000e+00]\n",
      " [  1.59456522e+00   1.26512143e+00   1.64085003e+00   1.00000000e+00]\n",
      " [  9.93206022e-01  -9.90165488e-01  -1.00597925e+00   1.00000000e+00]]\n"
     ]
    }
   ],
   "source": [
    "import numpy as np\n",
    "import numpy.linalg\n",
    "from scipy.spatial import distance\n",
    "\n",
    "X = np.hstack([X, np.ones([X.shape[0], 1], dtype=np.int32)])\n",
    "print(X)"
   ]
  },
  {
   "cell_type": "markdown",
   "metadata": {},
   "source": [
    "**2. Реализуйте функцию *mserror* - среднеквадратичную ошибку прогноза. Она принимает два аргумента - объекты Series *y* (значения целевого признака) и *y\\_pred* (предсказанные значения). Не используйте в этой функции циклы - тогда она будет вычислительно неэффективной.**"
   ]
  },
  {
   "cell_type": "code",
   "execution_count": 655,
   "metadata": {
    "collapsed": true
   },
   "outputs": [],
   "source": [
    "def mserror(y, y_pred):\n",
    "    return np.average((y - y_pred) ** 2)"
   ]
  },
  {
   "cell_type": "markdown",
   "metadata": {},
   "source": [
    "**Какова среднеквадратичная ошибка прогноза значений Sales, если всегда предсказывать медианное значение Sales по исходной выборке? Запишите ответ в файл '1.txt'.**"
   ]
  },
  {
   "cell_type": "code",
   "execution_count": 656,
   "metadata": {
    "collapsed": false
   },
   "outputs": [
    {
     "name": "stdout",
     "output_type": "stream",
     "text": [
      "28.34575\n"
     ]
    }
   ],
   "source": [
    "answer1 = mserror(y, np.array(list(map(lambda x: np.median(y), range(y.shape[0]))))) # Ваш код здесь\n",
    "print(answer1)\n",
    "write_answer_to_file(answer1, '1.txt')"
   ]
  },
  {
   "cell_type": "markdown",
   "metadata": {},
   "source": [
    "**3. Реализуйте функцию *normal_equation*, которая по заданным матрицам (массивам NumPy) *X* и *y* вычисляет вектор весов $w$ согласно нормальному уравнению линейной регрессии.**"
   ]
  },
  {
   "cell_type": "code",
   "execution_count": 657,
   "metadata": {
    "collapsed": false
   },
   "outputs": [],
   "source": [
    "def normal_equation(X, y):\n",
    "    return np.dot(np.linalg.pinv(X), y)"
   ]
  },
  {
   "cell_type": "code",
   "execution_count": 658,
   "metadata": {
    "collapsed": false
   },
   "outputs": [
    {
     "name": "stdout",
     "output_type": "stream",
     "text": [
      "[  3.91925365   2.79206274  -0.02253861  14.0225    ]\n"
     ]
    }
   ],
   "source": [
    "norm_eq_weights = normal_equation(X, y)\n",
    "print(norm_eq_weights)"
   ]
  },
  {
   "cell_type": "markdown",
   "metadata": {},
   "source": [
    "**Какие продажи предсказываются линейной моделью с весами, найденными с помощью нормального уравнения, в случае средних инвестиций в рекламу по ТВ, радио и в газетах? (то есть при нулевых значениях масштабированных признаков TV, Radio и Newspaper). Запишите ответ в файл '2.txt'.**"
   ]
  },
  {
   "cell_type": "code",
   "execution_count": 659,
   "metadata": {
    "collapsed": false
   },
   "outputs": [
    {
     "name": "stdout",
     "output_type": "stream",
     "text": [
      "3.91925365489\n"
     ]
    }
   ],
   "source": [
    "answer2 = np.dot([1, 0, 0, 0], norm_eq_weights)\n",
    "print(answer2)\n",
    "write_answer_to_file(answer2, '2.txt')"
   ]
  },
  {
   "cell_type": "markdown",
   "metadata": {},
   "source": [
    "**4. Напишите функцию *linear_prediction*, которая принимает на вход матрицу *X* и вектор весов линейной модели *w*, а возвращает вектор прогнозов в виде линейной комбинации столбцов матрицы *X* с весами *w*.**"
   ]
  },
  {
   "cell_type": "code",
   "execution_count": 660,
   "metadata": {
    "collapsed": false
   },
   "outputs": [],
   "source": [
    "def linear_prediction(X, w):\n",
    "    return X.dot(w)"
   ]
  },
  {
   "cell_type": "markdown",
   "metadata": {},
   "source": [
    "**Какова среднеквадратичная ошибка прогноза значений Sales в виде линейной модели с весами, найденными с помощью нормального уравнения? Запишите ответ в файл '3.txt'.**"
   ]
  },
  {
   "cell_type": "code",
   "execution_count": 661,
   "metadata": {
    "collapsed": false
   },
   "outputs": [
    {
     "name": "stdout",
     "output_type": "stream",
     "text": [
      "2.78412631451\n"
     ]
    }
   ],
   "source": [
    "answer3 = mserror(y, linear_prediction(X, norm_eq_weights))# Ваш код здесь\n",
    "print(answer3)\n",
    "write_answer_to_file(answer3, '3.txt')"
   ]
  },
  {
   "cell_type": "markdown",
   "metadata": {},
   "source": [
    "**5. Напишите функцию *stochastic_gradient_step*, реализующую шаг стохастического градиентного спуска для линейной регрессии. Функция должна принимать матрицу *X*, вектора *y* и *w*, число *train_ind* - индекс объекта обучающей выборки (строки матрицы *X*), по которому считается изменение весов, а также число *$\\eta$* (eta) - шаг градиентного спуска (по умолчанию *eta*=0.01). Результатом будет вектор обновленных весов. Наша реализация функции будет явно написана для данных с 3 признаками, но несложно модифицировать для любого числа признаков, можете это сделать.**"
   ]
  },
  {
   "cell_type": "code",
   "execution_count": 662,
   "metadata": {
    "collapsed": false
   },
   "outputs": [],
   "source": [
    "def stochastic_gradient_step(X, y, w, train_ind, eta=0.01):\n",
    "#     grad = np.array(list(map(lambda i: 2/X.shape[0]*X[train_ind][i]*(w[0]+w[1]*X[train_ind][1]+w[2]*X[train_ind][2]+w[3]*X[train_ind][3]-y[train_ind+1]), range(4))))\n",
    "#     return  w - eta * grad\n",
    "    l = len(y)\n",
    "    return w + (2*eta/l)*X[train_ind].dot(y[train_ind] - X[train_ind].dot(w))"
   ]
  },
  {
   "cell_type": "markdown",
   "metadata": {},
   "source": [
    "**6. Напишите функцию *stochastic_gradient_descent*, реализующую стохастический градиентный спуск для линейной регрессии. Функция принимает на вход следующие аргументы:**\n",
    "- X - матрица, соответствующая обучающей выборке\n",
    "- y - вектор значений целевого признака\n",
    "- w_init - вектор начальных весов модели\n",
    "- eta - шаг градиентного спуска (по умолчанию 0.01)\n",
    "- max_iter - максимальное число итераций градиентного спуска (по умолчанию 10000)\n",
    "- max_weight_dist - минимальное евклидово расстояние между векторами весов на соседних итерациях градиентного спуска,\n",
    "при котором алгоритм прекращает работу (по умолчанию 1e-8)\n",
    "- seed - число, используемое для воспроизводимости сгенерированных псевдослучайных чисел (по умолчанию 42)\n",
    "- verbose - флаг печати информации (например, для отладки, по умолчанию False)\n",
    "\n",
    "**На каждой итерации в вектор (список) должно записываться текущее значение среднеквадратичной ошибки. Функция должна возвращать вектор весов $w$, а также вектор (список) ошибок.**"
   ]
  },
  {
   "cell_type": "code",
   "execution_count": 663,
   "metadata": {
    "collapsed": true
   },
   "outputs": [],
   "source": [
    "def stochastic_gradient_descent(X, y, w_init, eta=1e-2, max_iter=1e4,\n",
    "                                min_weight_dist=1e-8, seed=42, verbose=False):\n",
    "    # Инициализируем расстояние между векторами весов на соседних\n",
    "    # итерациях большим числом. \n",
    "    weight_dist = np.inf\n",
    "    # Инициализируем вектор весов\n",
    "    w = w_init\n",
    "    # Сюда будем записывать ошибки на каждой итерации\n",
    "    errors = []\n",
    "    # Счетчик итераций\n",
    "    iter_num = 0\n",
    "    # Будем порождать псевдослучайные числа \n",
    "    # (номер объекта, который будет менять веса), а для воспроизводимости\n",
    "    # этой последовательности псевдослучайных чисел используем seed.\n",
    "    np.random.seed(seed)\n",
    "        \n",
    "    # Основной цикл\n",
    "    while weight_dist > min_weight_dist and iter_num < max_iter:\n",
    "        # порождаем псевдослучайный \n",
    "        # индекс объекта обучающей выборки\n",
    "        random_ind = np.random.randint(X.shape[0])\n",
    "        \n",
    "        w_ = w\n",
    "        w = stochastic_gradient_step(X, y, w_, random_ind, eta)\n",
    "        if iter_num < 10:\n",
    "            print(w)\n",
    "        errors.append(mserror(y, linear_prediction(X, w)))\n",
    "        weight_dist = np.linalg.norm(w - w_)\n",
    "        iter_num += 1\n",
    "    return w, errors"
   ]
  },
  {
   "cell_type": "markdown",
   "metadata": {},
   "source": [
    " **Запустите $10^5$ итераций стохастического градиентного спуска. Укажите вектор начальных весов *w_init*, состоящий из нулей. Оставьте параметры  *eta* и *seed* равными их значениям по умолчанию (*eta*=0.01, *seed*=42 - это важно для проверки ответов).**"
   ]
  },
  {
   "cell_type": "code",
   "execution_count": 664,
   "metadata": {
    "collapsed": false
   },
   "outputs": [
    {
     "name": "stdout",
     "output_type": "stream",
     "text": [
      "[ 0.0023012  -0.00131554 -0.00062364  0.00148   ]\n",
      "[ 0.00257416 -0.00244372 -0.00137476  0.00273965]\n",
      "[ 0.00417466 -0.00110295  0.00116534  0.00467951]\n",
      "[ 0.00544003  0.00013281  0.00251571  0.00657875]\n",
      "[ 0.00441378 -0.00046354  0.0024874   0.00729889]\n",
      "[ 0.00387479 -0.00121374  0.00255279  0.00853831]\n",
      "[ 0.00645269 -0.0022183   0.00058886  0.01012707]\n",
      "[ 0.00795122 -0.0016796   0.0024802   0.01192552]\n",
      "[ 0.01024857 -0.00299294  0.0018576   0.01340305]\n",
      "[ 0.00920035 -0.00306687  0.00249708  0.01410304]\n",
      "Wall time: 5.07 s\n"
     ]
    }
   ],
   "source": [
    "%%time\n",
    "stoch_grad_desc_weights, stoch_errors_by_iter = stochastic_gradient_descent(X, y, np.zeros(4), max_iter=1e5)"
   ]
  },
  {
   "cell_type": "markdown",
   "metadata": {},
   "source": [
    "**Посмотрим, чему равна ошибка на первых 50 итерациях стохастического градиентного спуска. Видим, что ошибка не обязательно уменьшается на каждой итерации.**"
   ]
  },
  {
   "cell_type": "code",
   "execution_count": 665,
   "metadata": {
    "collapsed": false
   },
   "outputs": [
    {
     "name": "stdout",
     "output_type": "stream",
     "text": [
      "Populating the interactive namespace from numpy and matplotlib\n"
     ]
    },
    {
     "data": {
      "text/plain": [
       "<matplotlib.text.Text at 0x1dbe1c253c8>"
      ]
     },
     "execution_count": 665,
     "metadata": {},
     "output_type": "execute_result"
    },
    {
     "data": {
      "image/png": "[encoded data removed]",
      "text/plain": [
       "<matplotlib.figure.Figure at 0x1dbe1b99a90>"
      ]
     },
     "metadata": {},
     "output_type": "display_data"
    }
   ],
   "source": [
    "%pylab inline\n",
    "plot(range(50), stoch_errors_by_iter[:50])\n",
    "xlabel('Iteration number')\n",
    "ylabel('MSE')"
   ]
  },
  {
   "cell_type": "markdown",
   "metadata": {},
   "source": [
    "**Теперь посмотрим на зависимость ошибки от номера итерации для $10^5$ итераций стохастического градиентного спуска. Видим, что алгоритм сходится.**"
   ]
  },
  {
   "cell_type": "code",
   "execution_count": 666,
   "metadata": {
    "collapsed": false
   },
   "outputs": [
    {
     "name": "stdout",
     "output_type": "stream",
     "text": [
      "Populating the interactive namespace from numpy and matplotlib\n"
     ]
    },
    {
     "data": {
      "text/plain": [
       "<matplotlib.text.Text at 0x1dbe1973400>"
      ]
     },
     "execution_count": 666,
     "metadata": {},
     "output_type": "execute_result"
    },
    {
     "data": {
      "image/png": "[encoded data removed]",
      "text/plain": [
       "<matplotlib.figure.Figure at 0x1dbe06e7c18>"
      ]
     },
     "metadata": {},
     "output_type": "display_data"
    }
   ],
   "source": [
    "%pylab inline\n",
    "plot(range(len(stoch_errors_by_iter)), stoch_errors_by_iter)\n",
    "xlabel('Iteration number')\n",
    "ylabel('MSE')"
   ]
  },
  {
   "cell_type": "markdown",
   "metadata": {},
   "source": [
    "**Посмотрим на вектор весов, к которому сошелся метод.**"
   ]
  },
  {
   "cell_type": "code",
   "execution_count": 667,
   "metadata": {
    "collapsed": false
   },
   "outputs": [
    {
     "data": {
      "text/plain": [
       "array([  3.91069256e+00,   2.78209808e+00,  -8.10462217e-03,\n",
       "         1.40190566e+01])"
      ]
     },
     "execution_count": 667,
     "metadata": {},
     "output_type": "execute_result"
    }
   ],
   "source": [
    "stoch_grad_desc_weights"
   ]
  },
  {
   "cell_type": "markdown",
   "metadata": {},
   "source": [
    "**Посмотрим на среднеквадратичную ошибку на последней итерации.**"
   ]
  },
  {
   "cell_type": "code",
   "execution_count": 668,
   "metadata": {
    "collapsed": false
   },
   "outputs": [
    {
     "data": {
      "text/plain": [
       "2.7844125884067039"
      ]
     },
     "execution_count": 668,
     "metadata": {},
     "output_type": "execute_result"
    }
   ],
   "source": [
    "stoch_errors_by_iter[-1]"
   ]
  },
  {
   "cell_type": "markdown",
   "metadata": {},
   "source": [
    "**Какова среднеквадратичная ошибка прогноза значений Sales в виде линейной модели с весами, найденными с помощью градиентного спуска? Запишите ответ в файл '4.txt'.**"
   ]
  },
  {
   "cell_type": "code",
   "execution_count": 669,
   "metadata": {
    "collapsed": false
   },
   "outputs": [
    {
     "name": "stdout",
     "output_type": "stream",
     "text": [
      "2.78441258841\n"
     ]
    }
   ],
   "source": [
    "answer4 = mserror(y, linear_prediction(X, stoch_grad_desc_weights))\n",
    "print(answer4)\n",
    "write_answer_to_file(answer4, '4.txt')"
   ]
  },
  {
   "cell_type": "markdown",
   "metadata": {},
   "source": [
    "**Ответами к заданию будут текстовые файлы, полученные в ходе этого решения. Обратите внимание, что отправленные файлы не должны содержать пустую строку в конце. Данный нюанс является ограничением платформы Coursera. Мы работаем над исправлением этого ограничения.**"
   ]
  },
  {
   "cell_type": "code",
   "execution_count": null,
   "metadata": {
    "collapsed": true
   },
   "outputs": [],
   "source": []
  }
 ],
 "metadata": {
  "kernelspec": {
   "display_name": "Python [Root]",
   "language": "python",
   "name": "Python [Root]"
  },
  "language_info": {
   "codemirror_mode": {
    "name": "ipython",
    "version": 3
   },
   "file_extension": ".py",
   "mimetype": "text/x-python",
   "name": "python",
   "nbconvert_exporter": "python",
   "pygments_lexer": "ipython3",
   "version": "3.5.2"
  }
 },
 "nbformat": 4,
 "nbformat_minor": 0
}
