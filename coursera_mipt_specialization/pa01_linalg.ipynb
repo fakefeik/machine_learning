{
 "cells": [
  {
   "cell_type": "code",
   "execution_count": 3,
   "metadata": {
    "collapsed": false
   },
   "outputs": [
    {
     "name": "stdout",
     "output_type": "stream",
     "text": [
      "[(0.7327387580875756, 6), (0.77708871496985887, 4)]\n"
     ]
    }
   ],
   "source": [
    "import re\n",
    "from collections import defaultdict\n",
    "import numpy as np\n",
    "from scipy.spatial.distance import cosine\n",
    "\n",
    "\n",
    "with open('sentences.txt') as f:\n",
    "    lines = list(map(lambda x: list(filter(bool, re.split(r'[^a-z]', x.lower()))), f.readlines()))\n",
    "\n",
    "pos = {}\n",
    "freq = list(map(lambda x: defaultdict(int), [None]*len(lines)))\n",
    "i = 0\n",
    "for line_idx, line in enumerate(lines):\n",
    "    for word in line:\n",
    "        freq[line_idx][word] += 1\n",
    "        if word not in pos:\n",
    "            pos[word] = i\n",
    "        i += 1\n",
    "\n",
    "A = np.zeros((len(lines), len(pos)))\n",
    "for i, line in enumerate(lines):\n",
    "    for j, word in enumerate(pos):\n",
    "        A[i, j] = freq[i][word]\n",
    "\n",
    "print(sorted(map(lambda x: (cosine(A[0], A[x]), x), range(1, len(lines))))[:2])\n"
   ]
  },
  {
   "cell_type": "markdown",
   "metadata": {
    "collapsed": true
   },
   "source": [
    "f(x) = sin(x / 5) * exp(x / 10) + 5 * exp(-x / 2)"
   ]
  },
  {
   "cell_type": "code",
   "execution_count": 4,
   "metadata": {
    "collapsed": true
   },
   "outputs": [],
   "source": [
    "import math\n",
    "f = lambda x: math.sin(x/5)*math.exp(x/10)+5*math.exp(-x/2)"
   ]
  },
  {
   "cell_type": "code",
   "execution_count": 5,
   "metadata": {
    "collapsed": false
   },
   "outputs": [
    {
     "data": {
      "text/plain": [
       "3.252216865271419"
      ]
     },
     "execution_count": 5,
     "metadata": {},
     "output_type": "execute_result"
    }
   ],
   "source": [
    "f(1)"
   ]
  },
  {
   "cell_type": "code",
   "execution_count": 6,
   "metadata": {
    "collapsed": false
   },
   "outputs": [],
   "source": [
    "%matplotlib inline\n",
    "\n",
    "import matplotlib\n",
    "import numpy as np\n",
    "import matplotlib.pyplot as plt"
   ]
  },
  {
   "cell_type": "code",
   "execution_count": 7,
   "metadata": {
    "collapsed": false
   },
   "outputs": [
    {
     "data": {
      "text/plain": [
       "[<matplotlib.lines.Line2D at 0x28c1ff0d710>]"
      ]
     },
     "execution_count": 7,
     "metadata": {},
     "output_type": "execute_result"
    },
    {
     "data": {
      "image/png": "[encoded data removed]",
      "text/plain": [
       "<matplotlib.figure.Figure at 0x28c1fe9e7b8>"
      ]
     },
     "metadata": {},
     "output_type": "display_data"
    }
   ],
   "source": [
    "x = np.arange(0, 20, 0.1)\n",
    "plt.plot(x, np.array(list(map(f, x))))"
   ]
  },
  {
   "cell_type": "code",
   "execution_count": 19,
   "metadata": {
    "collapsed": false
   },
   "outputs": [
    {
     "data": {
      "text/plain": [
       "((1, 15), [3.252216865271419, 0.6352214195786656])"
      ]
     },
     "execution_count": 19,
     "metadata": {},
     "output_type": "execute_result"
    }
   ],
   "source": [
    "x = 1, 15\n",
    "y = list(map(f, x))\n",
    "x ,y"
   ]
  },
  {
   "cell_type": "code",
   "execution_count": 20,
   "metadata": {
    "collapsed": false
   },
   "outputs": [
    {
     "data": {
      "text/plain": [
       "(array([[  1,   1],\n",
       "        [ 15, 225]]), array([ 3.25221687,  0.63522142]))"
      ]
     },
     "execution_count": 20,
     "metadata": {},
     "output_type": "execute_result"
    }
   ],
   "source": [
    "x1 = 1\n",
    "x2 = 15\n",
    "\n",
    "A = np.array([[x1, x1**2], [x2, x2**2]])\n",
    "b = np.array([f(x1), f(x2)])\n",
    "\n",
    "A, b"
   ]
  },
  {
   "cell_type": "code",
   "execution_count": 22,
   "metadata": {
    "collapsed": false
   },
   "outputs": [
    {
     "data": {
      "text/plain": [
       "array([ 3.48149321, -0.22927634])"
      ]
     },
     "execution_count": 22,
     "metadata": {},
     "output_type": "execute_result"
    }
   ],
   "source": [
    "from scipy.linalg import solve\n",
    "solve(A, b)"
   ]
  },
  {
   "cell_type": "code",
   "execution_count": 23,
   "metadata": {
    "collapsed": true
   },
   "outputs": [],
   "source": [
    "f1 = lambda x: 3.48149321*x - 0.22927634"
   ]
  },
  {
   "cell_type": "code",
   "execution_count": 24,
   "metadata": {
    "collapsed": false
   },
   "outputs": [
    {
     "data": {
      "text/plain": [
       "[<matplotlib.lines.Line2D at 0x28c203a22e8>]"
      ]
     },
     "execution_count": 24,
     "metadata": {},
     "output_type": "execute_result"
    },
    {
     "data": {
      "image/png": "[encoded data removed]",
      "text/plain": [
       "<matplotlib.figure.Figure at 0x28c2029e7b8>"
      ]
     },
     "metadata": {},
     "output_type": "display_data"
    }
   ],
   "source": [
    "plt.plot(np.arange(0, 10, 0.1), np.array(list(map(f1, np.arange(0, 10, 0.1)))))"
   ]
  },
  {
   "cell_type": "code",
   "execution_count": 17,
   "metadata": {
    "collapsed": false
   },
   "outputs": [
    {
     "name": "stdout",
     "output_type": "stream",
     "text": [
      "[[   1    1    1    1]\n",
      " [   1    4   16   64]\n",
      " [   1   10  100 1000]\n",
      " [   1   15  225 3375]]\n",
      "[ 3.25221687  1.74684595  2.50541641  0.63522142]\n",
      "[ 4.36264154 -1.29552587  0.19333685 -0.00823565]\n"
     ]
    },
    {
     "data": {
      "text/plain": [
       "[<matplotlib.lines.Line2D at 0x28c2033b710>,\n",
       " <matplotlib.lines.Line2D at 0x28c2033b8d0>]"
      ]
     },
     "execution_count": 17,
     "metadata": {},
     "output_type": "execute_result"
    },
    {
     "data": {
      "image/png": "[encoded data removed]",
      "text/plain": [
       "<matplotlib.figure.Figure at 0x28c1ff334a8>"
      ]
     },
     "metadata": {},
     "output_type": "display_data"
    }
   ],
   "source": [
    "x = [1,4,10,15]\n",
    "a = []\n",
    "for i in range(len(x)):\n",
    "    a.append([])\n",
    "    for j in range(len(x)):\n",
    "        a[i].append(x[i] ** j)\n",
    "A = np.array(a)\n",
    "b = np.array(list(map(f, x)))\n",
    "res = solve(A, b)\n",
    "\n",
    "print(A)\n",
    "print(b)\n",
    "print(res)\n",
    "\n",
    "def f1(x):\n",
    "    acc = 0\n",
    "    for i, e in enumerate(res):\n",
    "        acc += e * (x ** i)\n",
    "    return acc\n",
    "\n",
    "x = np.arange(0, 20, 0.1)\n",
    "y = np.array(list(map(f1, x)))\n",
    "plt.plot(x, y, x, np.array(list(map(f, x))))"
   ]
  },
  {
   "cell_type": "code",
   "execution_count": 18,
   "metadata": {
    "collapsed": false
   },
   "outputs": [
    {
     "data": {
      "text/plain": [
       "(array([[   1,    1,    1,    1],\n",
       "        [   1,    4,   16,   64],\n",
       "        [   1,   10,  100, 1000],\n",
       "        [   1,   15,  225, 3375]]),\n",
       " array([ 3.25221687,  1.74684595,  2.50541641,  0.63522142]))"
      ]
     },
     "execution_count": 18,
     "metadata": {},
     "output_type": "execute_result"
    }
   ],
   "source": [
    "A, b"
   ]
  }
 ],
 "metadata": {
  "anaconda-cloud": {},
  "kernelspec": {
   "display_name": "Python [Root]",
   "language": "python",
   "name": "Python [Root]"
  },
  "language_info": {
   "codemirror_mode": {
    "name": "ipython",
    "version": 3
   },
   "file_extension": ".py",
   "mimetype": "text/x-python",
   "name": "python",
   "nbconvert_exporter": "python",
   "pygments_lexer": "ipython3",
   "version": "3.5.2"
  }
 },
 "nbformat": 4,
 "nbformat_minor": 0
}
