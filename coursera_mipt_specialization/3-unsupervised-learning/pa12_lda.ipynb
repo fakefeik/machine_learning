{
 "cells": [
  {
   "cell_type": "markdown",
   "metadata": {},
   "source": [
    "# Programming Assignment: \n",
    "## Готовим LDA по рецептам"
   ]
  },
  {
   "cell_type": "markdown",
   "metadata": {},
   "source": [
    "Как вы уже знаете, в тематическом моделировании делается предположение о том, что для определения тематики порядок слов в документе не важен; об этом гласит гипотеза «мешка слов». Сегодня мы будем работать с несколько нестандартной для тематического моделирования коллекцией, которую можно назвать «мешком ингредиентов», потому что на состоит из рецептов блюд разных кухонь. Тематические модели ищут слова, которые часто вместе встречаются в документах, и составляют из них темы. Мы попробуем применить эту идею к рецептам и найти кулинарные «темы». Эта коллекция хороша тем, что не требует предобработки. Кроме того, эта задача достаточно наглядно иллюстрирует принцип работы тематических моделей.\n",
    "\n",
    "Для выполнения заданий, помимо часто используемых в курсе библиотек, потребуются модули *json* и *gensim*. Первый входит в дистрибутив Anaconda, второй можно поставить командой \n",
    "\n",
    "*pip install gensim*\n",
    "\n",
    "Построение модели занимает некоторое время. На ноутбуке с процессором Intel Core i7 и тактовой частотой 2400 МГц на построение одной модели уходит менее 10 минут."
   ]
  },
  {
   "cell_type": "markdown",
   "metadata": {},
   "source": [
    "### Загрузка данных"
   ]
  },
  {
   "cell_type": "markdown",
   "metadata": {},
   "source": [
    "Коллекция дана в json-формате: для каждого рецепта известны его id, кухня (cuisine) и список ингредиентов, в него входящих. Загрузить данные можно с помощью модуля json (он входит в дистрибутив Anaconda):"
   ]
  },
  {
   "cell_type": "code",
   "execution_count": 1,
   "metadata": {
    "collapsed": true
   },
   "outputs": [],
   "source": [
    "import json"
   ]
  },
  {
   "cell_type": "code",
   "execution_count": 2,
   "metadata": {
    "collapsed": true
   },
   "outputs": [],
   "source": [
    "with open(\"recipes.json\") as f:\n",
    "    recipes = json.load(f)"
   ]
  },
  {
   "cell_type": "code",
   "execution_count": 3,
   "metadata": {
    "collapsed": false
   },
   "outputs": [
    {
     "name": "stdout",
     "output_type": "stream",
     "text": [
      "{u'cuisine': u'greek', u'id': 10259, u'ingredients': [u'romaine lettuce', u'black olives', u'grape tomatoes', u'garlic', u'pepper', u'purple onion', u'seasoning', u'garbanzo beans', u'feta cheese crumbles']}\n"
     ]
    }
   ],
   "source": [
    "print(recipes[0])"
   ]
  },
  {
   "cell_type": "markdown",
   "metadata": {},
   "source": [
    "### Составление корпуса"
   ]
  },
  {
   "cell_type": "code",
   "execution_count": 4,
   "metadata": {
    "collapsed": false
   },
   "outputs": [],
   "source": [
    "from gensim import corpora, models\n",
    "import numpy as np"
   ]
  },
  {
   "cell_type": "markdown",
   "metadata": {},
   "source": [
    "Наша коллекция небольшая, и целиком помещается в оперативную память. Gensim может работать с такими данными и не требует их сохранения на диск в специальном формате. Для этого коллекция должна быть представлена в виде списка списков, каждый внутренний список соответствует отдельному документу и состоит из его слов. Пример коллекции из двух документов: \n",
    "\n",
    "[[\"hello\", \"world\"], [\"programming\", \"in\", \"python\"]]\n",
    "\n",
    "Преобразуем наши данные в такой формат, а затем создадим объекты corpus и dictionary, с которыми будет работать модель."
   ]
  },
  {
   "cell_type": "code",
   "execution_count": 5,
   "metadata": {
    "collapsed": true
   },
   "outputs": [],
   "source": [
    "texts = [recipe[\"ingredients\"] for recipe in recipes]\n",
    "dictionary = corpora.Dictionary(texts)   # составляем словарь\n",
    "corpus = [dictionary.doc2bow(text) for text in texts]  # составляем корпус документов"
   ]
  },
  {
   "cell_type": "code",
   "execution_count": 6,
   "metadata": {
    "collapsed": false
   },
   "outputs": [
    {
     "name": "stdout",
     "output_type": "stream",
     "text": [
      "[u'romaine lettuce', u'black olives', u'grape tomatoes', u'garlic', u'pepper', u'purple onion', u'seasoning', u'garbanzo beans', u'feta cheese crumbles']\n",
      "[(0, 1), (1, 1), (2, 1), (3, 1), (4, 1), (5, 1), (6, 1), (7, 1), (8, 1)]\n"
     ]
    }
   ],
   "source": [
    "print(texts[0])\n",
    "print(corpus[0])"
   ]
  },
  {
   "cell_type": "markdown",
   "metadata": {},
   "source": [
    "У объекта dictionary есть две полезных переменных: *dictionary.id2token* и *dictionary.token2id*; эти словари позволяют находить соответствие между ингредиентами и их индексами."
   ]
  },
  {
   "cell_type": "markdown",
   "metadata": {},
   "source": [
    "### Обучение модели\n",
    "Вам может понадобиться [документация](https://radimrehurek.com/gensim/models/ldamodel.html) LDA в gensim."
   ]
  },
  {
   "cell_type": "markdown",
   "metadata": {},
   "source": [
    "__Задание 1.__ Обучите модель LDA с 40 темами, установив количество проходов по коллекции 5 и оставив остальные параметры по умолчанию. \n",
    "\n",
    "\n",
    "Затем вызовите метод модели *show_topics*, указав количество тем 40 и количество токенов 10, и сохраните результат (топы ингредиентов в темах) в отдельную переменную. Если при вызове метода *show_topics* указать параметр *formatted=True*, то топы ингредиентов будет удобно выводить на печать, если *formatted=False*, будет удобно работать со списком программно. Выведите топы на печать, рассмотрите темы, а затем ответьте на вопрос:\n",
    "\n",
    "Сколько раз ингредиенты \"salt\", \"sugar\", \"water\", \"mushrooms\", \"chicken\", \"eggs\" встретились среди топов-10 всех 40 тем? При ответе __не нужно__ учитывать составные ингредиенты, например, \"hot water\".\n",
    "\n",
    "Передайте 6 чисел в функцию save_answers1 и загрузите сгенерированный файл в форму.\n",
    "\n",
    "У gensim нет возможности фиксировать случайное приближение через параметры метода, но библиотека использует numpy для инициализации матриц. Поэтому, по утверждению автора библиотеки, фиксировать случайное приближение нужно командой, которая написана в следующей ячейке. __Перед строкой кода с построением модели обязательно вставляйте указанную строку фиксации random.seed.__"
   ]
  },
  {
   "cell_type": "code",
   "execution_count": 23,
   "metadata": {
    "collapsed": true
   },
   "outputs": [],
   "source": [
    "np.random.seed(76543)\n",
    "# здесь код для построения модели:\n",
    "\n",
    "lda = models.ldamodel.LdaModel(corpus, passes=5, num_topics=40, id2word=dictionary)"
   ]
  },
  {
   "cell_type": "code",
   "execution_count": 26,
   "metadata": {
    "collapsed": false
   },
   "outputs": [
    {
     "data": {
      "text/plain": [
       "[(0,\n",
       "  u'0.083*salt + 0.080*cooking spray + 0.079*garlic cloves + 0.064*olive oil + 0.064*chopped onion + 0.035*fat free less sodium chicken broth + 0.034*crushed red pepper + 0.034*water + 0.033*black pepper + 0.032*ground black pepper'),\n",
       " (1,\n",
       "  u'0.130*carrots + 0.077*onions + 0.052*cabbage + 0.043*spinach + 0.040*celery + 0.039*water + 0.037*beef + 0.031*low sodium chicken broth + 0.029*salt + 0.026*green cabbage'),\n",
       " (2,\n",
       "  u'0.066*dry red wine + 0.047*shortening + 0.046*beef broth + 0.045*vegetable oil cooking spray + 0.044*grape tomatoes + 0.039*cilantro sprigs + 0.035*french bread + 0.033*dried rosemary + 0.030*all-purpose flour + 0.030*sun-dried tomatoes'),\n",
       " (3,\n",
       "  u'0.117*oil + 0.112*potatoes + 0.081*salt + 0.050*chickpeas + 0.049*pepper + 0.048*onions + 0.046*rice + 0.030*water + 0.029*coriander + 0.029*saffron'),\n",
       " (4,\n",
       "  u'0.061*green bell pepper + 0.057*garlic powder + 0.055*salt + 0.054*cayenne pepper + 0.039*onions + 0.034*dried thyme + 0.032*paprika + 0.030*worcestershire sauce + 0.027*onion powder + 0.026*ground black pepper'),\n",
       " (5,\n",
       "  u'0.073*ground cumin + 0.053*salt + 0.048*ground coriander + 0.041*paprika + 0.038*olive oil + 0.035*onions + 0.033*garlic + 0.023*cayenne pepper + 0.022*garlic cloves + 0.020*tumeric'),\n",
       " (6,\n",
       "  u'0.113*ground cinnamon + 0.087*ground nutmeg + 0.056*honey + 0.052*raisins + 0.048*ground cloves + 0.046*ground allspice + 0.034*brown sugar + 0.033*light brown sugar + 0.031*ground ginger + 0.030*margarine'),\n",
       " (7,\n",
       "  u'0.082*zucchini + 0.078*fresh basil + 0.078*plum tomatoes + 0.075*olive oil + 0.046*salt + 0.045*eggplant + 0.033*garlic cloves + 0.031*grated parmesan cheese + 0.028*spaghetti + 0.028*red bell pepper'),\n",
       " (8,\n",
       "  u'0.089*cooking oil + 0.059*basmati rice + 0.057*salt + 0.057*vinegar + 0.051*water + 0.049*ginger + 0.041*curry leaves + 0.033*mint leaves + 0.027*red cabbage + 0.026*kimchi'),\n",
       " (9,\n",
       "  u'0.075*dried oregano + 0.074*onions + 0.065*garlic + 0.058*tomato sauce + 0.055*salt + 0.053*diced tomatoes + 0.050*ground beef + 0.041*dried basil + 0.040*tomato paste + 0.036*olive oil'),\n",
       " (10,\n",
       "  u'0.040*ground black pepper + 0.038*russet potatoes + 0.037*large eggs + 0.037*dry bread crumbs + 0.032*chopped fresh chives + 0.032*butter + 0.029*red potato + 0.028*ham + 0.025*salt + 0.025*all-purpose flour'),\n",
       " (11,\n",
       "  u'0.066*jalapeno chilies + 0.064*salt + 0.049*avocado + 0.040*lime + 0.034*garlic + 0.034*purple onion + 0.033*olive oil + 0.032*cilantro + 0.031*fresh cilantro + 0.029*ground cumin'),\n",
       " (12,\n",
       "  u'0.102*cucumber + 0.068*lean ground beef + 0.047*cider vinegar + 0.044*feta cheese + 0.039*romaine lettuce + 0.038*lemon wedge + 0.036*cherry tomatoes + 0.033*cream + 0.031*purple onion + 0.029*chili'),\n",
       " (13,\n",
       "  u'0.083*sour cream + 0.056*salsa + 0.049*shredded cheddar cheese + 0.047*flour tortillas + 0.038*black beans + 0.038*chili powder + 0.033*green onions + 0.030*ground cumin + 0.024*cheddar cheese + 0.024*corn tortillas'),\n",
       " (14,\n",
       "  u'0.074*cinnamon sticks + 0.065*sweet potatoes + 0.051*black peppercorns + 0.048*white sugar + 0.046*orange + 0.043*fresh mint + 0.043*sugar + 0.036*fennel seeds + 0.036*water + 0.028*red wine'),\n",
       " (15,\n",
       "  u'0.091*cold water + 0.078*sauce + 0.060*ground white pepper + 0.058*boiling water + 0.033*slivered almonds + 0.031*sugar + 0.030*cake flour + 0.027*panko breadcrumbs + 0.026*green olives + 0.024*szechwan peppercorns'),\n",
       " (16,\n",
       "  u'0.100*extra-virgin olive oil + 0.060*garlic cloves + 0.050*olive oil + 0.047*flat leaf parsley + 0.040*freshly ground pepper + 0.038*salt + 0.037*dry white wine + 0.037*fresh lemon juice + 0.032*large garlic cloves + 0.030*ground black pepper'),\n",
       " (17,\n",
       "  u'0.122*coconut milk + 0.050*white wine + 0.046*parsley + 0.043*garlic + 0.040*thyme + 0.037*onions + 0.033*sea salt + 0.031*chicken thighs + 0.029*coconut oil + 0.026*salt'),\n",
       " (18,\n",
       "  u'0.104*salt + 0.093*all-purpose flour + 0.086*eggs + 0.085*milk + 0.071*butter + 0.055*baking powder + 0.049*sugar + 0.037*flour + 0.034*baking soda + 0.030*buttermilk'),\n",
       " (19,\n",
       "  u'0.140*curry powder + 0.074*frozen peas + 0.067*long-grain rice + 0.055*sweetened condensed milk + 0.048*greek yogurt + 0.039*black-eyed peas + 0.038*egg whites + 0.033*cauliflower + 0.027*ground cayenne pepper + 0.024*sugar pea'),\n",
       " (20,\n",
       "  u'0.041*peanut oil + 0.034*beansprouts + 0.033*Sriracha + 0.030*rice noodles + 0.030*medium shrimp + 0.029*fish sauce + 0.028*peanuts + 0.027*peeled fresh ginger + 0.024*ground pork + 0.024*minced ginger'),\n",
       " (21,\n",
       "  u'0.114*boneless skinless chicken breast halves + 0.105*coarse salt + 0.066*ground pepper + 0.061*mayonaise + 0.059*sweet onion + 0.043*white rice + 0.041*minced garlic + 0.035*minced onion + 0.031*dried parsley + 0.027*ketchup'),\n",
       " (22,\n",
       "  u'0.076*diced onions + 0.052*lettuce + 0.051*self rising flour + 0.046*provolone cheese + 0.039*grits + 0.030*iceberg lettuce + 0.027*frozen pastry puff sheets + 0.025*shredded cheese + 0.025*romano cheese + 0.024*semi-sweet chocolate morsels'),\n",
       " (23,\n",
       "  u'0.183*lemon juice + 0.085*dijon mustard + 0.052*creole seasoning + 0.042*white pepper + 0.042*pork tenderloin + 0.040*fresh orange juice + 0.039*nutmeg + 0.029*kale + 0.029*mayonaise + 0.028*salmon fillets'),\n",
       " (24,\n",
       "  u'0.076*whipping cream + 0.067*sugar + 0.065*orange juice + 0.061*hot water + 0.056*chopped garlic + 0.039*grated nutmeg + 0.037*bananas + 0.034*bread flour + 0.027*vanilla beans + 0.027*water'),\n",
       " (25,\n",
       "  u'0.067*salt + 0.061*cumin seed + 0.054*onions + 0.044*ground turmeric + 0.043*garam masala + 0.040*green chilies + 0.033*chili powder + 0.031*tomatoes + 0.029*oil + 0.028*clove'),\n",
       " (26,\n",
       "  u'0.084*fish sauce + 0.048*white vinegar + 0.042*sugar + 0.037*lime juice + 0.036*garlic + 0.032*vegetable oil + 0.032*lemongrass + 0.031*shallots + 0.028*water + 0.028*red chili peppers'),\n",
       " (27,\n",
       "  u'0.104*grated parmesan cheese + 0.057*warm water + 0.054*salt + 0.047*shredded mozzarella cheese + 0.044*olive oil + 0.039*ricotta cheese + 0.038*active dry yeast + 0.036*mozzarella cheese + 0.031*italian seasoning + 0.031*eggs'),\n",
       " (28,\n",
       "  u'0.195*shrimp + 0.056*pork + 0.054*baby spinach + 0.033*unsweetened coconut milk + 0.032*fresh tomatoes + 0.031*noodles + 0.030*black mustard seeds + 0.028*jasmine rice + 0.028*sausage casings + 0.024*sea scallops'),\n",
       " (29,\n",
       "  u'0.146*shallots + 0.104*mushrooms + 0.064*white wine vinegar + 0.039*butter + 0.038*mussels + 0.038*olive oil + 0.032*boneless chicken breast + 0.027*dry white wine + 0.026*chopped fresh sage + 0.020*chorizo sausage'),\n",
       " (30,\n",
       "  u'0.087*unsalted butter + 0.086*large eggs + 0.069*sugar + 0.056*salt + 0.050*all-purpose flour + 0.048*heavy cream + 0.038*whole milk + 0.034*vanilla extract + 0.034*granulated sugar + 0.029*large egg yolks'),\n",
       " (31,\n",
       "  u'0.068*ground red pepper + 0.065*salt + 0.056*finely chopped onion + 0.050*chopped celery + 0.045*green beans + 0.042*water + 0.034*hot pepper sauce + 0.034*long grain white rice + 0.032*chopped onion + 0.031*chopped green bell pepper'),\n",
       " (32,\n",
       "  u'0.067*fine sea salt + 0.056*lemon zest + 0.054*fresh spinach + 0.053*water + 0.046*yukon gold potatoes + 0.037*collard greens + 0.034*rice flour + 0.032*tofu + 0.030*dried shiitake mushrooms + 0.029*seasoning salt'),\n",
       " (33,\n",
       "  u'0.142*balsamic vinegar + 0.075*dark soy sauce + 0.067*baguette + 0.054*broccoli + 0.040*arugula + 0.034*mint + 0.033*penne + 0.021*red kidney beans + 0.020*quinoa + 0.019*phyllo dough'),\n",
       " (34,\n",
       "  u'0.082*onions + 0.067*salt + 0.059*garlic + 0.051*olive oil + 0.046*bay leaves + 0.043*ground black pepper + 0.042*chicken stock + 0.039*lemon + 0.037*chicken + 0.035*bacon'),\n",
       " (35,\n",
       "  u'0.096*soy sauce + 0.051*sesame oil + 0.042*sugar + 0.040*corn starch + 0.039*garlic + 0.036*green onions + 0.034*scallions + 0.033*rice vinegar + 0.030*water + 0.029*salt'),\n",
       " (36,\n",
       "  u'0.105*cheese + 0.063*garlic salt + 0.059*rice wine + 0.056*chives + 0.042*chicken breast halves + 0.040*shredded sharp cheddar cheese + 0.039*roasted peanuts + 0.037*Mexican cheese blend + 0.036*non-fat sour cream + 0.033*dashi'),\n",
       " (37,\n",
       "  u'0.215*chicken broth + 0.133*chicken breasts + 0.086*crushed red pepper flakes + 0.045*onions + 0.044*garlic + 0.026*pepper + 0.026*poblano chiles + 0.025*frozen corn + 0.022*olive oil + 0.020*chile powder'),\n",
       " (38,\n",
       "  u'0.068*olive oil + 0.060*red wine vinegar + 0.058*salt + 0.039*garlic + 0.038*fresh basil leaves + 0.038*parmesan cheese + 0.036*extra-virgin olive oil + 0.031*pepper + 0.029*feta cheese crumbles + 0.029*tomatoes'),\n",
       " (39,\n",
       "  u'0.102*canola oil + 0.091*kosher salt + 0.062*fresh lime juice + 0.046*chopped cilantro fresh + 0.046*garlic cloves + 0.031*vegetable oil + 0.031*chiles + 0.029*serrano chile + 0.027*boneless chicken skinless thigh + 0.024*ground black pepper')]"
      ]
     },
     "execution_count": 26,
     "metadata": {},
     "output_type": "execute_result"
    }
   ],
   "source": [
    "topics = lda.show_topics(num_topics=40, num_words=10, formatted=False)\n",
    "lda.show_topics(num_topics=40, num_words=10)"
   ]
  },
  {
   "cell_type": "code",
   "execution_count": 31,
   "metadata": {
    "collapsed": false
   },
   "outputs": [
    {
     "data": {
      "text/plain": [
       "[20, 7, 10, 1, 1, 2]"
      ]
     },
     "execution_count": 31,
     "metadata": {},
     "output_type": "execute_result"
    }
   ],
   "source": [
    "from collections import defaultdict\n",
    "\n",
    "freq = defaultdict(int)\n",
    "for topic in topics:\n",
    "    for word in topic[1]:\n",
    "        freq[word[0]] += 1\n",
    "\n",
    "result = list(map(lambda x: freq[x], ['salt', 'sugar', 'water', 'mushrooms', 'chicken', 'eggs']))\n",
    "result"
   ]
  },
  {
   "cell_type": "code",
   "execution_count": 32,
   "metadata": {
    "collapsed": true
   },
   "outputs": [],
   "source": [
    "def save_answers1(c_salt, c_sugar, c_water, c_mushrooms, c_chicken, c_eggs):\n",
    "    with open(\"cooking_LDA_pa_task1.txt\", \"w\") as fout:\n",
    "        fout.write(\" \".join([str(el) for el in [c_salt, c_sugar, c_water, c_mushrooms, c_chicken, c_eggs]]))\n",
    "\n",
    "save_answers1(*result)"
   ]
  },
  {
   "cell_type": "markdown",
   "metadata": {},
   "source": [
    "### Фильтрация словаря\n",
    "В топах тем гораздо чаще встречаются первые три рассмотренных ингредиента, чем последние три. При этом наличие в рецепте курицы, яиц и грибов яснее дает понять, что мы будем готовить, чем наличие соли, сахара и воды. Таким образом, даже в рецептах есть слова, часто встречающиеся в текстах и не несущие смысловой нагрузки, и поэтому их не желательно видеть в темах. Наиболее простой прием борьбы с такими фоновыми элементами — фильтрация словаря по частоте. Обычно словарь фильтруют с двух сторон: убирают очень редкие слова (в целях экономии памяти) и очень частые слова (в целях повышения интерпретируемости тем). Мы уберем только частые слова."
   ]
  },
  {
   "cell_type": "code",
   "execution_count": 33,
   "metadata": {
    "collapsed": true
   },
   "outputs": [],
   "source": [
    "import copy\n",
    "dictionary2 = copy.deepcopy(dictionary)"
   ]
  },
  {
   "cell_type": "markdown",
   "metadata": {},
   "source": [
    "__Задание 2.__ У объекта dictionary2 есть переменная *dfs* — это словарь, ключами которого являются id токена, а элементами — число раз, сколько слово встретилось во всей коллекции. Сохраните в отдельный список ингредиенты, которые встретились в коллекции больше 4000 раз. Вызовите метод словаря *filter_tokens*, подав в качестве первого аргумента полученный список популярных ингредиентов. Вычислите две величины: dict_size_before и dict_size_after — размер словаря до и после фильтрации.\n",
    "\n",
    "Затем, используя новый словарь, создайте новый корпус документов, corpus2, по аналогии с тем, как это сделано в начале ноутбука. Вычислите две величины: corpus_size_before и corpus_size_after — суммарное количество ингредиентов в корпусе (для каждого документа вычислите число различных ингредиентов в нем и просуммируйте по всем документам) до и после фильтрации.\n",
    "\n",
    "Передайте величины dict_size_before, dict_size_after, corpus_size_before, corpus_size_after в функцию save_answers2 и загрузите сгенерированный файл в форму."
   ]
  },
  {
   "cell_type": "code",
   "execution_count": 41,
   "metadata": {
    "collapsed": false
   },
   "outputs": [
    {
     "data": {
      "text/plain": [
       "(6714, 6702)"
      ]
     },
     "execution_count": 41,
     "metadata": {},
     "output_type": "execute_result"
    }
   ],
   "source": [
    "indices_to_remove = list(map(lambda x: x[0], filter(lambda x: x[1] > 4000, dictionary2.dfs.items())))\n",
    "dictionary2.filter_tokens(indices_to_remove)\n",
    "\n",
    "dict_size_before = len(dictionary.dfs)\n",
    "dict_size_after = len(dictionary2.dfs)\n",
    "\n",
    "dict_size_before, dict_size_after"
   ]
  },
  {
   "cell_type": "code",
   "execution_count": 42,
   "metadata": {
    "collapsed": false
   },
   "outputs": [
    {
     "data": {
      "text/plain": [
       "(428249, 343665)"
      ]
     },
     "execution_count": 42,
     "metadata": {},
     "output_type": "execute_result"
    }
   ],
   "source": [
    "from functools import reduce\n",
    "\n",
    "corpus2 = [dictionary2.doc2bow(text) for text in texts]\n",
    "\n",
    "corpus_size_before = reduce(lambda acc, val: acc + len(val), corpus, 0)\n",
    "corpus_size_after = reduce(lambda acc, val: acc + len(val), corpus2, 0)\n",
    "\n",
    "corpus_size_before, corpus_size_after"
   ]
  },
  {
   "cell_type": "code",
   "execution_count": 43,
   "metadata": {
    "collapsed": true
   },
   "outputs": [],
   "source": [
    "def save_answers2(dict_size_before, dict_size_after, corpus_size_before, corpus_size_after):\n",
    "    with open(\"cooking_LDA_pa_task2.txt\", \"w\") as fout:\n",
    "        fout.write(\" \".join([str(el) for el in [dict_size_before, dict_size_after, corpus_size_before, corpus_size_after]]))\n",
    "\n",
    "save_answers2(dict_size_before, dict_size_after, corpus_size_before, corpus_size_after)"
   ]
  },
  {
   "cell_type": "markdown",
   "metadata": {},
   "source": [
    "### Сравнение когерентностей\n",
    "__Задание 3.__ Постройте еще одну модель по корпусу corpus2 и словарю dictionary2, остальные параметры оставьте такими же, как при первом построении модели. Сохраните новую модель в другую переменную (не перезаписывайте предыдущую модель). Не забудьте про фиксирование seed!\n",
    "\n",
    "Затем воспользуйтесь методом *top_topics* модели, чтобы вычислить ее когерентность. Передайте в качестве аргумента соответствующий модели корпус. Метод вернет список кортежей (топ токенов, когерентность), отсортированных по убыванию последней. Вычислите среднюю по всем темам когерентность для каждой из двух моделей и передайте в функцию save_answers3. "
   ]
  },
  {
   "cell_type": "code",
   "execution_count": 44,
   "metadata": {
    "collapsed": true
   },
   "outputs": [],
   "source": [
    "np.random.seed(76543)\n",
    "lda2 = models.ldamodel.LdaModel(corpus2, passes=5, num_topics=40, id2word=dictionary2)"
   ]
  },
  {
   "cell_type": "code",
   "execution_count": 46,
   "metadata": {
    "collapsed": true
   },
   "outputs": [],
   "source": [
    "coh = lda.top_topics(corpus)\n",
    "coh2 = lda2.top_topics(corpus2)"
   ]
  },
  {
   "cell_type": "code",
   "execution_count": 50,
   "metadata": {
    "collapsed": false
   },
   "outputs": [],
   "source": [
    "mean = sum(map(lambda x: x[1], coh))/len(coh)\n",
    "mean2 = sum(map(lambda x: x[1], coh2))/len(coh2)"
   ]
  },
  {
   "cell_type": "code",
   "execution_count": 51,
   "metadata": {
    "collapsed": true
   },
   "outputs": [],
   "source": [
    "def save_answers3(coherence, coherence2):\n",
    "    with open(\"cooking_LDA_pa_task3.txt\", \"w\") as fout:\n",
    "        fout.write(\" \".join([\"%3f\"%el for el in [coherence, coherence2]]))\n",
    "\n",
    "save_answers3(mean, mean2)"
   ]
  },
  {
   "cell_type": "markdown",
   "metadata": {},
   "source": [
    "Считается, что когерентность хорошо соотносится с человеческими оценками интерпретируемости тем. Поэтому на больших текстовых коллекциях когерентность обычно повышается, если убрать фоновую лексику. Однако в нашем случае этого не произошло. "
   ]
  },
  {
   "cell_type": "markdown",
   "metadata": {},
   "source": [
    "### Изучение влияния гиперпараметра alpha"
   ]
  },
  {
   "cell_type": "markdown",
   "metadata": {},
   "source": [
    "В этом разделе мы будем работать со второй моделью, то есть той, которая построена по сокращенному корпусу. \n",
    "\n",
    "Пока что мы посмотрели только на матрицу темы-слова, теперь давайте посмотрим на матрицу темы-документы. Выведите темы для нулевого (или любого другого) документа из корпуса, воспользовавшись методом *get_document_topics* второй модели:"
   ]
  },
  {
   "cell_type": "code",
   "execution_count": 54,
   "metadata": {
    "collapsed": false
   },
   "outputs": [
    {
     "data": {
      "text/plain": [
       "[(5, 0.14058754595068232),\n",
       " (6, 0.22514899981620165),\n",
       " (7, 0.14363845423311528),\n",
       " (15, 0.12812499999999982),\n",
       " (18, 0.12812499999999982),\n",
       " (39, 0.12812499999999982)]"
      ]
     },
     "execution_count": 54,
     "metadata": {},
     "output_type": "execute_result"
    }
   ],
   "source": [
    "lda2.get_document_topics(corpus2[0])"
   ]
  },
  {
   "cell_type": "markdown",
   "metadata": {},
   "source": [
    "Также выведите содержимое переменной *.alpha* второй модели:"
   ]
  },
  {
   "cell_type": "code",
   "execution_count": 55,
   "metadata": {
    "collapsed": false
   },
   "outputs": [
    {
     "data": {
      "text/plain": [
       "array([ 0.025,  0.025,  0.025,  0.025,  0.025,  0.025,  0.025,  0.025,\n",
       "        0.025,  0.025,  0.025,  0.025,  0.025,  0.025,  0.025,  0.025,\n",
       "        0.025,  0.025,  0.025,  0.025,  0.025,  0.025,  0.025,  0.025,\n",
       "        0.025,  0.025,  0.025,  0.025,  0.025,  0.025,  0.025,  0.025,\n",
       "        0.025,  0.025,  0.025,  0.025,  0.025,  0.025,  0.025,  0.025])"
      ]
     },
     "execution_count": 55,
     "metadata": {},
     "output_type": "execute_result"
    }
   ],
   "source": [
    "lda2.alpha"
   ]
  },
  {
   "cell_type": "markdown",
   "metadata": {},
   "source": [
    "У вас должно получиться, что документ характеризуется небольшим числом тем. Попробуем поменять гиперпараметр alpha, задающий априорное распределение Дирихле для распределений тем в документах."
   ]
  },
  {
   "cell_type": "markdown",
   "metadata": {},
   "source": [
    "__Задание 4.__ Обучите третью модель: используйте сокращенный корпус (corpus2 и dictionary2) и установите параметр __alpha=1__, passes=5. Не забудьте про фиксацию seed! Выведите темы новой модели для нулевого документа; должно получиться, что распределение над множеством тем практически равномерное. Чтобы убедиться в том, что во второй модели документы описываются гораздо более разреженными распределениями, чем в третьей, посчитайте суммарное количество элементов, __превосходящих 0.01__, в матрицах темы-документы обеих моделей. Другими словами, запросите темы  модели для каждого документа с параметром *minimum_probability=0.01* и просуммируйте число элементов в получаемых массивах. Передайте две суммы (сначала для модели с alpha по умолчанию, затем для модели в alpha=1) в функцию save_answers4."
   ]
  },
  {
   "cell_type": "code",
   "execution_count": 56,
   "metadata": {
    "collapsed": true
   },
   "outputs": [],
   "source": [
    "np.random.seed(76543)\n",
    "lda3 = models.ldamodel.LdaModel(corpus2, alpha=1, passes=5, num_topics=40, id2word=dictionary2)"
   ]
  },
  {
   "cell_type": "code",
   "execution_count": 58,
   "metadata": {
    "collapsed": false
   },
   "outputs": [
    {
     "data": {
      "text/plain": [
       "[(0, 0.021283855955016605),\n",
       " (1, 0.021294391497456037),\n",
       " (2, 0.021278254338950676),\n",
       " (3, 0.021421711297509083),\n",
       " (4, 0.021378098705802429),\n",
       " (5, 0.12168777682573077),\n",
       " (6, 0.021345905719371519),\n",
       " (7, 0.021303277597398213),\n",
       " (8, 0.021282937024023261),\n",
       " (9, 0.02128359364633842),\n",
       " (10, 0.021295590512161469),\n",
       " (11, 0.021357614168111941),\n",
       " (12, 0.02128911582156473),\n",
       " (13, 0.02127947346275735),\n",
       " (14, 0.021276596259972337),\n",
       " (15, 0.021472450618675056),\n",
       " (16, 0.024538743738340849),\n",
       " (17, 0.021292251985376341),\n",
       " (18, 0.04257318531568903),\n",
       " (19, 0.021313348501877171),\n",
       " (20, 0.042553399353797039),\n",
       " (21, 0.021276595745363003),\n",
       " (22, 0.021277531821809713),\n",
       " (23, 0.021317711410833124),\n",
       " (24, 0.021491525700527925),\n",
       " (25, 0.021498858155655175),\n",
       " (26, 0.021299552586809919),\n",
       " (27, 0.021287970722469084),\n",
       " (28, 0.021276595744680854),\n",
       " (29, 0.021314469464996127),\n",
       " (30, 0.021276595744680854),\n",
       " (31, 0.021287224257497545),\n",
       " (32, 0.021334387074144485),\n",
       " (33, 0.021445536768945925),\n",
       " (34, 0.021276595744680854),\n",
       " (35, 0.021276596249344044),\n",
       " (36, 0.021276779202469707),\n",
       " (37, 0.022421632537394858),\n",
       " (38, 0.021276595744680854),\n",
       " (39, 0.021285672977095788)]"
      ]
     },
     "execution_count": 58,
     "metadata": {},
     "output_type": "execute_result"
    }
   ],
   "source": [
    "lda3.get_document_topics(corpus2[0])"
   ]
  },
  {
   "cell_type": "code",
   "execution_count": 61,
   "metadata": {
    "collapsed": false
   },
   "outputs": [],
   "source": [
    "count2 = reduce(lambda acc, val: acc + len(val), lda2.get_document_topics(corpus2, minimum_probability=0.01), 0)\n",
    "count3 = reduce(lambda acc, val: acc + len(val), lda3.get_document_topics(corpus2, minimum_probability=0.01), 0)"
   ]
  },
  {
   "cell_type": "code",
   "execution_count": 62,
   "metadata": {
    "collapsed": true
   },
   "outputs": [],
   "source": [
    "def save_answers4(count_model2, count_model3):\n",
    "    with open(\"cooking_LDA_pa_task4.txt\", \"w\") as fout:\n",
    "        fout.write(\" \".join([str(el) for el in [count_model2, count_model3]]))\n",
    "\n",
    "save_answers4(count2, count3)"
   ]
  },
  {
   "cell_type": "markdown",
   "metadata": {},
   "source": [
    "Таким образом, гиперпараметр __alpha__ влияет на разреженность распределений тем в документах. Аналогично гиперпараметр __eta__ влияет на разреженность распределений слов в темах."
   ]
  },
  {
   "cell_type": "markdown",
   "metadata": {},
   "source": [
    "### LDA как способ понижения размерности\n",
    "Иногда, распределения над темами, найденные с помощью LDA, добавляют в матрицу объекты-признаки как дополнительные, семантические, признаки, и это может улучшить качество решения задачи. Для простоты давайте просто обучим классификатор рецептов на кухни на признаках, полученных из LDA, и измерим точность (accuracy).\n",
    "\n",
    "__Задание 5.__ Используйте модель, построенную по сокращенной выборке с alpha по умолчанию (вторую модель). Составьте матрицу $\\Theta = p(t|d)$ вероятностей тем в документах; вы можете использовать тот же метод get_document_topics, а также вектор правильных ответов y (в том же порядке, в котором рецепты идут в переменной recipes). Создайте объект RandomForestClassifier со 100 деревьями, с помощью функции cross_val_score вычислите среднюю accuracy по трем фолдам (перемешивать данные не нужно) и передайте в функцию save_answers5."
   ]
  },
  {
   "cell_type": "code",
   "execution_count": 13,
   "metadata": {
    "collapsed": true
   },
   "outputs": [],
   "source": [
    "from sklearn.ensemble import RandomForestClassifier\n",
    "from sklearn.cross_validation import cross_val_score"
   ]
  },
  {
   "cell_type": "code",
   "execution_count": 63,
   "metadata": {
    "collapsed": true
   },
   "outputs": [],
   "source": [
    "topics = lda2.get_document_topics(corpus2)"
   ]
  },
  {
   "cell_type": "code",
   "execution_count": 64,
   "metadata": {
    "collapsed": true
   },
   "outputs": [],
   "source": [
    "theta = np.zeros((len(topics), 40))\n",
    "for i, topic in enumerate(topics):\n",
    "    for t in topic:\n",
    "        theta[i, t[0]] = t[1]\n",
    "\n",
    "y = list(map(lambda x: x['cuisine'], recipes))"
   ]
  },
  {
   "cell_type": "code",
   "execution_count": 65,
   "metadata": {
    "collapsed": true
   },
   "outputs": [],
   "source": [
    "clf = RandomForestClassifier(n_estimators=100)\n",
    "score = cross_val_score(clf, theta, y).mean()"
   ]
  },
  {
   "cell_type": "code",
   "execution_count": 66,
   "metadata": {
    "collapsed": true
   },
   "outputs": [],
   "source": [
    "def save_answers5(accuracy):\n",
    "     with open(\"cooking_LDA_pa_task5.txt\", \"w\") as fout:\n",
    "        fout.write(str(accuracy))\n",
    "\n",
    "save_answers5(score)"
   ]
  },
  {
   "cell_type": "markdown",
   "metadata": {},
   "source": [
    "Для такого большого количества классов это неплохая точность. Вы можете попроовать обучать RandomForest на исходной матрице частот слов, имеющей значительно большую размерность, и увидеть, что accuracy увеличивается на 10–15%. Таким образом, LDA собрал не всю, но достаточно большую часть информации из выборки, в матрице низкого ранга."
   ]
  },
  {
   "cell_type": "markdown",
   "metadata": {},
   "source": [
    "### LDA — вероятностная модель\n",
    "Матричное разложение, использующееся в LDA, интерпретируется как следующий процесс генерации документов.\n",
    "\n",
    "Для документа $d$ длины $n_d$:\n",
    "1. Из априорного распределения Дирихле с параметром alpha сгенерировать распределение над множеством тем: $\\theta_d \\sim Dirichlet(\\alpha)$\n",
    "1. Для каждого слова $w = 1, \\dots, n_d$:\n",
    "    1. Сгенерировать тему из дискретного распределения $t \\sim \\theta_{d}$\n",
    "    1. Сгенерировать слово из дискретного распределения $w \\sim \\phi_{t}$.\n",
    "    \n",
    "Подробнее об этом в [Википедии](https://en.wikipedia.org/wiki/Latent_Dirichlet_allocation).\n",
    "\n",
    "В контексте нашей задачи получается, что, используя данный генеративный процесс, можно создавать новые рецепты. Вы можете передать в функцию модель и число ингредиентов и сгенерировать рецепт :)"
   ]
  },
  {
   "cell_type": "code",
   "execution_count": 15,
   "metadata": {
    "collapsed": false
   },
   "outputs": [],
   "source": [
    "def generate_recipe(model, num_ingredients):\n",
    "    theta = np.random.dirichlet(model.alpha)\n",
    "    for i in range(num_ingredients):\n",
    "        t = np.random.choice(np.arange(model.num_topics), p=theta)\n",
    "        topic = model.show_topic(t, topn=model.num_terms)\n",
    "        topic_distr = [x[1] for x in topic]\n",
    "        terms = [x[0] for x in topic]\n",
    "        w = np.random.choice(terms, p=topic_distr)\n",
    "        print(w)"
   ]
  },
  {
   "cell_type": "code",
   "execution_count": 67,
   "metadata": {
    "collapsed": false
   },
   "outputs": [
    {
     "name": "stdout",
     "output_type": "stream",
     "text": [
      "black peppercorns\n",
      "crushed red pepper\n",
      "bacon\n",
      "coarse salt\n",
      "capers\n"
     ]
    }
   ],
   "source": [
    "generate_recipe(lda3, 5)"
   ]
  },
  {
   "cell_type": "markdown",
   "metadata": {},
   "source": [
    "### Интерпретация построенной модели\n",
    "Вы можете рассмотреть топы ингредиентов каждой темы. Большиснтво тем сами по себе похожи на рецепты; в некоторых собираются продукты одного вида, например, свежие фрукты или разные виды сыра.\n",
    "\n",
    "Попробуем эмпирически соотнести наши темы с национальными кухнями (cuisine). Построим матрицу $A$ размера темы $x$ кухни, ее элементы $a_{tc}$ — суммы $p(t|d)$ по всем документам $d$, которые отнесены к кухне $c$. Нормируем матрицу на частоты рецептов по разным кухням, чтобы избежать дисбаланса между кухнями. Следующая функция получает на вход объект модели, объект корпуса и исходные данные и возвращает нормированную матрицу $A$. Ее удобно визуализировать с помощью seaborn."
   ]
  },
  {
   "cell_type": "code",
   "execution_count": 16,
   "metadata": {
    "collapsed": true
   },
   "outputs": [],
   "source": [
    "import pandas\n",
    "import seaborn\n",
    "from matplotlib import pyplot as plt\n",
    "%matplotlib inline"
   ]
  },
  {
   "cell_type": "code",
   "execution_count": 17,
   "metadata": {
    "collapsed": true
   },
   "outputs": [],
   "source": [
    "def compute_topic_cuisine_matrix(model, corpus, recipes):\n",
    "    # составляем вектор целевых признаков\n",
    "    targets = list(set([recipe[\"cuisine\"] for recipe in recipes]))\n",
    "    # составляем матрицу\n",
    "    tc_matrix = pandas.DataFrame(data=np.zeros((model.num_topics, len(targets))), columns=targets)\n",
    "    for recipe, bow in zip(recipes, corpus):\n",
    "        recipe_topic = model.get_document_topics(bow)\n",
    "        for t, prob in recipe_topic:\n",
    "            tc_matrix[recipe[\"cuisine\"]][t] += prob\n",
    "    # нормируем матрицу\n",
    "    target_sums = pandas.DataFrame(data=np.zeros((1, len(targets))), columns=targets)\n",
    "    for recipe in recipes:\n",
    "        target_sums[recipe[\"cuisine\"]] += 1\n",
    "    return pandas.DataFrame(tc_matrix.values/target_sums.values, columns=tc_matrix.columns)"
   ]
  },
  {
   "cell_type": "code",
   "execution_count": 18,
   "metadata": {
    "collapsed": true
   },
   "outputs": [],
   "source": [
    "def plot_matrix(tc_matrix):\n",
    "    plt.figure(figsize=(10, 10))\n",
    "    seaborn.heatmap(tc_matrix, square=True)"
   ]
  },
  {
   "cell_type": "code",
   "execution_count": 69,
   "metadata": {
    "collapsed": false
   },
   "outputs": [
    {
     "data": {
      "image/png": "[encoded data removed]",
      "text/plain": [
       "<matplotlib.figure.Figure at 0x3fb1940>"
      ]
     },
     "metadata": {},
     "output_type": "display_data"
    }
   ],
   "source": [
    "# Визуализируйте матрицу\n",
    "matrix = compute_topic_cuisine_matrix(lda2, corpus2, recipes)\n",
    "plot_matrix(matrix)"
   ]
  },
  {
   "cell_type": "markdown",
   "metadata": {},
   "source": [
    "Чем темнее квадрат в матрице, тем больше связь этой темы с данной кухней. Мы видим, что у нас есть темы, которые связаны с несколькими кухнями. Такие темы показывают набор ингредиентов, которые популярны в кухнях нескольких народов, то есть указывают на схожесть кухонь этих народов. Некоторые темы распределены по всем кухням равномерно, они показывают наборы продуктов, которые часто используются в кулинарии всех стран. "
   ]
  },
  {
   "cell_type": "markdown",
   "metadata": {},
   "source": [
    "Жаль, что в датасете нет названий рецептов, иначе темы было бы проще интерпретировать..."
   ]
  },
  {
   "cell_type": "markdown",
   "metadata": {},
   "source": [
    "### Заключение\n",
    "В этом задании вы построили несколько моделей LDA, посмотрели, на что влияют гиперпараметры модели и как можно использовать построенную модель. "
   ]
  }
 ],
 "metadata": {
  "anaconda-cloud": {},
  "kernelspec": {
   "display_name": "Python [Root]",
   "language": "python",
   "name": "Python [Root]"
  },
  "language_info": {
   "codemirror_mode": {
    "name": "ipython",
    "version": 2
   },
   "file_extension": ".py",
   "mimetype": "text/x-python",
   "name": "python",
   "nbconvert_exporter": "python",
   "pygments_lexer": "ipython2",
   "version": "2.7.12"
  }
 },
 "nbformat": 4,
 "nbformat_minor": 0
}
