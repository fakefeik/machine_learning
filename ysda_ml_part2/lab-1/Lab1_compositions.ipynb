{
 "cells": [
  {
   "cell_type": "markdown",
   "metadata": {},
   "source": [
    "# Лабораторная 2: Композиции"
   ]
  },
  {
   "cell_type": "markdown",
   "metadata": {},
   "source": [
    "Результат лабораторной работы − отчет. Мы предпочитаем принимать отчеты в формате ноутбуков IPython (ipynb-файл). Постарайтесь сделать ваш отчет интересным рассказом, последовательно отвечающим на вопросы из заданий. Помимо ответов на вопросы, в отчете так же должен быть код, однако чем меньше кода, тем лучше всем: нам − меньше проверять, вам − проще найти ошибку или дополнить эксперимент. При проверке оценивается четкость ответов на вопросы, аккуратность отчета и кода.\n",
    "\n",
    "Задания, признанные преподавателями плагиатом, будут оценены нулем баллов и понижают карму (подробнее о плагиате см. на странице курса)."
   ]
  },
  {
   "cell_type": "markdown",
   "metadata": {},
   "source": [
    "## Подготовка данных"
   ]
  },
  {
   "cell_type": "markdown",
   "metadata": {},
   "source": [
    "Изучите [датасет](http://archive.ics.uci.edu/ml/datasets/BlogFeedback). Каждый объект $-$ пост в блоге. Он описывается различными признаками: длина текста поста, наличие наиболее частотных слов, день недели, количество комментариев за последние 24 часа и т.п., а так же целевым признаком - количеством комментариев к посту. Полный список признаков и описание находятся на странице датасета. Вам предлагается решать задачу регресии, используя метрику качества [MSE](https://en.wikipedia.org/wiki/Mean_squared_error).\n"
   ]
  },
  {
   "cell_type": "markdown",
   "metadata": {},
   "source": [
    "![](http://i.imgur.com/zE95i7e.png)"
   ]
  },
  {
   "cell_type": "markdown",
   "metadata": {},
   "source": [
    "Загрузите датасет и произвольно разбейте данные из файла **blogData_train.csv** на обучающую и тестовую выборки в пропорциях 1 к 4 соответственно. Обратите внимание, что обучающая выборка меньше тестовой. Такая большая тестовая выборка позволит сделать измерения качества моделей достаточно достоверным."
   ]
  },
  {
   "cell_type": "code",
   "execution_count": 14,
   "metadata": {
    "collapsed": true
   },
   "outputs": [],
   "source": [
    "import numpy as np\n",
    "import pandas as pd\n",
    "import xgboost as xgb\n",
    "import matplotlib.pyplot as plt\n",
    "from tqdm import tqdm_notebook as tqdm\n",
    "\n",
    "from sklearn.tree import DecisionTreeClassifier, DecisionTreeRegressor\n",
    "from sklearn.metrics import mean_squared_error, accuracy_score\n",
    "from sklearn.ensemble import BaggingRegressor, RandomForestClassifier, RandomForestRegressor, GradientBoostingRegressor\n",
    "from sklearn.linear_model import LogisticRegression\n",
    "from sklearn.model_selection import train_test_split, cross_val_predict\n",
    "\n",
    "%matplotlib inline"
   ]
  },
  {
   "cell_type": "code",
   "execution_count": 79,
   "metadata": {
    "collapsed": true
   },
   "outputs": [],
   "source": [
    "data = pd.read_csv('./blogData_train.csv', names=[f'f{i}' for i in range(280)] + ['target'])\n",
    "X, y = data.drop('target', axis=1), data['target']\n",
    "X_train, X_test, y_train, y_test = train_test_split(X, y, test_size=0.8, random_state=42)"
   ]
  },
  {
   "cell_type": "code",
   "execution_count": 80,
   "metadata": {},
   "outputs": [
    {
     "data": {
      "text/html": [
       "<div>\n",
       "<style>\n",
       "    .dataframe thead tr:only-child th {\n",
       "        text-align: right;\n",
       "    }\n",
       "\n",
       "    .dataframe thead th {\n",
       "        text-align: left;\n",
       "    }\n",
       "\n",
       "    .dataframe tbody tr th {\n",
       "        vertical-align: top;\n",
       "    }\n",
       "</style>\n",
       "<table border=\"1\" class=\"dataframe\">\n",
       "  <thead>\n",
       "    <tr style=\"text-align: right;\">\n",
       "      <th></th>\n",
       "      <th>f0</th>\n",
       "      <th>f1</th>\n",
       "      <th>f2</th>\n",
       "      <th>f3</th>\n",
       "      <th>f4</th>\n",
       "      <th>f5</th>\n",
       "      <th>f6</th>\n",
       "      <th>f7</th>\n",
       "      <th>f8</th>\n",
       "      <th>f9</th>\n",
       "      <th>...</th>\n",
       "      <th>f270</th>\n",
       "      <th>f271</th>\n",
       "      <th>f272</th>\n",
       "      <th>f273</th>\n",
       "      <th>f274</th>\n",
       "      <th>f275</th>\n",
       "      <th>f276</th>\n",
       "      <th>f277</th>\n",
       "      <th>f278</th>\n",
       "      <th>f279</th>\n",
       "    </tr>\n",
       "  </thead>\n",
       "  <tbody>\n",
       "    <tr>\n",
       "      <th>15863</th>\n",
       "      <td>53.383335</td>\n",
       "      <td>37.399086</td>\n",
       "      <td>0.0</td>\n",
       "      <td>165.0</td>\n",
       "      <td>49.0</td>\n",
       "      <td>22.383333</td>\n",
       "      <td>22.124464</td>\n",
       "      <td>0.0</td>\n",
       "      <td>110.0</td>\n",
       "      <td>15.0</td>\n",
       "      <td>...</td>\n",
       "      <td>0.0</td>\n",
       "      <td>0.0</td>\n",
       "      <td>1.0</td>\n",
       "      <td>0.0</td>\n",
       "      <td>0.0</td>\n",
       "      <td>0.0</td>\n",
       "      <td>0.0</td>\n",
       "      <td>0.0</td>\n",
       "      <td>0.0</td>\n",
       "      <td>0.0</td>\n",
       "    </tr>\n",
       "    <tr>\n",
       "      <th>13936</th>\n",
       "      <td>34.589355</td>\n",
       "      <td>98.559500</td>\n",
       "      <td>0.0</td>\n",
       "      <td>713.0</td>\n",
       "      <td>2.0</td>\n",
       "      <td>14.205323</td>\n",
       "      <td>55.165180</td>\n",
       "      <td>0.0</td>\n",
       "      <td>596.0</td>\n",
       "      <td>1.0</td>\n",
       "      <td>...</td>\n",
       "      <td>0.0</td>\n",
       "      <td>1.0</td>\n",
       "      <td>0.0</td>\n",
       "      <td>0.0</td>\n",
       "      <td>0.0</td>\n",
       "      <td>0.0</td>\n",
       "      <td>0.0</td>\n",
       "      <td>0.0</td>\n",
       "      <td>0.0</td>\n",
       "      <td>0.0</td>\n",
       "    </tr>\n",
       "    <tr>\n",
       "      <th>7939</th>\n",
       "      <td>16.593575</td>\n",
       "      <td>19.671364</td>\n",
       "      <td>1.0</td>\n",
       "      <td>144.0</td>\n",
       "      <td>10.0</td>\n",
       "      <td>6.512450</td>\n",
       "      <td>11.051215</td>\n",
       "      <td>0.0</td>\n",
       "      <td>111.0</td>\n",
       "      <td>2.0</td>\n",
       "      <td>...</td>\n",
       "      <td>1.0</td>\n",
       "      <td>0.0</td>\n",
       "      <td>0.0</td>\n",
       "      <td>0.0</td>\n",
       "      <td>0.0</td>\n",
       "      <td>0.0</td>\n",
       "      <td>0.0</td>\n",
       "      <td>0.0</td>\n",
       "      <td>0.0</td>\n",
       "      <td>0.0</td>\n",
       "    </tr>\n",
       "    <tr>\n",
       "      <th>16105</th>\n",
       "      <td>27.230215</td>\n",
       "      <td>45.970950</td>\n",
       "      <td>0.0</td>\n",
       "      <td>371.0</td>\n",
       "      <td>14.0</td>\n",
       "      <td>10.784173</td>\n",
       "      <td>24.209942</td>\n",
       "      <td>0.0</td>\n",
       "      <td>228.0</td>\n",
       "      <td>4.0</td>\n",
       "      <td>...</td>\n",
       "      <td>1.0</td>\n",
       "      <td>0.0</td>\n",
       "      <td>0.0</td>\n",
       "      <td>0.0</td>\n",
       "      <td>0.0</td>\n",
       "      <td>0.0</td>\n",
       "      <td>0.0</td>\n",
       "      <td>0.0</td>\n",
       "      <td>0.0</td>\n",
       "      <td>0.0</td>\n",
       "    </tr>\n",
       "    <tr>\n",
       "      <th>46261</th>\n",
       "      <td>9.080925</td>\n",
       "      <td>11.228800</td>\n",
       "      <td>0.0</td>\n",
       "      <td>97.0</td>\n",
       "      <td>6.0</td>\n",
       "      <td>3.641618</td>\n",
       "      <td>6.549403</td>\n",
       "      <td>0.0</td>\n",
       "      <td>97.0</td>\n",
       "      <td>2.0</td>\n",
       "      <td>...</td>\n",
       "      <td>0.0</td>\n",
       "      <td>0.0</td>\n",
       "      <td>0.0</td>\n",
       "      <td>0.0</td>\n",
       "      <td>0.0</td>\n",
       "      <td>0.0</td>\n",
       "      <td>0.0</td>\n",
       "      <td>0.0</td>\n",
       "      <td>0.0</td>\n",
       "      <td>0.0</td>\n",
       "    </tr>\n",
       "  </tbody>\n",
       "</table>\n",
       "<p>5 rows × 280 columns</p>\n",
       "</div>"
      ],
      "text/plain": [
       "              f0         f1   f2     f3    f4         f5         f6   f7  \\\n",
       "15863  53.383335  37.399086  0.0  165.0  49.0  22.383333  22.124464  0.0   \n",
       "13936  34.589355  98.559500  0.0  713.0   2.0  14.205323  55.165180  0.0   \n",
       "7939   16.593575  19.671364  1.0  144.0  10.0   6.512450  11.051215  0.0   \n",
       "16105  27.230215  45.970950  0.0  371.0  14.0  10.784173  24.209942  0.0   \n",
       "46261   9.080925  11.228800  0.0   97.0   6.0   3.641618   6.549403  0.0   \n",
       "\n",
       "          f8    f9  ...   f270  f271  f272  f273  f274  f275  f276  f277  \\\n",
       "15863  110.0  15.0  ...    0.0   0.0   1.0   0.0   0.0   0.0   0.0   0.0   \n",
       "13936  596.0   1.0  ...    0.0   1.0   0.0   0.0   0.0   0.0   0.0   0.0   \n",
       "7939   111.0   2.0  ...    1.0   0.0   0.0   0.0   0.0   0.0   0.0   0.0   \n",
       "16105  228.0   4.0  ...    1.0   0.0   0.0   0.0   0.0   0.0   0.0   0.0   \n",
       "46261   97.0   2.0  ...    0.0   0.0   0.0   0.0   0.0   0.0   0.0   0.0   \n",
       "\n",
       "       f278  f279  \n",
       "15863   0.0   0.0  \n",
       "13936   0.0   0.0  \n",
       "7939    0.0   0.0  \n",
       "16105   0.0   0.0  \n",
       "46261   0.0   0.0  \n",
       "\n",
       "[5 rows x 280 columns]"
      ]
     },
     "execution_count": 80,
     "metadata": {},
     "output_type": "execute_result"
    }
   ],
   "source": [
    "X_train.head()"
   ]
  },
  {
   "cell_type": "code",
   "execution_count": 81,
   "metadata": {},
   "outputs": [
    {
     "data": {
      "text/plain": [
       "15863    61.0\n",
       "13936     1.0\n",
       "7939      0.0\n",
       "16105     2.0\n",
       "46261     5.0\n",
       "Name: target, dtype: float64"
      ]
     },
     "execution_count": 81,
     "metadata": {},
     "output_type": "execute_result"
    }
   ],
   "source": [
    "y_train.head()"
   ]
  },
  {
   "cell_type": "markdown",
   "metadata": {},
   "source": [
    "## Bias-Variance decomposition"
   ]
  },
  {
   "cell_type": "markdown",
   "metadata": {},
   "source": [
    "![](http://scott.fortmann-roe.com/docs/docs/BiasVariance/biasvariance.png)\n",
    "\n",
    "Исследуем bias-variance разложение (см. слайды 9–13 из [второй лекции](https://www.dropbox.com/s/sofa55wzmsyszsq/slides-Composition-shad-2.pdf?dl=0)) для решающих деревьев различной глубины. К сожалению, на реальных данных невозможно вычислять матожидания по всевозможным обучающим выборкам, которые необходимы в формуле bias-variance разложения. Поэтому мы проведем приближенный численный эксперимент с эмпирическими оценками этих матожиданий.\n",
    "\n",
    "Обозначим вектор истинных меток тестовой выборки за $\\ f$. С помощью бутстраппинга можно просемплировать из обучающей выборки $N$ новых обучающих выборок того же размера, тем самым \"имитируя\" пространство всевозможных обучающих выборок. На каждой такой выборке можно обучить решающее дерево. Векторы прогнозов решающих деревьев для объектов из тестовой выборки обозначим за $y_i, i \\in \\{1, .., N\\}$. Тогда средний квадрат ошибки по всем моделям на тестовой выборке можно записать как $$error=\\frac{1}{N}\\sum_{i=1}^{N}MSE(f,y_i).$$\n",
    "\n",
    "Обозначим среднее предсказание моделей как $$\\overline y = \\frac{1}{N}\\sum_{i=1}^{N} y_i.$$\n",
    "\n",
    "Тогда квадрат отклонения среднего предсказания всех моделей на тестовой выборке от истинных меток запишется как $$bias^2 = MSE(f, \\overline y).$$\n",
    "\n",
    "Также разброс прогнозов относительно среднего предсказания запишется следующим образом: $$variance = \\frac{1}{N}\\sum_{i=1}^N MSE(y_i, \\overline y).$$\n",
    "\n",
    "\n"
   ]
  },
  {
   "cell_type": "markdown",
   "metadata": {},
   "source": [
    "#### Задание 1 (0.5 балла)\n",
    "Постройте графики зависимости $error$, $bias^2$ и $variance$ от глубины решающего дерева (от 1 до 15 включительно)  для $N=100$. Являются ли какие-то из полученных графиков монотонными? А должны ли они быть монотонными, если бы гипотетически эксперименты были проведены на всевозможных выборках? Почему? Убедитесь численно, что верно bias-variance разложение ошибки: $$error = bias^2 + variance.$$\n",
    "\n",
    "(Подсказка: для сэмплирования можно воспользоваться [BaggingRegressor](http://scikit-learn.org/stable/modules/generated/sklearn.ensemble.BaggingRegressor.html))"
   ]
  },
  {
   "cell_type": "code",
   "execution_count": 23,
   "metadata": {
    "collapsed": true
   },
   "outputs": [],
   "source": [
    "def bias_variance_decomposition(get_regressor, parameters):\n",
    "    errors = []\n",
    "    bias2s = []\n",
    "    variances = []\n",
    "    for i in tqdm(parameters):\n",
    "        regressor = BaggingRegressor(get_regressor(i), n_estimators=100, n_jobs=-1)\n",
    "        regressor.fit(X_train, y_train)\n",
    "\n",
    "        predictions = [clf.predict(X_test) for clf in regressor.estimators_]\n",
    "        y_mean = np.mean(predictions, axis=0)\n",
    "\n",
    "        error = np.mean([mean_squared_error(y_test, pred) for pred in predictions])\n",
    "        bias2 = mean_squared_error(y_test, y_mean)\n",
    "        variance = np.mean([mean_squared_error(pred, y_mean) for pred in predictions])\n",
    "\n",
    "        errors.append(error)\n",
    "        bias2s.append(bias2)\n",
    "        variances.append(variance)\n",
    "    \n",
    "    return errors, bias2s, variances\n",
    "\n",
    "def print_bias_variance_decomposition(xs, errors, bias2s, variances):\n",
    "    plt.figure()\n",
    "    plt.xlabel('max_depth')\n",
    "    plt.ylabel('')\n",
    "    plt.plot(xs, errors, label=\"MSE\")\n",
    "    plt.plot(xs, bias2s, label=\"$bias^2$\")\n",
    "    plt.plot(xs, variances, label=\"Variance\")\n",
    "    plt.legend()"
   ]
  },
  {
   "cell_type": "code",
   "execution_count": 24,
   "metadata": {},
   "outputs": [
    {
     "data": {
      "application/vnd.jupyter.widget-view+json": {
       "model_id": "413d39bde1734c1ab50765ef6eec010e",
       "version_major": 2,
       "version_minor": 0
      },
      "text/plain": [
       "A Jupyter Widget"
      ]
     },
     "metadata": {},
     "output_type": "display_data"
    }
   ],
   "source": [
    "xs = list(range(1, 16))\n",
    "errors, bias2s, variances = bias_variance_decomposition(lambda i: DecisionTreeRegressor(max_depth=i), xs)"
   ]
  },
  {
   "cell_type": "code",
   "execution_count": 25,
   "metadata": {},
   "outputs": [
    {
     "data": {
      "image/png": "[encoded data removed]",
      "text/plain": [
       "<matplotlib.figure.Figure at 0x22e9bdcf128>"
      ]
     },
     "metadata": {},
     "output_type": "display_data"
    }
   ],
   "source": [
    "print_bias_variance_decomposition(xs, errors, bias2s, variances)"
   ]
  },
  {
   "cell_type": "markdown",
   "metadata": {},
   "source": [
    "На графике почти монотонны $bias^2$ и Variance, так как с увеличением глубины дерева, модель сильнее подстраивается под обучающую выборку"
   ]
  },
  {
   "cell_type": "code",
   "execution_count": 26,
   "metadata": {},
   "outputs": [
    {
     "data": {
      "text/html": [
       "<div>\n",
       "<style>\n",
       "    .dataframe thead tr:only-child th {\n",
       "        text-align: right;\n",
       "    }\n",
       "\n",
       "    .dataframe thead th {\n",
       "        text-align: left;\n",
       "    }\n",
       "\n",
       "    .dataframe tbody tr th {\n",
       "        vertical-align: top;\n",
       "    }\n",
       "</style>\n",
       "<table border=\"1\" class=\"dataframe\">\n",
       "  <thead>\n",
       "    <tr style=\"text-align: right;\">\n",
       "      <th></th>\n",
       "      <th>bias2+variance</th>\n",
       "      <th>error</th>\n",
       "      <th>max_depth</th>\n",
       "    </tr>\n",
       "  </thead>\n",
       "  <tbody>\n",
       "    <tr>\n",
       "      <th>0</th>\n",
       "      <td>1045.947880</td>\n",
       "      <td>1045.947880</td>\n",
       "      <td>1</td>\n",
       "    </tr>\n",
       "    <tr>\n",
       "      <th>1</th>\n",
       "      <td>853.057897</td>\n",
       "      <td>853.057897</td>\n",
       "      <td>2</td>\n",
       "    </tr>\n",
       "    <tr>\n",
       "      <th>2</th>\n",
       "      <td>833.501568</td>\n",
       "      <td>833.501568</td>\n",
       "      <td>3</td>\n",
       "    </tr>\n",
       "    <tr>\n",
       "      <th>3</th>\n",
       "      <td>877.901427</td>\n",
       "      <td>877.901427</td>\n",
       "      <td>4</td>\n",
       "    </tr>\n",
       "    <tr>\n",
       "      <th>4</th>\n",
       "      <td>962.960729</td>\n",
       "      <td>962.960729</td>\n",
       "      <td>5</td>\n",
       "    </tr>\n",
       "    <tr>\n",
       "      <th>5</th>\n",
       "      <td>1077.893532</td>\n",
       "      <td>1077.893532</td>\n",
       "      <td>6</td>\n",
       "    </tr>\n",
       "    <tr>\n",
       "      <th>6</th>\n",
       "      <td>1126.538539</td>\n",
       "      <td>1126.538539</td>\n",
       "      <td>7</td>\n",
       "    </tr>\n",
       "    <tr>\n",
       "      <th>7</th>\n",
       "      <td>1213.412631</td>\n",
       "      <td>1213.412631</td>\n",
       "      <td>8</td>\n",
       "    </tr>\n",
       "    <tr>\n",
       "      <th>8</th>\n",
       "      <td>1251.624051</td>\n",
       "      <td>1251.624051</td>\n",
       "      <td>9</td>\n",
       "    </tr>\n",
       "    <tr>\n",
       "      <th>9</th>\n",
       "      <td>1265.487998</td>\n",
       "      <td>1265.487998</td>\n",
       "      <td>10</td>\n",
       "    </tr>\n",
       "    <tr>\n",
       "      <th>10</th>\n",
       "      <td>1285.252036</td>\n",
       "      <td>1285.252036</td>\n",
       "      <td>11</td>\n",
       "    </tr>\n",
       "    <tr>\n",
       "      <th>11</th>\n",
       "      <td>1312.998269</td>\n",
       "      <td>1312.998269</td>\n",
       "      <td>12</td>\n",
       "    </tr>\n",
       "    <tr>\n",
       "      <th>12</th>\n",
       "      <td>1304.828461</td>\n",
       "      <td>1304.828461</td>\n",
       "      <td>13</td>\n",
       "    </tr>\n",
       "    <tr>\n",
       "      <th>13</th>\n",
       "      <td>1358.704783</td>\n",
       "      <td>1358.704783</td>\n",
       "      <td>14</td>\n",
       "    </tr>\n",
       "    <tr>\n",
       "      <th>14</th>\n",
       "      <td>1340.549521</td>\n",
       "      <td>1340.549521</td>\n",
       "      <td>15</td>\n",
       "    </tr>\n",
       "  </tbody>\n",
       "</table>\n",
       "</div>"
      ],
      "text/plain": [
       "    bias2+variance        error  max_depth\n",
       "0      1045.947880  1045.947880          1\n",
       "1       853.057897   853.057897          2\n",
       "2       833.501568   833.501568          3\n",
       "3       877.901427   877.901427          4\n",
       "4       962.960729   962.960729          5\n",
       "5      1077.893532  1077.893532          6\n",
       "6      1126.538539  1126.538539          7\n",
       "7      1213.412631  1213.412631          8\n",
       "8      1251.624051  1251.624051          9\n",
       "9      1265.487998  1265.487998         10\n",
       "10     1285.252036  1285.252036         11\n",
       "11     1312.998269  1312.998269         12\n",
       "12     1304.828461  1304.828461         13\n",
       "13     1358.704783  1358.704783         14\n",
       "14     1340.549521  1340.549521         15"
      ]
     },
     "execution_count": 26,
     "metadata": {},
     "output_type": "execute_result"
    }
   ],
   "source": [
    "pd.DataFrame.from_dict({'max_depth': xs, 'error': errors, 'bias2+variance': np.array(bias2s) + np.array(variances)})"
   ]
  },
  {
   "cell_type": "markdown",
   "metadata": {},
   "source": [
    "По таблице видно, что bias-variance разложение ошибки верно"
   ]
  },
  {
   "cell_type": "markdown",
   "metadata": {},
   "source": [
    "## Композиции алгоритмов\n",
    "\n",
    "Несмотря на описанный выше недостаток решающих деревьев, объединение их в композиции позволяет существенно улучшить качество предсказания. Рассмотрим несколько способов построения композиций."
   ]
  },
  {
   "cell_type": "markdown",
   "metadata": {},
   "source": [
    "![](http://i.imgur.com/XztXz7n.png?)"
   ]
  },
  {
   "cell_type": "markdown",
   "metadata": {},
   "source": [
    "### Bagging + RSM vs RandomForest\n",
    "\n",
    "![](https://sites.google.com/site/rajhansgondane2506/_/rsrc/1467898300734/publications/rrftrain.jpg?height=215&width=320)\n",
    "\n",
    "Один из способов объединения алгоритмов в композиции — обучение каждого отдельного алгоритма на некоторой подвыборке из исходной выборки ([bagging](https://en.wikipedia.org/wiki/Bootstrap_aggregating)) и подмножестве исходных признаков ([RSM](https://en.wikipedia.org/wiki/Random_subspace_method)). В sklearn этот тип композиции реализован в классе [BaggingRegressor](http://scikit-learn.org/stable/modules/generated/sklearn.ensemble.BaggingRegressor.html) (для случая регресии) и в классе [BaggingClassifier](http://scikit-learn.org/stable/modules/generated/sklearn.ensemble.BaggingClassifier.html) (для случая классификации) . Подобный подход также есть в реализации [RandomForestRegressor](http://scikit-learn.org/stable/modules/generated/sklearn.ensemble.RandomForestRegressor.html) и [RandomForestClassifier](http://scikit-learn.org/stable/modules/generated/sklearn.ensemble.RandomForestClassifier.html)."
   ]
  },
  {
   "cell_type": "markdown",
   "metadata": {},
   "source": [
    "#### Задание 2 (0.5 балла) \n",
    "Обучите Random Forest. Постройте и сравните графики зависимости качества прогноза от количества базовых алгоритмов:\n",
    "  - на обучающей выборке,\n",
    "  - на тестовой выборке,\n",
    "  - используя ошибку Out-of-Bag."
   ]
  },
  {
   "cell_type": "code",
   "execution_count": 12,
   "metadata": {
    "collapsed": true
   },
   "outputs": [],
   "source": [
    "xs = list(map(int, np.linspace(5, 200, 20)))"
   ]
  },
  {
   "cell_type": "code",
   "execution_count": 6,
   "metadata": {},
   "outputs": [
    {
     "data": {
      "application/vnd.jupyter.widget-view+json": {
       "model_id": "ffcdc41ac18d41f8a52bfc450c5746ae",
       "version_major": 2,
       "version_minor": 0
      },
      "text/plain": [
       "A Jupyter Widget"
      ]
     },
     "metadata": {},
     "output_type": "display_data"
    },
    {
     "name": "stderr",
     "output_type": "stream",
     "text": [
      "C:\\Anaconda3\\lib\\site-packages\\sklearn\\ensemble\\forest.py:724: UserWarning: Some inputs do not have OOB scores. This probably means too few trees were used to compute any reliable oob estimates.\n",
      "  warn(\"Some inputs do not have OOB scores. \"\n",
      "C:\\Anaconda3\\lib\\site-packages\\sklearn\\ensemble\\forest.py:724: UserWarning: Some inputs do not have OOB scores. This probably means too few trees were used to compute any reliable oob estimates.\n",
      "  warn(\"Some inputs do not have OOB scores. \"\n"
     ]
    },
    {
     "name": "stdout",
     "output_type": "stream",
     "text": [
      "\n"
     ]
    }
   ],
   "source": [
    "mses_train = []\n",
    "mses_test = []\n",
    "mses_oob = []\n",
    "for i in tqdm(xs):\n",
    "    clf = RandomForestRegressor(n_estimators=i, oob_score=True)\n",
    "    clf.fit(X_train, y_train)\n",
    "    mses_train.append(mean_squared_error(y_train, clf.predict(X_train)))\n",
    "    mses_test.append(mean_squared_error(y_test, clf.predict(X_test)))\n",
    "    mses_oob.append(mean_squared_error(y_train, clf.oob_prediction_))"
   ]
  },
  {
   "cell_type": "code",
   "execution_count": 13,
   "metadata": {},
   "outputs": [
    {
     "data": {
      "text/plain": [
       "<matplotlib.legend.Legend at 0x22e9bd38d68>"
      ]
     },
     "execution_count": 13,
     "metadata": {},
     "output_type": "execute_result"
    },
    {
     "data": {
      "image/png": "[encoded data removed]",
      "text/plain": [
       "<matplotlib.figure.Figure at 0x22e9bcf9710>"
      ]
     },
     "metadata": {},
     "output_type": "display_data"
    }
   ],
   "source": [
    "plt.xlabel('n_estimators')\n",
    "plt.ylabel('MSE')\n",
    "plt.plot(xs, mses_test, label='test')\n",
    "plt.plot(xs, mses_train, label='train')\n",
    "plt.plot(xs, mses_oob, label='oob')\n",
    "plt.legend()"
   ]
  },
  {
   "cell_type": "markdown",
   "metadata": {},
   "source": [
    "Видно, что уже после 50 деревьев качество прогноза сильно не улучшается"
   ]
  },
  {
   "cell_type": "markdown",
   "metadata": {},
   "source": [
    "#### Задание 3 (0.5 балла)\n",
    "Проведите аналогичный эксперимент с bias-variance разложением для RandomForest, для количества алгоритмов 1, 5, 10, 25 и 50. Отличаются ли графики от аналогичных графиков для решающих деревьев? На какую компоненту из разложения ошибки влияет объединение алгоритмов в рассмотренный тип композиции? Поясните свой ответ."
   ]
  },
  {
   "cell_type": "code",
   "execution_count": 27,
   "metadata": {},
   "outputs": [
    {
     "data": {
      "application/vnd.jupyter.widget-view+json": {
       "model_id": "b9a58bb2760e488c87934b90f3c734ec",
       "version_major": 2,
       "version_minor": 0
      },
      "text/plain": [
       "A Jupyter Widget"
      ]
     },
     "metadata": {},
     "output_type": "display_data"
    }
   ],
   "source": [
    "xs = [1, 5, 10, 25, 50]\n",
    "errors, bias2s, variances = bias_variance_decomposition(lambda i: RandomForestRegressor(n_estimators=i), xs)"
   ]
  },
  {
   "cell_type": "code",
   "execution_count": 28,
   "metadata": {},
   "outputs": [
    {
     "data": {
      "image/png": "[encoded data removed]",
      "text/plain": [
       "<matplotlib.figure.Figure at 0x22e9bafba20>"
      ]
     },
     "metadata": {},
     "output_type": "display_data"
    }
   ],
   "source": [
    "print_bias_variance_decomposition(xs, errors, bias2s, variances)"
   ]
  },
  {
   "cell_type": "markdown",
   "metadata": {},
   "source": [
    "Видно, что увеличение количества деревьев не влияет на $bias^2$. В отличие от решающих деревьев, с увеличением числа деревьев в RF заметно уменьшается variance-компонента, это происходит из-за того, что мы усредняем ответы множества деревьев"
   ]
  },
  {
   "cell_type": "markdown",
   "metadata": {},
   "source": [
    "#### Задание 4 (1 балл)\n",
    "Обучите Random Forest и композицию деревьев, построенную с помощью техник Bagging и RSM на решающих деревьях, до тех пор, пока качество на обучении не стабилизируется, подобрав оптимальные параметры сабсемлинга по объектам и признаками для каждого метода. Постройте и сравните графики зависимости качества прогнозов этих двух композиций от количества базовых алгоритмов.\n",
    "\n",
    "Какой алгоритм предсказывает лучше?"
   ]
  },
  {
   "cell_type": "markdown",
   "metadata": {},
   "source": [
    "### Градиентный бустинг\n",
    "\n",
    "В случае бустинга композиция алгоритмов строится последовательно. Каждый следующий базовый алгоритм акцентируется на тех объектах, на которых обученная ранее композиция допускала ошибку.\n",
    "\n",
    "На данный момент одной из самых широко распространенных реализаций бустинга является библиотека [XGBoost](https://github.com/dmlc/xgboost). В ней большое внимание уделяется регуляризации и скорости, нежели в других реализациях бустинга (например,  [GradientBoostingRegressor](http://scikit-learn.org/stable/modules/generated/sklearn.ensemble.GradientBoostingRegressor.html),  [GradientBoostingClassifier](http://scikit-learn.org/stable/modules/generated/sklearn.ensemble.GradientBoostingClassifier.html) из sklearn). Кроме того, XGBoost позволяет оптимизировать различные функции потерь, а также более гибок, засчет большого числа параметров."
   ]
  },
  {
   "cell_type": "markdown",
   "metadata": {},
   "source": [
    "XGBoost строит композицию из $K$ базовых алгоритмов $b_k$:\n",
    "\n",
    "$$ \\hat{y}_i = \\hat{y}_i^{K} = \\sum_{k=1}^{K} b_k(x_i) = \\hat{y}_i^{\\left(K - 1\\right)} + b_K(x_i), $$\n",
    "\n",
    "минимизируя следующий функционал:\n",
    "\n",
    "$$ Obj = \\sum_{i=1}^N \\mathcal{L}(y_i, \\hat{y}_i ) + \\sum_{k=1}^{K} \\Omega(b_k),$$\n",
    "\n",
    "где\n",
    " - $N$ — размер обучающей выборки;\n",
    " - $x_i, y_i, \\hat{y}_i$ — i-ый объект, правильный ответ и предсказание модели для него;\n",
    " - $\\hat{y}_i^{t}$ — предсказание композиции из $t$ уже обученных базовых алгоритмов для i-го объекта;\n",
    " - $\\Omega$ — регуляризатор;\n",
    " - $\\mathcal{L}(y_i, \\hat{y}_i)$ — функция потерь.\n",
    "\n",
    "Функционал, оптимизируемый на $t$-ой итерации:\n",
    "\n",
    "$$ Obj^{(t)} = \\sum_{i=1}^N \\mathcal{L}\\left(y_i, \\hat{y}_i^{(t-1)} + b_t(x_i)\\right) + \\Omega(b_t).$$"
   ]
  },
  {
   "cell_type": "markdown",
   "metadata": {},
   "source": [
    "В XGBoost реализовано несколько различных функций потерь, что позволяет решать задачи классификации (бинарной и мультиклассовой), регрессии и ранжирования. Вот некоторые из них:\n",
    "\n",
    "- reg:linear — линейная регрессия\n",
    "- reg:logistic — логистическая регрессия\n",
    "- binary:logistic — логистическая регрессия\n",
    "- multi:softmax — softmax функция потерь для многоклассовой классификации\n",
    "- rank:pairwise — минимизация pairwise-функции потерь для задачи ранжирования"
   ]
  },
  {
   "cell_type": "markdown",
   "metadata": {},
   "source": [
    "#### Задание 5 (1 балл)\n",
    "Обучите градиентый бустинг над 100 деревьями с одинаковыми параметрами, используя библиотеки scikit-learn и xgboost. Сравните получившиеся композиции, построив графики качества на обучающей и тестовой выборке в зависимости от количества деревьев. В дальнейших экспериментах используйте реализацию бустинга XGBoost. Если бустинг из sklearn показывает лучшие результаты, попробуйте потюнить те параметры, которые есть только у XGBoost но нет у бустинга sklearn."
   ]
  },
  {
   "cell_type": "code",
   "execution_count": 100,
   "metadata": {
    "collapsed": true
   },
   "outputs": [],
   "source": [
    "def get_mses(get_regressor, xs):\n",
    "    mses_train = []\n",
    "    mses_test = []\n",
    "    for x in tqdm(xs):\n",
    "        reg = get_regressor(x)\n",
    "        reg.fit(X_train, y_train)\n",
    "        mses_train.append(mean_squared_error(y_train, reg.predict(X_train)))\n",
    "        mses_test.append(mean_squared_error(y_test, reg.predict(X_test)))\n",
    "    return mses_train, mses_test"
   ]
  },
  {
   "cell_type": "code",
   "execution_count": 101,
   "metadata": {
    "collapsed": true
   },
   "outputs": [],
   "source": [
    "xs = list(map(int, np.linspace(10, 100, 20)))"
   ]
  },
  {
   "cell_type": "code",
   "execution_count": 102,
   "metadata": {},
   "outputs": [
    {
     "data": {
      "application/vnd.jupyter.widget-view+json": {
       "model_id": "b3c5e3d2997946b2a2693d271c79995a",
       "version_major": 2,
       "version_minor": 0
      },
      "text/plain": [
       "A Jupyter Widget"
      ]
     },
     "metadata": {},
     "output_type": "display_data"
    }
   ],
   "source": [
    "gb1_mses_train, gb1_mese_test = get_mses(lambda i: GradientBoostingRegressor(n_estimators=i), xs)"
   ]
  },
  {
   "cell_type": "code",
   "execution_count": 103,
   "metadata": {},
   "outputs": [
    {
     "data": {
      "application/vnd.jupyter.widget-view+json": {
       "model_id": "858f7eb511a64671ba7bd3e87c921cc9",
       "version_major": 2,
       "version_minor": 0
      },
      "text/plain": [
       "A Jupyter Widget"
      ]
     },
     "metadata": {},
     "output_type": "display_data"
    }
   ],
   "source": [
    "gb2_mses_train, gb2_mese_test = get_mses(lambda i: xgb.XGBRegressor(n_estimators=i), xs)"
   ]
  },
  {
   "cell_type": "code",
   "execution_count": 104,
   "metadata": {},
   "outputs": [
    {
     "data": {
      "text/plain": [
       "<matplotlib.legend.Legend at 0x22e9c1345f8>"
      ]
     },
     "execution_count": 104,
     "metadata": {},
     "output_type": "execute_result"
    },
    {
     "data": {
      "image/png": "[encoded data removed]",
      "text/plain": [
       "<matplotlib.figure.Figure at 0x22ea0416198>"
      ]
     },
     "metadata": {},
     "output_type": "display_data"
    }
   ],
   "source": [
    "plt.xlabel('n_estimators')\n",
    "plt.ylabel('MSE')\n",
    "plt.plot(xs, gb1_mese_test, label='sklearn test')\n",
    "plt.plot(xs, gb1_mses_train, label='sklearn train')\n",
    "plt.plot(xs, gb2_mese_test, label='xgb test')\n",
    "plt.plot(xs, gb2_mses_train, label='xgb train')\n",
    "plt.legend()"
   ]
  },
  {
   "cell_type": "markdown",
   "metadata": {},
   "source": [
    "Видно, что GradientBoostingRegressor выдает качество лучше на train, но немного хуже на test, пробовал потюнить параметры, но лучше на трейне xgboost вести себя не стал."
   ]
  },
  {
   "cell_type": "markdown",
   "metadata": {},
   "source": [
    "#### Задание 6 (0.5 балла)\n",
    "Проведите аналогичный эксперимент с bias-variance разложением для градиентного бустинга XGBoost для количество алгоритмов 1, 5, 10, 25 и 50, используя в качестве базовых алгоритмов решающие деревья. Обратите внимание, что данная библиотека имеет два интерфейса (стандартный и аналог sklearn), названия параметров в которых могут отличаться.\n",
    "Отличаются ли графики от аналогичных графиков для решающих деревьев и RandomForest? На какую компоненту из разложения ошибки влияет объединение алгоритмов в рассмотренный тип композиции? Поясните свой ответ."
   ]
  },
  {
   "cell_type": "code",
   "execution_count": 54,
   "metadata": {},
   "outputs": [
    {
     "data": {
      "application/vnd.jupyter.widget-view+json": {
       "model_id": "1db7c4e2380c440bbd2bec95a9c853a5",
       "version_major": 2,
       "version_minor": 0
      },
      "text/plain": [
       "A Jupyter Widget"
      ]
     },
     "metadata": {},
     "output_type": "display_data"
    }
   ],
   "source": [
    "xs = [1, 5, 10, 25, 50]\n",
    "errors, bias2s, variances = bias_variance_decomposition(lambda i: xgb.XGBRegressor(n_estimators=i), xs)"
   ]
  },
  {
   "cell_type": "code",
   "execution_count": 55,
   "metadata": {},
   "outputs": [
    {
     "data": {
      "image/png": "[encoded data removed]",
      "text/plain": [
       "<matplotlib.figure.Figure at 0x22e9bb74fd0>"
      ]
     },
     "metadata": {},
     "output_type": "display_data"
    }
   ],
   "source": [
    "print_bias_variance_decomposition(xs, errors, bias2s, variances)"
   ]
  },
  {
   "cell_type": "markdown",
   "metadata": {},
   "source": [
    "Видно, что при бустинге ошибка уменьшается в основном за счет уменьшения $bias^2$, variance-компонента при этом почти не меняется."
   ]
  },
  {
   "cell_type": "markdown",
   "metadata": {},
   "source": [
    "#### Задание 7 (0.5 балла)\n",
    "Сравните лучшую композицию из задания 4 с обоими бустингами из задания 5 по следующим параметрам:\n",
    "  - время обучения в зависимости от количества деревьев,\n",
    "  - качество предсказания на тестовой выборке в зависимости от количества деревьев."
   ]
  },
  {
   "cell_type": "markdown",
   "metadata": {},
   "source": [
    "#### Задание 8 (0.5 балла)\n",
    "Используйте лучшую композицию из задания 4 в качестве начального приближения для градиентного бустинга над деревьями, т.е. обучайте бустинг на ошибки, которые дает композиция. Аналогичную операцию проделайте для начального приближения линейной регрессией. Дали ли подобные подходы прирост качества по сравнению с обычным градиентным бустингом и почему?"
   ]
  },
  {
   "cell_type": "markdown",
   "metadata": {},
   "source": [
    "#### Задание 9 (0.5 балла)\n",
    "Обучите линейную регрессию (LR), Random Forest (RF) и градиентный бустинг XGBoost (GBDT, в двух вариациях: обычный и такой, как в задании 8). Подберите оптимальные $\\alpha$ для алгоритмов $\\alpha \\cdot RF + (1 - \\alpha) \\cdot GBDT$ и $\\alpha \\cdot LR + (1 - \\alpha) \\cdot GBDT$. Сравните качество новых моделей между собой и моделями из предыдущих заданий."
   ]
  },
  {
   "cell_type": "markdown",
   "metadata": {},
   "source": [
    "### Стекинг\n",
    "![](https://4.bp.blogspot.com/-hCxAb57kzDQ/VuMgHy3hAhI/AAAAAAAAAVk/djmL9IHv5QkLWeudjE50qDoCTbiUrTetA/s1600/Stacking.jpg)\n",
    "\n",
    "[Stacking](https://en.wikipedia.org/wiki/Ensemble_learning#Stacking) — еще один способ объединить несколько алгоритмов в один, который часто используется как в решении реальных задач из промышленной сферы, так и в конкурсах на платформах вроде Kaggle. Подход использует понятие *базовых классификаторов*, каждый из которых независимо обучается на некотором (возможно одном и том же) множестве признаков, а также *мета-классификатора*, использующего предсказания базовых классификаторов как факторы. \n",
    "\n",
    "Загрузите [датасет](https://archive.ics.uci.edu/ml/datasets/covertype). В тренировочных целях предлагается вместо задачи мультиклассификации решать задачу обычной бинарной классификации — научиться отличать **Spruce-Fir** (значение целевой переменной — 1) от **Lodgepole Pine** (значение целевой переменной — 2). Разделите выборку на обучение и тест в соотношении 50/50. В качестве метрики используйте [accuracy_score](http://scikit-learn.org/stable/modules/generated/sklearn.metrics.accuracy_score.html)."
   ]
  },
  {
   "cell_type": "code",
   "execution_count": 7,
   "metadata": {
    "collapsed": true
   },
   "outputs": [],
   "source": [
    "data = pd.read_csv('./covtype.data', names=[f'f{i}' for i in range(54)] + ['target'])\n",
    "data = data[(data.target == 1) | (data.target == 2)]\n",
    "X, y = data.drop('target', axis=1), data['target']\n",
    "X_train, X_test, y_train, y_test = train_test_split(X, y, test_size=0.5, random_state=42)"
   ]
  },
  {
   "cell_type": "code",
   "execution_count": 8,
   "metadata": {},
   "outputs": [
    {
     "data": {
      "text/html": [
       "<div>\n",
       "<style>\n",
       "    .dataframe thead tr:only-child th {\n",
       "        text-align: right;\n",
       "    }\n",
       "\n",
       "    .dataframe thead th {\n",
       "        text-align: left;\n",
       "    }\n",
       "\n",
       "    .dataframe tbody tr th {\n",
       "        vertical-align: top;\n",
       "    }\n",
       "</style>\n",
       "<table border=\"1\" class=\"dataframe\">\n",
       "  <thead>\n",
       "    <tr style=\"text-align: right;\">\n",
       "      <th></th>\n",
       "      <th>f0</th>\n",
       "      <th>f1</th>\n",
       "      <th>f2</th>\n",
       "      <th>f3</th>\n",
       "      <th>f4</th>\n",
       "      <th>f5</th>\n",
       "      <th>f6</th>\n",
       "      <th>f7</th>\n",
       "      <th>f8</th>\n",
       "      <th>f9</th>\n",
       "      <th>...</th>\n",
       "      <th>f44</th>\n",
       "      <th>f45</th>\n",
       "      <th>f46</th>\n",
       "      <th>f47</th>\n",
       "      <th>f48</th>\n",
       "      <th>f49</th>\n",
       "      <th>f50</th>\n",
       "      <th>f51</th>\n",
       "      <th>f52</th>\n",
       "      <th>f53</th>\n",
       "    </tr>\n",
       "  </thead>\n",
       "  <tbody>\n",
       "    <tr>\n",
       "      <th>413611</th>\n",
       "      <td>3187</td>\n",
       "      <td>23</td>\n",
       "      <td>14</td>\n",
       "      <td>150</td>\n",
       "      <td>33</td>\n",
       "      <td>3288</td>\n",
       "      <td>211</td>\n",
       "      <td>209</td>\n",
       "      <td>131</td>\n",
       "      <td>782</td>\n",
       "      <td>...</td>\n",
       "      <td>0</td>\n",
       "      <td>1</td>\n",
       "      <td>0</td>\n",
       "      <td>0</td>\n",
       "      <td>0</td>\n",
       "      <td>0</td>\n",
       "      <td>0</td>\n",
       "      <td>0</td>\n",
       "      <td>0</td>\n",
       "      <td>0</td>\n",
       "    </tr>\n",
       "    <tr>\n",
       "      <th>508180</th>\n",
       "      <td>2912</td>\n",
       "      <td>70</td>\n",
       "      <td>13</td>\n",
       "      <td>564</td>\n",
       "      <td>161</td>\n",
       "      <td>1358</td>\n",
       "      <td>233</td>\n",
       "      <td>214</td>\n",
       "      <td>111</td>\n",
       "      <td>1597</td>\n",
       "      <td>...</td>\n",
       "      <td>0</td>\n",
       "      <td>1</td>\n",
       "      <td>0</td>\n",
       "      <td>0</td>\n",
       "      <td>0</td>\n",
       "      <td>0</td>\n",
       "      <td>0</td>\n",
       "      <td>0</td>\n",
       "      <td>0</td>\n",
       "      <td>0</td>\n",
       "    </tr>\n",
       "    <tr>\n",
       "      <th>523245</th>\n",
       "      <td>2961</td>\n",
       "      <td>245</td>\n",
       "      <td>23</td>\n",
       "      <td>192</td>\n",
       "      <td>61</td>\n",
       "      <td>3139</td>\n",
       "      <td>166</td>\n",
       "      <td>250</td>\n",
       "      <td>216</td>\n",
       "      <td>1952</td>\n",
       "      <td>...</td>\n",
       "      <td>0</td>\n",
       "      <td>0</td>\n",
       "      <td>0</td>\n",
       "      <td>0</td>\n",
       "      <td>0</td>\n",
       "      <td>0</td>\n",
       "      <td>0</td>\n",
       "      <td>0</td>\n",
       "      <td>0</td>\n",
       "      <td>0</td>\n",
       "    </tr>\n",
       "    <tr>\n",
       "      <th>274604</th>\n",
       "      <td>2930</td>\n",
       "      <td>307</td>\n",
       "      <td>23</td>\n",
       "      <td>108</td>\n",
       "      <td>35</td>\n",
       "      <td>767</td>\n",
       "      <td>152</td>\n",
       "      <td>220</td>\n",
       "      <td>205</td>\n",
       "      <td>2663</td>\n",
       "      <td>...</td>\n",
       "      <td>0</td>\n",
       "      <td>0</td>\n",
       "      <td>0</td>\n",
       "      <td>0</td>\n",
       "      <td>0</td>\n",
       "      <td>0</td>\n",
       "      <td>0</td>\n",
       "      <td>0</td>\n",
       "      <td>0</td>\n",
       "      <td>0</td>\n",
       "    </tr>\n",
       "    <tr>\n",
       "      <th>69784</th>\n",
       "      <td>2932</td>\n",
       "      <td>39</td>\n",
       "      <td>9</td>\n",
       "      <td>390</td>\n",
       "      <td>19</td>\n",
       "      <td>4115</td>\n",
       "      <td>221</td>\n",
       "      <td>220</td>\n",
       "      <td>134</td>\n",
       "      <td>5850</td>\n",
       "      <td>...</td>\n",
       "      <td>0</td>\n",
       "      <td>0</td>\n",
       "      <td>0</td>\n",
       "      <td>0</td>\n",
       "      <td>0</td>\n",
       "      <td>0</td>\n",
       "      <td>0</td>\n",
       "      <td>0</td>\n",
       "      <td>0</td>\n",
       "      <td>0</td>\n",
       "    </tr>\n",
       "  </tbody>\n",
       "</table>\n",
       "<p>5 rows × 54 columns</p>\n",
       "</div>"
      ],
      "text/plain": [
       "          f0   f1  f2   f3   f4    f5   f6   f7   f8    f9 ...   f44  f45  \\\n",
       "413611  3187   23  14  150   33  3288  211  209  131   782 ...     0    1   \n",
       "508180  2912   70  13  564  161  1358  233  214  111  1597 ...     0    1   \n",
       "523245  2961  245  23  192   61  3139  166  250  216  1952 ...     0    0   \n",
       "274604  2930  307  23  108   35   767  152  220  205  2663 ...     0    0   \n",
       "69784   2932   39   9  390   19  4115  221  220  134  5850 ...     0    0   \n",
       "\n",
       "        f46  f47  f48  f49  f50  f51  f52  f53  \n",
       "413611    0    0    0    0    0    0    0    0  \n",
       "508180    0    0    0    0    0    0    0    0  \n",
       "523245    0    0    0    0    0    0    0    0  \n",
       "274604    0    0    0    0    0    0    0    0  \n",
       "69784     0    0    0    0    0    0    0    0  \n",
       "\n",
       "[5 rows x 54 columns]"
      ]
     },
     "execution_count": 8,
     "metadata": {},
     "output_type": "execute_result"
    }
   ],
   "source": [
    "X_train.head()"
   ]
  },
  {
   "cell_type": "code",
   "execution_count": 9,
   "metadata": {},
   "outputs": [
    {
     "data": {
      "text/plain": [
       "413611    1\n",
       "508180    2\n",
       "523245    2\n",
       "274604    1\n",
       "69784     2\n",
       "Name: target, dtype: int64"
      ]
     },
     "execution_count": 9,
     "metadata": {},
     "output_type": "execute_result"
    }
   ],
   "source": [
    "y_train.head()"
   ]
  },
  {
   "cell_type": "markdown",
   "metadata": {},
   "source": [
    "#### Задание 10 (1 балл) \n",
    "Использование мета-классификатора подразумевает получение предсказаний от базовых классификаторов для тех объектов обучающей выборки, на которых мета-классификатор будет обучаться. В свою очередь базовые классификаторы тоже должны быть обучены на некоторой выборке. Чтобы избежать переобучения, обучающее множество делится на $n$ фолдов, $(n-1)$ из которых используются для обучения базовых классификаторов, а $n$-ый — для предсказания (вычисления мета-фактора).\n",
    "\n",
    "Для получения мета-факторов для тестовых данных базовые классификаторы могут быть обучены на всем обучающем множестве, поскольку проблема переобучения здесь не возникает. Другими словами, если мы хотим посчитать факторы для тестового множества, мы можем спокойно использовать обучающее множество для тренировки базовых классификаторов. Если же мы хотим посчитать факторы для обучающего множества, то необходимо следить, чтобы классификатор не предсказывал для тех объектов, на которых обучался.\n",
    "\n",
    "Мета-классификатор может быть обучен как на множестве исходных факторов, дополненным мета-факторами, так и исключительно на множестве мета-факторов. Выбор зависит от решаемой задачи.\n",
    "\n",
    "Напишите функцию, которая получает на вход классификатор, обучающую и тестовые выборки, а также параметры [кросс-валидатора](http://scikit-learn.org/stable/modules/generated/sklearn.model_selection.KFold.html) и возвращающую значения мета-фактора для обучающего и тестового множеств"
   ]
  },
  {
   "cell_type": "code",
   "execution_count": 10,
   "metadata": {
    "collapsed": true
   },
   "outputs": [],
   "source": [
    "def compute_meta_feature(clf, X_train, X_test, y_train, cv, *args, **kwargs):\n",
    "    train_meta = cross_val_predict(clf, X_train, y_train, cv=cv, method='predict_proba')\n",
    "    test_meta = clf.fit(X_train, y_train).predict_proba(X_test)\n",
    "    return train_meta, test_meta"
   ]
  },
  {
   "cell_type": "markdown",
   "metadata": {},
   "source": [
    "#### Задание 11 (2 балла)\n",
    "Поэкспериментируйте со стекингом, ответьте на вопросы и обоснуйте наблюдения:\n",
    "Обучите различные известные вам модели машинного обучения и сделайте из них стекинг-композицию (да-да, каждый моежт сделать свою уникальную композицию, с любыми алгоритмами). \n",
    "\n",
    "построийте несколько композиций, руководствуясь тем, что базовые алгоритмы могут отличаться друг от друга:\n",
    "  - моделью машинного обучения;\n",
    "  - гиперпараметрами (например, различные функции потерь или глубины деревьев);\n",
    "  - набором фич (можно случайно сэмплировать фичи, а можно фиксировано разбить фичи на группы);\n",
    "  - различными обучающими выборками (можно случайно сэмплировать объекты обучающей выборки, а можно фиксированно побить на группы);\n",
    "  - типом модели: для данной задачи можно использовать как классификаторы, так и регрессоры.\n",
    "  \n",
    "Обратите внимание, что бинарные мета-факторы дают меньше полезного сигнала мета-классификатору, чем числовые, поэтому базовым классификаторам лучше возвращать вероятность/числовую функцию, чем метки классов.\n",
    "  \n",
    "Обучите мета-классификатор на различных наборах факторов:\n",
    "  - исходные факторы;\n",
    "  - исходные факторы + мета-факторы;\n",
    "  - мета-факторы.\n",
    "\n",
    "  \n",
    "Имеет ли смысл добавлять исходные факторы в мета-классификатор, если базовые классификаторы уже обучены на этом наборе? Удается ли добиться улучшения качества за счет стекинга? Какие классификаторы лучше сочетаются друг с другом в такой композиции?\n",
    "\n",
    "Попробуйте разные размеры фолда при подсчете мета-факторов. Влияет ли размер на качество?"
   ]
  },
  {
   "cell_type": "markdown",
   "metadata": {},
   "source": [
    "Попробуем обучать 3 классификатора на всех фичах:"
   ]
  },
  {
   "cell_type": "code",
   "execution_count": 43,
   "metadata": {},
   "outputs": [
    {
     "data": {
      "text/plain": [
       "0.7727197450428362"
      ]
     },
     "execution_count": 43,
     "metadata": {},
     "output_type": "execute_result"
    }
   ],
   "source": [
    "X_train_log, X_test_log = compute_meta_feature(LogisticRegression(), X_train, X_test, y_train, 5)\n",
    "accuracy_score(y_test, X_test_log.argmax(axis=1) + 1)"
   ]
  },
  {
   "cell_type": "code",
   "execution_count": 44,
   "metadata": {},
   "outputs": [
    {
     "data": {
      "text/plain": [
       "0.9381470366076802"
      ]
     },
     "execution_count": 44,
     "metadata": {},
     "output_type": "execute_result"
    }
   ],
   "source": [
    "X_train_tree, X_test_tree = compute_meta_feature(DecisionTreeClassifier(), X_train, X_test, y_train, 5)\n",
    "accuracy_score(y_test, X_test_tree.argmax(axis=1) + 1)"
   ]
  },
  {
   "cell_type": "code",
   "execution_count": 45,
   "metadata": {},
   "outputs": [
    {
     "data": {
      "text/plain": [
       "0.9413380404005316"
      ]
     },
     "execution_count": 45,
     "metadata": {},
     "output_type": "execute_result"
    }
   ],
   "source": [
    "X_train_rf, X_test_rf = compute_meta_feature(RandomForestClassifier(), X_train, X_test, y_train, 5)\n",
    "accuracy_score(y_test, X_test_rf.argmax(axis=1) + 1)"
   ]
  },
  {
   "cell_type": "code",
   "execution_count": 46,
   "metadata": {},
   "outputs": [
    {
     "data": {
      "text/plain": [
       "0.9549745325583368"
      ]
     },
     "execution_count": 46,
     "metadata": {},
     "output_type": "execute_result"
    }
   ],
   "source": [
    "clf = LogisticRegression()\n",
    "\n",
    "clf.fit(np.hstack((\n",
    "    X_train_log,\n",
    "    X_train_tree,\n",
    "    X_train_rf\n",
    ")), y_train)\n",
    "\n",
    "final_prediction = clf.predict(np.hstack((\n",
    "    X_test_log,\n",
    "    X_test_tree,\n",
    "    X_test_rf\n",
    ")))\n",
    "\n",
    "accuracy_score(y_test, final_prediction)"
   ]
  },
  {
   "cell_type": "markdown",
   "metadata": {},
   "source": [
    "Видно, что итоговое качество улучшилось по сравнению с любым отдельно взятым классификатором"
   ]
  },
  {
   "cell_type": "markdown",
   "metadata": {},
   "source": [
    "Попробуем обучить те же самые классификаторы лишь на части фич"
   ]
  },
  {
   "cell_type": "code",
   "execution_count": 47,
   "metadata": {
    "collapsed": true
   },
   "outputs": [],
   "source": [
    "cols = list(X_train)\n",
    "np.random.shuffle(cols)\n",
    "\n",
    "n = len(cols)\n",
    "first = cols[:n//3]\n",
    "second = cols[n//3:2*n//3]\n",
    "third = cols[2*n//3:]"
   ]
  },
  {
   "cell_type": "code",
   "execution_count": 48,
   "metadata": {},
   "outputs": [
    {
     "data": {
      "text/plain": [
       "0.613973365216443"
      ]
     },
     "execution_count": 48,
     "metadata": {},
     "output_type": "execute_result"
    }
   ],
   "source": [
    "X_train_log_, X_test_log_ = compute_meta_feature(LogisticRegression(), X_train[first], X_test[first], y_train, 5)\n",
    "accuracy_score(y_test, X_test_log_.argmax(axis=1) + 1)"
   ]
  },
  {
   "cell_type": "code",
   "execution_count": 49,
   "metadata": {},
   "outputs": [
    {
     "data": {
      "text/plain": [
       "0.6454229291799121"
      ]
     },
     "execution_count": 49,
     "metadata": {},
     "output_type": "execute_result"
    }
   ],
   "source": [
    "X_train_tree_, X_test_tree_ = compute_meta_feature(DecisionTreeClassifier(), X_train[second], X_test[second], y_train, 5)\n",
    "accuracy_score(y_test, X_test_tree_.argmax(axis=1) + 1)"
   ]
  },
  {
   "cell_type": "code",
   "execution_count": 50,
   "metadata": {},
   "outputs": [
    {
     "data": {
      "text/plain": [
       "0.7879275036252227"
      ]
     },
     "execution_count": 50,
     "metadata": {},
     "output_type": "execute_result"
    }
   ],
   "source": [
    "X_train_rf_, X_test_rf_ = compute_meta_feature(RandomForestClassifier(), X_train[third], X_test[third], y_train, 5)\n",
    "accuracy_score(y_test, X_test_rf_.argmax(axis=1) + 1)"
   ]
  },
  {
   "cell_type": "code",
   "execution_count": 51,
   "metadata": {},
   "outputs": [
    {
     "data": {
      "text/plain": [
       "0.7960948576367991"
      ]
     },
     "execution_count": 51,
     "metadata": {},
     "output_type": "execute_result"
    }
   ],
   "source": [
    "clf = LogisticRegression()\n",
    "\n",
    "clf.fit(np.hstack((\n",
    "    X_train_log_,\n",
    "    X_train_tree_,\n",
    "    X_train_rf_\n",
    ")), y_train)\n",
    "\n",
    "final_prediction = clf.predict(np.hstack((\n",
    "    X_test_log_,\n",
    "    X_test_tree_,\n",
    "    X_test_rf_\n",
    ")))\n",
    "\n",
    "accuracy_score(y_test, final_prediction)"
   ]
  },
  {
   "cell_type": "markdown",
   "metadata": {},
   "source": [
    "Видно, что качество упало"
   ]
  },
  {
   "cell_type": "markdown",
   "metadata": {},
   "source": [
    "Попробуем обучить несколько случайных лесов с разными гиперпараметрами"
   ]
  },
  {
   "cell_type": "code",
   "execution_count": 37,
   "metadata": {},
   "outputs": [
    {
     "data": {
      "text/plain": [
       "0.8080712199732601"
      ]
     },
     "execution_count": 37,
     "metadata": {},
     "output_type": "execute_result"
    }
   ],
   "source": [
    "clf1 = RandomForestClassifier(n_estimators=100, max_depth=10, n_jobs=-1)\n",
    "X_train_rf1, X_test_rf1 = compute_meta_feature(clf1, X_train, X_test, y_train, 5)\n",
    "accuracy_score(y_test, X_test_rf1.argmax(axis=1) + 1)"
   ]
  },
  {
   "cell_type": "code",
   "execution_count": 38,
   "metadata": {},
   "outputs": [
    {
     "data": {
      "text/plain": [
       "0.9524257687693631"
      ]
     },
     "execution_count": 38,
     "metadata": {},
     "output_type": "execute_result"
    }
   ],
   "source": [
    "clf2 = RandomForestClassifier(n_estimators=100, criterion='entropy', min_samples_leaf=2, n_jobs=-1)\n",
    "X_train_rf2, X_test_rf2 = compute_meta_feature(clf2, X_train, X_test, y_train, 5)\n",
    "accuracy_score(y_test, X_test_rf2.argmax(axis=1) + 1)"
   ]
  },
  {
   "cell_type": "code",
   "execution_count": 41,
   "metadata": {},
   "outputs": [
    {
     "data": {
      "text/plain": [
       "0.9437575483396682"
      ]
     },
     "execution_count": 41,
     "metadata": {},
     "output_type": "execute_result"
    }
   ],
   "source": [
    "clf3 = RandomForestClassifier(n_estimators=100, min_samples_leaf=3, max_features='sqrt', n_jobs=-1)\n",
    "X_train_rf3, X_test_rf3 = compute_meta_feature(clf3, X_train, X_test, y_train, 5)\n",
    "accuracy_score(y_test, X_test_rf3.argmax(axis=1) + 1)"
   ]
  },
  {
   "cell_type": "code",
   "execution_count": 42,
   "metadata": {},
   "outputs": [
    {
     "data": {
      "text/plain": [
       "0.960597162026247"
      ]
     },
     "execution_count": 42,
     "metadata": {},
     "output_type": "execute_result"
    }
   ],
   "source": [
    "clf = LogisticRegression()\n",
    "\n",
    "clf.fit(np.hstack((\n",
    "    X_train_rf1,\n",
    "    X_train_rf2,\n",
    "    X_train_rf3\n",
    ")), y_train)\n",
    "\n",
    "final_prediction = clf.predict(np.hstack((\n",
    "    X_test_rf1,\n",
    "    X_test_rf2,\n",
    "    X_test_rf3\n",
    ")))\n",
    "\n",
    "accuracy_score(y_test, final_prediction)"
   ]
  },
  {
   "cell_type": "markdown",
   "metadata": {},
   "source": [
    "При обучении только на метафичах получаются следующие результаты:"
   ]
  },
  {
   "cell_type": "code",
   "execution_count": 52,
   "metadata": {},
   "outputs": [
    {
     "data": {
      "text/plain": [
       "0.9549745325583368"
      ]
     },
     "execution_count": 52,
     "metadata": {},
     "output_type": "execute_result"
    }
   ],
   "source": [
    "clf = LogisticRegression()\n",
    "\n",
    "clf.fit(np.hstack((\n",
    "    X_train_log,\n",
    "    X_train_tree,\n",
    "    X_train_rf\n",
    ")), y_train)\n",
    "\n",
    "final_prediction = clf.predict(np.hstack((\n",
    "    X_test_log,\n",
    "    X_test_tree,\n",
    "    X_test_rf\n",
    ")))\n",
    "\n",
    "accuracy_score(y_test, final_prediction)"
   ]
  },
  {
   "cell_type": "markdown",
   "metadata": {},
   "source": [
    "При обучении только на исходных фичах:"
   ]
  },
  {
   "cell_type": "code",
   "execution_count": 54,
   "metadata": {},
   "outputs": [
    {
     "data": {
      "text/plain": [
       "0.7727197450428362"
      ]
     },
     "execution_count": 54,
     "metadata": {},
     "output_type": "execute_result"
    }
   ],
   "source": [
    "clf = LogisticRegression()\n",
    "clf.fit(X_train, y_train)\n",
    "accuracy_score(y_test, clf.predict(X_test))"
   ]
  },
  {
   "cell_type": "markdown",
   "metadata": {},
   "source": [
    "При обучении и на исходных и на метафичах:"
   ]
  },
  {
   "cell_type": "code",
   "execution_count": 56,
   "metadata": {},
   "outputs": [
    {
     "data": {
      "text/plain": [
       "0.9547321778398924"
      ]
     },
     "execution_count": 56,
     "metadata": {},
     "output_type": "execute_result"
    }
   ],
   "source": [
    "clf = LogisticRegression()\n",
    "\n",
    "clf.fit(np.hstack((\n",
    "    X_train_log,\n",
    "    X_train_tree,\n",
    "    X_train_rf,\n",
    "    X_train\n",
    ")), y_train)\n",
    "\n",
    "final_prediction = clf.predict(np.hstack((\n",
    "    X_test_log,\n",
    "    X_test_tree,\n",
    "    X_test_rf,\n",
    "    X_test\n",
    ")))\n",
    "\n",
    "accuracy_score(y_test, final_prediction)"
   ]
  },
  {
   "cell_type": "markdown",
   "metadata": {},
   "source": [
    "Точность при обучении с исходными и метафичами получилась ниже, чем при обучении только с метафичами"
   ]
  },
  {
   "cell_type": "markdown",
   "metadata": {},
   "source": [
    "Попробуем другой размер фолда при подсчете мета фич (`cv=3`):"
   ]
  },
  {
   "cell_type": "code",
   "execution_count": 57,
   "metadata": {},
   "outputs": [
    {
     "data": {
      "text/plain": [
       "0.7727197450428362"
      ]
     },
     "execution_count": 57,
     "metadata": {},
     "output_type": "execute_result"
    }
   ],
   "source": [
    "X_train_log, X_test_log = compute_meta_feature(LogisticRegression(), X_train, X_test, y_train, 3)\n",
    "accuracy_score(y_test, X_test_log.argmax(axis=1) + 1)"
   ]
  },
  {
   "cell_type": "code",
   "execution_count": 58,
   "metadata": {},
   "outputs": [
    {
     "data": {
      "text/plain": [
       "0.9375855815099506"
      ]
     },
     "execution_count": 58,
     "metadata": {},
     "output_type": "execute_result"
    }
   ],
   "source": [
    "X_train_tree, X_test_tree = compute_meta_feature(DecisionTreeClassifier(), X_train, X_test, y_train, 3)\n",
    "accuracy_score(y_test, X_test_tree.argmax(axis=1) + 1)"
   ]
  },
  {
   "cell_type": "code",
   "execution_count": 59,
   "metadata": {},
   "outputs": [
    {
     "data": {
      "text/plain": [
       "0.9429537385234943"
      ]
     },
     "execution_count": 59,
     "metadata": {},
     "output_type": "execute_result"
    }
   ],
   "source": [
    "X_train_rf, X_test_rf = compute_meta_feature(RandomForestClassifier(), X_train, X_test, y_train, 3)\n",
    "accuracy_score(y_test, X_test_rf.argmax(axis=1) + 1)"
   ]
  },
  {
   "cell_type": "code",
   "execution_count": 60,
   "metadata": {},
   "outputs": [
    {
     "data": {
      "text/plain": [
       "0.9548816299162665"
      ]
     },
     "execution_count": 60,
     "metadata": {},
     "output_type": "execute_result"
    }
   ],
   "source": [
    "clf = LogisticRegression()\n",
    "\n",
    "clf.fit(np.hstack((\n",
    "    X_train_log,\n",
    "    X_train_tree,\n",
    "    X_train_rf\n",
    ")), y_train)\n",
    "\n",
    "final_prediction = clf.predict(np.hstack((\n",
    "    X_test_log,\n",
    "    X_test_tree,\n",
    "    X_test_rf\n",
    ")))\n",
    "\n",
    "accuracy_score(y_test, final_prediction)"
   ]
  },
  {
   "cell_type": "markdown",
   "metadata": {},
   "source": [
    "`cv=7`"
   ]
  },
  {
   "cell_type": "code",
   "execution_count": 62,
   "metadata": {},
   "outputs": [
    {
     "data": {
      "text/plain": [
       "0.7727197450428362"
      ]
     },
     "execution_count": 62,
     "metadata": {},
     "output_type": "execute_result"
    }
   ],
   "source": [
    "X_train_log, X_test_log = compute_meta_feature(LogisticRegression(), X_train, X_test, y_train, 7)\n",
    "accuracy_score(y_test, X_test_log.argmax(axis=1) + 1)"
   ]
  },
  {
   "cell_type": "code",
   "execution_count": 63,
   "metadata": {},
   "outputs": [
    {
     "data": {
      "text/plain": [
       "0.9376542486801765"
      ]
     },
     "execution_count": 63,
     "metadata": {},
     "output_type": "execute_result"
    }
   ],
   "source": [
    "X_train_tree, X_test_tree = compute_meta_feature(DecisionTreeClassifier(), X_train, X_test, y_train, 7)\n",
    "accuracy_score(y_test, X_test_tree.argmax(axis=1) + 1)"
   ]
  },
  {
   "cell_type": "code",
   "execution_count": 64,
   "metadata": {},
   "outputs": [
    {
     "data": {
      "text/plain": [
       "0.9432243679590905"
      ]
     },
     "execution_count": 64,
     "metadata": {},
     "output_type": "execute_result"
    }
   ],
   "source": [
    "X_train_rf, X_test_rf = compute_meta_feature(RandomForestClassifier(), X_train, X_test, y_train, 7)\n",
    "accuracy_score(y_test, X_test_rf.argmax(axis=1) + 1)"
   ]
  },
  {
   "cell_type": "code",
   "execution_count": 65,
   "metadata": {},
   "outputs": [
    {
     "data": {
      "text/plain": [
       "0.9554309672780738"
      ]
     },
     "execution_count": 65,
     "metadata": {},
     "output_type": "execute_result"
    }
   ],
   "source": [
    "clf = LogisticRegression()\n",
    "\n",
    "clf.fit(np.hstack((\n",
    "    X_train_log,\n",
    "    X_train_tree,\n",
    "    X_train_rf\n",
    ")), y_train)\n",
    "\n",
    "final_prediction = clf.predict(np.hstack((\n",
    "    X_test_log,\n",
    "    X_test_tree,\n",
    "    X_test_rf\n",
    ")))\n",
    "\n",
    "accuracy_score(y_test, final_prediction)"
   ]
  },
  {
   "cell_type": "markdown",
   "metadata": {},
   "source": [
    "Качество улучшилось с увеличением количества фолдов"
   ]
  },
  {
   "cell_type": "markdown",
   "metadata": {},
   "source": [
    "#### Задание 12 (0.5 балла)\n",
    "Зафиксируйте некоторый набор базовых классификаторов. Обучите поверх них линейную модель и сравните ее с мета-классификатором, который считает среднее по всем метафакторам. Дает ли преимущество линейная модель? О чем говорят коэффициенты линейной модели в данном случае?"
   ]
  },
  {
   "cell_type": "code",
   "execution_count": 68,
   "metadata": {},
   "outputs": [
    {
     "data": {
      "text/plain": [
       "0.9442301400406348"
      ]
     },
     "execution_count": 68,
     "metadata": {},
     "output_type": "execute_result"
    }
   ],
   "source": [
    "mean_meta = np.mean([    \n",
    "    X_test_log,\n",
    "    X_test_tree,\n",
    "    X_test_rf\n",
    "], axis=0)\n",
    "\n",
    "accuracy_score(y_test, mean_meta.argmax(axis=1) + 1)"
   ]
  },
  {
   "cell_type": "markdown",
   "metadata": {},
   "source": [
    "Видно, что линейная модель дает преимущество, так как при обучении сопоставляет более сильным моделям бОльшие веса"
   ]
  },
  {
   "cell_type": "markdown",
   "metadata": {},
   "source": [
    "**Не забывайте подписывать оси на графиках!**\n",
    "\n",
    "![](http://imgs.xkcd.com/comics/convincing.png)\n"
   ]
  },
  {
   "cell_type": "markdown",
   "metadata": {},
   "source": [
    "## В помощь:\n",
    " - XGBoost: [параметры](http://xgboost.readthedocs.org/en/latest/parameter.html), [интерфейс](http://xgboost.readthedocs.org/en/latest/python/python_api.html) и [пример использования](http://xgboost.readthedocs.org/en/latest/python/python_intro.html).\n",
    " - Чтобы получить качество бустинга в зависимости от количества деревьев необходимо использовать метод $staged\\_predict$ в sklearn и параметр $ntree\\_limit$ в xgboost.\n",
    " - Для получения качества непоследовательных композиций (Random Forest, Bagging) в зависимости от количества деревьев нужно использовать поле $estimators\\_$ в полученной композиции.\n",
    " - Время работы можно замерять по сетке (каждый раз заново запуская бустинг с нуля).\n",
    " - Для проведения некоторых экспериментов удобно использовать [BaggingRegressor](http://scikit-learn.org/stable/modules/generated/sklearn.ensemble.BaggingRegressor.html) или [BaggingClassifier](http://scikit-learn.org/stable/modules/generated/sklearn.ensemble.BaggingClassifier.html) из библиотеки sklearn.\n",
    " - Если вы решили использовать GradientBoostingRegressor/GradientBoostingClassifier и что-то пошло не так... [GradientBoostingClassifier with a BaseEstimator in scikit-learn](http://stackoverflow.com/questions/17454139/gradientboostingclassifier-with-a-baseestimator-in-scikit-learn)"
   ]
  },
  {
   "cell_type": "code",
   "execution_count": null,
   "metadata": {
    "collapsed": true
   },
   "outputs": [],
   "source": []
  }
 ],
 "metadata": {
  "kernelspec": {
   "display_name": "Python 3",
   "language": "python",
   "name": "python3"
  },
  "language_info": {
   "codemirror_mode": {
    "name": "ipython",
    "version": 3
   },
   "file_extension": ".py",
   "mimetype": "text/x-python",
   "name": "python",
   "nbconvert_exporter": "python",
   "pygments_lexer": "ipython3",
   "version": "3.6.3"
  }
 },
 "nbformat": 4,
 "nbformat_minor": 1
}
