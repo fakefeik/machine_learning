{
 "cells": [
  {
   "cell_type": "code",
   "execution_count": 4,
   "metadata": {},
   "outputs": [
    {
     "name": "stdout",
     "output_type": "stream",
     "text": [
      "Requirement already satisfied: pymystem3 in /home/user/anaconda3/lib/python3.7/site-packages (0.2.0)\n",
      "Requirement already satisfied: requests in /home/user/anaconda3/lib/python3.7/site-packages (from pymystem3) (2.19.1)\n",
      "Requirement already satisfied: idna<2.8,>=2.5 in /home/user/anaconda3/lib/python3.7/site-packages (from requests->pymystem3) (2.7)\n",
      "Requirement already satisfied: chardet<3.1.0,>=3.0.2 in /home/user/anaconda3/lib/python3.7/site-packages (from requests->pymystem3) (3.0.4)\n",
      "Requirement already satisfied: certifi>=2017.4.17 in /home/user/anaconda3/lib/python3.7/site-packages (from requests->pymystem3) (2018.8.24)\n",
      "Requirement already satisfied: urllib3<1.24,>=1.21.1 in /home/user/anaconda3/lib/python3.7/site-packages (from requests->pymystem3) (1.23)\n",
      "\u001b[31mtwisted 18.7.0 requires PyHamcrest>=1.9.0, which is not installed.\u001b[0m\n",
      "\u001b[33mYou are using pip version 10.0.1, however version 18.1 is available.\n",
      "You should consider upgrading via the 'pip install --upgrade pip' command.\u001b[0m\n",
      "Collecting xgboost\n",
      "\u001b[?25l  Downloading https://files.pythonhosted.org/packages/54/21/8b2ec99862903a6d3aed62ce156d21d114b8666e669c46d9e54041df9496/xgboost-0.81-py2.py3-none-manylinux1_x86_64.whl (16.6MB)\n",
      "\u001b[K    100% |████████████████████████████████| 16.6MB 1.6MB/s eta 0:00:01\n",
      "\u001b[?25hRequirement already satisfied: numpy in /home/user/anaconda3/lib/python3.7/site-packages (from xgboost) (1.15.1)\n",
      "Requirement already satisfied: scipy in /home/user/anaconda3/lib/python3.7/site-packages (from xgboost) (1.1.0)\n",
      "\u001b[31mtwisted 18.7.0 requires PyHamcrest>=1.9.0, which is not installed.\u001b[0m\n",
      "Installing collected packages: xgboost\n",
      "Successfully installed xgboost-0.81\n",
      "\u001b[33mYou are using pip version 10.0.1, however version 18.1 is available.\n",
      "You should consider upgrading via the 'pip install --upgrade pip' command.\u001b[0m\n"
     ]
    }
   ],
   "source": [
    "!pip install pymystem3\n",
    "!pip install xgboost"
   ]
  },
  {
   "cell_type": "code",
   "execution_count": 1,
   "metadata": {},
   "outputs": [
    {
     "name": "stderr",
     "output_type": "stream",
     "text": [
      "/home/user/anaconda3/lib/python3.7/site-packages/sklearn/ensemble/weight_boosting.py:29: DeprecationWarning: numpy.core.umath_tests is an internal NumPy module and should not be imported. It will be removed in a future NumPy release.\n",
      "  from numpy.core.umath_tests import inner1d\n"
     ]
    }
   ],
   "source": [
    "import re\n",
    "import math\n",
    "import numpy as np\n",
    "import pandas as pd\n",
    "import string\n",
    "from tqdm import tqdm\n",
    "from pymystem3 import Mystem\n",
    "from xgboost import XGBClassifier\n",
    "import xgboost as xgb\n",
    "\n",
    "from sklearn.metrics import f1_score, make_scorer\n",
    "from sklearn.ensemble import RandomForestClassifier\n",
    "from sklearn.linear_model import LogisticRegression\n",
    "from sklearn.preprocessing import LabelEncoder, OneHotEncoder\n",
    "from sklearn.model_selection import cross_val_score, KFold\n",
    "from sklearn.feature_extraction.text import TfidfVectorizer"
   ]
  },
  {
   "cell_type": "markdown",
   "metadata": {},
   "source": [
    "**Цель конкурса** состоит в том чтобы научится по описанию вакансии понимать её категорию.\n",
    "\n",
    "**Данные содержат** около 15000 вакансий (трейн + тест), которые разбиты на 30 категорий профессий. Каждая вакансия содержит: \n",
    "\n",
    "* title — заголовок вакансии\n",
    "* responsibility — описание обязанностей\n",
    "* requirement — описание требований к кандидату\n",
    "* condition — условия, предлагаемые работодателями\n",
    "* location — название компании\n",
    "* schedule — график работы\n",
    "\n",
    "**Метрикой качества будет служить** Micro Average F1 score"
   ]
  },
  {
   "cell_type": "code",
   "execution_count": 2,
   "metadata": {
    "collapsed": true
   },
   "outputs": [],
   "source": [
    "vacancies_train = pd.read_csv('vacancies_train.csv')\n",
    "vacancies_test = pd.read_csv('vacancies_test.csv')"
   ]
  },
  {
   "cell_type": "code",
   "execution_count": 3,
   "metadata": {},
   "outputs": [
    {
     "data": {
      "text/html": [
       "<div>\n",
       "<style scoped>\n",
       "    .dataframe tbody tr th:only-of-type {\n",
       "        vertical-align: middle;\n",
       "    }\n",
       "\n",
       "    .dataframe tbody tr th {\n",
       "        vertical-align: top;\n",
       "    }\n",
       "\n",
       "    .dataframe thead th {\n",
       "        text-align: right;\n",
       "    }\n",
       "</style>\n",
       "<table border=\"1\" class=\"dataframe\">\n",
       "  <thead>\n",
       "    <tr style=\"text-align: right;\">\n",
       "      <th></th>\n",
       "      <th>category</th>\n",
       "      <th>condition</th>\n",
       "      <th>location</th>\n",
       "      <th>requirement</th>\n",
       "      <th>responsibility</th>\n",
       "      <th>schedule</th>\n",
       "      <th>title</th>\n",
       "      <th>id</th>\n",
       "    </tr>\n",
       "  </thead>\n",
       "  <tbody>\n",
       "    <tr>\n",
       "      <th>0</th>\n",
       "      <td>1</td>\n",
       "      <td>График работы 5/2, с 9 до 18;\\nОформление в со...</td>\n",
       "      <td>ЭКСЕКО Пи Эм Рус</td>\n",
       "      <td>Высшее образование;\\nОпыт работы в бухгалтерии...</td>\n",
       "      <td>Осуществление документооборота между подраздел...</td>\n",
       "      <td>полный рабочий день</td>\n",
       "      <td>Делопроизводитель (бухгалтер на первичную доку...</td>\n",
       "      <td>7231</td>\n",
       "    </tr>\n",
       "    <tr>\n",
       "      <th>1</th>\n",
       "      <td>1</td>\n",
       "      <td>Мы гарантируем:\\n- Оформление по ТК РФ\\n- Карь...</td>\n",
       "      <td>ПрезиДЕНТ</td>\n",
       "      <td>У вас в обязательном порядке должно быть:\\n- Д...</td>\n",
       "      <td>- Проведение первичных консультаций пациентов\\...</td>\n",
       "      <td>полный рабочий день</td>\n",
       "      <td>Заместитель главного врача / Главный врач в Мо...</td>\n",
       "      <td>5814</td>\n",
       "    </tr>\n",
       "    <tr>\n",
       "      <th>2</th>\n",
       "      <td>23</td>\n",
       "      <td>Работа и проживание в МО, Ногинский район. д. ...</td>\n",
       "      <td>АВТОБАН</td>\n",
       "      <td>—Знание технологии укладки асфальтобетона• Не ...</td>\n",
       "      <td>—Техническое обслуживание машины, проверка исп...</td>\n",
       "      <td>полный рабочий день</td>\n",
       "      <td>Помощник машиниста укладчика асфальтобетона в ...</td>\n",
       "      <td>1245</td>\n",
       "    </tr>\n",
       "    <tr>\n",
       "      <th>3</th>\n",
       "      <td>23</td>\n",
       "      <td>- Работа в крупном стабильном холдинге\\n- Комф...</td>\n",
       "      <td>Желдорпроект</td>\n",
       "      <td>- Знание и умение работать с нормативными доку...</td>\n",
       "      <td>- Сбор и оценка исходных данных для проектиров...</td>\n",
       "      <td>полный рабочий день</td>\n",
       "      <td>Инженер-технолог / Инженер-проектировщик разде...</td>\n",
       "      <td>4053</td>\n",
       "    </tr>\n",
       "    <tr>\n",
       "      <th>4</th>\n",
       "      <td>1</td>\n",
       "      <td>ЦАО, график работы 5/2, с 9-00 (ненормированны...</td>\n",
       "      <td>NaN</td>\n",
       "      <td>Образование высшее, подробное резюме.\\nОпыт ра...</td>\n",
       "      <td>1. Планирование рабочего дня руководителя, док...</td>\n",
       "      <td>полный рабочий день</td>\n",
       "      <td>Помощник руководителя в Москве</td>\n",
       "      <td>12673</td>\n",
       "    </tr>\n",
       "  </tbody>\n",
       "</table>\n",
       "</div>"
      ],
      "text/plain": [
       "   category                                          condition  \\\n",
       "0         1  График работы 5/2, с 9 до 18;\\nОформление в со...   \n",
       "1         1  Мы гарантируем:\\n- Оформление по ТК РФ\\n- Карь...   \n",
       "2        23  Работа и проживание в МО, Ногинский район. д. ...   \n",
       "3        23  - Работа в крупном стабильном холдинге\\n- Комф...   \n",
       "4         1  ЦАО, график работы 5/2, с 9-00 (ненормированны...   \n",
       "\n",
       "           location                                        requirement  \\\n",
       "0  ЭКСЕКО Пи Эм Рус  Высшее образование;\\nОпыт работы в бухгалтерии...   \n",
       "1         ПрезиДЕНТ  У вас в обязательном порядке должно быть:\\n- Д...   \n",
       "2           АВТОБАН  —Знание технологии укладки асфальтобетона• Не ...   \n",
       "3      Желдорпроект  - Знание и умение работать с нормативными доку...   \n",
       "4               NaN  Образование высшее, подробное резюме.\\nОпыт ра...   \n",
       "\n",
       "                                      responsibility             schedule  \\\n",
       "0  Осуществление документооборота между подраздел...  полный рабочий день   \n",
       "1  - Проведение первичных консультаций пациентов\\...  полный рабочий день   \n",
       "2  —Техническое обслуживание машины, проверка исп...  полный рабочий день   \n",
       "3  - Сбор и оценка исходных данных для проектиров...  полный рабочий день   \n",
       "4  1. Планирование рабочего дня руководителя, док...  полный рабочий день   \n",
       "\n",
       "                                               title     id  \n",
       "0  Делопроизводитель (бухгалтер на первичную доку...   7231  \n",
       "1  Заместитель главного врача / Главный врач в Мо...   5814  \n",
       "2  Помощник машиниста укладчика асфальтобетона в ...   1245  \n",
       "3  Инженер-технолог / Инженер-проектировщик разде...   4053  \n",
       "4                     Помощник руководителя в Москве  12673  "
      ]
     },
     "execution_count": 3,
     "metadata": {},
     "output_type": "execute_result"
    }
   ],
   "source": [
    "vacancies_train.head()"
   ]
  },
  {
   "cell_type": "code",
   "execution_count": 4,
   "metadata": {},
   "outputs": [
    {
     "data": {
      "text/plain": [
       "array(['полный рабочий день', 'сменный график работы',\n",
       "       'неполный рабочий день', 'работа вахтовым методом',\n",
       "       'частичная занятость / совместительство',\n",
       "       'временная работа / freelance'], dtype=object)"
      ]
     },
     "execution_count": 4,
     "metadata": {},
     "output_type": "execute_result"
    }
   ],
   "source": [
    "vacancies_train.schedule.unique()"
   ]
  },
  {
   "cell_type": "markdown",
   "metadata": {},
   "source": [
    "**Предобработка данных**\n",
    "\n",
    "Этап 1. Отчищение от \"мусора\":\n",
    "    * Удаляем из заголовков фразу \"в Москве\" (выкачивали только московские вакансии)\n",
    "    * Удаляем из заголовков информацию в скобках (там как правило указана станция метро или адресс)\n",
    "    \n",
    "Этап 2. Лемматизация"
   ]
  },
  {
   "cell_type": "code",
   "execution_count": 5,
   "metadata": {
    "collapsed": true
   },
   "outputs": [],
   "source": [
    "lemmatizer = Mystem()\n",
    "\n",
    "table = str.maketrans({key: ' ' for key in string.punctuation})\n",
    "\n",
    "def preprocess(s):\n",
    "    return s.strip().translate(table).casefold()\n",
    "\n",
    "def filter_word(word):\n",
    "    return len(word) > 2 and word[0] not in '0123456789'\n",
    "\n",
    "def clean_sentence(sentence):\n",
    "    if type(sentence) is not str and math.isnan(sentence):\n",
    "        return ''\n",
    "    cleared = re.sub(r'\\s+', ' ', re.sub(r'\\([^\\(\\)]*\\)', '', re.sub('в Москве', '', sentence)))\n",
    "    return cleared\n",
    "    # здесь также пробовал удалять все знаки пунктуации и приводить к lowercase, а также удалять слова, начинающиеся с чисел,\n",
    "    # скор после этого ухудшился\n",
    "    # cleared = preprocess(cleared)\n",
    "    # return ' '.join(filter(filter_word, cleared.split()))\n",
    "\n",
    "def lemmatize(field):\n",
    "    clean_title = lambda x: re.sub(r'\\s+', ' ', re.sub(r'\\([^\\(\\)]*\\)', '', re.sub('в Москве', '', x))).strip()\n",
    "\n",
    "    tqdm.pandas()\n",
    "    vacancies_train[f'{field}_lemma'] = vacancies_train[field].apply(clean_sentence).progress_apply(lambda x: ''.join(lemmatizer.lemmatize(x)))\n",
    "    vacancies_test[f'{field}_lemma'] = vacancies_test[field].apply(clean_sentence).progress_apply(lambda x: ''.join(lemmatizer.lemmatize(x)))"
   ]
  },
  {
   "cell_type": "code",
   "execution_count": 6,
   "metadata": {
    "scrolled": true
   },
   "outputs": [
    {
     "name": "stderr",
     "output_type": "stream",
     "text": [
      "100%|██████████| 9912/9912 [00:02<00:00, 3965.47it/s]\n",
      "100%|██████████| 4248/4248 [00:00<00:00, 5468.26it/s]\n",
      "100%|██████████| 9912/9912 [00:12<00:00, 784.11it/s]\n",
      "100%|██████████| 4248/4248 [00:05<00:00, 770.15it/s]\n",
      "100%|██████████| 9912/9912 [00:08<00:00, 1105.57it/s]\n",
      "100%|██████████| 4248/4248 [00:03<00:00, 1107.68it/s]\n",
      "100%|██████████| 9912/9912 [00:11<00:00, 843.79it/s]\n",
      "100%|██████████| 4248/4248 [00:05<00:00, 843.49it/s]\n"
     ]
    }
   ],
   "source": [
    "lemmatize('title')\n",
    "lemmatize('responsibility')\n",
    "lemmatize('requirement')\n",
    "lemmatize('condition')"
   ]
  },
  {
   "cell_type": "code",
   "execution_count": 7,
   "metadata": {},
   "outputs": [
    {
     "data": {
      "text/html": [
       "<div>\n",
       "<style scoped>\n",
       "    .dataframe tbody tr th:only-of-type {\n",
       "        vertical-align: middle;\n",
       "    }\n",
       "\n",
       "    .dataframe tbody tr th {\n",
       "        vertical-align: top;\n",
       "    }\n",
       "\n",
       "    .dataframe thead th {\n",
       "        text-align: right;\n",
       "    }\n",
       "</style>\n",
       "<table border=\"1\" class=\"dataframe\">\n",
       "  <thead>\n",
       "    <tr style=\"text-align: right;\">\n",
       "      <th></th>\n",
       "      <th>category</th>\n",
       "      <th>condition</th>\n",
       "      <th>location</th>\n",
       "      <th>requirement</th>\n",
       "      <th>responsibility</th>\n",
       "      <th>schedule</th>\n",
       "      <th>title</th>\n",
       "      <th>id</th>\n",
       "      <th>title_lemma</th>\n",
       "      <th>responsibility_lemma</th>\n",
       "      <th>requirement_lemma</th>\n",
       "      <th>condition_lemma</th>\n",
       "    </tr>\n",
       "  </thead>\n",
       "  <tbody>\n",
       "    <tr>\n",
       "      <th>0</th>\n",
       "      <td>1</td>\n",
       "      <td>График работы 5/2, с 9 до 18;\\nОформление в со...</td>\n",
       "      <td>ЭКСЕКО Пи Эм Рус</td>\n",
       "      <td>Высшее образование;\\nОпыт работы в бухгалтерии...</td>\n",
       "      <td>Осуществление документооборота между подраздел...</td>\n",
       "      <td>полный рабочий день</td>\n",
       "      <td>Делопроизводитель (бухгалтер на первичную доку...</td>\n",
       "      <td>7231</td>\n",
       "      <td>делопроизводитель \\n</td>\n",
       "      <td>осуществление документооборот между подразделе...</td>\n",
       "      <td>высокий образование;\\попыт работа в бухгалтери...</td>\n",
       "      <td>график работа 5/2, с 9 до 18;\\поформление в со...</td>\n",
       "    </tr>\n",
       "    <tr>\n",
       "      <th>1</th>\n",
       "      <td>1</td>\n",
       "      <td>Мы гарантируем:\\n- Оформление по ТК РФ\\n- Карь...</td>\n",
       "      <td>ПрезиДЕНТ</td>\n",
       "      <td>У вас в обязательном порядке должно быть:\\n- Д...</td>\n",
       "      <td>- Проведение первичных консультаций пациентов\\...</td>\n",
       "      <td>полный рабочий день</td>\n",
       "      <td>Заместитель главного врача / Главный врач в Мо...</td>\n",
       "      <td>5814</td>\n",
       "      <td>заместитель главный врач / главный врач \\n</td>\n",
       "      <td>- проведение первичный консультация пациент\\n-...</td>\n",
       "      <td>у вы в обязательный порядок должно быть:\\n- де...</td>\n",
       "      <td>мы гарантировать:\\n- оформление по тк рф\\n- ка...</td>\n",
       "    </tr>\n",
       "    <tr>\n",
       "      <th>2</th>\n",
       "      <td>23</td>\n",
       "      <td>Работа и проживание в МО, Ногинский район. д. ...</td>\n",
       "      <td>АВТОБАН</td>\n",
       "      <td>—Знание технологии укладки асфальтобетона• Не ...</td>\n",
       "      <td>—Техническое обслуживание машины, проверка исп...</td>\n",
       "      <td>полный рабочий день</td>\n",
       "      <td>Помощник машиниста укладчика асфальтобетона в ...</td>\n",
       "      <td>1245</td>\n",
       "      <td>помощник машинист укладчик асфальтобетон \\n</td>\n",
       "      <td>—технический обслуживание машина, проверка исп...</td>\n",
       "      <td>—знание технология укладка асфальтобетон• не и...</td>\n",
       "      <td>работа и проживание в мо, ногинский район. д. ...</td>\n",
       "    </tr>\n",
       "    <tr>\n",
       "      <th>3</th>\n",
       "      <td>23</td>\n",
       "      <td>- Работа в крупном стабильном холдинге\\n- Комф...</td>\n",
       "      <td>Желдорпроект</td>\n",
       "      <td>- Знание и умение работать с нормативными доку...</td>\n",
       "      <td>- Сбор и оценка исходных данных для проектиров...</td>\n",
       "      <td>полный рабочий день</td>\n",
       "      <td>Инженер-технолог / Инженер-проектировщик разде...</td>\n",
       "      <td>4053</td>\n",
       "      <td>инженер-технолог / инженер-проектировщик разде...</td>\n",
       "      <td>- сбор и оценка исходный данные для проектиров...</td>\n",
       "      <td>- знание и умение работать с нормативный докум...</td>\n",
       "      <td>- работа в крупный стабильный холдинг\\n- комфо...</td>\n",
       "    </tr>\n",
       "    <tr>\n",
       "      <th>4</th>\n",
       "      <td>1</td>\n",
       "      <td>ЦАО, график работы 5/2, с 9-00 (ненормированны...</td>\n",
       "      <td>NaN</td>\n",
       "      <td>Образование высшее, подробное резюме.\\nОпыт ра...</td>\n",
       "      <td>1. Планирование рабочего дня руководителя, док...</td>\n",
       "      <td>полный рабочий день</td>\n",
       "      <td>Помощник руководителя в Москве</td>\n",
       "      <td>12673</td>\n",
       "      <td>помощник руководитель \\n</td>\n",
       "      <td>1. планирование рабочий день руководитель, док...</td>\n",
       "      <td>образование высокий, подробный резюме.\\попыт р...</td>\n",
       "      <td>цао, график работа 5/2, с 9-00 ,\\писпытательны...</td>\n",
       "    </tr>\n",
       "  </tbody>\n",
       "</table>\n",
       "</div>"
      ],
      "text/plain": [
       "   category                                          condition  \\\n",
       "0         1  График работы 5/2, с 9 до 18;\\nОформление в со...   \n",
       "1         1  Мы гарантируем:\\n- Оформление по ТК РФ\\n- Карь...   \n",
       "2        23  Работа и проживание в МО, Ногинский район. д. ...   \n",
       "3        23  - Работа в крупном стабильном холдинге\\n- Комф...   \n",
       "4         1  ЦАО, график работы 5/2, с 9-00 (ненормированны...   \n",
       "\n",
       "           location                                        requirement  \\\n",
       "0  ЭКСЕКО Пи Эм Рус  Высшее образование;\\nОпыт работы в бухгалтерии...   \n",
       "1         ПрезиДЕНТ  У вас в обязательном порядке должно быть:\\n- Д...   \n",
       "2           АВТОБАН  —Знание технологии укладки асфальтобетона• Не ...   \n",
       "3      Желдорпроект  - Знание и умение работать с нормативными доку...   \n",
       "4               NaN  Образование высшее, подробное резюме.\\nОпыт ра...   \n",
       "\n",
       "                                      responsibility             schedule  \\\n",
       "0  Осуществление документооборота между подраздел...  полный рабочий день   \n",
       "1  - Проведение первичных консультаций пациентов\\...  полный рабочий день   \n",
       "2  —Техническое обслуживание машины, проверка исп...  полный рабочий день   \n",
       "3  - Сбор и оценка исходных данных для проектиров...  полный рабочий день   \n",
       "4  1. Планирование рабочего дня руководителя, док...  полный рабочий день   \n",
       "\n",
       "                                               title     id  \\\n",
       "0  Делопроизводитель (бухгалтер на первичную доку...   7231   \n",
       "1  Заместитель главного врача / Главный врач в Мо...   5814   \n",
       "2  Помощник машиниста укладчика асфальтобетона в ...   1245   \n",
       "3  Инженер-технолог / Инженер-проектировщик разде...   4053   \n",
       "4                     Помощник руководителя в Москве  12673   \n",
       "\n",
       "                                         title_lemma  \\\n",
       "0                               делопроизводитель \\n   \n",
       "1         заместитель главный врач / главный врач \\n   \n",
       "2        помощник машинист укладчик асфальтобетон \\n   \n",
       "3  инженер-технолог / инженер-проектировщик разде...   \n",
       "4                           помощник руководитель \\n   \n",
       "\n",
       "                                responsibility_lemma  \\\n",
       "0  осуществление документооборот между подразделе...   \n",
       "1  - проведение первичный консультация пациент\\n-...   \n",
       "2  —технический обслуживание машина, проверка исп...   \n",
       "3  - сбор и оценка исходный данные для проектиров...   \n",
       "4  1. планирование рабочий день руководитель, док...   \n",
       "\n",
       "                                   requirement_lemma  \\\n",
       "0  высокий образование;\\попыт работа в бухгалтери...   \n",
       "1  у вы в обязательный порядок должно быть:\\n- де...   \n",
       "2  —знание технология укладка асфальтобетон• не и...   \n",
       "3  - знание и умение работать с нормативный докум...   \n",
       "4  образование высокий, подробный резюме.\\попыт р...   \n",
       "\n",
       "                                     condition_lemma  \n",
       "0  график работа 5/2, с 9 до 18;\\поформление в со...  \n",
       "1  мы гарантировать:\\n- оформление по тк рф\\n- ка...  \n",
       "2  работа и проживание в мо, ногинский район. д. ...  \n",
       "3  - работа в крупный стабильный холдинг\\n- комфо...  \n",
       "4  цао, график работа 5/2, с 9-00 ,\\писпытательны...  "
      ]
     },
     "execution_count": 7,
     "metadata": {},
     "output_type": "execute_result"
    }
   ],
   "source": [
    "vacancies_train.head()"
   ]
  },
  {
   "cell_type": "markdown",
   "metadata": {},
   "source": [
    "**Базовое решение:** Заголовки вакансий + TfidfVectorizer + LogisticRegression"
   ]
  },
  {
   "cell_type": "code",
   "execution_count": 8,
   "metadata": {
    "collapsed": true
   },
   "outputs": [],
   "source": [
    "def add_tfidf(train, test, field):\n",
    "    vectorizer = TfidfVectorizer()\n",
    "    # попробовал также vectorizer с параметрами `min_df=10, max_df=1000`, скор ухудшился\n",
    "    # vectorizer = TfidfVectorizer(min_df=10, max_df=1000)\n",
    "    vectorizer.fit(train[field])\n",
    "    train_tfidf = vectorizer.transform(train[field])\n",
    "    test_tfidf = vectorizer.transform(test[field])\n",
    "    df_train_tfidf = pd.DataFrame(train_tfidf.toarray(), columns=vectorizer.get_feature_names()).add_prefix(f'{field}_tfidf_')\n",
    "    df_test_tfidf = pd.DataFrame(test_tfidf.toarray(), columns=vectorizer.get_feature_names()).add_prefix(f'{field}_tfidf_')\n",
    "    return pd.concat([train, df_train_tfidf], axis=1), pd.concat([test, df_test_tfidf], axis=1)\n",
    "\n",
    "def add_onehot(train, test, field):\n",
    "    label_encoder = LabelEncoder()\n",
    "    label_encoder.fit(train[field])\n",
    "    \n",
    "    train_label = label_encoder.transform(train[field]).reshape(len(train), 1)\n",
    "    test_label = label_encoder.transform(test[field]).reshape(len(test), 1)\n",
    "    \n",
    "    onehot_encoder = OneHotEncoder(sparse=False)\n",
    "    onehot_encoder.fit(train_label)\n",
    "    \n",
    "    train_onehot = onehot_encoder.transform(train_label)\n",
    "    test_onehot = onehot_encoder.transform(test_label)\n",
    "    \n",
    "    labels = train[field].sort_values().unique()\n",
    "    df_train_onehot = pd.DataFrame(train_onehot, columns=labels).add_prefix(f'{field}_onehot_')\n",
    "    df_test_onehot = pd.DataFrame(test_onehot, columns=labels).add_prefix(f'{field}_onehot_')\n",
    "    \n",
    "    return pd.concat([train, df_train_onehot], axis=1), pd.concat([test, df_test_onehot], axis=1)"
   ]
  },
  {
   "cell_type": "code",
   "execution_count": 9,
   "metadata": {
    "collapsed": true
   },
   "outputs": [],
   "source": [
    "vacancies_train, vacancies_test = add_tfidf(vacancies_train, vacancies_test, 'title_lemma')\n",
    "vacancies_train, vacancies_test = add_tfidf(vacancies_train, vacancies_test, 'responsibility_lemma')\n",
    "vacancies_train, vacancies_test = add_tfidf(vacancies_train, vacancies_test, 'requirement_lemma')\n",
    "# скор ухудшается, если добавить признаки tfidf для поля `condition`\n",
    "# vacancies_train, vacancies_test = add_tfidf(vacancies_train, vacancies_test, 'condition_lemma')"
   ]
  },
  {
   "cell_type": "code",
   "execution_count": 10,
   "metadata": {
    "collapsed": true
   },
   "outputs": [],
   "source": [
    "vacancies_train, vacancies_test = add_onehot(vacancies_train, vacancies_test, 'schedule')"
   ]
  },
  {
   "cell_type": "code",
   "execution_count": 11,
   "metadata": {},
   "outputs": [
    {
     "data": {
      "text/plain": [
       "(['title_lemma_tfidf_01',\n",
       "  'title_lemma_tfidf_04пм',\n",
       "  'title_lemma_tfidf_05',\n",
       "  'title_lemma_tfidf_09',\n",
       "  'title_lemma_tfidf_11',\n",
       "  'title_lemma_tfidf_14',\n",
       "  'title_lemma_tfidf_19',\n",
       "  'title_lemma_tfidf_1c',\n",
       "  'title_lemma_tfidf_1с',\n",
       "  'title_lemma_tfidf_1сут'],\n",
       " 30469)"
      ]
     },
     "execution_count": 11,
     "metadata": {},
     "output_type": "execute_result"
    }
   ],
   "source": [
    "features = [x for x in vacancies_train.columns if '_tfidf_' in x or '_onehot_' in x]\n",
    "features[:10], len(features)"
   ]
  },
  {
   "cell_type": "code",
   "execution_count": 207,
   "metadata": {},
   "outputs": [
    {
     "data": {
      "text/plain": [
       "0.6188652381875535"
      ]
     },
     "execution_count": 207,
     "metadata": {},
     "output_type": "execute_result"
    }
   ],
   "source": [
    "f1_scorer = make_scorer(f1_score, average='micro')\n",
    "cross_val_score(LogisticRegression(), vacancies_train[features], vacancies_train.category, scoring=f1_scorer, cv=5, n_jobs=3).mean()"
   ]
  },
  {
   "cell_type": "markdown",
   "metadata": {},
   "source": [
    "Подберем параметр `C`"
   ]
  },
  {
   "cell_type": "code",
   "execution_count": 15,
   "metadata": {},
   "outputs": [
    {
     "name": "stdout",
     "output_type": "stream",
     "text": [
      "1.25 0.6194732497067708\n",
      "1.2605263157894737 0.6194726393696435\n",
      "1.2710526315789474 0.6195732966908638\n",
      "1.2815789473684212 0.6195738027485003\n",
      "1.2921052631578946 0.6193731002898952\n",
      "1.3026315789473684 0.6191713838693088\n",
      "1.313157894736842 0.6190704223028789\n",
      "1.3236842105263158 0.6186668318103503\n",
      "1.3342105263157895 0.6189703201002125\n",
      "1.3447368421052632 0.6188689549089287\n",
      "1.3552631578947367 0.6189688423949576\n",
      "1.3657894736842104 0.6190691936242602\n",
      "1.3763157894736842 0.618867319552318\n",
      "1.3868421052631579 0.6187666088592327\n",
      "1.3973684210526316 0.618665392108511\n",
      "1.4078947368421053 0.618665392108511\n",
      "1.418421052631579 0.6191690277384242\n",
      "1.4289473684210525 0.6189667500416282\n",
      "1.4394736842105262 0.6194704298326126\n",
      "1.45 0.6194701237406947\n"
     ]
    }
   ],
   "source": [
    "for c in np.linspace(1.25, 1.45, 20):\n",
    "    f1_scorer = make_scorer(f1_score, average='micro')\n",
    "    score = cross_val_score(LogisticRegression(C=c), vacancies_train[features], vacancies_train.category, scoring=f1_scorer, cv=5, n_jobs=3).mean()\n",
    "    print(c, score)"
   ]
  },
  {
   "cell_type": "markdown",
   "metadata": {},
   "source": [
    "Попробуем использовать RandomForest:"
   ]
  },
  {
   "cell_type": "code",
   "execution_count": 40,
   "metadata": {},
   "outputs": [
    {
     "data": {
      "text/plain": [
       "0.5798045212563485"
      ]
     },
     "execution_count": 40,
     "metadata": {},
     "output_type": "execute_result"
    }
   ],
   "source": [
    "f1_scorer = make_scorer(f1_score, average='micro')\n",
    "clf = RandomForestClassifier(n_estimators=200, n_jobs=-1)\n",
    "cross_val_score(clf, vacancies_train[features], vacancies_train.category, scoring=f1_scorer, cv=5).mean()"
   ]
  },
  {
   "cell_type": "markdown",
   "metadata": {},
   "source": [
    "...а также XGBoost:"
   ]
  },
  {
   "cell_type": "code",
   "execution_count": 36,
   "metadata": {
    "collapsed": true
   },
   "outputs": [],
   "source": [
    "def cross_val_xgb(params, X, y, cv=5):\n",
    "    kf = KFold(n_splits=5, random_state=42, shuffle=True)\n",
    "    scores = []\n",
    "    for train_index, test_index in tqdm(kf.split(X)):\n",
    "        train_dmatrix = xgb.DMatrix(X.iloc[train_index], y[train_index])\n",
    "        test_dmatrix = xgb.DMatrix(X.iloc[test_index])\n",
    "        \n",
    "        clf = xgb.train(params, train_dmatrix, 50)\n",
    "        y_pred = clf.predict(test_dmatrix)\n",
    "        \n",
    "        scores.append(f1_score(y[test_index], y_pred, average='micro'))\n",
    "        break\n",
    "    return np.mean(scores)"
   ]
  },
  {
   "cell_type": "code",
   "execution_count": 37,
   "metadata": {},
   "outputs": [
    {
     "name": "stderr",
     "output_type": "stream",
     "text": [
      "\r",
      "0it [00:00, ?it/s]"
     ]
    },
    {
     "data": {
      "text/plain": [
       "0.56732223903177"
      ]
     },
     "execution_count": 37,
     "metadata": {},
     "output_type": "execute_result"
    }
   ],
   "source": [
    "params = {'objective': 'multi:softmax', 'silent': True, 'num_class': 30}\n",
    "cross_val_xgb(params, vacancies_train[features], vacancies_train.category)"
   ]
  },
  {
   "cell_type": "markdown",
   "metadata": {},
   "source": [
    "В итоге лучшим оказалась логистическая регрессия с `C=1.139795918367347`"
   ]
  },
  {
   "cell_type": "code",
   "execution_count": 14,
   "metadata": {
    "collapsed": true
   },
   "outputs": [],
   "source": [
    "classifier = LogisticRegression(C=1.139795918367347)\n",
    "classifier.fit(vacancies_train[features], vacancies_train.category)\n",
    "\n",
    "vacancies_test['category'] = classifier.predict(vacancies_test[features])\n",
    "vacancies_test[['id', 'category']].to_csv('baseline.csv', index=False)"
   ]
  },
  {
   "cell_type": "code",
   "execution_count": 17,
   "metadata": {
    "collapsed": true
   },
   "outputs": [],
   "source": [
    "classifier = LogisticRegression(C=1.2815789473684212)\n",
    "classifier.fit(vacancies_train[features], vacancies_train.category)\n",
    "\n",
    "vacancies_test['category'] = classifier.predict(vacancies_test[features])\n",
    "vacancies_test[['id', 'category']].to_csv('baseline.csv', index=False)"
   ]
  },
  {
   "cell_type": "code",
   "execution_count": null,
   "metadata": {
    "collapsed": true
   },
   "outputs": [],
   "source": []
  }
 ],
 "metadata": {
  "kernelspec": {
   "display_name": "Python 3",
   "language": "python",
   "name": "python3"
  },
  "language_info": {
   "codemirror_mode": {
    "name": "ipython",
    "version": 3
   },
   "file_extension": ".py",
   "mimetype": "text/x-python",
   "name": "python",
   "nbconvert_exporter": "python",
   "pygments_lexer": "ipython3",
   "version": "3.6.3"
  }
 },
 "nbformat": 4,
 "nbformat_minor": 2
}
