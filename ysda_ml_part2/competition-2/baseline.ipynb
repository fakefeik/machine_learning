{
 "cells": [
  {
   "cell_type": "code",
   "execution_count": 1,
   "metadata": {
    "collapsed": true
   },
   "outputs": [],
   "source": [
    "import xgboost as xgb\n",
    "import pandas as pd\n",
    "import numpy as np\n",
    "import json\n",
    "import string\n",
    "import requests\n",
    "import pymorphy2\n",
    "from bs4 import BeautifulSoup\n",
    "from collections import Counter\n",
    "\n",
    "from xgboost import XGBRegressor\n",
    "from sklearn.ensemble import RandomForestRegressor\n",
    "from sklearn.base import BaseEstimator, ClassifierMixin"
   ]
  },
  {
   "cell_type": "markdown",
   "metadata": {},
   "source": [
    "Загружаем данные"
   ]
  },
  {
   "cell_type": "code",
   "execution_count": 2,
   "metadata": {
    "collapsed": true
   },
   "outputs": [],
   "source": [
    "train_pool = pd.read_csv('train.csv', encoding='utf-8')\n",
    "test_pool = pd.read_csv('test.csv', encoding='utf-8')\n",
    "\n",
    "with open('train_org_information.json', encoding='utf8') as f:\n",
    "    train_orgs = json.load(f)\n",
    "\n",
    "with open('test_org_information.json', encoding='utf8') as f:\n",
    "    test_orgs = json.load(f)\n",
    "\n",
    "with open('train_rubric_information.json', encoding='utf8') as f:\n",
    "    train_rubrics = json.load(f)\n",
    "\n",
    "with open('test_rubric_information.json', encoding='utf8') as f:\n",
    "    test_rubrics = json.load(f)\n",
    "\n",
    "with open('train_clicks_information.json', encoding='utf8') as f:\n",
    "    train_clicks = json.load(f)\n",
    "\n",
    "with open('test_clicks_information.json', encoding='utf8') as f:\n",
    "    test_clicks = json.load(f)"
   ]
  },
  {
   "cell_type": "code",
   "execution_count": 3,
   "metadata": {
    "collapsed": true
   },
   "outputs": [],
   "source": [
    "table = str.maketrans({key: None for key in string.punctuation})\n",
    "\n",
    "def preprocess(s):\n",
    "    return s.strip().translate(table).casefold()\n",
    "\n",
    "def get_keywords(org_id, orgs, rubrics, locale):\n",
    "    keywords = ''\n",
    "    org_rubrics = orgs[org_id]['rubrics']\n",
    "    for rubric_id in org_rubrics:\n",
    "        rubric = rubrics[str(rubric_id)]\n",
    "        for obj in rubric['descriptions']:\n",
    "            # if obj['value']['locale'] == locale:\n",
    "                keywords += ' ' + preprocess(obj['value']['value'])\n",
    "        for key in ['keywords', 'phrases', 'names']:\n",
    "            for keywords_with_locale in rubric[key]:\n",
    "                # if keywords_with_locale['locale'] == locale:\n",
    "                    keywords += ' ' + preprocess(keywords_with_locale['value'])\n",
    "    \n",
    "    return ' '.join(set(keywords.split(' ')))\n",
    "\n",
    "def get_org_name(org_id, orgs, locale):\n",
    "    for org_name in orgs[org_id]['names']:\n",
    "        if org_name['value']['locale'] == locale:\n",
    "            return preprocess(org_name['value']['value'])\n",
    "    return ''\n",
    "\n",
    "def get_words_in_query(words, query):\n",
    "    query = preprocess(query).split(' ')\n",
    "    words = preprocess(words).split(' ')\n",
    "    \n",
    "    count_words = Counter()\n",
    "    for word in words:\n",
    "        if len(word) > 2:\n",
    "            count_words[word] += 1\n",
    "    \n",
    "    coef = 0\n",
    "    for word in query:\n",
    "        if word in count_words:\n",
    "            coef += count_words[word]\n",
    "    return coef\n",
    "\n",
    "def get_org_clicks(org_id, clicks, query):\n",
    "    if org_id not in clicks:\n",
    "        return 0\n",
    "    return get_words_in_query(' '.join(clicks[org_id]), query)\n",
    "\n",
    "def get_org_addr(query, org_addr):\n",
    "    return get_words_in_query(org_addr, query)\n",
    "\n",
    "def enrich(pool, orgs, rubrics, clicks):\n",
    "    pool['query'] = pool['query'].map(preprocess)\n",
    "    pool['org_name'] = pool['org_name'].map(preprocess)\n",
    "    pool['org_name_ru'] = pool['org_id'].map(lambda x: get_org_name(str(x), orgs, 'ru'))\n",
    "    pool['org_region'] = pool['org_id'].map(lambda x: orgs[str(x)]['address']['region_code'])\n",
    "    pool['org_geo_id'] = pool['org_id'].map(lambda x: orgs[str(x)]['address']['geo_id'])\n",
    "    pool['org_address'] = pool['org_id'].map(lambda x: orgs[str(x)]['address']['formatted']['value'])\n",
    "    pool['org_keywords_ru'] = pool['org_id'].map(lambda x: get_keywords(str(x), orgs, rubrics, 'ru'))\n",
    "    pool['org_clicks_in_query'] = pool.apply(lambda row: get_org_clicks(str(row.org_id), clicks, row.query), axis=1)\n",
    "    pool['org_addr_in_query'] = pool.apply(lambda row: get_org_addr(row.query, row.org_address), axis=1)\n",
    "    pool['org_keyw_in_query'] = pool.apply(lambda row: get_words_in_query(row.org_keywords_ru, row.query), axis=1)\n",
    "    pool['same_region'] = pool.apply(lambda row: 1 if row.region == orgs[str(row.org_id)]['address']['geo_id'] else 0, axis=1)\n",
    "    return pool"
   ]
  },
  {
   "cell_type": "code",
   "execution_count": 4,
   "metadata": {
    "collapsed": true,
    "scrolled": false
   },
   "outputs": [],
   "source": [
    "train_pool = enrich(train_pool, train_orgs, train_rubrics, train_clicks)\n",
    "test_pool = enrich(test_pool, test_orgs, test_rubrics, test_clicks)"
   ]
  },
  {
   "cell_type": "code",
   "execution_count": 5,
   "metadata": {},
   "outputs": [
    {
     "data": {
      "text/html": [
       "<div>\n",
       "<style>\n",
       "    .dataframe thead tr:only-child th {\n",
       "        text-align: right;\n",
       "    }\n",
       "\n",
       "    .dataframe thead th {\n",
       "        text-align: left;\n",
       "    }\n",
       "\n",
       "    .dataframe tbody tr th {\n",
       "        vertical-align: top;\n",
       "    }\n",
       "</style>\n",
       "<table border=\"1\" class=\"dataframe\">\n",
       "  <thead>\n",
       "    <tr style=\"text-align: right;\">\n",
       "      <th></th>\n",
       "      <th>query_id</th>\n",
       "      <th>query</th>\n",
       "      <th>region</th>\n",
       "      <th>org_name</th>\n",
       "      <th>org_id</th>\n",
       "      <th>window_center</th>\n",
       "      <th>window_size</th>\n",
       "      <th>relevance</th>\n",
       "      <th>org_name_ru</th>\n",
       "      <th>org_region</th>\n",
       "      <th>org_geo_id</th>\n",
       "      <th>org_address</th>\n",
       "      <th>org_keywords_ru</th>\n",
       "      <th>org_clicks_in_query</th>\n",
       "      <th>org_addr_in_query</th>\n",
       "      <th>org_keyw_in_query</th>\n",
       "      <th>same_region</th>\n",
       "    </tr>\n",
       "  </thead>\n",
       "  <tbody>\n",
       "    <tr>\n",
       "      <th>0</th>\n",
       "      <td>11</td>\n",
       "      <td>суд украина днепропетровская область днепродзе...</td>\n",
       "      <td>21775</td>\n",
       "      <td>суд жовтневого району міста дніпропетровськ</td>\n",
       "      <td>1021049127</td>\n",
       "      <td>34.613119,48.506531</td>\n",
       "      <td>0.025928,0.017380</td>\n",
       "      <td>0.0</td>\n",
       "      <td>суд жовтневого района города днепропетровск</td>\n",
       "      <td>UA</td>\n",
       "      <td>141</td>\n",
       "      <td>Днепропетровская обл., Днепр г., ул. Паторжинс...</td>\n",
       "      <td>işlemler adliyeleri gerichtsbehörde судьи isl...</td>\n",
       "      <td>11</td>\n",
       "      <td>1</td>\n",
       "      <td>1</td>\n",
       "      <td>0</td>\n",
       "    </tr>\n",
       "    <tr>\n",
       "      <th>1</th>\n",
       "      <td>11</td>\n",
       "      <td>суд украина днепропетровская область днепродзе...</td>\n",
       "      <td>21775</td>\n",
       "      <td>дніпропетровський окружний адміністративний суд</td>\n",
       "      <td>1602348889</td>\n",
       "      <td>34.613119,48.506531</td>\n",
       "      <td>0.025928,0.017380</td>\n",
       "      <td>0.0</td>\n",
       "      <td>днепропетровский окружной административный суд</td>\n",
       "      <td>UA</td>\n",
       "      <td>141</td>\n",
       "      <td>Украина, Днепр, улица Академика Янгеля, 4</td>\n",
       "      <td>işlemler adliyeleri gerichtsbehörde судьи isl...</td>\n",
       "      <td>10</td>\n",
       "      <td>1</td>\n",
       "      <td>1</td>\n",
       "      <td>0</td>\n",
       "    </tr>\n",
       "    <tr>\n",
       "      <th>2</th>\n",
       "      <td>11</td>\n",
       "      <td>суд украина днепропетровская область днепродзе...</td>\n",
       "      <td>21775</td>\n",
       "      <td>бабушкінський районний суд</td>\n",
       "      <td>1105837793</td>\n",
       "      <td>34.613119,48.506531</td>\n",
       "      <td>0.025928,0.017380</td>\n",
       "      <td>0.0</td>\n",
       "      <td>бабушкинский районный суд</td>\n",
       "      <td>UA</td>\n",
       "      <td>141</td>\n",
       "      <td>Дніпропетровська обл., Дніпро, просп. Дмитра Я...</td>\n",
       "      <td>işlemler adliyeleri gerichtsbehörde судьи isl...</td>\n",
       "      <td>9</td>\n",
       "      <td>0</td>\n",
       "      <td>1</td>\n",
       "      <td>0</td>\n",
       "    </tr>\n",
       "    <tr>\n",
       "      <th>3</th>\n",
       "      <td>11</td>\n",
       "      <td>суд украина днепропетровская область днепродзе...</td>\n",
       "      <td>21775</td>\n",
       "      <td>красногвардійський районний суд</td>\n",
       "      <td>1066267658</td>\n",
       "      <td>34.613119,48.506531</td>\n",
       "      <td>0.025928,0.017380</td>\n",
       "      <td>0.0</td>\n",
       "      <td>красногвардейский районный суд</td>\n",
       "      <td>UA</td>\n",
       "      <td>141</td>\n",
       "      <td>Дніпропетровська обл., Дніпро, просп. Пушкіна,...</td>\n",
       "      <td>işlemler adliyeleri gerichtsbehörde судьи isl...</td>\n",
       "      <td>4</td>\n",
       "      <td>0</td>\n",
       "      <td>1</td>\n",
       "      <td>0</td>\n",
       "    </tr>\n",
       "    <tr>\n",
       "      <th>4</th>\n",
       "      <td>11</td>\n",
       "      <td>суд украина днепропетровская область днепродзе...</td>\n",
       "      <td>21775</td>\n",
       "      <td>жовтневий суд</td>\n",
       "      <td>1661586235</td>\n",
       "      <td>34.613119,48.506531</td>\n",
       "      <td>0.025928,0.017380</td>\n",
       "      <td>0.0</td>\n",
       "      <td>жовтневый суд</td>\n",
       "      <td>UA</td>\n",
       "      <td>141</td>\n",
       "      <td>Украина, Днепр, улица Паторжинского, 18А</td>\n",
       "      <td>işlemler adliyeleri gerichtsbehörde судьи isl...</td>\n",
       "      <td>5</td>\n",
       "      <td>1</td>\n",
       "      <td>1</td>\n",
       "      <td>0</td>\n",
       "    </tr>\n",
       "  </tbody>\n",
       "</table>\n",
       "</div>"
      ],
      "text/plain": [
       "   query_id                                              query  region  \\\n",
       "0        11  суд украина днепропетровская область днепродзе...   21775   \n",
       "1        11  суд украина днепропетровская область днепродзе...   21775   \n",
       "2        11  суд украина днепропетровская область днепродзе...   21775   \n",
       "3        11  суд украина днепропетровская область днепродзе...   21775   \n",
       "4        11  суд украина днепропетровская область днепродзе...   21775   \n",
       "\n",
       "                                          org_name      org_id  \\\n",
       "0      суд жовтневого району міста дніпропетровськ  1021049127   \n",
       "1  дніпропетровський окружний адміністративний суд  1602348889   \n",
       "2                       бабушкінський районний суд  1105837793   \n",
       "3                  красногвардійський районний суд  1066267658   \n",
       "4                                    жовтневий суд  1661586235   \n",
       "\n",
       "         window_center        window_size  relevance  \\\n",
       "0  34.613119,48.506531  0.025928,0.017380        0.0   \n",
       "1  34.613119,48.506531  0.025928,0.017380        0.0   \n",
       "2  34.613119,48.506531  0.025928,0.017380        0.0   \n",
       "3  34.613119,48.506531  0.025928,0.017380        0.0   \n",
       "4  34.613119,48.506531  0.025928,0.017380        0.0   \n",
       "\n",
       "                                      org_name_ru org_region  org_geo_id  \\\n",
       "0     суд жовтневого района города днепропетровск         UA         141   \n",
       "1  днепропетровский окружной административный суд         UA         141   \n",
       "2                       бабушкинский районный суд         UA         141   \n",
       "3                  красногвардейский районный суд         UA         141   \n",
       "4                                   жовтневый суд         UA         141   \n",
       "\n",
       "                                         org_address  \\\n",
       "0  Днепропетровская обл., Днепр г., ул. Паторжинс...   \n",
       "1          Украина, Днепр, улица Академика Янгеля, 4   \n",
       "2  Дніпропетровська обл., Дніпро, просп. Дмитра Я...   \n",
       "3  Дніпропетровська обл., Дніпро, просп. Пушкіна,...   \n",
       "4           Украина, Днепр, улица Паторжинского, 18А   \n",
       "\n",
       "                                     org_keywords_ru  org_clicks_in_query  \\\n",
       "0   işlemler adliyeleri gerichtsbehörde судьи isl...                   11   \n",
       "1   işlemler adliyeleri gerichtsbehörde судьи isl...                   10   \n",
       "2   işlemler adliyeleri gerichtsbehörde судьи isl...                    9   \n",
       "3   işlemler adliyeleri gerichtsbehörde судьи isl...                    4   \n",
       "4   işlemler adliyeleri gerichtsbehörde судьи isl...                    5   \n",
       "\n",
       "   org_addr_in_query  org_keyw_in_query  same_region  \n",
       "0                  1                  1            0  \n",
       "1                  1                  1            0  \n",
       "2                  0                  1            0  \n",
       "3                  0                  1            0  \n",
       "4                  1                  1            0  "
      ]
     },
     "execution_count": 5,
     "metadata": {},
     "output_type": "execute_result"
    }
   ],
   "source": [
    "train_pool.head()"
   ]
  },
  {
   "cell_type": "markdown",
   "metadata": {},
   "source": [
    "Напишем функции, генерирующие простые признаки основанные на пересечении триграмм между запросом и названием организации"
   ]
  },
  {
   "cell_type": "code",
   "execution_count": 6,
   "metadata": {
    "collapsed": true
   },
   "outputs": [],
   "source": [
    "def get_trigrams(string):\n",
    "    string = '^^' + string + '$$'\n",
    "    trigrams = set()\n",
    "    trigrams_count = 0\n",
    "    \n",
    "    for i in range(len(string) - 2):\n",
    "        trigrams.add(string[i:i+3])\n",
    "        trigrams_count += 1\n",
    "        \n",
    "    return trigrams, trigrams_count\n",
    "\n",
    "def common_trigrams_factors(query, org_name, org_name_ru, org_address, org_keywords_ru):\n",
    "    query_trigrams, query_trigrams_count = get_trigrams(query)\n",
    "    org_name_trigrams, org_name_trigrams_count = get_trigrams(org_name if org_name_ru == '' else org_name_ru)\n",
    "\n",
    "    org_addr_trigrams, org_addr_trigrams_count = get_trigrams(org_address)\n",
    "    org_keyw_trigrams, org_keyw_trigrams_count = get_trigrams(org_keywords_ru)\n",
    "    \n",
    "    \n",
    "    factors = [float(len(query_trigrams.intersection(org_name_trigrams)))]\n",
    "\n",
    "    factors.append(0. if query_trigrams_count == 0. else 0.1 + factors[0] / query_trigrams_count)\n",
    "    factors.append(0. if org_name_trigrams_count == 0. else 0.1 + factors[0] / org_name_trigrams_count)    \n",
    "    \n",
    "    factors.append(float(len(query_trigrams.intersection(org_addr_trigrams))))\n",
    "    factors.append(0. if org_addr_trigrams_count == 0. else 0.1 + factors[3] / org_addr_trigrams_count)  \n",
    "    \n",
    "    factors.append(float(len(query_trigrams.intersection(org_keyw_trigrams))))\n",
    "    factors.append(0. if org_keyw_trigrams_count == 0. else 0.1 + factors[5] / org_keyw_trigrams_count)\n",
    "    \n",
    "    return factors"
   ]
  },
  {
   "cell_type": "markdown",
   "metadata": {},
   "source": [
    "Посчитаем данные факторы для каждого файла"
   ]
  },
  {
   "cell_type": "code",
   "execution_count": 7,
   "metadata": {
    "collapsed": true,
    "scrolled": true
   },
   "outputs": [],
   "source": [
    "def calc_trigram_factors(row):\n",
    "    return row.append(\n",
    "        pd.Series(common_trigrams_factors(row.query, row.org_name, row.org_name_ru, row.org_address, row.org_keywords_ru)))\n",
    "    \n",
    "train_factors = train_pool.apply(calc_trigram_factors, axis=1)\n",
    "test_factors = test_pool.apply(calc_trigram_factors, axis=1)"
   ]
  },
  {
   "cell_type": "code",
   "execution_count": 8,
   "metadata": {},
   "outputs": [
    {
     "data": {
      "text/html": [
       "<div>\n",
       "<style>\n",
       "    .dataframe thead tr:only-child th {\n",
       "        text-align: right;\n",
       "    }\n",
       "\n",
       "    .dataframe thead th {\n",
       "        text-align: left;\n",
       "    }\n",
       "\n",
       "    .dataframe tbody tr th {\n",
       "        vertical-align: top;\n",
       "    }\n",
       "</style>\n",
       "<table border=\"1\" class=\"dataframe\">\n",
       "  <thead>\n",
       "    <tr style=\"text-align: right;\">\n",
       "      <th></th>\n",
       "      <th>query_id</th>\n",
       "      <th>query</th>\n",
       "      <th>region</th>\n",
       "      <th>org_name</th>\n",
       "      <th>org_id</th>\n",
       "      <th>window_center</th>\n",
       "      <th>window_size</th>\n",
       "      <th>relevance</th>\n",
       "      <th>org_name_ru</th>\n",
       "      <th>org_region</th>\n",
       "      <th>...</th>\n",
       "      <th>org_addr_in_query</th>\n",
       "      <th>org_keyw_in_query</th>\n",
       "      <th>same_region</th>\n",
       "      <th>0</th>\n",
       "      <th>1</th>\n",
       "      <th>2</th>\n",
       "      <th>3</th>\n",
       "      <th>4</th>\n",
       "      <th>5</th>\n",
       "      <th>6</th>\n",
       "    </tr>\n",
       "  </thead>\n",
       "  <tbody>\n",
       "    <tr>\n",
       "      <th>0</th>\n",
       "      <td>11</td>\n",
       "      <td>суд украина днепропетровская область днепродзе...</td>\n",
       "      <td>21775</td>\n",
       "      <td>суд жовтневого району міста дніпропетровськ</td>\n",
       "      <td>1021049127</td>\n",
       "      <td>34.613119,48.506531</td>\n",
       "      <td>0.025928,0.017380</td>\n",
       "      <td>0.0</td>\n",
       "      <td>суд жовтневого района города днепропетровск</td>\n",
       "      <td>UA</td>\n",
       "      <td>...</td>\n",
       "      <td>1</td>\n",
       "      <td>1</td>\n",
       "      <td>0</td>\n",
       "      <td>23.0</td>\n",
       "      <td>0.419444</td>\n",
       "      <td>0.611111</td>\n",
       "      <td>22.0</td>\n",
       "      <td>0.485965</td>\n",
       "      <td>10.0</td>\n",
       "      <td>0.1125</td>\n",
       "    </tr>\n",
       "    <tr>\n",
       "      <th>1</th>\n",
       "      <td>11</td>\n",
       "      <td>суд украина днепропетровская область днепродзе...</td>\n",
       "      <td>21775</td>\n",
       "      <td>дніпропетровський окружний адміністративний суд</td>\n",
       "      <td>1602348889</td>\n",
       "      <td>34.613119,48.506531</td>\n",
       "      <td>0.025928,0.017380</td>\n",
       "      <td>0.0</td>\n",
       "      <td>днепропетровский окружной административный суд</td>\n",
       "      <td>UA</td>\n",
       "      <td>...</td>\n",
       "      <td>1</td>\n",
       "      <td>1</td>\n",
       "      <td>0</td>\n",
       "      <td>18.0</td>\n",
       "      <td>0.350000</td>\n",
       "      <td>0.475000</td>\n",
       "      <td>6.0</td>\n",
       "      <td>0.239535</td>\n",
       "      <td>10.0</td>\n",
       "      <td>0.1125</td>\n",
       "    </tr>\n",
       "    <tr>\n",
       "      <th>2</th>\n",
       "      <td>11</td>\n",
       "      <td>суд украина днепропетровская область днепродзе...</td>\n",
       "      <td>21775</td>\n",
       "      <td>бабушкінський районний суд</td>\n",
       "      <td>1105837793</td>\n",
       "      <td>34.613119,48.506531</td>\n",
       "      <td>0.025928,0.017380</td>\n",
       "      <td>0.0</td>\n",
       "      <td>бабушкинский районный суд</td>\n",
       "      <td>UA</td>\n",
       "      <td>...</td>\n",
       "      <td>0</td>\n",
       "      <td>1</td>\n",
       "      <td>0</td>\n",
       "      <td>7.0</td>\n",
       "      <td>0.197222</td>\n",
       "      <td>0.359259</td>\n",
       "      <td>10.0</td>\n",
       "      <td>0.258730</td>\n",
       "      <td>10.0</td>\n",
       "      <td>0.1125</td>\n",
       "    </tr>\n",
       "    <tr>\n",
       "      <th>3</th>\n",
       "      <td>11</td>\n",
       "      <td>суд украина днепропетровская область днепродзе...</td>\n",
       "      <td>21775</td>\n",
       "      <td>красногвардійський районний суд</td>\n",
       "      <td>1066267658</td>\n",
       "      <td>34.613119,48.506531</td>\n",
       "      <td>0.025928,0.017380</td>\n",
       "      <td>0.0</td>\n",
       "      <td>красногвардейский районный суд</td>\n",
       "      <td>UA</td>\n",
       "      <td>...</td>\n",
       "      <td>0</td>\n",
       "      <td>1</td>\n",
       "      <td>0</td>\n",
       "      <td>6.0</td>\n",
       "      <td>0.183333</td>\n",
       "      <td>0.287500</td>\n",
       "      <td>10.0</td>\n",
       "      <td>0.292308</td>\n",
       "      <td>10.0</td>\n",
       "      <td>0.1125</td>\n",
       "    </tr>\n",
       "    <tr>\n",
       "      <th>4</th>\n",
       "      <td>11</td>\n",
       "      <td>суд украина днепропетровская область днепродзе...</td>\n",
       "      <td>21775</td>\n",
       "      <td>жовтневий суд</td>\n",
       "      <td>1661586235</td>\n",
       "      <td>34.613119,48.506531</td>\n",
       "      <td>0.025928,0.017380</td>\n",
       "      <td>0.0</td>\n",
       "      <td>жовтневый суд</td>\n",
       "      <td>UA</td>\n",
       "      <td>...</td>\n",
       "      <td>1</td>\n",
       "      <td>1</td>\n",
       "      <td>0</td>\n",
       "      <td>2.0</td>\n",
       "      <td>0.127778</td>\n",
       "      <td>0.233333</td>\n",
       "      <td>11.0</td>\n",
       "      <td>0.361905</td>\n",
       "      <td>10.0</td>\n",
       "      <td>0.1125</td>\n",
       "    </tr>\n",
       "  </tbody>\n",
       "</table>\n",
       "<p>5 rows × 24 columns</p>\n",
       "</div>"
      ],
      "text/plain": [
       "   query_id                                              query  region  \\\n",
       "0        11  суд украина днепропетровская область днепродзе...   21775   \n",
       "1        11  суд украина днепропетровская область днепродзе...   21775   \n",
       "2        11  суд украина днепропетровская область днепродзе...   21775   \n",
       "3        11  суд украина днепропетровская область днепродзе...   21775   \n",
       "4        11  суд украина днепропетровская область днепродзе...   21775   \n",
       "\n",
       "                                          org_name      org_id  \\\n",
       "0      суд жовтневого району міста дніпропетровськ  1021049127   \n",
       "1  дніпропетровський окружний адміністративний суд  1602348889   \n",
       "2                       бабушкінський районний суд  1105837793   \n",
       "3                  красногвардійський районний суд  1066267658   \n",
       "4                                    жовтневий суд  1661586235   \n",
       "\n",
       "         window_center        window_size  relevance  \\\n",
       "0  34.613119,48.506531  0.025928,0.017380        0.0   \n",
       "1  34.613119,48.506531  0.025928,0.017380        0.0   \n",
       "2  34.613119,48.506531  0.025928,0.017380        0.0   \n",
       "3  34.613119,48.506531  0.025928,0.017380        0.0   \n",
       "4  34.613119,48.506531  0.025928,0.017380        0.0   \n",
       "\n",
       "                                      org_name_ru org_region   ...    \\\n",
       "0     суд жовтневого района города днепропетровск         UA   ...     \n",
       "1  днепропетровский окружной административный суд         UA   ...     \n",
       "2                       бабушкинский районный суд         UA   ...     \n",
       "3                  красногвардейский районный суд         UA   ...     \n",
       "4                                   жовтневый суд         UA   ...     \n",
       "\n",
       "   org_addr_in_query org_keyw_in_query same_region     0         1         2  \\\n",
       "0                  1                 1           0  23.0  0.419444  0.611111   \n",
       "1                  1                 1           0  18.0  0.350000  0.475000   \n",
       "2                  0                 1           0   7.0  0.197222  0.359259   \n",
       "3                  0                 1           0   6.0  0.183333  0.287500   \n",
       "4                  1                 1           0   2.0  0.127778  0.233333   \n",
       "\n",
       "      3         4     5       6  \n",
       "0  22.0  0.485965  10.0  0.1125  \n",
       "1   6.0  0.239535  10.0  0.1125  \n",
       "2  10.0  0.258730  10.0  0.1125  \n",
       "3  10.0  0.292308  10.0  0.1125  \n",
       "4  11.0  0.361905  10.0  0.1125  \n",
       "\n",
       "[5 rows x 24 columns]"
      ]
     },
     "execution_count": 8,
     "metadata": {},
     "output_type": "execute_result"
    }
   ],
   "source": [
    "train_factors.head()"
   ]
  },
  {
   "cell_type": "markdown",
   "metadata": {},
   "source": [
    "Обучаем модель"
   ]
  },
  {
   "cell_type": "code",
   "execution_count": 9,
   "metadata": {},
   "outputs": [
    {
     "name": "stdout",
     "output_type": "stream",
     "text": [
      "0.0\n",
      "1.0\n",
      "1.0\n",
      "0.6309297535714575\n",
      "0.6934264036172708\n",
      "0.7328286204777911\n"
     ]
    }
   ],
   "source": [
    "\"\"\" Reference from https://gist.github.com/bwhite/3726239\n",
    "\"\"\"\n",
    "\n",
    "def dcg_at_k(r, k, method=0):\n",
    "    \"\"\"Score is discounted cumulative gain (dcg)\n",
    "    Relevance is positive real values.  Can use binary\n",
    "    as the previous methods.\n",
    "    Example from\n",
    "    http://www.stanford.edu/class/cs276/handouts/EvaluationNew-handout-6-per.pdf\n",
    "    >>> r = [3, 2, 3, 0, 0, 1, 2, 2, 3, 0]\n",
    "    >>> dcg_at_k(r, 1)\n",
    "    3.0\n",
    "    >>> dcg_at_k(r, 1, method=1)\n",
    "    3.0\n",
    "    >>> dcg_at_k(r, 2)\n",
    "    5.0\n",
    "    >>> dcg_at_k(r, 2, method=1)\n",
    "    4.2618595071429155\n",
    "    >>> dcg_at_k(r, 10)\n",
    "    9.6051177391888114\n",
    "    >>> dcg_at_k(r, 11)\n",
    "    9.6051177391888114\n",
    "    Args:\n",
    "        r: Relevance scores (list or numpy) in rank order\n",
    "            (first element is the first item)\n",
    "        k: Number of results to consider\n",
    "        method: If 0 then weights are [1.0, 1.0, 0.6309, 0.5, 0.4307, ...]\n",
    "                If 1 then weights are [1.0, 0.6309, 0.5, 0.4307, ...]\n",
    "    Returns:\n",
    "        Discounted cumulative gain\n",
    "    \"\"\"\n",
    "    r = np.asfarray(r)[:k]\n",
    "    if r.size:\n",
    "        if method == 0:\n",
    "            return r[0] + np.sum(r[1:] / np.log2(np.arange(2, r.size + 1)))\n",
    "        elif method == 1:\n",
    "            return np.sum(r / np.log2(np.arange(2, r.size + 2)))\n",
    "        else:\n",
    "            raise ValueError('method must be 0 or 1.')\n",
    "    return 0.\n",
    "\n",
    "\n",
    "def ndcg_at_k(r, k, method=0):\n",
    "    \"\"\"Score is normalized discounted cumulative gain (ndcg)\n",
    "    Relevance is positive real values.  Can use binary\n",
    "    as the previous methods.\n",
    "    Example from\n",
    "    http://www.stanford.edu/class/cs276/handouts/EvaluationNew-handout-6-per.pdf\n",
    "    >>> r = [3, 2, 3, 0, 0, 1, 2, 2, 3, 0]\n",
    "    >>> ndcg_at_k(r, 1)\n",
    "    1.0\n",
    "    >>> r = [2, 1, 2, 0]\n",
    "    >>> ndcg_at_k(r, 4)\n",
    "    0.9203032077642922\n",
    "    >>> ndcg_at_k(r, 4, method=1)\n",
    "    0.96519546960144276\n",
    "    >>> ndcg_at_k([0], 1)\n",
    "    0.0\n",
    "    >>> ndcg_at_k([1], 2)\n",
    "    1.0\n",
    "    Args:\n",
    "        r: Relevance scores (list or numpy) in rank order\n",
    "            (first element is the first item)\n",
    "        k: Number of results to consider\n",
    "        method: If 0 then weights are [1.0, 1.0, 0.6309, 0.5, 0.4307, ...]\n",
    "                If 1 then weights are [1.0, 0.6309, 0.5, 0.4307, ...]\n",
    "    Returns:\n",
    "        Normalized discounted cumulative gain\n",
    "    \"\"\"\n",
    "    dcg_max = dcg_at_k(sorted(r, reverse=True), k, method)\n",
    "    if not dcg_max:\n",
    "        return 0.\n",
    "    return dcg_at_k(r, k, method) / dcg_max\n",
    "\n",
    "\n",
    "print(ndcg_at_k([0],5, method=1))\n",
    "print(ndcg_at_k([1],5, method=1))\n",
    "print(ndcg_at_k([1,0],5, method=1))\n",
    "print(ndcg_at_k([0,1],5, method=1))\n",
    "print(ndcg_at_k([0,1,1],5, method=1))\n",
    "print(ndcg_at_k([0,1,1,1],5, method=1))"
   ]
  },
  {
   "cell_type": "code",
   "execution_count": 10,
   "metadata": {},
   "outputs": [
    {
     "name": "stdout",
     "output_type": "stream",
     "text": [
      "1.0\n"
     ]
    }
   ],
   "source": [
    "print(ndcg_at_k([.3,.2,.1,0], 10))"
   ]
  },
  {
   "cell_type": "code",
   "execution_count": 11,
   "metadata": {},
   "outputs": [
    {
     "name": "stdout",
     "output_type": "stream",
     "text": [
      "0.6680707577211257\n"
     ]
    }
   ],
   "source": [
    "print(ndcg_at_k([0, .1, .2, .3], 10))"
   ]
  },
  {
   "cell_type": "markdown",
   "metadata": {},
   "source": [
    "В итоге сформировались такие признаки:\n",
    "* 0, 1 - факторы для имени организации (как в бейзлайне)\n",
    "* 2, 3 - факторы для адреса организации\n",
    "* `org_clicks_in_query` - количество слов из кликов по организации, присутствующих в запросах\n",
    "* `org_addr_in_query` - количество слов из адреса организации, присутствующих в запросе\n",
    "* `same_region` - совпадает ли регион организации с регионом запроса\n",
    "* `org_keyw_in_query` - количество ключевых слов по организации, присутствующих в запросе"
   ]
  },
  {
   "cell_type": "code",
   "execution_count": 21,
   "metadata": {
    "collapsed": true
   },
   "outputs": [],
   "source": [
    "train_features = [0, 1, 2, 'org_clicks_in_query', 'org_addr_in_query']\n",
    "train_features = [0, 1, 2, 3, 4, 5, 'org_clicks_in_query', 'org_addr_in_query']\n",
    "train_features = [0, 1, 2, 3, 'org_clicks_in_query', 'org_addr_in_query', 'same_region', 'org_keyw_in_query']"
   ]
  },
  {
   "cell_type": "code",
   "execution_count": 22,
   "metadata": {
    "collapsed": true
   },
   "outputs": [],
   "source": [
    "def k_fold(data, cv=5, random_state=None):\n",
    "    query_ids = data.query_id.unique()\n",
    "    queries = len(query_ids)//cv\n",
    "    rng = np.random.RandomState(random_state)\n",
    "    query_ids_divided = rng.choice(query_ids, size=(cv, queries), replace=False)\n",
    "    for i in range(cv):\n",
    "        test_ids = query_ids_divided[i]\n",
    "        train_ids = np.delete(query_ids_divided, i, axis=0).flatten()\n",
    "        train = data[np.isin(data.query_id, train_ids)].reset_index()\n",
    "        test = data[np.isin(data.query_id, test_ids)].reset_index()\n",
    "        yield train, test"
   ]
  },
  {
   "cell_type": "code",
   "execution_count": 23,
   "metadata": {
    "collapsed": true
   },
   "outputs": [],
   "source": [
    "def cross_validation(clf, data, features, target, cv=5, random_state=None):\n",
    "    ndcgs_all = []\n",
    "    for train, test in k_fold(data, cv, random_state):\n",
    "        ndcgs = []\n",
    "        clf.fit(train[features], train[target])\n",
    "        y_pred = clf.predict(test[features])\n",
    "        for test_id in test.query_id.unique():\n",
    "            test_by_query_id = test[test.query_id == test_id][['index', target]]\n",
    "            test_index = test_by_query_id.index\n",
    "            relevances_pred = y_pred[test_index]\n",
    "            positions_pred = np.argsort(relevances_pred)[::-1]\n",
    "            relevances_by_positions = test_by_query_id.iloc[positions_pred][target]\n",
    "            ndcgs.append(ndcg_at_k(relevances_by_positions, k=10, method=1))\n",
    "        ndcgs_all.append(np.mean(ndcgs))\n",
    "    return np.mean(ndcgs_all)"
   ]
  },
  {
   "cell_type": "code",
   "execution_count": 24,
   "metadata": {
    "collapsed": true
   },
   "outputs": [],
   "source": [
    "def cross_validation_ranking(params, data, features, target, cv=5, random_state=None, clf2=None, alpha=0.5):\n",
    "    ndcgs_all = []\n",
    "    for train, test in k_fold(data, cv, random_state):\n",
    "        ndcgs = []\n",
    "        \n",
    "        train_queries = train.query_id.unique()\n",
    "        train_counts = train.query_id.value_counts()\n",
    "        train_dmatrix = xgb.DMatrix(train[features], train[target])\n",
    "        train_dmatrix.set_group(train_counts[train_queries].values)\n",
    "        \n",
    "        test_queries = test.query_id.unique()\n",
    "        test_counts = test.query_id.value_counts()\n",
    "        test_dmatrix = xgb.DMatrix(test[features])\n",
    "        test_dmatrix.set_group(test_counts[test_queries].values)\n",
    "        \n",
    "        clf = xgb.train(params, train_dmatrix, 200)\n",
    "        y_pred = clf.predict(test_dmatrix)\n",
    "        if clf2 is not None:\n",
    "            clf2.fit(train[features], train[target])\n",
    "            clf2_pred = clf2.predict(test[features])\n",
    "            y_pred = y_pred*alpha + clf2_pred*(1 - alpha)\n",
    "        for test_id in test.query_id.unique():\n",
    "            test_by_query_id = test[test.query_id == test_id][['index', target]]\n",
    "            test_index = test_by_query_id.index\n",
    "            relevances_pred = y_pred[test_index]\n",
    "            positions_pred = np.argsort(relevances_pred)[::-1]\n",
    "            relevances_by_positions = test_by_query_id.iloc[positions_pred][target]\n",
    "            ndcgs.append(ndcg_at_k(relevances_by_positions, k=10, method=1))\n",
    "        ndcgs_all.append(np.mean(ndcgs))\n",
    "    return np.mean(ndcgs_all)"
   ]
  },
  {
   "cell_type": "code",
   "execution_count": 25,
   "metadata": {},
   "outputs": [
    {
     "data": {
      "text/plain": [
       "0.7213761546212488"
      ]
     },
     "execution_count": 25,
     "metadata": {},
     "output_type": "execute_result"
    }
   ],
   "source": [
    "clf = RandomForestRegressor(n_estimators=100, n_jobs=-1, random_state=42)\n",
    "cross_validation(clf, train_factors, train_features, 'relevance', random_state=42)"
   ]
  },
  {
   "cell_type": "code",
   "execution_count": 26,
   "metadata": {},
   "outputs": [
    {
     "data": {
      "text/plain": [
       "0.7368110809063395"
      ]
     },
     "execution_count": 26,
     "metadata": {},
     "output_type": "execute_result"
    }
   ],
   "source": [
    "clf = XGBRegressor(n_estimators=100)\n",
    "cross_validation(clf, train_factors, train_features, 'relevance', random_state=42)"
   ]
  },
  {
   "cell_type": "code",
   "execution_count": 27,
   "metadata": {
    "scrolled": true
   },
   "outputs": [
    {
     "data": {
      "text/plain": [
       "0.7115195759750484"
      ]
     },
     "execution_count": 27,
     "metadata": {},
     "output_type": "execute_result"
    }
   ],
   "source": [
    "clf = XGBRegressor(n_estimators=100, objective='rank:pairwise')\n",
    "cross_validation(clf, train_factors, train_features, 'relevance', random_state=42)"
   ]
  },
  {
   "cell_type": "code",
   "execution_count": 28,
   "metadata": {},
   "outputs": [
    {
     "data": {
      "text/plain": [
       "0.7444459251168742"
      ]
     },
     "execution_count": 28,
     "metadata": {},
     "output_type": "execute_result"
    }
   ],
   "source": [
    "params = {'objective': 'rank:pairwise', 'silent': True}\n",
    "cross_validation_ranking(params, train_factors, train_features, 'relevance', random_state=42)"
   ]
  },
  {
   "cell_type": "code",
   "execution_count": 29,
   "metadata": {},
   "outputs": [
    {
     "name": "stdout",
     "output_type": "stream",
     "text": [
      "max_features=auto, min_samples_leaf=5 0.7301539483357561\n",
      "max_features=auto, min_samples_leaf=7 0.7303341354914473\n",
      "max_features=auto, min_samples_leaf=9 0.7308422558882863\n",
      "max_features=auto, min_samples_leaf=11 0.7314003763976309\n",
      "max_features=auto, min_samples_leaf=12 0.7317502035199684\n",
      "max_features=sqrt, min_samples_leaf=5 0.7368603108414223\n",
      "max_features=sqrt, min_samples_leaf=7 0.7357126718668784\n",
      "max_features=sqrt, min_samples_leaf=9 0.7349020028806139\n",
      "max_features=sqrt, min_samples_leaf=11 0.7346955858719417\n",
      "max_features=sqrt, min_samples_leaf=12 0.734898277846845\n",
      "max_features=log2, min_samples_leaf=5 0.735132560907155\n",
      "max_features=log2, min_samples_leaf=7 0.7374298863250618\n",
      "max_features=log2, min_samples_leaf=9 0.7361794694356987\n",
      "max_features=log2, min_samples_leaf=11 0.7349086633526896\n",
      "max_features=log2, min_samples_leaf=12 0.7346392456943419\n"
     ]
    }
   ],
   "source": [
    "params = []\n",
    "for max_features in ['auto', 'sqrt', 'log2']:\n",
    "    for min_samples_leaf in [5, 7, 9, 11, 12]:\n",
    "        clf = RandomForestRegressor(n_estimators=200, n_jobs=-1, random_state=42, max_features=max_features, min_samples_leaf=min_samples_leaf)\n",
    "        cv = cross_validation(clf, train_factors, train_features, 'relevance', random_state=42)\n",
    "        print(f'max_features={max_features}, min_samples_leaf={min_samples_leaf}', cv)\n",
    "        params.append(((max_features, min_samples_leaf), cv))"
   ]
  },
  {
   "cell_type": "code",
   "execution_count": 32,
   "metadata": {},
   "outputs": [
    {
     "name": "stdout",
     "output_type": "stream",
     "text": [
      "(('log2', 7), 0.7374298863250618)\n"
     ]
    }
   ],
   "source": [
    "print(sorted(params, key=lambda x: -x[1])[0])"
   ]
  },
  {
   "cell_type": "code",
   "execution_count": 34,
   "metadata": {
    "scrolled": false
   },
   "outputs": [
    {
     "name": "stdout",
     "output_type": "stream",
     "text": [
      "max_depth=2, learning_rate=0.05, colsample_bytree=0.7 0.7725087082242401\n",
      "max_depth=2, learning_rate=0.05, colsample_bytree=1 0.772546663122022\n",
      "max_depth=2, learning_rate=0.1, colsample_bytree=0.7 0.7758517156981153\n",
      "max_depth=2, learning_rate=0.1, colsample_bytree=1 0.7762676463411127\n",
      "max_depth=2, learning_rate=0.5, colsample_bytree=0.7 0.770820618820302\n",
      "max_depth=2, learning_rate=0.5, colsample_bytree=1 0.7707165570126264\n",
      "max_depth=3, learning_rate=0.05, colsample_bytree=0.7 0.7732282963231759\n",
      "max_depth=3, learning_rate=0.05, colsample_bytree=1 0.7748738044456009\n",
      "max_depth=3, learning_rate=0.1, colsample_bytree=0.7 0.7730455358407755\n",
      "max_depth=3, learning_rate=0.1, colsample_bytree=1 0.7728854975973662\n",
      "max_depth=3, learning_rate=0.5, colsample_bytree=0.7 0.766027813232627\n",
      "max_depth=3, learning_rate=0.5, colsample_bytree=1 0.7630931924624571\n",
      "max_depth=4, learning_rate=0.05, colsample_bytree=0.7 0.7700483091859418\n",
      "max_depth=4, learning_rate=0.05, colsample_bytree=1 0.7701605042402144\n",
      "max_depth=4, learning_rate=0.1, colsample_bytree=0.7 0.7709146796882398\n",
      "max_depth=4, learning_rate=0.1, colsample_bytree=1 0.7683763454246451\n",
      "max_depth=4, learning_rate=0.5, colsample_bytree=0.7 0.7534395407561968\n",
      "max_depth=4, learning_rate=0.5, colsample_bytree=1 0.7521593385595136\n"
     ]
    }
   ],
   "source": [
    "params_xgb = []\n",
    "for max_depth in [2, 3, 4]:\n",
    "    for learning_rate in [0.05, 0.1, 0.5]:\n",
    "        for colsample_bytree in [0.7, 1]:\n",
    "            params = {'objective': 'rank:pairwise', 'silent': True, 'colsample_bytree': colsample_bytree, 'max_depth': max_depth, 'learning_rate': learning_rate}\n",
    "            cv = cross_validation_ranking(params, train_factors, train_features, 'relevance', random_state=42)\n",
    "            print(f'max_depth={max_depth}, learning_rate={learning_rate}, colsample_bytree={colsample_bytree}', cv)\n",
    "            params_xgb.append(((max_depth, learning_rate, colsample_bytree), cv))"
   ]
  },
  {
   "cell_type": "code",
   "execution_count": 35,
   "metadata": {},
   "outputs": [
    {
     "name": "stdout",
     "output_type": "stream",
     "text": [
      "((2, 0.1, 1), 0.7762676463411127)\n"
     ]
    }
   ],
   "source": [
    "print(sorted(params_xgb, key=lambda x: -x[1])[0])"
   ]
  },
  {
   "cell_type": "code",
   "execution_count": 36,
   "metadata": {},
   "outputs": [
    {
     "name": "stdout",
     "output_type": "stream",
     "text": [
      "max_depth=1, learning_rate=0.05, colsample_bytree=0.6 0.7648316915232478\n",
      "max_depth=1, learning_rate=0.05, colsample_bytree=0.8 0.7655348737102792\n",
      "max_depth=1, learning_rate=0.05, colsample_bytree=1 0.7655162774763604\n",
      "max_depth=1, learning_rate=0.1, colsample_bytree=0.6 0.7679442416388768\n",
      "max_depth=1, learning_rate=0.1, colsample_bytree=0.8 0.7669297193292857\n",
      "max_depth=1, learning_rate=0.1, colsample_bytree=1 0.7669036901205029\n",
      "max_depth=1, learning_rate=0.5, colsample_bytree=0.6 0.7756254383249124\n",
      "max_depth=1, learning_rate=0.5, colsample_bytree=0.8 0.7744627085844897\n",
      "max_depth=1, learning_rate=0.5, colsample_bytree=1 0.7751155334918174\n",
      "max_depth=1, learning_rate=0.8, colsample_bytree=0.6 0.7744513247730833\n",
      "max_depth=1, learning_rate=0.8, colsample_bytree=0.8 0.7764170532931025\n",
      "max_depth=1, learning_rate=0.8, colsample_bytree=1 0.7753673632361378\n",
      "max_depth=2, learning_rate=0.05, colsample_bytree=0.6 0.7709907875323398\n",
      "max_depth=2, learning_rate=0.05, colsample_bytree=0.8 0.7728746198875324\n",
      "max_depth=2, learning_rate=0.05, colsample_bytree=1 0.772546663122022\n",
      "max_depth=2, learning_rate=0.1, colsample_bytree=0.6 0.774418519772443\n",
      "max_depth=2, learning_rate=0.1, colsample_bytree=0.8 0.7744415909587624\n",
      "max_depth=2, learning_rate=0.1, colsample_bytree=1 0.7762676463411127\n",
      "max_depth=2, learning_rate=0.5, colsample_bytree=0.6 0.7712350712660889\n",
      "max_depth=2, learning_rate=0.5, colsample_bytree=0.8 0.7722294649526468\n",
      "max_depth=2, learning_rate=0.5, colsample_bytree=1 0.7707165570126264\n",
      "max_depth=2, learning_rate=0.8, colsample_bytree=0.6 0.7662612395125198\n",
      "max_depth=2, learning_rate=0.8, colsample_bytree=0.8 0.7659599072740262\n",
      "max_depth=2, learning_rate=0.8, colsample_bytree=1 0.7681569253233057\n"
     ]
    }
   ],
   "source": [
    "for max_depth in [1, 2]:\n",
    "    for learning_rate in [0.05, 0.1, 0.5, 0.8]:\n",
    "        for colsample_bytree in [0.6, 0.8, 1]:\n",
    "            params = {'objective': 'rank:pairwise', 'silent': True, 'colsample_bytree': colsample_bytree, 'max_depth': max_depth, 'learning_rate': learning_rate}\n",
    "            cv = cross_validation_ranking(params, train_factors, train_features, 'relevance', random_state=42)\n",
    "            print(f'max_depth={max_depth}, learning_rate={learning_rate}, colsample_bytree={colsample_bytree}', cv)\n",
    "            params_xgb.append(((max_depth, learning_rate, colsample_bytree), cv))"
   ]
  },
  {
   "cell_type": "code",
   "execution_count": 37,
   "metadata": {},
   "outputs": [
    {
     "name": "stdout",
     "output_type": "stream",
     "text": [
      "((1, 0.8, 0.8), 0.7764170532931025)\n"
     ]
    }
   ],
   "source": [
    "print(sorted(params_xgb, key=lambda x: -x[1])[0])"
   ]
  },
  {
   "cell_type": "code",
   "execution_count": 51,
   "metadata": {},
   "outputs": [
    {
     "name": "stdout",
     "output_type": "stream",
     "text": [
      "0.2 0.7764858495399266\n",
      "0.3 0.7752615971949454\n",
      "0.5 0.774209294784679\n",
      "0.7 0.7735902514455598\n",
      "0.9 0.7738404699521434\n"
     ]
    }
   ],
   "source": [
    "for i in [0.2, 0.3, 0.5, 0.7, 0.9]:\n",
    "    rf = RandomForestRegressor(n_estimators=200, criterion='mse', max_features='sqrt', min_samples_leaf=7, n_jobs=-1, random_state=42)\n",
    "    params = {'objective': 'rank:pairwise', 'silent': True, 'colsample_bytree': 0.8, 'max_depth': 1, 'learning_rate': 0.8}\n",
    "    print(i, cross_validation_ranking(params, train_factors, train_features, 'relevance', random_state=42, clf2=rf, alpha=i))"
   ]
  },
  {
   "cell_type": "markdown",
   "metadata": {},
   "source": [
    "Используем Blending RandomForest и XGBoost с подобраными гиперпараметрами"
   ]
  },
  {
   "cell_type": "code",
   "execution_count": 52,
   "metadata": {
    "collapsed": true
   },
   "outputs": [],
   "source": [
    "train_queries = train_factors.query_id.unique()\n",
    "train_counts = train_factors.query_id.value_counts()\n",
    "train_dmatrix = xgb.DMatrix(train_factors[train_features], train_factors['relevance'])\n",
    "train_dmatrix.set_group(train_counts[train_queries].values)\n",
    "\n",
    "test_queries = test_factors.query_id.unique()\n",
    "test_counts = test_factors.query_id.value_counts()\n",
    "test_dmatrix = xgb.DMatrix(test_factors[train_features])\n",
    "test_dmatrix.set_group(test_counts[test_queries].values)\n",
    "\n",
    "params = {'objective': 'rank:pairwise', 'silent': True, 'colsample_bytree': 0.8, 'max_depth': 1, 'learning_rate': 0.8}\n",
    "clf = xgb.train(params, train_dmatrix, 200)\n",
    "xgb_pred = clf.predict(test_dmatrix)\n",
    "\n",
    "rf = RandomForestRegressor(n_estimators=200, max_features='sqrt', min_samples_leaf=7, n_jobs=-1, random_state=42)\n",
    "rf.fit(train_factors[train_features], train_pool['relevance'].ravel())\n",
    "rf_pred = rf.predict(test_factors[train_features])\n",
    "\n",
    "test_pool['relevance'] = 0.2*xgb_pred + 0.8*rf_pred"
   ]
  },
  {
   "cell_type": "markdown",
   "metadata": {},
   "source": [
    "Сортируем организации по предсказанной релевантности для каждой организации и записываем их в файл"
   ]
  },
  {
   "cell_type": "code",
   "execution_count": 53,
   "metadata": {
    "collapsed": true
   },
   "outputs": [],
   "source": [
    "test_pool.sort_values(['query_id', 'relevance'], ascending=[True, False])[['query_id', 'org_id']].to_csv('baseline.csv', index=None)"
   ]
  },
  {
   "cell_type": "code",
   "execution_count": null,
   "metadata": {
    "collapsed": true
   },
   "outputs": [],
   "source": []
  }
 ],
 "metadata": {
  "kernelspec": {
   "display_name": "Python 3",
   "language": "python",
   "name": "python3"
  },
  "language_info": {
   "codemirror_mode": {
    "name": "ipython",
    "version": 3
   },
   "file_extension": ".py",
   "mimetype": "text/x-python",
   "name": "python",
   "nbconvert_exporter": "python",
   "pygments_lexer": "ipython3",
   "version": "3.7.0"
  }
 },
 "nbformat": 4,
 "nbformat_minor": 2
}
