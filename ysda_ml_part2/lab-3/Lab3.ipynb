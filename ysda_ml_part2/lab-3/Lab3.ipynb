{
 "cells": [
  {
   "cell_type": "markdown",
   "metadata": {},
   "source": [
    " # Лабораторная работа 3. Обучение без учителя"
   ]
  },
  {
   "cell_type": "markdown",
   "metadata": {},
   "source": [
    "Результат лабораторной работы - отчет в формате ноутбуков IPython (ipynb-файл). Постарайтесь сделать ваш отчет интересным рассказом, последовательно отвечающим на вопросы из заданий. Помимо ответов на вопросы, в отчете также должен быть код, однако чем меньше кода, тем лучше всем: нам меньше проверять, вам — проще найти ошибку или дополнить эксперимент. При проверке оценивается четкость ответов на вопросы, аккуратность отчета и кода."
   ]
  },
  {
   "cell_type": "markdown",
   "metadata": {},
   "source": [
    "## Кластеризация\n",
    "\n",
    "![Digits](https://i.imgur.com/DINSGXS.png)\n",
    "\n",
    "Задача [кластеризации](https://en.wikipedia.org/wiki/Cluster_analysis) данных является одним из примеров задач обучения \"без учителя\". Она заключается в разбиении множества объектов на кластеры, при этом предполагается, что внутри одного кластера будут находиться похожие между собой объекты. Одним из примеров методов кластеризации является алгоритм [KMeans](https://en.wikipedia.org/wiki/K-means_clustering).\n",
    "\n",
    "### Выбор числа кластеров\n",
    "\n",
    "Для некоторых алгоритмов кластеризации число кластеров является гиперпараметром (например, в случае KMeans). Поэтому для выбора количества кластеров может быть использован следующий подход: при фиксированной метрике качества для разного числа кластеров вычисляется кластеризация и выбирается то количество кластеров, начиная с которого качество \"стабилизируется\".\n",
    "\n",
    "### Метрики качества\n",
    "\n",
    "Оценивание качества построенной кластеризации не всегда тривиальная задача, так как следует учитывать такие факты как:\n",
    " - объекты одного кластера должны быть более похожи, чем объекты других кластеров, относительно некоторой заданной метрики похожести\n",
    " - метрика не должна учитывать абсолютные значения меток объектов, попавших в кластер (в случае, если истинные метки известны)\n",
    "\n",
    "При выполнении задания для оценки качества получившейся кластеризации воспользуемся следующими метриками:\n",
    " - [Homogeneity и Completeness](http://scikit-learn.org/stable/modules/clustering.html#homogeneity-completeness-and-v-measure) \n",
    " - [Adjusted Rand index](http://scikit-learn.org/stable/modules/clustering.html#adjusted-rand-index) \n",
    " - [Silhouette Coefficient](http://scikit-learn.org/stable/modules/clustering.html#silhouette-coefficient)"
   ]
  },
  {
   "cell_type": "markdown",
   "metadata": {},
   "source": [
    "Загрузите набор данных [digits](http://scikit-learn.org/stable/modules/generated/sklearn.datasets.load_digits.html). Перед применением алгоритмов не забудьте перемешать изображения."
   ]
  },
  {
   "cell_type": "code",
   "execution_count": 208,
   "metadata": {
    "collapsed": true
   },
   "outputs": [],
   "source": [
    "import string\n",
    "import numpy as np\n",
    "import pandas as pd\n",
    "import matplotlib.pyplot as plt\n",
    "from collections import Counter, defaultdict\n",
    "from tqdm import tqdm_notebook as tqdm\n",
    "\n",
    "from sklearn.cluster import KMeans, DBSCAN, Birch\n",
    "from sklearn.metrics import homogeneity_score, completeness_score, adjusted_rand_score, silhouette_score, precision_score, recall_score\n",
    "from sklearn.datasets import load_digits, load_wine\n",
    "from sklearn.manifold import TSNE\n",
    "from sklearn.decomposition import PCA\n",
    "from sklearn.semi_supervised import LabelSpreading\n",
    "from sklearn.feature_extraction.text import CountVectorizer\n",
    "\n",
    "%matplotlib inline"
   ]
  },
  {
   "cell_type": "code",
   "execution_count": 124,
   "metadata": {
    "collapsed": true
   },
   "outputs": [],
   "source": [
    "digits = load_digits()\n",
    "\n",
    "indices = np.arange(len(digits.data))\n",
    "np.random.shuffle(indices)\n",
    "\n",
    "X = digits.data[indices]\n",
    "y = digits.target[indices]"
   ]
  },
  {
   "cell_type": "markdown",
   "metadata": {},
   "source": [
    "**Задание 1. (1 балл)** Кластеризуйте изображения при помощи алгоритма [KMeans](http://scikit-learn.org/stable/modules/generated/sklearn.cluster.KMeans.html): \n",
    "* Подберите число кластеров для некоторой фиксированной метрики из указанных выше. \n",
    "* Рассмотрите различные способы выбора начального приближения (параметр *init*). \n",
    "* Оцените качество получившейся кластеризации используя все описанные выше метрики. \n",
    "* Визуализируйте изображения, соответствующие центроидам лучшей кластеризации. \n",
    "* Визуализируйте несколько изображений, которые во всех случаях были отнесены к неправильному кластеру (объект назовем ошибочно отнесенным, если он имеет иную метку класса, нежели большая часть объектов в кластере). Можете ли вы пояснить, почему так произошло?"
   ]
  },
  {
   "cell_type": "code",
   "execution_count": 150,
   "metadata": {},
   "outputs": [],
   "source": [
    "def get_scores(clusterer, X, y):\n",
    "    y_pred = clusterer.fit_predict(X, y)\n",
    "    result = {\n",
    "        'homogeneity_score': homogeneity_score(y, y_pred),\n",
    "        'completeness_score': completeness_score(y, y_pred),\n",
    "        'adjusted_rand_score': adjusted_rand_score(y, y_pred),\n",
    "        'silhouette_score': silhouette_score(X, y_pred)\n",
    "    }\n",
    "    if 'n_iter_' in dir(clusterer):\n",
    "        result['converged_after'] = clusterer.n_iter_\n",
    "    return result\n",
    "\n",
    "def print_score(score_name, scores, reference=None):\n",
    "    if score_name not in scores:\n",
    "        return\n",
    "    ref = (scores[score_name]/reference[score_name] - 1)*100 if reference else 0\n",
    "    ref = f'+{ref:05.2f}' if ref >= 0 else f'{ref:06.2f}'\n",
    "    print(f'{score_name}:\\t{scores[score_name]:.4f}' + (f'\\t({ref}%)' if reference else ''))\n",
    "    \n",
    "def print_scores(clusterer, X, y, reference=None):\n",
    "    scores = get_scores(clusterer, X, y)\n",
    "    print_score('converged_after', scores, reference)\n",
    "    print_score('homogeneity_score', scores, reference)\n",
    "    print_score('completeness_score', scores, reference)\n",
    "    print_score('adjusted_rand_score', scores, reference)\n",
    "    print_score('silhouette_score', scores, reference)"
   ]
  },
  {
   "cell_type": "code",
   "execution_count": 126,
   "metadata": {},
   "outputs": [
    {
     "name": "stdout",
     "output_type": "stream",
     "text": [
      "n_clusters=7\n",
      "converged_after:\t13.0000\t(-31.58%)\n",
      "homogeneity_score:\t0.5660\t(-23.47%)\n",
      "completeness_score:\t0.6909\t(-07.62%)\n",
      "adjusted_rand_score:\t0.4686\t(-30.07%)\n",
      "silhouette_score:\t0.1587\t(-13.00%)\n",
      "\n",
      "n_clusters=8\n",
      "converged_after:\t8.0000\t(-57.89%)\n",
      "homogeneity_score:\t0.6607\t(-10.67%)\n",
      "completeness_score:\t0.7545\t(+00.88%)\n",
      "adjusted_rand_score:\t0.5711\t(-14.77%)\n",
      "silhouette_score:\t0.1784\t(-02.21%)\n",
      "\n",
      "n_clusters=9\n",
      "converged_after:\t13.0000\t(-31.58%)\n",
      "homogeneity_score:\t0.6888\t(-06.87%)\n",
      "completeness_score:\t0.7463\t(-00.22%)\n",
      "adjusted_rand_score:\t0.5941\t(-11.34%)\n",
      "silhouette_score:\t0.1891\t(+03.65%)\n",
      "\n",
      "n_clusters=10\n",
      "converged_after:\t19.0000\t(+00.00%)\n",
      "homogeneity_score:\t0.7396\t(+00.00%)\n",
      "completeness_score:\t0.7479\t(+00.00%)\n",
      "adjusted_rand_score:\t0.6701\t(+00.00%)\n",
      "silhouette_score:\t0.1824\t(+00.00%)\n",
      "\n",
      "n_clusters=11\n",
      "converged_after:\t13.0000\t(-31.58%)\n",
      "homogeneity_score:\t0.7916\t(+07.03%)\n",
      "completeness_score:\t0.7660\t(+02.42%)\n",
      "adjusted_rand_score:\t0.7249\t(+08.19%)\n",
      "silhouette_score:\t0.1842\t(+01.00%)\n",
      "\n",
      "n_clusters=12\n",
      "converged_after:\t28.0000\t(+47.37%)\n",
      "homogeneity_score:\t0.8022\t(+08.46%)\n",
      "completeness_score:\t0.7518\t(+00.51%)\n",
      "adjusted_rand_score:\t0.7159\t(+06.85%)\n",
      "silhouette_score:\t0.1829\t(+00.26%)\n",
      "\n",
      "n_clusters=13\n",
      "converged_after:\t9.0000\t(-52.63%)\n",
      "homogeneity_score:\t0.8139\t(+10.05%)\n",
      "completeness_score:\t0.7468\t(-00.16%)\n",
      "adjusted_rand_score:\t0.7141\t(+06.57%)\n",
      "silhouette_score:\t0.1838\t(+00.78%)\n",
      "\n"
     ]
    }
   ],
   "source": [
    "reference = get_scores(KMeans(n_clusters=10, random_state=42), X, y)\n",
    "for i in range(7, 14):\n",
    "    print(f'n_clusters={i}')\n",
    "    print_scores(KMeans(n_clusters=i, random_state=42), X, y, reference)\n",
    "    print()"
   ]
  },
  {
   "cell_type": "markdown",
   "metadata": {},
   "source": [
    "Выше мы вывели все метрики для различного числа кластеров. Чтобы было нагляднее, в скобках приведено увеличение/уменьшение метрики в сравнении с `KMeans(n_clusters=10)`, который на первый взгляд кажется логичнее всего здесь использовать. Однако, все метрики увеличиваются, если взять 11 кластеров, что можно объяснить возможностью отнести к дополнительному классу неразборчиво написанные цифры или цифры, в принадлежности которых к конкретному классу у алгоритма нет уверенности."
   ]
  },
  {
   "cell_type": "code",
   "execution_count": 127,
   "metadata": {},
   "outputs": [
    {
     "name": "stdout",
     "output_type": "stream",
     "text": [
      "converged_after:\t22.0000\n",
      "homogeneity_score:\t0.7105\n",
      "completeness_score:\t0.7204\n",
      "adjusted_rand_score:\t0.5525\n",
      "silhouette_score:\t0.1845\n"
     ]
    }
   ],
   "source": [
    "print_scores(KMeans(n_clusters=11, init=np.zeros((11, 64)), n_init=1, random_state=42), X, y)"
   ]
  },
  {
   "cell_type": "code",
   "execution_count": 128,
   "metadata": {},
   "outputs": [
    {
     "name": "stdout",
     "output_type": "stream",
     "text": [
      "converged_after:\t13.0000\n",
      "homogeneity_score:\t0.7916\n",
      "completeness_score:\t0.7660\n",
      "adjusted_rand_score:\t0.7249\n",
      "silhouette_score:\t0.1842\n"
     ]
    }
   ],
   "source": [
    "print_scores(KMeans(n_clusters=11, init='k-means++', random_state=42), X, y)"
   ]
  },
  {
   "cell_type": "code",
   "execution_count": 129,
   "metadata": {},
   "outputs": [
    {
     "name": "stdout",
     "output_type": "stream",
     "text": [
      "converged_after:\t19.0000\n",
      "homogeneity_score:\t0.7838\n",
      "completeness_score:\t0.7594\n",
      "adjusted_rand_score:\t0.7235\n",
      "silhouette_score:\t0.1829\n"
     ]
    }
   ],
   "source": [
    "print_scores(KMeans(n_clusters=11, init='random', random_state=42), X, y)"
   ]
  },
  {
   "cell_type": "markdown",
   "metadata": {
    "collapsed": true
   },
   "source": [
    "Рассмотрел 3 способа инициализации весов: инициализация нулями, рандомная инициализация и `k-means++`, который должен инициализировать как-то по-умному. В результате инициализация нулями ожидаемо показала худший результат, `k-means++` и `random` получили сравнимые значения, однако инициализация `k-means++` все же оказалась немного лучше."
   ]
  },
  {
   "cell_type": "code",
   "execution_count": 130,
   "metadata": {},
   "outputs": [
    {
     "data": {
      "text/plain": [
       "defaultdict(<function __main__.<lambda>>,\n",
       "            {0: Counter({0: 177, 2: 1, 6: 1}),\n",
       "             1: Counter({2: 1, 3: 7, 4: 7, 7: 170, 8: 1, 9: 7}),\n",
       "             2: Counter({1: 1, 2: 9, 3: 157, 5: 1, 8: 1, 9: 3}),\n",
       "             3: Counter({1: 2, 5: 2, 6: 177, 8: 1}),\n",
       "             4: Counter({1: 100, 3: 3, 4: 4, 6: 2, 7: 9, 8: 40, 9: 1}),\n",
       "             5: Counter({1: 1, 3: 2, 5: 138, 8: 6, 9: 6}),\n",
       "             6: Counter({2: 1, 3: 6, 5: 39, 8: 3, 9: 142}),\n",
       "             7: Counter({0: 1, 4: 166, 5: 2}),\n",
       "             8: Counter({1: 54, 2: 1, 4: 3, 6: 1, 8: 3, 9: 20}),\n",
       "             9: Counter({1: 24, 2: 145, 8: 2}),\n",
       "             10: Counter({2: 19, 3: 8, 4: 1, 8: 117, 9: 1})})"
      ]
     },
     "execution_count": 130,
     "metadata": {},
     "output_type": "execute_result"
    }
   ],
   "source": [
    "kmeans = KMeans(n_clusters=11, init='k-means++', random_state=42)\n",
    "y_pred = kmeans.fit_predict(X, y)\n",
    "\n",
    "d = defaultdict(lambda: Counter())\n",
    "for y_, y_pred_ in zip(y, y_pred):\n",
    "    d[y_pred_][y_] += 1\n",
    "d"
   ]
  },
  {
   "cell_type": "code",
   "execution_count": 131,
   "metadata": {},
   "outputs": [
    {
     "data": {
      "text/plain": [
       "{0: (0, 177),\n",
       " 1: (7, 170),\n",
       " 2: (3, 157),\n",
       " 3: (6, 177),\n",
       " 4: (1, 100),\n",
       " 5: (5, 138),\n",
       " 6: (9, 142),\n",
       " 7: (4, 166),\n",
       " 8: (1, 54),\n",
       " 9: (2, 145),\n",
       " 10: (8, 117)}"
      ]
     },
     "execution_count": 131,
     "metadata": {},
     "output_type": "execute_result"
    }
   ],
   "source": [
    "mapping = {x: d[x].most_common(1)[0] for x in d}\n",
    "mapping"
   ]
  },
  {
   "cell_type": "code",
   "execution_count": 132,
   "metadata": {},
   "outputs": [
    {
     "data": {
      "image/png": "[encoded data removed]",
      "text/plain": [
       "<matplotlib.figure.Figure at 0x229804e9dd8>"
      ]
     },
     "metadata": {},
     "output_type": "display_data"
    }
   ],
   "source": [
    "centers = kmeans.cluster_centers_\n",
    "fig, axes = plt.subplots(3, 5, figsize=(12, 8))\n",
    "for im, ax, i in zip(centers, axes.flatten(), range(11)):\n",
    "    ax.imshow(im.reshape((8, 8)))\n",
    "    ax.set_title(mapping[i][0])"
   ]
  },
  {
   "cell_type": "markdown",
   "metadata": {},
   "source": [
    "Видно, что в 8 классе алгоритм не сильно уверен. Алгоритм относит туда в основном единицы (которые видимо не очень похожи на нормальные единицы), но также там получилось много девяток. На центре кластера для этого класса изображена единица, но ее также можно принять за четверку."
   ]
  },
  {
   "cell_type": "markdown",
   "metadata": {},
   "source": [
    "Так как классов мы взяли больше, чем у нас цифр, у нас есть целый класс с ошибочными предсказаниями, посмотрим сначала на все остальные классы:"
   ]
  },
  {
   "cell_type": "code",
   "execution_count": 139,
   "metadata": {},
   "outputs": [
    {
     "data": {
      "image/png": "[encoded data removed]",
      "text/plain": [
       "<matplotlib.figure.Figure at 0x22980999d30>"
      ]
     },
     "metadata": {},
     "output_type": "display_data"
    }
   ],
   "source": [
    "y_labels = np.array([mapping[i][0] for i in y_pred])\n",
    "errors = np.array([y_pred[i] != 8 and mapping[y_pred[i]][0] != y[i] for i in range(len(y_pred))])\n",
    "fig, axes = plt.subplots(3, 6, figsize=(16, 10))\n",
    "for X_, y_, y_label, ax in zip(X[errors], y[errors], y_labels[errors], axes.flatten()):\n",
    "    ax.imshow(X_.reshape((8, 8)))\n",
    "    ax.set_title(f'y={y_}, y_pred={y_label}')"
   ]
  },
  {
   "cell_type": "markdown",
   "metadata": {},
   "source": [
    "Теперь посмотрим, что наш алгоритм отнес к 11 классу"
   ]
  },
  {
   "cell_type": "code",
   "execution_count": 140,
   "metadata": {},
   "outputs": [
    {
     "data": {
      "image/png": "[encoded data removed]",
      "text/plain": [
       "<matplotlib.figure.Figure at 0x2298078e828>"
      ]
     },
     "metadata": {},
     "output_type": "display_data"
    }
   ],
   "source": [
    "errors = np.array([y_pred[i] == 8 for i in range(len(y_pred))])\n",
    "fig, axes = plt.subplots(3, 6, figsize=(16, 10))\n",
    "for X_, y_, y_label, ax in zip(X[errors], y[errors], y_labels[errors], axes.flatten()):\n",
    "    ax.imshow(X_.reshape((8, 8)))\n",
    "    ax.set_title(f'y={y_}, y_pred={y_label}')"
   ]
  },
  {
   "cell_type": "markdown",
   "metadata": {},
   "source": [
    "Видимо, к классу с единицами отнесены в основном единицы \"палочки\", а к одиннадцатому классу - в основном единицы с \"козырьком\""
   ]
  },
  {
   "cell_type": "markdown",
   "metadata": {},
   "source": [
    "Видно, что некоторые из приведенных выше изображений даже человеку бывает сложно отнести к тому или иному классу, поэтому алгоритм тоже на них ошибается"
   ]
  },
  {
   "cell_type": "markdown",
   "metadata": {},
   "source": [
    "Не всегда бывает удобно работать с полной матрицей объект-признак, например, для случая визуализации данных. [Здесь](http://scikit-learn.org/stable/auto_examples/manifold/plot_lle_digits.html#example-manifold-plot-lle-digits-py) показано сравнение различных способов сжатия размерности для проекции на плоскость. На изображениях видно, что некоторые преобразования дают неплохую картину и похожие объекты расположены близко друг к другу. Посмотрим, поможет ли это на практике.\n",
    " \n",
    "**Задание 2. (2 балла)** Примените преобразования [PCA](http://scikit-learn.org/stable/modules/generated/sklearn.decomposition.PCA.html) и [tSNE](http://scikit-learn.org/stable/modules/generated/sklearn.manifold.TSNE.html) (для числа компонент 2), после чего подайте полученные представления объектов на вход алгоритмам KMeans, [DBSCAN](http://scikit-learn.org/stable/modules/generated/sklearn.cluster.DBSCAN.html) и [Birch](http://scikit-learn.org/stable/modules/generated/sklearn.cluster.Birch.html). \n",
    "* Сравните новые и предыдущие результаты. \n",
    "* Нашлась ли пара \"представление\"—\"алгоритм\", превосходящая другие по всем метрикам? \n",
    "* Являются ли все три метрики согласованными? Можете ли вы объяснить почему?"
   ]
  },
  {
   "cell_type": "code",
   "execution_count": 143,
   "metadata": {},
   "outputs": [
    {
     "data": {
      "text/plain": [
       "<matplotlib.collections.PathCollection at 0x229809f6438>"
      ]
     },
     "execution_count": 143,
     "metadata": {},
     "output_type": "execute_result"
    },
    {
     "data": {
      "image/png": "[encoded data removed]",
      "text/plain": [
       "<matplotlib.figure.Figure at 0x22980745ba8>"
      ]
     },
     "metadata": {},
     "output_type": "display_data"
    }
   ],
   "source": [
    "pca = PCA(n_components=2).fit_transform(X)\n",
    "plt.scatter(pca[:, 0], pca[:, 1], c=y)"
   ]
  },
  {
   "cell_type": "code",
   "execution_count": 144,
   "metadata": {},
   "outputs": [
    {
     "data": {
      "text/plain": [
       "<matplotlib.collections.PathCollection at 0x229fa3f6710>"
      ]
     },
     "execution_count": 144,
     "metadata": {},
     "output_type": "execute_result"
    },
    {
     "data": {
      "image/png": "[encoded data removed]",
      "text/plain": [
       "<matplotlib.figure.Figure at 0x22980977ef0>"
      ]
     },
     "metadata": {},
     "output_type": "display_data"
    }
   ],
   "source": [
    "tsne = TSNE(n_components=2).fit_transform(X)\n",
    "plt.scatter(tsne[:, 0], tsne[:, 1], c=y)"
   ]
  },
  {
   "cell_type": "code",
   "execution_count": 163,
   "metadata": {},
   "outputs": [
    {
     "name": "stdout",
     "output_type": "stream",
     "text": [
      "n_clusters=8, X=pca\n",
      "converged_after:\t19.0000\t(+26.67%)\n",
      "homogeneity_score:\t0.4832\t(-07.88%)\n",
      "completeness_score:\t0.5398\t(+02.21%)\n",
      "adjusted_rand_score:\t0.3711\t(-06.18%)\n",
      "silhouette_score:\t0.3967\t(+00.73%)\n",
      "n_clusters=8, X=tsne\n",
      "converged_after:\t11.0000\t(+175.00%)\n",
      "homogeneity_score:\t0.7833\t(-14.93%)\n",
      "completeness_score:\t0.8819\t(-04.34%)\n",
      "adjusted_rand_score:\t0.7145\t(-20.66%)\n",
      "silhouette_score:\t0.6142\t(-03.50%)\n",
      "\n",
      "n_clusters=9, X=pca\n",
      "converged_after:\t11.0000\t(-26.67%)\n",
      "homogeneity_score:\t0.5085\t(-03.07%)\n",
      "completeness_score:\t0.5381\t(+01.89%)\n",
      "adjusted_rand_score:\t0.3883\t(-01.83%)\n",
      "silhouette_score:\t0.4048\t(+02.80%)\n",
      "n_clusters=9, X=tsne\n",
      "converged_after:\t4.0000\t(+00.00%)\n",
      "homogeneity_score:\t0.8498\t(-07.70%)\n",
      "completeness_score:\t0.8997\t(-02.40%)\n",
      "adjusted_rand_score:\t0.8051\t(-10.60%)\n",
      "silhouette_score:\t0.6240\t(-01.97%)\n",
      "\n",
      "n_clusters=10, X=pca\n",
      "converged_after:\t15.0000\t(+00.00%)\n",
      "homogeneity_score:\t0.5245\t(+00.00%)\n",
      "completeness_score:\t0.5282\t(+00.00%)\n",
      "adjusted_rand_score:\t0.3955\t(+00.00%)\n",
      "silhouette_score:\t0.3938\t(+00.00%)\n",
      "n_clusters=10, X=tsne\n",
      "converged_after:\t4.0000\t(+00.00%)\n",
      "homogeneity_score:\t0.9207\t(+00.00%)\n",
      "completeness_score:\t0.9218\t(+00.00%)\n",
      "adjusted_rand_score:\t0.9005\t(+00.00%)\n",
      "silhouette_score:\t0.6365\t(+00.00%)\n",
      "\n",
      "n_clusters=11, X=pca\n",
      "converged_after:\t47.0000\t(+213.33%)\n",
      "homogeneity_score:\t0.5255\t(+00.17%)\n",
      "completeness_score:\t0.5086\t(-03.71%)\n",
      "adjusted_rand_score:\t0.3576\t(-09.58%)\n",
      "silhouette_score:\t0.3901\t(-00.93%)\n",
      "n_clusters=11, X=tsne\n",
      "converged_after:\t3.0000\t(-25.00%)\n",
      "homogeneity_score:\t0.9202\t(-00.05%)\n",
      "completeness_score:\t0.8936\t(-03.06%)\n",
      "adjusted_rand_score:\t0.8796\t(-02.32%)\n",
      "silhouette_score:\t0.6342\t(-00.36%)\n",
      "\n",
      "n_clusters=12, X=pca\n",
      "converged_after:\t14.0000\t(-06.67%)\n",
      "homogeneity_score:\t0.5385\t(+02.66%)\n",
      "completeness_score:\t0.5049\t(-04.41%)\n",
      "adjusted_rand_score:\t0.3676\t(-07.07%)\n",
      "silhouette_score:\t0.3875\t(-01.61%)\n",
      "n_clusters=12, X=tsne\n",
      "converged_after:\t8.0000\t(+100.00%)\n",
      "homogeneity_score:\t0.9396\t(+02.05%)\n",
      "completeness_score:\t0.8958\t(-02.82%)\n",
      "adjusted_rand_score:\t0.8948\t(-00.63%)\n",
      "silhouette_score:\t0.6349\t(-00.25%)\n",
      "\n"
     ]
    }
   ],
   "source": [
    "reference_pca = get_scores(KMeans(n_clusters=10, random_state=42), pca, y)\n",
    "reference_tsne = get_scores(KMeans(n_clusters=10, random_state=42), tsne, y)\n",
    "for i in range(8, 13):\n",
    "    print(f'n_clusters={i}, X=pca')\n",
    "    print_scores(KMeans(n_clusters=i, init='k-means++', random_state=42), pca, y, reference_pca)\n",
    "    print(f'n_clusters={i}, X=tsne')\n",
    "    print_scores(KMeans(n_clusters=i, init='k-means++', random_state=42), tsne, y, reference_tsne)\n",
    "    print()"
   ]
  },
  {
   "cell_type": "markdown",
   "metadata": {},
   "source": [
    "И для PCA и для TSNE скоры KMeans не улучшились при увеличении количества кластеров с 10 до 11"
   ]
  },
  {
   "cell_type": "code",
   "execution_count": 166,
   "metadata": {},
   "outputs": [
    {
     "name": "stdout",
     "output_type": "stream",
     "text": [
      "converged_after:\t15.0000\n",
      "homogeneity_score:\t0.5245\n",
      "completeness_score:\t0.5282\n",
      "adjusted_rand_score:\t0.3955\n",
      "silhouette_score:\t0.3938\n"
     ]
    }
   ],
   "source": [
    "print_scores(KMeans(n_clusters=10, init='k-means++', random_state=42), pca, y)"
   ]
  },
  {
   "cell_type": "code",
   "execution_count": 167,
   "metadata": {},
   "outputs": [
    {
     "name": "stdout",
     "output_type": "stream",
     "text": [
      "converged_after:\t4.0000\n",
      "homogeneity_score:\t0.9207\n",
      "completeness_score:\t0.9218\n",
      "adjusted_rand_score:\t0.9005\n",
      "silhouette_score:\t0.6365\n"
     ]
    }
   ],
   "source": [
    "print_scores(KMeans(n_clusters=10, init='k-means++', random_state=42), tsne, y)"
   ]
  },
  {
   "cell_type": "code",
   "execution_count": 172,
   "metadata": {},
   "outputs": [
    {
     "name": "stdout",
     "output_type": "stream",
     "text": [
      "eps=0.5, X=pca\n",
      "homogeneity_score:\t0.2116\t(+00.00%)\n",
      "completeness_score:\t0.2579\t(+00.00%)\n",
      "adjusted_rand_score:\t0.0020\t(+00.00%)\n",
      "silhouette_score:\t-0.4625\t(+00.00%)\n",
      "eps=0.5, X=tsne\n",
      "homogeneity_score:\t0.1206\t(+00.00%)\n",
      "completeness_score:\t0.3156\t(+00.00%)\n",
      "adjusted_rand_score:\t0.0006\t(+00.00%)\n",
      "silhouette_score:\t-0.7044\t(+00.00%)\n",
      "\n",
      "eps=1, X=pca\n",
      "homogeneity_score:\t0.4916\t(+132.36%)\n",
      "completeness_score:\t0.3461\t(+34.17%)\n",
      "adjusted_rand_score:\t0.1367\t(+6756.99%)\n",
      "silhouette_score:\t-0.1700\t(-63.24%)\n",
      "eps=1, X=tsne\n",
      "homogeneity_score:\t0.7400\t(+513.53%)\n",
      "completeness_score:\t0.3891\t(+23.30%)\n",
      "adjusted_rand_score:\t0.0436\t(+7416.49%)\n",
      "silhouette_score:\t0.0882\t(-112.52%)\n",
      "\n",
      "eps=1.5, X=pca\n",
      "homogeneity_score:\t0.2797\t(+32.23%)\n",
      "completeness_score:\t0.5368\t(+108.11%)\n",
      "adjusted_rand_score:\t0.1296\t(+6398.16%)\n",
      "silhouette_score:\t-0.4142\t(-10.44%)\n",
      "eps=1.5, X=tsne\n",
      "homogeneity_score:\t0.9523\t(+689.53%)\n",
      "completeness_score:\t0.6466\t(+104.89%)\n",
      "adjusted_rand_score:\t0.5994\t(+103234.47%)\n",
      "silhouette_score:\t0.0616\t(-108.74%)\n",
      "\n",
      "eps=2, X=pca\n",
      "homogeneity_score:\t0.0081\t(-96.16%)\n",
      "completeness_score:\t0.1495\t(-42.05%)\n",
      "adjusted_rand_score:\t0.0001\t(-95.02%)\n",
      "silhouette_score:\t-0.1559\t(-66.29%)\n",
      "eps=2, X=tsne\n",
      "homogeneity_score:\t0.9801\t(+712.57%)\n",
      "completeness_score:\t0.7793\t(+146.95%)\n",
      "adjusted_rand_score:\t0.7933\t(+136664.09%)\n",
      "silhouette_score:\t0.3024\t(-142.92%)\n",
      "\n",
      "eps=2.5, X=pca\n",
      "homogeneity_score:\t0.0040\t(-98.11%)\n",
      "completeness_score:\t0.2143\t(-16.90%)\n",
      "adjusted_rand_score:\t0.0000\t(-98.88%)\n",
      "silhouette_score:\t0.2213\t(-147.86%)\n",
      "eps=2.5, X=tsne\n",
      "homogeneity_score:\t0.9796\t(+712.20%)\n",
      "completeness_score:\t0.8392\t(+165.93%)\n",
      "adjusted_rand_score:\t0.8674\t(+149447.41%)\n",
      "silhouette_score:\t0.3939\t(-155.93%)\n",
      "\n",
      "eps=3, X=pca\n",
      "homogeneity_score:\t0.0030\t(-98.57%)\n",
      "completeness_score:\t0.2439\t(-05.45%)\n",
      "adjusted_rand_score:\t0.0000\t(-99.70%)\n",
      "silhouette_score:\t0.2180\t(-147.15%)\n",
      "eps=3, X=tsne\n",
      "homogeneity_score:\t0.9403\t(+679.58%)\n",
      "completeness_score:\t0.8671\t(+174.74%)\n",
      "adjusted_rand_score:\t0.8401\t(+144742.56%)\n",
      "silhouette_score:\t0.4380\t(-162.18%)\n",
      "\n",
      "eps=3.5, X=pca\n",
      "homogeneity_score:\t0.0012\t(-99.43%)\n",
      "completeness_score:\t0.2236\t(-13.31%)\n",
      "adjusted_rand_score:\t-0.0000\t(-100.51%)\n",
      "silhouette_score:\t0.2090\t(-145.19%)\n",
      "eps=3.5, X=tsne\n",
      "homogeneity_score:\t0.9264\t(+668.11%)\n",
      "completeness_score:\t0.8787\t(+178.44%)\n",
      "adjusted_rand_score:\t0.8459\t(+145729.24%)\n",
      "silhouette_score:\t0.4903\t(-169.60%)\n",
      "\n"
     ]
    }
   ],
   "source": [
    "reference_pca = get_scores(DBSCAN(min_samples=3), pca, y)\n",
    "reference_tsne = get_scores(DBSCAN(min_samples=3), tsne, y)\n",
    "for eps in [0.5, 1, 1.5, 2, 2.5, 3, 3.5]:\n",
    "    print(f'eps={eps}, X=pca')\n",
    "    print_scores(DBSCAN(min_samples=3, eps=eps), pca, y, reference_pca)\n",
    "    print(f'eps={eps}, X=tsne')\n",
    "    print_scores(DBSCAN(min_samples=3, eps=eps), tsne, y, reference_tsne)\n",
    "    print()"
   ]
  },
  {
   "cell_type": "markdown",
   "metadata": {},
   "source": [
    "Видно, что если тюнить параметр `eps` у DBSCAN, можно получить очень большой прирост качества, но по всем метрикам KMeans побить не удалось"
   ]
  },
  {
   "cell_type": "code",
   "execution_count": 173,
   "metadata": {},
   "outputs": [
    {
     "name": "stdout",
     "output_type": "stream",
     "text": [
      "homogeneity_score:\t0.0012\n",
      "completeness_score:\t0.2236\n",
      "adjusted_rand_score:\t-0.0000\n",
      "silhouette_score:\t0.2090\n"
     ]
    }
   ],
   "source": [
    "print_scores(DBSCAN(min_samples=3, eps=3.5), pca, y)"
   ]
  },
  {
   "cell_type": "code",
   "execution_count": 174,
   "metadata": {},
   "outputs": [
    {
     "name": "stdout",
     "output_type": "stream",
     "text": [
      "homogeneity_score:\t0.9264\n",
      "completeness_score:\t0.8787\n",
      "adjusted_rand_score:\t0.8459\n",
      "silhouette_score:\t0.4903\n"
     ]
    }
   ],
   "source": [
    "print_scores(DBSCAN(min_samples=3, eps=3.5), tsne, y)"
   ]
  },
  {
   "cell_type": "code",
   "execution_count": 175,
   "metadata": {},
   "outputs": [
    {
     "name": "stdout",
     "output_type": "stream",
     "text": [
      "n_clusters=8, X=pca\n",
      "homogeneity_score:\t0.4560\t(-07.85%)\n",
      "completeness_score:\t0.5332\t(+04.11%)\n",
      "adjusted_rand_score:\t0.3302\t(-06.49%)\n",
      "silhouette_score:\t0.3516\t(+09.59%)\n",
      "n_clusters=8, X=tsne\n",
      "homogeneity_score:\t0.8154\t(-11.43%)\n",
      "completeness_score:\t0.9226\t(+00.09%)\n",
      "adjusted_rand_score:\t0.7457\t(-17.19%)\n",
      "silhouette_score:\t0.6160\t(-03.11%)\n",
      "\n",
      "n_clusters=9, X=pca\n",
      "homogeneity_score:\t0.4714\t(-04.74%)\n",
      "completeness_score:\t0.5069\t(-01.03%)\n",
      "adjusted_rand_score:\t0.3462\t(-01.97%)\n",
      "silhouette_score:\t0.3433\t(+07.02%)\n",
      "n_clusters=9, X=tsne\n",
      "homogeneity_score:\t0.8660\t(-05.93%)\n",
      "completeness_score:\t0.9233\t(+00.17%)\n",
      "adjusted_rand_score:\t0.8093\t(-10.14%)\n",
      "silhouette_score:\t0.6251\t(-01.68%)\n",
      "\n",
      "n_clusters=10, X=pca\n",
      "homogeneity_score:\t0.4949\t(+00.00%)\n",
      "completeness_score:\t0.5122\t(+00.00%)\n",
      "adjusted_rand_score:\t0.3531\t(+00.00%)\n",
      "silhouette_score:\t0.3208\t(+00.00%)\n",
      "n_clusters=10, X=tsne\n",
      "homogeneity_score:\t0.9206\t(+00.00%)\n",
      "completeness_score:\t0.9217\t(+00.00%)\n",
      "adjusted_rand_score:\t0.9006\t(+00.00%)\n",
      "silhouette_score:\t0.6357\t(+00.00%)\n",
      "\n",
      "n_clusters=11, X=pca\n",
      "homogeneity_score:\t0.5125\t(+03.55%)\n",
      "completeness_score:\t0.5104\t(-00.34%)\n",
      "adjusted_rand_score:\t0.3590\t(+01.66%)\n",
      "silhouette_score:\t0.3335\t(+03.97%)\n",
      "n_clusters=11, X=tsne\n",
      "homogeneity_score:\t0.9252\t(+00.50%)\n",
      "completeness_score:\t0.8997\t(-02.38%)\n",
      "adjusted_rand_score:\t0.8872\t(-01.49%)\n",
      "silhouette_score:\t0.6331\t(-00.41%)\n",
      "\n",
      "n_clusters=12, X=pca\n",
      "homogeneity_score:\t0.5257\t(+06.24%)\n",
      "completeness_score:\t0.5045\t(-01.49%)\n",
      "adjusted_rand_score:\t0.3549\t(+00.51%)\n",
      "silhouette_score:\t0.3383\t(+05.47%)\n",
      "n_clusters=12, X=tsne\n",
      "homogeneity_score:\t0.9441\t(+02.55%)\n",
      "completeness_score:\t0.9015\t(-02.19%)\n",
      "adjusted_rand_score:\t0.9017\t(+00.13%)\n",
      "silhouette_score:\t0.6340\t(-00.27%)\n",
      "\n"
     ]
    }
   ],
   "source": [
    "reference_pca = get_scores(Birch(n_clusters=10), pca, y)\n",
    "reference_tsne = get_scores(Birch(n_clusters=10), tsne, y)\n",
    "for i in range(8, 13):\n",
    "    print(f'n_clusters={i}, X=pca')\n",
    "    print_scores(Birch(n_clusters=i), pca, y, reference_pca)\n",
    "    print(f'n_clusters={i}, X=tsne')\n",
    "    print_scores(Birch(n_clusters=i), tsne, y, reference_tsne)\n",
    "    print()"
   ]
  },
  {
   "cell_type": "code",
   "execution_count": 176,
   "metadata": {},
   "outputs": [
    {
     "name": "stdout",
     "output_type": "stream",
     "text": [
      "homogeneity_score:\t0.4949\n",
      "completeness_score:\t0.5122\n",
      "adjusted_rand_score:\t0.3531\n",
      "silhouette_score:\t0.3208\n"
     ]
    }
   ],
   "source": [
    "print_scores(Birch(n_clusters=10), pca, y)"
   ]
  },
  {
   "cell_type": "code",
   "execution_count": 177,
   "metadata": {},
   "outputs": [
    {
     "name": "stdout",
     "output_type": "stream",
     "text": [
      "homogeneity_score:\t0.9206\n",
      "completeness_score:\t0.9217\n",
      "adjusted_rand_score:\t0.9006\n",
      "silhouette_score:\t0.6357\n"
     ]
    }
   ],
   "source": [
    "print_scores(Birch(n_clusters=10), tsne, y)"
   ]
  },
  {
   "cell_type": "markdown",
   "metadata": {},
   "source": [
    "В итоге лучшие результаты получились у KMeans и Birch с `n_clusters=10`"
   ]
  },
  {
   "cell_type": "markdown",
   "metadata": {},
   "source": [
    "## Частичное обучение\n",
    "\n",
    "![](https://i.imgur.com/C6HjiXq.png)\n",
    "\n",
    "Качество unsupervised методов можно существенно улучшить, зная правильные ответы хотя бы для небольшой части выборки. Методы такого рода называются _частичным обучением (semi-supervised learning)_. Более подробно про реализацию таких методов в sklearn можно прочитать в разделе [semi-supervised](http://scikit-learn.org/stable/modules/label_propagation.html#semi-supervised).\n",
    "\n",
    "Загрузите датасет [Wine](http://scikit-learn.org/stable/modules/generated/sklearn.datasets.load_wine.html) и создайте из него выборку, где для каждого класса имеется по одному объекту с известным ответом, а ответы на остальных объектах равны -1. "
   ]
  },
  {
   "cell_type": "code",
   "execution_count": 249,
   "metadata": {
    "collapsed": true
   },
   "outputs": [],
   "source": [
    "wine = load_wine()\n",
    "\n",
    "indices = np.arange(len(wine.data))\n",
    "np.random.shuffle(indices)\n",
    "\n",
    "X = wine.data[indices]\n",
    "y = wine.target[indices]"
   ]
  },
  {
   "cell_type": "code",
   "execution_count": 250,
   "metadata": {},
   "outputs": [],
   "source": [
    "y_train = -1*np.ones(y.shape, dtype=np.int32)\n",
    "for y_ in np.unique(y):\n",
    "    y_train[np.where(y == y_)[0][0]] = y_"
   ]
  },
  {
   "cell_type": "markdown",
   "metadata": {},
   "source": [
    "**Задание 3. (1 балл)** Обучите [LabelSpreading](http://scikit-learn.org/stable/modules/generated/sklearn.semi_supervised.LabelSpreading.html) на этих данных, рассмотрев различные значения параметра **kernel** (*knn*, *rbf*). Посчитайте качество полученной разметки для каждого класса (в качестве метрик используйте точность и полноту). "
   ]
  },
  {
   "cell_type": "code",
   "execution_count": 251,
   "metadata": {},
   "outputs": [
    {
     "name": "stderr",
     "output_type": "stream",
     "text": [
      "C:\\anaconda3\\lib\\site-packages\\sklearn\\semi_supervised\\label_propagation.py:293: RuntimeWarning: invalid value encountered in true_divide\n",
      "  self.label_distributions_ /= normalizer\n"
     ]
    },
    {
     "name": "stdout",
     "output_type": "stream",
     "text": [
      "kernel=knn\n",
      "precision_score for classes:  [0.45384615 0.79166667 0.54166667]\n",
      "recall_score for classes:  [1.         0.26760563 0.27083333]\n"
     ]
    }
   ],
   "source": [
    "clf = LabelSpreading(kernel='knn')\n",
    "clf.fit(X, y_train)\n",
    "y_pred = clf.predict(X)\n",
    "print('kernel=knn')\n",
    "print('precision_score for classes: ', precision_score(y, y_pred, average=None))\n",
    "print('recall_score for classes: ', recall_score(y, y_pred, average=None))"
   ]
  },
  {
   "cell_type": "code",
   "execution_count": 252,
   "metadata": {},
   "outputs": [
    {
     "name": "stdout",
     "output_type": "stream",
     "text": [
      "kernel=rbf\n",
      "precision_score for classes:  [0.79452055 0.84313725 0.57407407]\n",
      "recall_score for classes:  [0.98305085 0.6056338  0.64583333]\n"
     ]
    }
   ],
   "source": [
    "clf = LabelSpreading(kernel='rbf', gamma=0.001)\n",
    "clf.fit(X, y_train)\n",
    "y_pred = clf.predict(X)\n",
    "print('kernel=rbf')\n",
    "print('precision_score for classes: ', precision_score(y, y_pred, average=None))\n",
    "print('recall_score for classes: ', recall_score(y, y_pred, average=None))"
   ]
  },
  {
   "cell_type": "markdown",
   "metadata": {},
   "source": [
    "**Задание 4. (0.5 балла)** Попробуйте запустить алгоритм несколько раз, отмечая известными различные объекты, посчитайте качество и визуализируйте результаты. Можно ли сказать, что алгоритм сильно зависит от известных начальных объектов? Есть ли класс, для которого это больше всего заметно?\n",
    "\n",
    "**Указание.** Для визуализации результатов отобразите объекты вместе с верными и предсказанными ответами на двумерном графике, использовав [PCA](http://scikit-learn.org/stable/modules/generated/sklearn.decomposition.PCA.html) с 2 компонентами."
   ]
  },
  {
   "cell_type": "code",
   "execution_count": null,
   "metadata": {
    "collapsed": true
   },
   "outputs": [],
   "source": []
  },
  {
   "cell_type": "markdown",
   "metadata": {},
   "source": [
    "## Тематическое моделирование\n",
    "\n",
    "![](http://imgur.com/S8WgwBp.png)"
   ]
  },
  {
   "cell_type": "markdown",
   "metadata": {},
   "source": [
    "Тематическое моделирование является популярным инструментом анализа текстов. Задача заключается в поиске тем $T$, которые хорошо бы описывали документы $D$ со словарём $W$. Большинство тематических моделей оперирует данными в формате \"мешка слов\", т.е. учитывают только частоты слов в документах, а не их порядок. Одной из простейших тематических моделей является [PLSA](https://en.wikipedia.org/wiki/Probabilistic_latent_semantic_analysis), которая приводит к задаче стохастического матричного разложения: \n",
    "\n",
    "$$F \\approx \\Phi \\times \\Theta$$\n",
    "где\n",
    "- $F_{W \\times D}$— матрица распределений слов в документах (нормированные частоты)\n",
    "- $\\Phi_{W \\times T}$ — матрица распределений слов в темах (модель)\n",
    "- $\\Theta_{T \\times D}$ — матрица распределений тем в документах (результат применения модели к обучающим данным)\n",
    "\n",
    "Можно сказать, что алгоритмы тематического моделирования производят мягкую бикластеризацию данных:\n",
    " - *мягкую*, так как объекты относятся не строго к одному кластеру, а к нескольким с разными вероятностями\n",
    " - *бикластеризацию*, так как модель одновременно кластеризует слова по темам и темы по документам."
   ]
  },
  {
   "cell_type": "markdown",
   "metadata": {},
   "source": [
    "### EM-алгоритм\n",
    "\n",
    "![](http://imgur.com/EeIuI1T.png)\n",
    "\n",
    "С вероятностной точки зрения, задача обучения модели PLSA ставится как максимизация неполного правдоподобия по параметам $\\Phi$ и $\\Theta$. ЕМ-алгоритм для модели PLSA заключается в повторении двух шагов:\n",
    "\n",
    "- **Е-шаг** — оценка распределений тем для каждого слова в каждом документе по параметрам $\\Phi$ и $\\Theta$ (шаг 6);\n",
    "- **М-шаг** — обновление параметров $\\Phi$ и $\\Theta$ на основе полученных оценок (шаги 7 и 9).\n",
    "\n",
    "Существуют различные модификации итерационного процесса, позволяющие снизить расходы по памяти. В данном случае, мы избежим хранения трехмерной матрицы $p_{tdw}$, сразу пересчитывая $\\Theta$ для текущего документа и аккумулируя счетчики $n_{wt}$ для последующего пересчета $\\Phi$.\n",
    "\n",
    "Псевдокод алгоритма записывается следующим образом:\n",
    "\n",
    "1. Инициализировать $\\phi_{wt}^0$ для всех $w \\in W$, $t \\in T$ и $\\theta_{td}^0$ для всех $t \\in T$, $d \\in D$\n",
    "2. Внешний цикл по итерациям $i = 1 ... max\\_iter$:\n",
    "3. $\\quad$ $n_{wt}^i := 0$, $n_t^i := 0$ для всех $w \\in W$ и $t \\in T$ \n",
    "4. $\\quad$ Внутренний цикл по документам $d \\in D$  \n",
    "5. $\\qquad$ $Z_w := \\sum_{t \\in T} \\phi_{wt}^{i-1}\\theta_{td}^{i-1}$ для всех $w \\in d$ $\\cfrac{}{}$\n",
    "6. $\\qquad$ $p_{tdw} := \\cfrac{ \\phi_{wt}^{i-1}\\theta_{td}^{i-1} }{ Z_w }$ (**E-шаг**)\n",
    "7. $\\qquad$ $\\theta_{td}^{i} := \\cfrac{ \\sum_{w \\in d} n_{dw} p_{tdw} }{ n_d }$ для всех $t \\in T$ (**M-шаг**)\n",
    "8. $\\qquad$ Увеличить $n_{wt}^i$ и $n_t^i$ на $n_{dw} p_{tdw}$ для всех $w \\in W$ и $t \\in T$\n",
    "9. $\\quad \\phi_{wt}^i := \\cfrac{n_{wt}^i}{n_t^i}$ для всех $w \\in W$ и $t \\in T$ (**M-шаг**)\n",
    "\n",
    "Обозначения:\n",
    " - $p_{tdw}$ — вероятность темы $t$ для слова $w$ в документе $d$\n",
    " - $\\phi_{wt}$ — элемент матрицы $\\Phi$, соответствующий вероятности слова $w$ в теме $t$\n",
    " - $\\theta_{td}$ — элемент матрицы $\\Theta$, соответствующий вероятности темы $t$ в документе $d$\n",
    " - $n_{wt}$ — элемент матрицы счётчиков отнесения слова $w$ к теме $t$ (путем нормирования этой матрицы получается матрица $\\Phi$)\n",
    " - $Z_w$ — элемент вектора вспомогательных переменных, соответствующий слову $w$\n",
    " - $n_t$ — вектор нормировочных констант для матрицы $n_{wt}$\n",
    " - $n_d$ — вектор нормировочных констант для матрицы $n_{dw}$\n",
    " - $n$ — суммарное число слов в коллекции\n",
    " \n",
    "###  Оценка качества\n",
    "\n",
    "Для оценивания качества построенной модели и контроля сходимости процесса обучения обычно используют [перплексию](http://www.machinelearning.ru/wiki/images/8/88/Voron-iip9-talk.pdf):\n",
    "\n",
    "$$\\mathcal{P} = \\exp\\bigg(- \\frac{\\mathcal{L}}{n} \\bigg) = \\exp\\bigg(- \\cfrac{1}{n}\\sum_{d \\in D}\\sum_{w \\in d} n_{dw} \\ln \\big(\\sum_{t \\in T}\\phi_{wt}\\theta_{td} \\big)\\bigg)$$\n",
    "\n",
    "Это традиционная мера качества в тематическом моделировании, которая основана на правдоподобии модели $\\mathcal{L}$. Число итераций $max\\_iter$ в алгоритме обучения следует выбирать достаточным для того, чтобы перплексия перестала существенно убывать. Однако известно, что перплексия плохо отражает интерпретируемость найденных тем, поэтому помимо нее обычно используются дополнительные меры или экспертные оценки.\n",
    "\n",
    "### Рекомендации к реализации\n",
    "- При делении на нулевые значения нужно просто заменить частное на ноль.\n",
    "- ЕМ-алгоритм стоит реализовывать с использованием векторных операций. Для проверки корректности реализации сперва можно написать скалярную версию, после чего векторизовать её, удостоверившись, что обе реализации дают одинаковый результат. Невекторизованный алгоритм может работать в сотни раз медленнее векторизованного, и его использование может привести к невозможности выполнения задания.\n",
    "- Итерационный процесс следует начинать, инициализировав матрицы $\\Phi$ и $\\Theta$. Инициализация может быть случайной, важно не забыть отнормировать столбцы матриц.\n",
    "- Неэффективная реализация перплексии может в разы замедлить работу алгоритма."
   ]
  },
  {
   "cell_type": "markdown",
   "metadata": {},
   "source": [
    "Загрузите [коллекцию писем Х. Клинтон](https://yadi.sk/d/-Ci15wecokdxzQ) (коллекцию можно скачать прямо с сайта [kaggle.com](https://www.kaggle.com/kaggle/hillary-clinton-emails)). "
   ]
  },
  {
   "cell_type": "code",
   "execution_count": 263,
   "metadata": {},
   "outputs": [
    {
     "data": {
      "text/html": [
       "<div>\n",
       "<style>\n",
       "    .dataframe thead tr:only-child th {\n",
       "        text-align: right;\n",
       "    }\n",
       "\n",
       "    .dataframe thead th {\n",
       "        text-align: left;\n",
       "    }\n",
       "\n",
       "    .dataframe tbody tr th {\n",
       "        vertical-align: top;\n",
       "    }\n",
       "</style>\n",
       "<table border=\"1\" class=\"dataframe\">\n",
       "  <thead>\n",
       "    <tr style=\"text-align: right;\">\n",
       "      <th></th>\n",
       "      <th>Id</th>\n",
       "      <th>DocNumber</th>\n",
       "      <th>MetadataSubject</th>\n",
       "      <th>MetadataTo</th>\n",
       "      <th>MetadataFrom</th>\n",
       "      <th>SenderPersonId</th>\n",
       "      <th>MetadataDateSent</th>\n",
       "      <th>MetadataDateReleased</th>\n",
       "      <th>MetadataPdfLink</th>\n",
       "      <th>MetadataCaseNumber</th>\n",
       "      <th>...</th>\n",
       "      <th>ExtractedTo</th>\n",
       "      <th>ExtractedFrom</th>\n",
       "      <th>ExtractedCc</th>\n",
       "      <th>ExtractedDateSent</th>\n",
       "      <th>ExtractedCaseNumber</th>\n",
       "      <th>ExtractedDocNumber</th>\n",
       "      <th>ExtractedDateReleased</th>\n",
       "      <th>ExtractedReleaseInPartOrFull</th>\n",
       "      <th>ExtractedBodyText</th>\n",
       "      <th>RawText</th>\n",
       "    </tr>\n",
       "  </thead>\n",
       "  <tbody>\n",
       "    <tr>\n",
       "      <th>0</th>\n",
       "      <td>1</td>\n",
       "      <td>C05739545</td>\n",
       "      <td>WOW</td>\n",
       "      <td>H</td>\n",
       "      <td>Sullivan, Jacob J</td>\n",
       "      <td>87.0</td>\n",
       "      <td>2012-09-12T04:00:00+00:00</td>\n",
       "      <td>2015-05-22T04:00:00+00:00</td>\n",
       "      <td>DOCUMENTS/HRC_Email_1_296/HRCH2/DOC_0C05739545...</td>\n",
       "      <td>F-2015-04841</td>\n",
       "      <td>...</td>\n",
       "      <td>NaN</td>\n",
       "      <td>Sullivan, Jacob J &lt;Sullivan11@state.gov&gt;</td>\n",
       "      <td>NaN</td>\n",
       "      <td>Wednesday, September 12, 2012 10:16 AM</td>\n",
       "      <td>F-2015-04841</td>\n",
       "      <td>C05739545</td>\n",
       "      <td>05/13/2015</td>\n",
       "      <td>RELEASE IN FULL</td>\n",
       "      <td>NaN</td>\n",
       "      <td>UNCLASSIFIED\\nU.S. Department of State\\nCase N...</td>\n",
       "    </tr>\n",
       "    <tr>\n",
       "      <th>1</th>\n",
       "      <td>2</td>\n",
       "      <td>C05739546</td>\n",
       "      <td>H: LATEST: HOW SYRIA IS AIDING QADDAFI AND MOR...</td>\n",
       "      <td>H</td>\n",
       "      <td>NaN</td>\n",
       "      <td>NaN</td>\n",
       "      <td>2011-03-03T05:00:00+00:00</td>\n",
       "      <td>2015-05-22T04:00:00+00:00</td>\n",
       "      <td>DOCUMENTS/HRC_Email_1_296/HRCH1/DOC_0C05739546...</td>\n",
       "      <td>F-2015-04841</td>\n",
       "      <td>...</td>\n",
       "      <td>NaN</td>\n",
       "      <td>NaN</td>\n",
       "      <td>NaN</td>\n",
       "      <td>NaN</td>\n",
       "      <td>F-2015-04841</td>\n",
       "      <td>C05739546</td>\n",
       "      <td>05/13/2015</td>\n",
       "      <td>RELEASE IN PART</td>\n",
       "      <td>B6\\nThursday, March 3, 2011 9:45 PM\\nH: Latest...</td>\n",
       "      <td>UNCLASSIFIED\\nU.S. Department of State\\nCase N...</td>\n",
       "    </tr>\n",
       "    <tr>\n",
       "      <th>2</th>\n",
       "      <td>3</td>\n",
       "      <td>C05739547</td>\n",
       "      <td>CHRIS STEVENS</td>\n",
       "      <td>;H</td>\n",
       "      <td>Mills, Cheryl D</td>\n",
       "      <td>32.0</td>\n",
       "      <td>2012-09-12T04:00:00+00:00</td>\n",
       "      <td>2015-05-22T04:00:00+00:00</td>\n",
       "      <td>DOCUMENTS/HRC_Email_1_296/HRCH2/DOC_0C05739547...</td>\n",
       "      <td>F-2015-04841</td>\n",
       "      <td>...</td>\n",
       "      <td>B6</td>\n",
       "      <td>Mills, Cheryl D &lt;MillsCD@state.gov&gt;</td>\n",
       "      <td>Abedin, Huma</td>\n",
       "      <td>Wednesday, September 12, 2012 11:52 AM</td>\n",
       "      <td>F-2015-04841</td>\n",
       "      <td>C05739547</td>\n",
       "      <td>05/14/2015</td>\n",
       "      <td>RELEASE IN PART</td>\n",
       "      <td>Thx</td>\n",
       "      <td>UNCLASSIFIED\\nU.S. Department of State\\nCase N...</td>\n",
       "    </tr>\n",
       "    <tr>\n",
       "      <th>3</th>\n",
       "      <td>4</td>\n",
       "      <td>C05739550</td>\n",
       "      <td>CAIRO CONDEMNATION - FINAL</td>\n",
       "      <td>H</td>\n",
       "      <td>Mills, Cheryl D</td>\n",
       "      <td>32.0</td>\n",
       "      <td>2012-09-12T04:00:00+00:00</td>\n",
       "      <td>2015-05-22T04:00:00+00:00</td>\n",
       "      <td>DOCUMENTS/HRC_Email_1_296/HRCH2/DOC_0C05739550...</td>\n",
       "      <td>F-2015-04841</td>\n",
       "      <td>...</td>\n",
       "      <td>NaN</td>\n",
       "      <td>Mills, Cheryl D &lt;MillsCD@state.gov&gt;</td>\n",
       "      <td>Mitchell, Andrew B</td>\n",
       "      <td>Wednesday, September 12,2012 12:44 PM</td>\n",
       "      <td>F-2015-04841</td>\n",
       "      <td>C05739550</td>\n",
       "      <td>05/13/2015</td>\n",
       "      <td>RELEASE IN PART</td>\n",
       "      <td>NaN</td>\n",
       "      <td>UNCLASSIFIED\\nU.S. Department of State\\nCase N...</td>\n",
       "    </tr>\n",
       "    <tr>\n",
       "      <th>4</th>\n",
       "      <td>5</td>\n",
       "      <td>C05739554</td>\n",
       "      <td>H: LATEST: HOW SYRIA IS AIDING QADDAFI AND MOR...</td>\n",
       "      <td>Abedin, Huma</td>\n",
       "      <td>H</td>\n",
       "      <td>80.0</td>\n",
       "      <td>2011-03-11T05:00:00+00:00</td>\n",
       "      <td>2015-05-22T04:00:00+00:00</td>\n",
       "      <td>DOCUMENTS/HRC_Email_1_296/HRCH1/DOC_0C05739554...</td>\n",
       "      <td>F-2015-04841</td>\n",
       "      <td>...</td>\n",
       "      <td>NaN</td>\n",
       "      <td>NaN</td>\n",
       "      <td>NaN</td>\n",
       "      <td>NaN</td>\n",
       "      <td>F-2015-04841</td>\n",
       "      <td>C05739554</td>\n",
       "      <td>05/13/2015</td>\n",
       "      <td>RELEASE IN PART</td>\n",
       "      <td>H &lt;hrod17@clintonemail.com&gt;\\nFriday, March 11,...</td>\n",
       "      <td>B6\\nUNCLASSIFIED\\nU.S. Department of State\\nCa...</td>\n",
       "    </tr>\n",
       "    <tr>\n",
       "      <th>5</th>\n",
       "      <td>6</td>\n",
       "      <td>C05739559</td>\n",
       "      <td>MEET THE RIGHT-WING EXTREMIST BEHIND ANTI-MUSL...</td>\n",
       "      <td>Russorv@state.gov</td>\n",
       "      <td>H</td>\n",
       "      <td>80.0</td>\n",
       "      <td>2012-09-12T04:00:00+00:00</td>\n",
       "      <td>2015-05-22T04:00:00+00:00</td>\n",
       "      <td>DOCUMENTS/HRC_Email_1_296/HRCH2/DOC_0C05739559...</td>\n",
       "      <td>F-2015-04841</td>\n",
       "      <td>...</td>\n",
       "      <td>NaN</td>\n",
       "      <td>NaN</td>\n",
       "      <td>NaN</td>\n",
       "      <td>Wednesday, September 12, 2012 01:00 PM</td>\n",
       "      <td>F-2015-04841</td>\n",
       "      <td>C05739559</td>\n",
       "      <td>05/13/2015</td>\n",
       "      <td>RELEASE IN PART</td>\n",
       "      <td>Pis print.\\n-•-...-^\\nH &lt; hrod17@clintonernail...</td>\n",
       "      <td>B6\\nUNCLASSIFIED\\nU.S. Department of State\\nCa...</td>\n",
       "    </tr>\n",
       "    <tr>\n",
       "      <th>6</th>\n",
       "      <td>7</td>\n",
       "      <td>C05739560</td>\n",
       "      <td>ANTI-MUSLIM FILM DIRECTOR IN HIDING, FOLLOWING...</td>\n",
       "      <td>H</td>\n",
       "      <td>Mills, Cheryl D</td>\n",
       "      <td>32.0</td>\n",
       "      <td>2012-09-12T04:00:00+00:00</td>\n",
       "      <td>2015-05-22T04:00:00+00:00</td>\n",
       "      <td>DOCUMENTS/HRC_Email_1_296/HRCH2/DOC_0C05739560...</td>\n",
       "      <td>F-2015-04841</td>\n",
       "      <td>...</td>\n",
       "      <td>NaN</td>\n",
       "      <td>Mills, Cheryl D &lt;MillsCD@state.gov&gt;</td>\n",
       "      <td>NaN</td>\n",
       "      <td>Wednesday, September 12, 2012 4:00 PM</td>\n",
       "      <td>F-2015-04841</td>\n",
       "      <td>C05739560</td>\n",
       "      <td>05/13/2015</td>\n",
       "      <td>RELEASE IN FULL</td>\n",
       "      <td>NaN</td>\n",
       "      <td>UNCLASSIFIED\\nU.S. Department of State\\nCase N...</td>\n",
       "    </tr>\n",
       "    <tr>\n",
       "      <th>7</th>\n",
       "      <td>8</td>\n",
       "      <td>C05739561</td>\n",
       "      <td>H: LATEST: HOW SYRIA IS AIDING QADDAFI AND MOR...</td>\n",
       "      <td>Abedin, Huma</td>\n",
       "      <td>H</td>\n",
       "      <td>80.0</td>\n",
       "      <td>2011-03-11T05:00:00+00:00</td>\n",
       "      <td>2015-05-22T04:00:00+00:00</td>\n",
       "      <td>DOCUMENTS/HRC_Email_1_296/HRCH1/DOC_0C05739561...</td>\n",
       "      <td>F-2015-04841</td>\n",
       "      <td>...</td>\n",
       "      <td>NaN</td>\n",
       "      <td>NaN</td>\n",
       "      <td>NaN</td>\n",
       "      <td>NaN</td>\n",
       "      <td>F-2015-04841</td>\n",
       "      <td>C05739561</td>\n",
       "      <td>05/13/2015</td>\n",
       "      <td>RELEASE IN PART</td>\n",
       "      <td>H &lt;hrod17@clintonemail.corn&gt;\\nFriday, March 11...</td>\n",
       "      <td>B6\\nUNCLASSIFIED\\nU.S. Department of State\\nCa...</td>\n",
       "    </tr>\n",
       "    <tr>\n",
       "      <th>8</th>\n",
       "      <td>9</td>\n",
       "      <td>C05739562</td>\n",
       "      <td>SECRETARY'S REMARKS</td>\n",
       "      <td>H</td>\n",
       "      <td>Sullivan, Jacob J</td>\n",
       "      <td>87.0</td>\n",
       "      <td>2012-09-12T04:00:00+00:00</td>\n",
       "      <td>2015-05-22T04:00:00+00:00</td>\n",
       "      <td>DOCUMENTS/HRC_Email_1_296/HRCH2/DOC_0C05739562...</td>\n",
       "      <td>F-2015-04841</td>\n",
       "      <td>...</td>\n",
       "      <td>NaN</td>\n",
       "      <td>Sullivan, Jacob J &lt;Sullivanli@stategov&gt;</td>\n",
       "      <td>NaN</td>\n",
       "      <td>Wednesday, September 12, 2012 6:08 PM</td>\n",
       "      <td>F-2015-04841</td>\n",
       "      <td>C05739562</td>\n",
       "      <td>05/13/2015</td>\n",
       "      <td>RELEASE IN FULL</td>\n",
       "      <td>FYI</td>\n",
       "      <td>UNCLASSIFIED\\nU.S. Department of State\\nCase N...</td>\n",
       "    </tr>\n",
       "    <tr>\n",
       "      <th>9</th>\n",
       "      <td>10</td>\n",
       "      <td>C05739563</td>\n",
       "      <td>MORE ON LIBYA</td>\n",
       "      <td>H</td>\n",
       "      <td>NaN</td>\n",
       "      <td>NaN</td>\n",
       "      <td>2012-09-12T04:00:00+00:00</td>\n",
       "      <td>2015-05-22T04:00:00+00:00</td>\n",
       "      <td>DOCUMENTS/HRC_Email_1_296/HRCH2/DOC_0C05739563...</td>\n",
       "      <td>F-2015-04841</td>\n",
       "      <td>...</td>\n",
       "      <td>NaN</td>\n",
       "      <td>NaN</td>\n",
       "      <td>NaN</td>\n",
       "      <td>NaN</td>\n",
       "      <td>F-2015-04841</td>\n",
       "      <td>C05739563</td>\n",
       "      <td>05/13/2015</td>\n",
       "      <td>RELEASE IN PART</td>\n",
       "      <td>B6\\nWednesday, September 12, 2012 6:16 PM\\nFwd...</td>\n",
       "      <td>UNCLASSIFIED\\nU.S. Department of State\\nCase N...</td>\n",
       "    </tr>\n",
       "  </tbody>\n",
       "</table>\n",
       "<p>10 rows × 22 columns</p>\n",
       "</div>"
      ],
      "text/plain": [
       "   Id  DocNumber                                    MetadataSubject  \\\n",
       "0   1  C05739545                                                WOW   \n",
       "1   2  C05739546  H: LATEST: HOW SYRIA IS AIDING QADDAFI AND MOR...   \n",
       "2   3  C05739547                                      CHRIS STEVENS   \n",
       "3   4  C05739550                         CAIRO CONDEMNATION - FINAL   \n",
       "4   5  C05739554  H: LATEST: HOW SYRIA IS AIDING QADDAFI AND MOR...   \n",
       "5   6  C05739559  MEET THE RIGHT-WING EXTREMIST BEHIND ANTI-MUSL...   \n",
       "6   7  C05739560  ANTI-MUSLIM FILM DIRECTOR IN HIDING, FOLLOWING...   \n",
       "7   8  C05739561  H: LATEST: HOW SYRIA IS AIDING QADDAFI AND MOR...   \n",
       "8   9  C05739562                                SECRETARY'S REMARKS   \n",
       "9  10  C05739563                                      MORE ON LIBYA   \n",
       "\n",
       "          MetadataTo       MetadataFrom  SenderPersonId  \\\n",
       "0                  H  Sullivan, Jacob J            87.0   \n",
       "1                  H                NaN             NaN   \n",
       "2                 ;H    Mills, Cheryl D            32.0   \n",
       "3                  H    Mills, Cheryl D            32.0   \n",
       "4       Abedin, Huma                  H            80.0   \n",
       "5  Russorv@state.gov                  H            80.0   \n",
       "6                  H    Mills, Cheryl D            32.0   \n",
       "7       Abedin, Huma                  H            80.0   \n",
       "8                  H  Sullivan, Jacob J            87.0   \n",
       "9                  H                NaN             NaN   \n",
       "\n",
       "            MetadataDateSent       MetadataDateReleased  \\\n",
       "0  2012-09-12T04:00:00+00:00  2015-05-22T04:00:00+00:00   \n",
       "1  2011-03-03T05:00:00+00:00  2015-05-22T04:00:00+00:00   \n",
       "2  2012-09-12T04:00:00+00:00  2015-05-22T04:00:00+00:00   \n",
       "3  2012-09-12T04:00:00+00:00  2015-05-22T04:00:00+00:00   \n",
       "4  2011-03-11T05:00:00+00:00  2015-05-22T04:00:00+00:00   \n",
       "5  2012-09-12T04:00:00+00:00  2015-05-22T04:00:00+00:00   \n",
       "6  2012-09-12T04:00:00+00:00  2015-05-22T04:00:00+00:00   \n",
       "7  2011-03-11T05:00:00+00:00  2015-05-22T04:00:00+00:00   \n",
       "8  2012-09-12T04:00:00+00:00  2015-05-22T04:00:00+00:00   \n",
       "9  2012-09-12T04:00:00+00:00  2015-05-22T04:00:00+00:00   \n",
       "\n",
       "                                     MetadataPdfLink MetadataCaseNumber  \\\n",
       "0  DOCUMENTS/HRC_Email_1_296/HRCH2/DOC_0C05739545...       F-2015-04841   \n",
       "1  DOCUMENTS/HRC_Email_1_296/HRCH1/DOC_0C05739546...       F-2015-04841   \n",
       "2  DOCUMENTS/HRC_Email_1_296/HRCH2/DOC_0C05739547...       F-2015-04841   \n",
       "3  DOCUMENTS/HRC_Email_1_296/HRCH2/DOC_0C05739550...       F-2015-04841   \n",
       "4  DOCUMENTS/HRC_Email_1_296/HRCH1/DOC_0C05739554...       F-2015-04841   \n",
       "5  DOCUMENTS/HRC_Email_1_296/HRCH2/DOC_0C05739559...       F-2015-04841   \n",
       "6  DOCUMENTS/HRC_Email_1_296/HRCH2/DOC_0C05739560...       F-2015-04841   \n",
       "7  DOCUMENTS/HRC_Email_1_296/HRCH1/DOC_0C05739561...       F-2015-04841   \n",
       "8  DOCUMENTS/HRC_Email_1_296/HRCH2/DOC_0C05739562...       F-2015-04841   \n",
       "9  DOCUMENTS/HRC_Email_1_296/HRCH2/DOC_0C05739563...       F-2015-04841   \n",
       "\n",
       "                         ...                         ExtractedTo  \\\n",
       "0                        ...                                 NaN   \n",
       "1                        ...                                 NaN   \n",
       "2                        ...                                  B6   \n",
       "3                        ...                                 NaN   \n",
       "4                        ...                                 NaN   \n",
       "5                        ...                                 NaN   \n",
       "6                        ...                                 NaN   \n",
       "7                        ...                                 NaN   \n",
       "8                        ...                                 NaN   \n",
       "9                        ...                                 NaN   \n",
       "\n",
       "                              ExtractedFrom         ExtractedCc  \\\n",
       "0  Sullivan, Jacob J <Sullivan11@state.gov>                 NaN   \n",
       "1                                       NaN                 NaN   \n",
       "2       Mills, Cheryl D <MillsCD@state.gov>        Abedin, Huma   \n",
       "3       Mills, Cheryl D <MillsCD@state.gov>  Mitchell, Andrew B   \n",
       "4                                       NaN                 NaN   \n",
       "5                                       NaN                 NaN   \n",
       "6       Mills, Cheryl D <MillsCD@state.gov>                 NaN   \n",
       "7                                       NaN                 NaN   \n",
       "8   Sullivan, Jacob J <Sullivanli@stategov>                 NaN   \n",
       "9                                       NaN                 NaN   \n",
       "\n",
       "                        ExtractedDateSent ExtractedCaseNumber  \\\n",
       "0  Wednesday, September 12, 2012 10:16 AM        F-2015-04841   \n",
       "1                                     NaN        F-2015-04841   \n",
       "2  Wednesday, September 12, 2012 11:52 AM        F-2015-04841   \n",
       "3   Wednesday, September 12,2012 12:44 PM        F-2015-04841   \n",
       "4                                     NaN        F-2015-04841   \n",
       "5  Wednesday, September 12, 2012 01:00 PM        F-2015-04841   \n",
       "6   Wednesday, September 12, 2012 4:00 PM        F-2015-04841   \n",
       "7                                     NaN        F-2015-04841   \n",
       "8   Wednesday, September 12, 2012 6:08 PM        F-2015-04841   \n",
       "9                                     NaN        F-2015-04841   \n",
       "\n",
       "  ExtractedDocNumber ExtractedDateReleased ExtractedReleaseInPartOrFull  \\\n",
       "0          C05739545            05/13/2015              RELEASE IN FULL   \n",
       "1          C05739546            05/13/2015              RELEASE IN PART   \n",
       "2          C05739547            05/14/2015              RELEASE IN PART   \n",
       "3          C05739550            05/13/2015              RELEASE IN PART   \n",
       "4          C05739554            05/13/2015              RELEASE IN PART   \n",
       "5          C05739559            05/13/2015              RELEASE IN PART   \n",
       "6          C05739560            05/13/2015              RELEASE IN FULL   \n",
       "7          C05739561            05/13/2015              RELEASE IN PART   \n",
       "8          C05739562            05/13/2015              RELEASE IN FULL   \n",
       "9          C05739563            05/13/2015              RELEASE IN PART   \n",
       "\n",
       "                                   ExtractedBodyText  \\\n",
       "0                                                NaN   \n",
       "1  B6\\nThursday, March 3, 2011 9:45 PM\\nH: Latest...   \n",
       "2                                                Thx   \n",
       "3                                                NaN   \n",
       "4  H <hrod17@clintonemail.com>\\nFriday, March 11,...   \n",
       "5  Pis print.\\n-•-...-^\\nH < hrod17@clintonernail...   \n",
       "6                                                NaN   \n",
       "7  H <hrod17@clintonemail.corn>\\nFriday, March 11...   \n",
       "8                                                FYI   \n",
       "9  B6\\nWednesday, September 12, 2012 6:16 PM\\nFwd...   \n",
       "\n",
       "                                             RawText  \n",
       "0  UNCLASSIFIED\\nU.S. Department of State\\nCase N...  \n",
       "1  UNCLASSIFIED\\nU.S. Department of State\\nCase N...  \n",
       "2  UNCLASSIFIED\\nU.S. Department of State\\nCase N...  \n",
       "3  UNCLASSIFIED\\nU.S. Department of State\\nCase N...  \n",
       "4  B6\\nUNCLASSIFIED\\nU.S. Department of State\\nCa...  \n",
       "5  B6\\nUNCLASSIFIED\\nU.S. Department of State\\nCa...  \n",
       "6  UNCLASSIFIED\\nU.S. Department of State\\nCase N...  \n",
       "7  B6\\nUNCLASSIFIED\\nU.S. Department of State\\nCa...  \n",
       "8  UNCLASSIFIED\\nU.S. Department of State\\nCase N...  \n",
       "9  UNCLASSIFIED\\nU.S. Department of State\\nCase N...  \n",
       "\n",
       "[10 rows x 22 columns]"
      ]
     },
     "execution_count": 263,
     "metadata": {},
     "output_type": "execute_result"
    }
   ],
   "source": [
    "emails = pd.read_csv('Emails.csv')\n",
    "emails.head(10)"
   ]
  },
  {
   "cell_type": "code",
   "execution_count": 254,
   "metadata": {},
   "outputs": [
    {
     "data": {
      "text/plain": [
       "(7945, 22)"
      ]
     },
     "execution_count": 254,
     "metadata": {},
     "output_type": "execute_result"
    }
   ],
   "source": [
    "emails.shape"
   ]
  },
  {
   "cell_type": "markdown",
   "metadata": {},
   "source": [
    "Извлеките полные тексты писем из файла *Emails.csv* и подготовьте данные в формате \"мешка слов\" с помощью функции  [CountVectorizer](http://scikit-learn.org/stable/modules/generated/sklearn.feature_extraction.text.CountVectorizer.html) пакета sklearn. Рекомендуется произвести фильтрацию слов по частотности для удаления слишком редких и стоп-слов (рекомендованный нижний порог в пределах 10 и верхний 400-600)."
   ]
  },
  {
   "cell_type": "code",
   "execution_count": 255,
   "metadata": {
    "collapsed": true
   },
   "outputs": [],
   "source": [
    "table = str.maketrans({key: None for key in string.punctuation})\n",
    "normalize = lambda x: x.lower().translate(table)"
   ]
  },
  {
   "cell_type": "code",
   "execution_count": 264,
   "metadata": {},
   "outputs": [
    {
     "data": {
      "text/plain": [
       "1    b6\\nthursday march 3 2011 945 pm\\nh latest how...\n",
       "2                                                  thx\n",
       "4    h hrod17clintonemailcom\\nfriday march 11 2011 ...\n",
       "5    pis print\\n•\\nh  hrod17clintonernailcom\\nwedne...\n",
       "7    h hrod17clintonemailcorn\\nfriday march 11 2011...\n",
       "Name: ExtractedBodyText, dtype: object"
      ]
     },
     "execution_count": 264,
     "metadata": {},
     "output_type": "execute_result"
    }
   ],
   "source": [
    "documents = emails.ExtractedBodyText.dropna().map(normalize)\n",
    "documents.head()"
   ]
  },
  {
   "cell_type": "code",
   "execution_count": 265,
   "metadata": {
    "collapsed": true
   },
   "outputs": [],
   "source": [
    "c = Counter()\n",
    "for document in documents:\n",
    "    for word in document.split():\n",
    "        c[word] += 1"
   ]
  },
  {
   "cell_type": "code",
   "execution_count": 266,
   "metadata": {
    "collapsed": true
   },
   "outputs": [],
   "source": [
    "def remove_rare_and_stopwords(document):\n",
    "    new_document = ''\n",
    "    for word in document.split():\n",
    "        if 10 <= c[word] <= 500:\n",
    "            new_document += word + ' '\n",
    "    return new_document.strip()"
   ]
  },
  {
   "cell_type": "code",
   "execution_count": 267,
   "metadata": {},
   "outputs": [
    {
     "data": {
      "text/plain": [
       "1    b6 thursday march 3 2011 945 latest syria aidi...\n",
       "2                                                  thx\n",
       "4    hrod17clintonemailcom friday march 11 2011 hum...\n",
       "5    pis print wednesday september 12 2012 fw meet ...\n",
       "7    friday march 11 2011 huma abedin fw latest syr...\n",
       "Name: ExtractedBodyText, dtype: object"
      ]
     },
     "execution_count": 267,
     "metadata": {},
     "output_type": "execute_result"
    }
   ],
   "source": [
    "documents = documents.map(remove_rare_and_stopwords)\n",
    "documents.head()"
   ]
  },
  {
   "cell_type": "code",
   "execution_count": 268,
   "metadata": {
    "collapsed": true
   },
   "outputs": [],
   "source": [
    "c = Counter()\n",
    "for document in documents:\n",
    "    for word in document.split():\n",
    "        c[word] += 1"
   ]
  },
  {
   "cell_type": "code",
   "execution_count": 269,
   "metadata": {},
   "outputs": [
    {
     "data": {
      "text/plain": [
       "([], [])"
      ]
     },
     "execution_count": 269,
     "metadata": {},
     "output_type": "execute_result"
    }
   ],
   "source": [
    "[x for x in c.elements() if c[x] < 10], [x for x in c.elements() if c[x] > 500]"
   ]
  },
  {
   "cell_type": "code",
   "execution_count": 270,
   "metadata": {
    "scrolled": true
   },
   "outputs": [
    {
     "data": {
      "text/plain": [
       "(6742, 5213)"
      ]
     },
     "execution_count": 270,
     "metadata": {},
     "output_type": "execute_result"
    }
   ],
   "source": [
    "vectorizer = CountVectorizer()\n",
    "vectors = vectorizer.fit_transform(documents)\n",
    "vectors.shape"
   ]
  },
  {
   "cell_type": "markdown",
   "metadata": {},
   "source": [
    "**Задание 5. (3 балла)** Реализуйте описанный выше ЕМ-алгоритм для модели $PLSA$ и добавьте в вашу реализацию подсчёт перплексии. Примените ваш алгоритм к подготовленным данным, рассмотрев число тем T = 5. \n",
    "* Постройте график значения перплексии в зависимости от итерации (убедитесь в корректности реализации: график перплексии должен быть невозрастающим). \n",
    "* Выведите для каждой темы топ-20 наиболее вероятных слов. "
   ]
  },
  {
   "cell_type": "code",
   "execution_count": 327,
   "metadata": {
    "collapsed": true
   },
   "outputs": [],
   "source": [
    "def dot_trace(a, b):\n",
    "    result = 0\n",
    "    for i in range(a.shape[0]):\n",
    "        result += a[i, :].dot(b[:, i])\n",
    "    return result\n",
    "\n",
    "def perplexity(n_dw, Z):\n",
    "    logZ = np.log(Z)\n",
    "    logZ[np.isneginf(logZ)] = 0\n",
    "    # n = n_dw.dot(n_dw.T).trace()\n",
    "    return np.exp(-1/dot_trace(n_dw, n_dw.T)*dot_trace(n_dw, logZ))"
   ]
  },
  {
   "cell_type": "code",
   "execution_count": 328,
   "metadata": {
    "collapsed": true
   },
   "outputs": [],
   "source": [
    "def divide_by_zero(a, b):\n",
    "    return np.divide(a, b, out=np.zeros_like(a), where=b != 0)"
   ]
  },
  {
   "cell_type": "code",
   "execution_count": 331,
   "metadata": {
    "scrolled": false
   },
   "outputs": [],
   "source": [
    "def train(T=5, max_iter=50):\n",
    "    D, W = vectors.shape\n",
    "\n",
    "    phi = np.random.rand(W, T)\n",
    "    phi = phi/phi.sum(axis=0)\n",
    "\n",
    "    theta = np.random.rand(T, D)\n",
    "    theta = theta/theta.sum(axis=0)\n",
    "\n",
    "    n_dw = vectors.toarray()\n",
    "    n_d = vectors.sum(axis=1)\n",
    "\n",
    "    perplexities = []\n",
    "    for _ in tqdm(range(max_iter)):\n",
    "        n_wt = np.zeros((W, T))\n",
    "        Z = phi.dot(theta)\n",
    "        for d in range(D):\n",
    "            p_tdw = divide_by_zero((phi*theta[:, d]).T, Z[:, d])\n",
    "            theta[:, d] = divide_by_zero((p_tdw*n_dw[d]).sum(axis=1), n_d[d][0,0])\n",
    "            n_wt += (p_tdw*n_dw[d]).T\n",
    "        phi = divide_by_zero(n_wt, n_wt.sum(axis=0))\n",
    "        perplexities.append(perplexity(n_dw, phi.dot(theta)))\n",
    "    \n",
    "    plt.plot(perplexities)\n",
    "    plt.xlabel('n_iter')\n",
    "    plt.ylabel('perplexity')\n",
    "    plt.show()\n",
    "    \n",
    "    return phi, theta"
   ]
  },
  {
   "cell_type": "code",
   "execution_count": 332,
   "metadata": {},
   "outputs": [
    {
     "data": {
      "application/vnd.jupyter.widget-view+json": {
       "model_id": "4c5e5acdef444aaf8267609f9889d02d",
       "version_major": 2,
       "version_minor": 0
      },
      "text/plain": [
       "A Jupyter Widget"
      ]
     },
     "metadata": {},
     "output_type": "display_data"
    },
    {
     "name": "stderr",
     "output_type": "stream",
     "text": [
      "C:\\anaconda3\\lib\\site-packages\\ipykernel_launcher.py:8: RuntimeWarning: divide by zero encountered in log\n",
      "  \n"
     ]
    },
    {
     "data": {
      "image/png": "[encoded data removed]",
      "text/plain": [
       "<matplotlib.figure.Figure at 0x22981653908>"
      ]
     },
     "metadata": {},
     "output_type": "display_data"
    }
   ],
   "source": [
    "T = 5\n",
    "phi, theta = train(T)"
   ]
  },
  {
   "cell_type": "code",
   "execution_count": 333,
   "metadata": {
    "scrolled": true
   },
   "outputs": [
    {
     "name": "stdout",
     "output_type": "stream",
     "text": [
      "0 ['cdm', 'friday', 'let', 'thx', 'mills', 'abedin', 'monday', 'print', 'pls', 'email', 'talk', 'sent', 'fw', 'huma', 're', 'b6', 'tomorrow', 'cheryl', 'ok', 'im']\n",
      "1 ['fm', 'assistant', '845', 'floor', 'briefing', '830', 'minister', 'airport', 'washington', 'white', 'daily', 'route', 'arrive', 'conference', 'press', 'residence', 'depart', 'private', 'en', 'staff']\n",
      "2 ['economic', 'development', 'public', 'even', 'between', 'global', 'years', 'many', 'war', 'afghan', 'china', 'international', 'israel', 'israeli', 'peace', 'women', 'administration', 'world', 'afghanistan', 'military']\n",
      "3 ['statement', 'produced', '05132015', 'waiver', 'select', 'redactions', 'iran', 'doc', 'foia', 'comm', 'libya', 'f201504841', 'dept', 'case', 'benghazi', 'subject', 'agreement', 'sensitive', 'date', 'information']\n",
      "4 ['campaign', 'against', 'even', 'voters', 'democrats', 'obamas', 'democratic', 'election', 'former', 'percent', 'republicans', 'party', 'health', 'care', 'republican', 'vote', 'white', 'says', 'bill', 'senate']\n"
     ]
    }
   ],
   "source": [
    "names = vectorizer.get_feature_names()\n",
    "n = 20\n",
    "for t in range(T):\n",
    "    print(t, list(map(lambda i: names[i], np.argpartition(phi[:, t], -n)[-n:])))"
   ]
  },
  {
   "cell_type": "markdown",
   "metadata": {},
   "source": [
    "**Задание 6. (1 балл)** Рассмотрите большее число тем (10, 20) и несколько различных начальных приближений. Проанализируйте результаты и ответьте на следующие вопросы: \n",
    "- Mожно ли сказать, что конкретность каждой темы изменяется с ростом их числа?\n",
    "- Устойчив ли алгоритм к начальному приближению на примере идентичности топовых слов в соответствующих темах?\n",
    "- Отражает ли перплексия качество получаемых моделей? В чём заключается причина хорошего/плохого соответствия?"
   ]
  },
  {
   "cell_type": "code",
   "execution_count": 334,
   "metadata": {},
   "outputs": [
    {
     "data": {
      "application/vnd.jupyter.widget-view+json": {
       "model_id": "fe258d1d075a4ab1800b37d4717951d5",
       "version_major": 2,
       "version_minor": 0
      },
      "text/plain": [
       "A Jupyter Widget"
      ]
     },
     "metadata": {},
     "output_type": "display_data"
    },
    {
     "name": "stderr",
     "output_type": "stream",
     "text": [
      "C:\\anaconda3\\lib\\site-packages\\ipykernel_launcher.py:8: RuntimeWarning: divide by zero encountered in log\n",
      "  \n"
     ]
    },
    {
     "data": {
      "image/png": "[encoded data removed]",
      "text/plain": [
       "<matplotlib.figure.Figure at 0x229815cd7b8>"
      ]
     },
     "metadata": {},
     "output_type": "display_data"
    }
   ],
   "source": [
    "T = 10\n",
    "phi, theta = train(T)"
   ]
  },
  {
   "cell_type": "code",
   "execution_count": 335,
   "metadata": {},
   "outputs": [
    {
     "name": "stdout",
     "output_type": "stream",
     "text": [
      "0 ['sunday', 'draft', 'hillary', 'hrod17clintonemailcom', 'thank', 'message', 'let', 'send', 'please', 'best', 'monday', 'tomorrow', 'yes', 're', 'thanks', 'b6', 'email', 'below', 'cdm', 'haiti']\n",
      "1 ['world', 'media', 'valmoro', 'washington', 'european', 'international', 'administration', 'china', 'issues', 'military', 'special', 'press', '202', 'national', 'strategic', 'nuclear', 'officials', 'diplomacy', 'assistant', 'iran']\n",
      "2 ['wjc', 'f201504841', '05132015', 'un', 'libya', 'foia', 'redactions', 'waiver', 'select', 'produced', 'doc', 'subject', 'case', 'dept', 'agreement', 'information', 'comm', 'sensitive', 'benghazi', 'date']\n",
      "3 ['arab', 'times', 'against', 'palestinian', 'leader', 'labour', 'minister', 'deal', 'republican', 'vote', 'election', 'netanyahu', 'between', 'israel', 'senate', 'israeli', 'jewish', 'party', 'peace', 'democrats']\n",
      "4 ['holbrooke', 'taliban', 'war', 'millscdstategov', 'mills', 'general', 'fw', 'mcchrystal', 'afghan', 'afghanistan', 'abedin', 'military', 'huma', 'pis', 'thursday', 'pls', 'print', 'sullivan', 'cheryl', 'jacob']\n",
      "5 ['say', 'here', 'year', 'right', 'those', 'women', 'then', 'where', 'too', 'public', 'obamas', 'way', 'years', 'even', 'dont', 'says', 'because', 'white', 'much', 'many']\n",
      "6 ['campaign', 'national', 'david', 'movement', 'conservative', 'groups', 'americans', 'called', 'party', 'part', 'during', 'told', 'against', 'republican', 'million', 'group', 'koch', 'b6', 'beck', 'tea']\n",
      "7 ['yet', 'tonight', 'ill', '10', 'before', 'come', 'go', '12', 'great', 'heard', '31', '14d', 'called', 'thx', 'tomorrow', 'percent', 'sent', 'talk', 'sure', 'im']\n",
      "8 ['washington', '1000', 'press', 'briefing', 'minister', '915', 'floor', 'daily', 'private', '830', 'conference', 'airport', 'en', 'white', 'arrive', 'staff', 'residence', '845', 'depart', 'route']\n",
      "9 ['global', 'issue', 'help', 'statement', 'both', 'countries', 'women', 'human', 'ok', 'must', 'working', 'forward', 'peace', 'world', 'rights', 'development', 'many', 'international', 'where', 'make']\n"
     ]
    }
   ],
   "source": [
    "for t in range(T):\n",
    "    print(t, list(map(lambda i: names[i], np.argpartition(phi[:, t], -n)[-n:])))"
   ]
  },
  {
   "cell_type": "code",
   "execution_count": 336,
   "metadata": {},
   "outputs": [
    {
     "data": {
      "application/vnd.jupyter.widget-view+json": {
       "model_id": "bc6685f40a97478e8141d02f34501bbb",
       "version_major": 2,
       "version_minor": 0
      },
      "text/plain": [
       "A Jupyter Widget"
      ]
     },
     "metadata": {},
     "output_type": "display_data"
    },
    {
     "name": "stderr",
     "output_type": "stream",
     "text": [
      "C:\\anaconda3\\lib\\site-packages\\ipykernel_launcher.py:8: RuntimeWarning: divide by zero encountered in log\n",
      "  \n"
     ]
    },
    {
     "data": {
      "image/png": "[encoded data removed]",
      "text/plain": [
       "<matplotlib.figure.Figure at 0x22981c5d0b8>"
      ]
     },
     "metadata": {},
     "output_type": "display_data"
    }
   ],
   "source": [
    "T = 20\n",
    "phi, theta = train(T)"
   ]
  },
  {
   "cell_type": "code",
   "execution_count": 337,
   "metadata": {},
   "outputs": [
    {
     "name": "stdout",
     "output_type": "stream",
     "text": [
      "0 ['dinner', 'best', 'getting', 'tomorrow', 'check', 'forward', 'add', 'sure', 'sorry', 'im', 'ill', 'message', 'email', 'id', 'pls', 'haiti', 'list', 'hope', 'thx', 'happy']\n",
      "1 ['because', 'senators', 'democrats', 'former', 'another', 'chief', 'bill', 'republican', 'white', 'republicans', 'clintons', 'washington', 'staff', 'administration', 'vote', 'hillary', 'obamas', 'say', 'senate', 'senator']\n",
      "2 ['troops', 'white', 'minister', 'general', 'justice', 'afghanistan', 'party', 'uup', 'mcchrystal', 'deal', 'agreement', 'robinson', 'vote', 'says', 'official', 'northern', 'cameron', 'military', 'war', 'ireland']\n",
      "3 ['federal', 'public', 'voters', 'during', 'national', 'democrats', 'group', 'obamas', 'right', 'beck', 'republicans', 'movement', 'democratic', 'campaign', 'john', 'tea', 'republican', 'boehner', 'party', 'conservative']\n",
      "4 ['10', 'eu', 'discussed', 'others', 'go', 'speech', 'week', 'trip', 'meet', 'going', 'next', 'issues', 'discuss', 'morning', 'draft', 'issue', 'come', 'still', 'before', 'questions']\n",
      "5 ['between', 'national', 'india', 'economic', 'global', 'both', 'countries', 'public', 'officials', 'china', 'international', 'diplomacy', 'chinese', 'iran', 'efforts', 'development', 'world', 'power', 'nuclear', 'strategy']\n",
      "6 ['war', 'coalition', 'times', 'seems', 'israeli', 'much', 'israel', 'iran', 'military', 'because', 'own', 'years', 'administration', 'media', 'against', 'right', 'many', 'says', 'world', 'even']\n",
      "7 ['kochs', 'bank', 'talks', 'middle', 'settlement', 'israelis', 'arab', 'israels', 'palestinians', 'east', 'jerusalem', 'israel', 'koch', 'israeli', 'ok', 'netanyahu', 'peace', 'jewish', 'david', 'palestinian']\n",
      "8 ['hes', 'note', 'called', '14d', 'contact', 'blackberry', 'best', 'again', 'thank', 'email', 'cdm', 'im', 'got', 'let', 'lauren', 'ops', 'home', 'please', 'sent', 'thanks']\n",
      "9 ['candidates', '21', '35', '33', 'republicans', '30', 'approval', '13', '14', 'unfavorable', 'vote', 'republican', 'enough', 'favorable', 'poll', 'voters', '10', 'percent', '31', 'democrats']\n",
      "10 ['direct', 'send', 'really', 'special', 'says', 'because', 'sure', 'great', 'too', 'im', 'here', 'way', 'why', 'tell', 'dont', 'going', 'down', 'lona', 'make', 'thats']\n",
      "11 ['david', 'per', 'sid', 'brown', 'release', 'statement', 'points', 'times', 'gordon', 'part', 'talk', 'b6', 'election', 'tomorrow', 'labour', 'blair', 'before', 'tories', 'news', 'party']\n",
      "12 ['officials', 'says', 'development', 'many', 'agriculture', 'foundation', 'dr', 'wjc', 'women', 'conflict', 'food', 'director', 'eikenberry', 'holbrooke', 'while', 'where', 'education', 'branch', 'gore', 'through']\n",
      "13 ['rice', 'violence', 'libya', 'f201504841', 'foia', '05132015', 'redactions', 'comm', 'subject', 'waiver', 'date', 'information', 'produced', 'doc', 'sensitive', 'select', 'agreement', 'case', 'dept', 'benghazi']\n",
      "14 ['tuesday', 'jacob', 'below', 'thursday', 'hrod17clintonemailcom', 'millscdstategov', 'wednesday', 'mills', 'b6', 'abedin', 'friday', 'monday', 'cheryl', 'hrc', 'huma', 'saturday', 're', 'sunday', 'fw', 'sullivan']\n",
      "15 ['report', 'eg', 'iranian', 'food', 'help', 'local', 'including', 'etc', 'bloomberg', 'committee', 'prince', 'haiti', 'iran', 'plan', 'already', 'settlements', 'un', 'haitian', 'though', 'least']\n",
      "16 ['council', 'south', 'those', 'army', 'taliban', 'print', 'korea', 'military', 'leaders', 'minister', 'pakistan', 'forces', 'pakistani', 'while', 'north', 'war', 'against', 'european', 'country', 'afghanistan']\n",
      "17 ['treaty', '1000', '915', 'minister', 'white', 'floor', '845', '830', 'residence', 'conference', 'daily', 'fm', 'airport', 'yes', 'staff', 'private', 'depart', 'en', 'arrive', 'route']\n",
      "18 ['health', 'years', 'taliban', 'melanne', 'kabul', 'conference', 'issues', 'many', 'issue', 'dc', 'karzai', 'general', 'fax', 'afghanistan', 'washington', 'petraeus', 'ambassador', 'women', 'womens', 'afghan']\n",
      "19 ['many', 'take', '2005', 'much', 'presidential', 'ahmadinejad', 'percent', 'election', 'palau', 'even', 'too', 'year', 'economic', 'care', 'economy', 'health', 'likely', 'spending', 'because', 'jobs']\n"
     ]
    }
   ],
   "source": [
    "for t in range(T):\n",
    "    print(t, list(map(lambda i: names[i], np.argpartition(phi[:, t], -n)[-n:])))"
   ]
  },
  {
   "cell_type": "markdown",
   "metadata": {},
   "source": [
    "С ростом числа тем в них появляются общие слова (например, `too`, `year`, `too`, `where`, `then`, etc), поэтому конкретность  снижается"
   ]
  },
  {
   "cell_type": "code",
   "execution_count": 338,
   "metadata": {},
   "outputs": [
    {
     "data": {
      "application/vnd.jupyter.widget-view+json": {
       "model_id": "06eaaf7cf2d24f6dbea929563cded526",
       "version_major": 2,
       "version_minor": 0
      },
      "text/plain": [
       "A Jupyter Widget"
      ]
     },
     "metadata": {},
     "output_type": "display_data"
    },
    {
     "name": "stderr",
     "output_type": "stream",
     "text": [
      "C:\\anaconda3\\lib\\site-packages\\ipykernel_launcher.py:8: RuntimeWarning: divide by zero encountered in log\n",
      "  \n"
     ]
    },
    {
     "data": {
      "image/png": "[encoded data removed]",
      "text/plain": [
       "<matplotlib.figure.Figure at 0x22981e4d898>"
      ]
     },
     "metadata": {},
     "output_type": "display_data"
    }
   ],
   "source": [
    "T = 5\n",
    "phi, theta = train(T)"
   ]
  },
  {
   "cell_type": "code",
   "execution_count": 339,
   "metadata": {},
   "outputs": [
    {
     "name": "stdout",
     "output_type": "stream",
     "text": [
      "0 ['email', 'thursday', 'saturday', 'sunday', 'im', 'cheryl', 'mills', 'thx', 'tomorrow', 'monday', 'pls', 'huma', 'b6', 'hrod17clintonemailcom', 'sent', 'fw', 'friday', 're', 'abedin', 'print']\n",
      "1 ['working', 'thank', 'world', 'f201504841', '05132015', 'foia', 'redactions', 'select', 'date', 'doc', 'produced', 'comm', 'case', 'information', 'benghazi', 'sensitive', 'waiver', 'dept', 'subject', 'agreement']\n",
      "2 ['among', 'while', 'national', 'afghan', 'mcchrystal', 'republican', 'americans', 'former', 'voters', 'obamas', 'general', 'against', 'party', 'military', 'war', 'david', 'afghanistan', 'election', 'ok', 'percent']\n",
      "3 ['nuclear', 'east', 'washington', 'diplomacy', 'conference', 'international', 'residence', 'daily', 'israel', 'israeli', 'peace', 'depart', 'route', 'minister', 'private', 'staff', 'arrive', 'national', 'un', 'en']\n",
      "4 ['take', 'says', 'health', 'too', 'go', 'china', 'years', 'year', 'going', 'senate', 'women', 'then', 'make', 'bill', 'because', 'even', 'many', 'much', 'dont', 'way']\n"
     ]
    }
   ],
   "source": [
    "for t in range(T):\n",
    "    print(t, list(map(lambda i: names[i], np.argpartition(phi[:, t], -n)[-n:])))"
   ]
  },
  {
   "cell_type": "code",
   "execution_count": 340,
   "metadata": {},
   "outputs": [
    {
     "data": {
      "application/vnd.jupyter.widget-view+json": {
       "model_id": "dd7c206db8b44b72a1ad50eeaa73031d",
       "version_major": 2,
       "version_minor": 0
      },
      "text/plain": [
       "A Jupyter Widget"
      ]
     },
     "metadata": {},
     "output_type": "display_data"
    },
    {
     "name": "stderr",
     "output_type": "stream",
     "text": [
      "C:\\anaconda3\\lib\\site-packages\\ipykernel_launcher.py:8: RuntimeWarning: divide by zero encountered in log\n",
      "  \n"
     ]
    },
    {
     "data": {
      "image/png": "[encoded data removed]",
      "text/plain": [
       "<matplotlib.figure.Figure at 0x22980580630>"
      ]
     },
     "metadata": {},
     "output_type": "display_data"
    }
   ],
   "source": [
    "phi, theta = train(T)"
   ]
  },
  {
   "cell_type": "code",
   "execution_count": 341,
   "metadata": {},
   "outputs": [
    {
     "name": "stdout",
     "output_type": "stream",
     "text": [
      "0 ['reform', 'bill', 'care', 'health', 'voters', 'election', 'democrats', 'democratic', 'former', 'vote', 'campaign', 'congress', 'americans', 'republicans', 'percent', 'white', 'obamas', 'republican', 'senate', 'party']\n",
      "1 ['here', 'hope', 'week', 'thanks', 'next', 'go', 'great', 'afghan', 'working', 'way', 'best', 'dont', 'make', 'thx', 'im', 'going', 'let', 'afghanistan', 'tomorrow', 'much']\n",
      "2 ['floor', 'minister', 'white', 'washington', 'release', 'route', 'arrive', 'conference', 'talk', 'residence', 'daily', 'depart', 'fm', 'email', 'b6', 'private', 'en', 'airport', 'staff', 'press']\n",
      "3 ['comm', 'where', 'because', 'economic', 'doc', 'dept', 'select', 'produced', 'case', 'china', 'many', 'benghazi', 'date', 'world', 'subject', 'information', 'agreement', 'women', 'international', 'sensitive']\n",
      "4 ['david', 'mcchrystal', 'ok', 'huma', 'saturday', 'sid', 'friday', 'abedin', 'mills', 'sunday', 'iran', 'minister', 'cheryl', 'peace', 'wednesday', 'hrod17clintonemailcom', 'israeli', 're', 'israel', 'fw']\n"
     ]
    }
   ],
   "source": [
    "for t in range(T):\n",
    "    print(t, list(map(lambda i: names[i], np.argpartition(phi[:, t], -n)[-n:])))"
   ]
  },
  {
   "cell_type": "markdown",
   "metadata": {},
   "source": [
    "При нескольких запусках с разными начальными приближениями темы могут меняться местами, но набор слов в темах остается схожий "
   ]
  },
  {
   "cell_type": "markdown",
   "metadata": {},
   "source": [
    "### Модель LDA и визуализация\n",
    "\n",
    "Модель [LDA](https://en.wikipedia.org/wiki/Latent_Dirichlet_allocation) является наиболее популярной тематической моделью. Единственное отличие от модели PLSA заключается в введении априорных распределений Дирихле на столбцы матриц $\\Phi$ и $\\Theta$, которое может способствовать дополнительному сглаживанию или разреживанию параметров.\n",
    "\n",
    "В этом задании предлагается воспользоваться [стандартной реализацией LDA в sklearn](http://scikit-learn.org/stable/modules/generated/sklearn.decomposition.LatentDirichletAllocation.html) и реализацией модели [LdaModel в gensim](https://radimrehurek.com/gensim/models/ldamodel.html), обучение которых основано на вариационном байесовском выводе.\n",
    "\n",
    "Выполнение задания потребует установки пакета [gensim](https://radimrehurek.com/gensim/install.html)."
   ]
  },
  {
   "cell_type": "markdown",
   "metadata": {},
   "source": []
  },
  {
   "cell_type": "markdown",
   "metadata": {},
   "source": [
    "Подготовьте данные в формате, подходящем для *gensim* (полное [API](https://radimrehurek.com/gensim/apiref.html) gensim). [Пример обработки вывода](https://gist.github.com/aronwc/8248457) *CountVectorizer* для gensim."
   ]
  },
  {
   "cell_type": "code",
   "execution_count": null,
   "metadata": {
    "collapsed": true
   },
   "outputs": [],
   "source": []
  },
  {
   "cell_type": "markdown",
   "metadata": {},
   "source": [
    "**Задание 7. (1.5 балла)** Примените [LdaModel gensim](https://radimrehurek.com/gensim/models/ldamodel.html) к подготовленным данным (рекомендуется задать заведомо большое число итераций в параметре *passes*, например, 30). \n",
    "Примените [LdaModel sklearn](http://scikit-learn.org/stable/modules/generated/sklearn.decomposition.LatentDirichletAllocation.html#sklearn.decomposition.LatentDirichletAllocation). Необходимо задать *learning_method='online'*. Основными настраиваемыми параметрами являются *learning_decay*, *max_iter* и *batch_size*.  Рекомендуется настроить алгоритм по сетке параметров, например, оптимизируя перплексию (кстати, у класса *sklearn.decomposition.LatentDirichletAllocation* есть метод *perplexity*).  Для простоты допускается зафиксировать параметр *learning_decay* в промежутке $(0.5; 1)$, зафиксировать параметр max_iter в промежутке $[30; 60]$ и перебрать несколько значений параметра *batch_size* по логарифмической шкале (например, степени двойки)."
   ]
  },
  {
   "cell_type": "code",
   "execution_count": null,
   "metadata": {
    "collapsed": true
   },
   "outputs": [],
   "source": []
  },
  {
   "cell_type": "markdown",
   "metadata": {},
   "source": [
    "Визуально сравните полученные темы по топ-20 наиболее вероятным словам у обоих алгоритмов между собой и с темами, полученными выше вашей реализацией ЕМ-алгоритма (нерегуляризованного). Какая из моделей даёт более интерпретируемые темы и почему?"
   ]
  },
  {
   "cell_type": "code",
   "execution_count": null,
   "metadata": {
    "collapsed": true
   },
   "outputs": [],
   "source": []
  }
 ],
 "metadata": {
  "kernelspec": {
   "display_name": "Python 3",
   "language": "python",
   "name": "python3"
  },
  "language_info": {
   "codemirror_mode": {
    "name": "ipython",
    "version": 3
   },
   "file_extension": ".py",
   "mimetype": "text/x-python",
   "name": "python",
   "nbconvert_exporter": "python",
   "pygments_lexer": "ipython3",
   "version": "3.6.3"
  }
 },
 "nbformat": 4,
 "nbformat_minor": 1
}
