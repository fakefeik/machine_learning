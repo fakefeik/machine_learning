{
 "cells": [
  {
   "cell_type": "markdown",
   "metadata": {},
   "source": [
    "## Лабораторная работа 2. Введение в машинное обучение.\n",
    "\n",
    "![](https://newapplift-production.s3.amazonaws.com/comfy/cms/files/files/000/001/201/original/machine-learning-robots-dilbert.gif)\n",
    "\n",
    "Результат лабораторной работы − отчет. Мы предпочитаем принимать отчеты в формате ноутбуков IPython (ipynb-файл). Постарайтесь сделать ваш отчет интересным рассказом, последовательно отвечающим на вопросы из заданий. Помимо ответов на вопросы, в отчете так же должен быть код, однако чем меньше кода, тем лучше всем: нам − меньше проверять, вам — проще найти ошибку или дополнить эксперимент. При проверке оценивается четкость ответов на вопросы, аккуратность отчета и кода.\n",
    "\n",
    "\n",
    "### Оценивание и штрафы\n",
    "Каждая из задач имеет определенную «стоимость» (указана в скобках около задачи). Максимально допустимая оценка за работу — 5 баллов. Сдавать задание после указанного срока сдачи нельзя. «Похожие» решения считаются плагиатом и все задействованные студенты (в том числе те, у кого списали) не могут получить за него больше 0 баллов и понижают карму. Если вы нашли решение какого-то из заданий в открытом источнике, необходимо прислать ссылку на этот источник (скорее всего вы будете не единственным, кто это нашел, поэтому чтобы исключить подозрение в плагиате, нам необходима ссылка на источник).\n",
    "\n",
    "### Правила сдачи\n",
    "Выполненную работу следует отправить в систему Anytask."
   ]
  },
  {
   "cell_type": "markdown",
   "metadata": {},
   "source": [
    "### Метрика качества\n",
    "\n",
    "Обучение и оценка качества модели производится на независимых множествах примеров. Как правило, имеющующиеся примеры разбивают на два подмножества: обучение (train) и тест (test). Выбор пропорции разбиения — компромисс. Действительно, большой размер обучения ведет к более качественным алгоритмам, но бОльшему шуму в оценке модели на тесте. И наоборот, большой размер тестовой выборки ведет к менее шумной оценке качества, однако модели получаются менее точными.\n",
    "\n",
    "Многие модели классификации получают оценку принадлежности положительному классу $\\tilde{y}(x) \\in R$ (например, вероятность принадлежности классу 1). Затем принимают решение о классе объекта путем сравнения оценки с некоторым порогом $\\theta$:\n",
    "\n",
    "$$y(x) = \n",
    "\\begin{cases}\n",
    "+1, &\\text{если} \\; \\tilde{y}(x) \\geq \\theta \\\\\n",
    "-1, &\\text{если} \\; \\tilde{y}(x) < \\theta\n",
    "\\end{cases}\n",
    "$$\n",
    "\n",
    "В этом случае можно рассматривать метрики, которые умеют работать с исходным ответом классификатора. В задании мы будем работать с метрикой AUC-ROC, которую в данном случае можно считать как долю неправильно упорядоченных пар объектов, отсортированных по возрастанию предсказанной оценки принадлежности классу 1 (более подробно можно узнать на следующих лекциях или, например, [здесь](https://github.com/esokolov/ml-course-msu/blob/master/ML15/lecture-notes/Sem05_metrics.pdf)). Детального понимания принципов работы метрики AUC-ROC для выполнения лабораторной не требуется."
   ]
  },
  {
   "cell_type": "markdown",
   "metadata": {},
   "source": [
    "### Подбор гиперпараметров модели\n",
    "\n",
    "В задачах машинного обучения следует различать параметры модели и гиперпараметры (структурные параметры). Обычно параметры модели настраиваются в ходе обучения (например, веса в линейной модели или структура решающего дерева), в то время как гиперпараметры задаются заранее (например, регуляризация в линейной модели или максимальная глубина решающего дерева). Каждая модель обычно имеет множество гиперпараметров и нет универсальных наборов гиперпараметров, оптимально работающих во всех задачах, для каждой задачи нужно подбирать свой набор.\n",
    "\n",
    "Для оптимизации гиперпараметров модели часто используют _перебор по сетке (grid search)_: для каждого гиперпараметра выбирается несколько значений, перебираются все комбинации значений и выбирается комбинация, на которой модель показывает лучшее качество (с точки зрения метрики, которая оптимизируется). Однако в этом случае нужно грамотно оценивать построенную модель, а именно делать разбиение на обучающую и тестовую выборку. Есть несколько схем, как это можно реализовать: \n",
    "\n",
    " - Разбить имеющуюся выборку на обучающую и тестовую. В этом случае сравнение большого числа моделей при переборе гиперпараметров приводит к ситуации, когда лучшая на тестовой подвыборке модель не сохраняет свои качества на новых данных. Можно сказать, что происходит _переобучение_ на тестовую выборку.\n",
    " - Для устранения описанной выше проблемы, можно разбить данные на 3 непересекающихся подвыборки: обучение (`train`), валидация (`validation`) и тест (`test`). Валидационную подвыборку используют для сравнения моделей, а `test` — для окончательной оценки качества и сравнения семейств моделей с подобранными гиперпараметрами.\n",
    " - Другой способ сравнения моделей — [кросс-валидация](http://bit.ly/1CHXsNH) . Существуют различные схемы кросс-валидации:\n",
    "  - Leave-One-Out\n",
    "  - K-Fold\n",
    "  - Многократное случайное разбиение выборки\n",
    "  \n",
    "Кросс-валидация вычислительно затратна, особенно если вы делаете перебор по сетке с очень большим числом комбинации. С учетом конечности времени на выполнение задания, возникает ряд компромиссов: \n",
    "  - сетку гиперпараметров можно делать более разреженной, перебирая меньше значений каждого гиперпараметра; однако, надо не забывать, что в таком случае можно пропустить хорошую комбинацию гиперпараметров;\n",
    "  - кросс-валидацию можно делать с меньшим числом разбиений или фолдов, но в таком случае оценка качества кросс-валидации становится более шумной и увеличивается риск выбрать неоптимальный набор гиперпараметров из-за случайности разбиения;\n",
    "  - гиперпараметры можно оптимизировать последовательно (жадно) — один за другим, а не перебирать все комбинации; такая стратегия не всегда приводит к оптимальному набору;\n",
    "  - перебирать не все комбинации гиперпараметров, а небольшое число случайно выбранных."
   ]
  },
  {
   "cell_type": "markdown",
   "metadata": {},
   "source": [
    "### Задание"
   ]
  },
  {
   "cell_type": "markdown",
   "metadata": {},
   "source": [
    "В этой лабораторной работе мы научимся обучать модели машинного обучения, корректно ставить эксперименты, подбирать гиперпараметры, сравнивать и смешивать модели. Вам предлагается решить задачу бинарной классификации, а именно построить алгоритм, определяющий превысит ли средний заработок человека порог $50k. Каждый объект выборки — человек, для которого известны следующие признаки:\n",
    " - age\n",
    " - workclass\n",
    " - fnlwgt\n",
    " - education\n",
    " - education-num\n",
    " - marital-status\n",
    " - occupation\n",
    " - relationship\n",
    " - race\n",
    " - sex\n",
    " - capital-gain\n",
    " - capital-loss\n",
    " - hours-per-week\n",
    " \n",
    "Более подробно про признаки можно почитать [здесь](http://archive.ics.uci.edu/ml/machine-learning-databases/adult/adult.names). Целевой признак записан в переменной *>50K,<=50K*."
   ]
  },
  {
   "cell_type": "markdown",
   "metadata": {},
   "source": [
    "Загрузите набор данных *data.adult.csv*. Чтобы лучше понимать, с чем вы работаете/корректно ли вы загрузили данные можно вывести несколько первых строк на экран."
   ]
  },
  {
   "cell_type": "code",
   "execution_count": 1,
   "metadata": {},
   "outputs": [
    {
     "data": {
      "text/html": [
       "<div>\n",
       "<style>\n",
       "    .dataframe thead tr:only-child th {\n",
       "        text-align: right;\n",
       "    }\n",
       "\n",
       "    .dataframe thead th {\n",
       "        text-align: left;\n",
       "    }\n",
       "\n",
       "    .dataframe tbody tr th {\n",
       "        vertical-align: top;\n",
       "    }\n",
       "</style>\n",
       "<table border=\"1\" class=\"dataframe\">\n",
       "  <thead>\n",
       "    <tr style=\"text-align: right;\">\n",
       "      <th></th>\n",
       "      <th>age</th>\n",
       "      <th>workclass</th>\n",
       "      <th>fnlwgt</th>\n",
       "      <th>education</th>\n",
       "      <th>education-num</th>\n",
       "      <th>marital-status</th>\n",
       "      <th>occupation</th>\n",
       "      <th>relationship</th>\n",
       "      <th>race</th>\n",
       "      <th>sex</th>\n",
       "      <th>capital-gain</th>\n",
       "      <th>capital-loss</th>\n",
       "      <th>hours-per-week</th>\n",
       "      <th>&gt;50K,&lt;=50K</th>\n",
       "    </tr>\n",
       "  </thead>\n",
       "  <tbody>\n",
       "    <tr>\n",
       "      <th>0</th>\n",
       "      <td>34</td>\n",
       "      <td>Local-gov</td>\n",
       "      <td>284843</td>\n",
       "      <td>HS-grad</td>\n",
       "      <td>9</td>\n",
       "      <td>Never-married</td>\n",
       "      <td>Farming-fishing</td>\n",
       "      <td>Not-in-family</td>\n",
       "      <td>Black</td>\n",
       "      <td>Male</td>\n",
       "      <td>594</td>\n",
       "      <td>0</td>\n",
       "      <td>60</td>\n",
       "      <td>&lt;=50K</td>\n",
       "    </tr>\n",
       "    <tr>\n",
       "      <th>1</th>\n",
       "      <td>40</td>\n",
       "      <td>Private</td>\n",
       "      <td>190290</td>\n",
       "      <td>Some-college</td>\n",
       "      <td>10</td>\n",
       "      <td>Divorced</td>\n",
       "      <td>Sales</td>\n",
       "      <td>Not-in-family</td>\n",
       "      <td>White</td>\n",
       "      <td>Male</td>\n",
       "      <td>0</td>\n",
       "      <td>0</td>\n",
       "      <td>40</td>\n",
       "      <td>&lt;=50K</td>\n",
       "    </tr>\n",
       "    <tr>\n",
       "      <th>2</th>\n",
       "      <td>36</td>\n",
       "      <td>Local-gov</td>\n",
       "      <td>177858</td>\n",
       "      <td>Bachelors</td>\n",
       "      <td>13</td>\n",
       "      <td>Married-civ-spouse</td>\n",
       "      <td>Prof-specialty</td>\n",
       "      <td>Own-child</td>\n",
       "      <td>White</td>\n",
       "      <td>Male</td>\n",
       "      <td>0</td>\n",
       "      <td>0</td>\n",
       "      <td>40</td>\n",
       "      <td>&lt;=50K</td>\n",
       "    </tr>\n",
       "    <tr>\n",
       "      <th>3</th>\n",
       "      <td>22</td>\n",
       "      <td>Private</td>\n",
       "      <td>184756</td>\n",
       "      <td>Some-college</td>\n",
       "      <td>10</td>\n",
       "      <td>Never-married</td>\n",
       "      <td>Sales</td>\n",
       "      <td>Own-child</td>\n",
       "      <td>White</td>\n",
       "      <td>Female</td>\n",
       "      <td>0</td>\n",
       "      <td>0</td>\n",
       "      <td>30</td>\n",
       "      <td>&lt;=50K</td>\n",
       "    </tr>\n",
       "    <tr>\n",
       "      <th>4</th>\n",
       "      <td>47</td>\n",
       "      <td>Private</td>\n",
       "      <td>149700</td>\n",
       "      <td>Bachelors</td>\n",
       "      <td>13</td>\n",
       "      <td>Married-civ-spouse</td>\n",
       "      <td>Tech-support</td>\n",
       "      <td>Husband</td>\n",
       "      <td>White</td>\n",
       "      <td>Male</td>\n",
       "      <td>15024</td>\n",
       "      <td>0</td>\n",
       "      <td>40</td>\n",
       "      <td>&gt;50K</td>\n",
       "    </tr>\n",
       "  </tbody>\n",
       "</table>\n",
       "</div>"
      ],
      "text/plain": [
       "   age  workclass  fnlwgt     education  education-num      marital-status  \\\n",
       "0   34  Local-gov  284843       HS-grad              9       Never-married   \n",
       "1   40    Private  190290  Some-college             10            Divorced   \n",
       "2   36  Local-gov  177858     Bachelors             13  Married-civ-spouse   \n",
       "3   22    Private  184756  Some-college             10       Never-married   \n",
       "4   47    Private  149700     Bachelors             13  Married-civ-spouse   \n",
       "\n",
       "        occupation   relationship   race     sex  capital-gain  capital-loss  \\\n",
       "0  Farming-fishing  Not-in-family  Black    Male           594             0   \n",
       "1            Sales  Not-in-family  White    Male             0             0   \n",
       "2   Prof-specialty      Own-child  White    Male             0             0   \n",
       "3            Sales      Own-child  White  Female             0             0   \n",
       "4     Tech-support        Husband  White    Male         15024             0   \n",
       "\n",
       "   hours-per-week >50K,<=50K  \n",
       "0              60      <=50K  \n",
       "1              40      <=50K  \n",
       "2              40      <=50K  \n",
       "3              30      <=50K  \n",
       "4              40       >50K  "
      ]
     },
     "execution_count": 1,
     "metadata": {},
     "output_type": "execute_result"
    }
   ],
   "source": [
    "import numpy as np\n",
    "import pandas as pd\n",
    "import seaborn as sns\n",
    "import matplotlib.pyplot as plt\n",
    "\n",
    "from sklearn.tree import DecisionTreeClassifier\n",
    "from sklearn.base import BaseEstimator, ClassifierMixin\n",
    "from sklearn.metrics import roc_auc_score\n",
    "from sklearn.ensemble import RandomForestClassifier\n",
    "from sklearn.neighbors import KNeighborsClassifier\n",
    "from sklearn.linear_model import SGDClassifier\n",
    "from sklearn.preprocessing import StandardScaler, LabelEncoder, OneHotEncoder\n",
    "from sklearn.model_selection import GridSearchCV, cross_val_score, train_test_split, learning_curve\n",
    "\n",
    "%matplotlib inline\n",
    "\n",
    "data = pd.read_csv('data.adult.csv')\n",
    "data.head()"
   ]
  },
  {
   "cell_type": "markdown",
   "metadata": {},
   "source": [
    "Иногда в данных встречаются пропуски. Как задаются пропуски обычно либо прописывается в описании к данным, либо просто на месте пропуска после чтения данных оказывается значение numpy.nan. Более подробно о работе с пропусками в Pandas можно прочитать например [здесь](http://pandas.pydata.org/pandas-docs/stable/missing_data.html). \n",
    "\n",
    "В данном датасете пропущенные значения обозначены как \"?\". \n",
    "\n",
    "**(0.5 балла)** Обычно после загрузки датасета всегда необходима его некоторая предобработка. В данном случае она будет заключаться в следующем: \n",
    " - Найдите все признаки, имеющие пропущенные значения. Удалите из выборки все объекты с пропусками.\n",
    " - Выделите целевую переменную (ту, которую мы хотим предсказывать) в отдельную переменную, удалите ее из датасета и преобразуйте к бинарному формату (то есть выделите столбец с целевыми значниями и преобразуйте его в столбец нулей и единиц).\n",
    " - Обратите внимание, что не все признаки являются вещественными (числовыми). В начале мы будем работать только с вещественными признаками. Выделите их отдельно."
   ]
  },
  {
   "cell_type": "code",
   "execution_count": 2,
   "metadata": {},
   "outputs": [
    {
     "data": {
      "text/html": [
       "<div>\n",
       "<style>\n",
       "    .dataframe thead tr:only-child th {\n",
       "        text-align: right;\n",
       "    }\n",
       "\n",
       "    .dataframe thead th {\n",
       "        text-align: left;\n",
       "    }\n",
       "\n",
       "    .dataframe tbody tr th {\n",
       "        vertical-align: top;\n",
       "    }\n",
       "</style>\n",
       "<table border=\"1\" class=\"dataframe\">\n",
       "  <thead>\n",
       "    <tr style=\"text-align: right;\">\n",
       "      <th></th>\n",
       "      <th>age</th>\n",
       "      <th>fnlwgt</th>\n",
       "      <th>education-num</th>\n",
       "      <th>capital-gain</th>\n",
       "      <th>capital-loss</th>\n",
       "      <th>hours-per-week</th>\n",
       "    </tr>\n",
       "  </thead>\n",
       "  <tbody>\n",
       "    <tr>\n",
       "      <th>0</th>\n",
       "      <td>34</td>\n",
       "      <td>284843</td>\n",
       "      <td>9</td>\n",
       "      <td>594</td>\n",
       "      <td>0</td>\n",
       "      <td>60</td>\n",
       "    </tr>\n",
       "    <tr>\n",
       "      <th>1</th>\n",
       "      <td>40</td>\n",
       "      <td>190290</td>\n",
       "      <td>10</td>\n",
       "      <td>0</td>\n",
       "      <td>0</td>\n",
       "      <td>40</td>\n",
       "    </tr>\n",
       "    <tr>\n",
       "      <th>2</th>\n",
       "      <td>36</td>\n",
       "      <td>177858</td>\n",
       "      <td>13</td>\n",
       "      <td>0</td>\n",
       "      <td>0</td>\n",
       "      <td>40</td>\n",
       "    </tr>\n",
       "    <tr>\n",
       "      <th>3</th>\n",
       "      <td>22</td>\n",
       "      <td>184756</td>\n",
       "      <td>10</td>\n",
       "      <td>0</td>\n",
       "      <td>0</td>\n",
       "      <td>30</td>\n",
       "    </tr>\n",
       "    <tr>\n",
       "      <th>4</th>\n",
       "      <td>47</td>\n",
       "      <td>149700</td>\n",
       "      <td>13</td>\n",
       "      <td>15024</td>\n",
       "      <td>0</td>\n",
       "      <td>40</td>\n",
       "    </tr>\n",
       "  </tbody>\n",
       "</table>\n",
       "</div>"
      ],
      "text/plain": [
       "   age  fnlwgt  education-num  capital-gain  capital-loss  hours-per-week\n",
       "0   34  284843              9           594             0              60\n",
       "1   40  190290             10             0             0              40\n",
       "2   36  177858             13             0             0              40\n",
       "3   22  184756             10             0             0              30\n",
       "4   47  149700             13         15024             0              40"
      ]
     },
     "execution_count": 2,
     "metadata": {},
     "output_type": "execute_result"
    }
   ],
   "source": [
    "integral = ['age', 'fnlwgt', 'education-num', 'capital-gain', 'capital-loss', 'hours-per-week']\n",
    "non_integral = ['workclass', 'education', 'marital-status', 'occupation', 'relationship', 'race', 'sex']\n",
    "\n",
    "for feature in integral:\n",
    "    data = data[~np.isnan(data[feature])]\n",
    "\n",
    "for feature in non_integral:\n",
    "    data = data[data[feature] != '?']\n",
    "\n",
    "y = data['>50K,<=50K'].map(lambda x: 0 if x == '<=50K' else 1)\n",
    "X = data.drop('>50K,<=50K', axis=1)\n",
    "X_integral = X[integral]\n",
    "X_integral.head()"
   ]
  },
  {
   "cell_type": "markdown",
   "metadata": {},
   "source": [
    "### 1. Обучение классификаторов на вещественных признаках (4 балла)\n",
    "\n",
    "В данном разделе необходимо будет работать только с вещественными признаками и целевой переменной.\n",
    "В начале посмотрим, как работает подбор параметров по сетке и как влияет на качество разбиение выборки. Сейчас и далее будем рассматривать 4 алгоритма:\n",
    " - [kNN](http://scikit-learn.org/stable/modules/generated/sklearn.neighbors.KNeighborsClassifier.html)\n",
    " - [DecisonTree](http://scikit-learn.org/stable/modules/generated/sklearn.tree.DecisionTreeClassifier.html#sklearn.tree.DecisionTreeClassifier)\n",
    " - [SGD Linear Classifier](http://scikit-learn.org/stable/modules/generated/sklearn.linear_model.SGDClassifier.html)\n",
    " - [RandomForest](http://scikit-learn.org/stable/modules/generated/sklearn.ensemble.RandomForestClassifier.html)\n"
   ]
  },
  {
   "cell_type": "markdown",
   "metadata": {},
   "source": [
    "#### 1.1. Подбор одного гиперпараметра (1.5 балла)\n",
    "\n",
    "\n",
    "\n",
    "Для начала у первых трёх алгоритмов выберем один гиперпараметр, который будем оптимизировать:\n",
    " - kNN — число соседей (*n_neighbors*)\n",
    " - DecisonTree — глубина дерева (*max_depth*)\n",
    " - SGD Linear Classifier — оптимизируемая функция (*loss*)\n",
    " \n",
    "Остальные параметры оставляйте в значениях по умолчанию. Для подбора гиперпараметров воспользуйтесь перебором по сетке, который реализован в классе [GridSearchCV](http://scikit-learn.org/stable/modules/generated/sklearn.model_selection.GridSearchCV.html#sklearn.model_selection.GridSearchCV). В качестве схемы кросс-валидации используйте 5-Fold CV.\n",
    "\n",
    "![](https://i.stack.imgur.com/YWgro.gif)\n",
    "\n",
    "\n",
    "\n",
    "Для каждого алгоритма подберите оптимальные значения указанных гиперпараметров. Постройте график среднего значения качества по кросс-валидации алгоритма при заданном значении гиперпараметра, на котором также отобразите доверительный интервал. \n",
    "\n",
    "(значение качества на каждом фолде, среднее значение качества и много другой полезной информации можно получить из поля [*cv results_*](http://scikit-learn.org/stable/modules/generated/sklearn.model_selection.GridSearchCV.html#sklearn.model_selection.GridSearchCV))\n",
    "\n",
    "Что вы можете сказать о получившихся графиках? У какого алгоритма наибольшее среднее значение качества? Наибольший доверительный интервал?"
   ]
  },
  {
   "cell_type": "code",
   "execution_count": 3,
   "metadata": {
    "collapsed": true
   },
   "outputs": [],
   "source": [
    "def plot_params_score(optimizer):\n",
    "    res = optimizer.cv_results_\n",
    "    param_name = list(res['params'][0].keys())[0]\n",
    "    params = list(map(lambda x: x[param_name], res['params']))\n",
    "\n",
    "    means = np.zeros(len(params))\n",
    "    stds = np.zeros(len(params))\n",
    "    for i, param in enumerate(params):\n",
    "        scores = []\n",
    "        for split_number in range(5):\n",
    "            scores.append(res[f'split{split_number}_test_score'][i])\n",
    "        means[i] = np.mean(scores)\n",
    "        stds[i] = np.std(scores)\n",
    "\n",
    "    plt.errorbar(range(len(params)), means, xerr=0.5, yerr=2*stds, linestyle='', fmt='o')\n",
    "    plt.xticks(range(len(params)), params, rotation='vertical')\n",
    "    plt.xlabel(param_name)\n",
    "    plt.ylabel('score')\n",
    "    plt.show()"
   ]
  },
  {
   "cell_type": "code",
   "execution_count": 4,
   "metadata": {
    "scrolled": true
   },
   "outputs": [
    {
     "data": {
      "image/png": "[encoded data removed]",
      "text/plain": [
       "<matplotlib.figure.Figure at 0x2b519aa01d0>"
      ]
     },
     "metadata": {},
     "output_type": "display_data"
    },
    {
     "data": {
      "text/plain": [
       "(KNeighborsClassifier(algorithm='auto', leaf_size=30, metric='minkowski',\n",
       "            metric_params=None, n_jobs=1, n_neighbors=4, p=2,\n",
       "            weights='uniform'), 0.64071605287085742)"
      ]
     },
     "execution_count": 4,
     "metadata": {},
     "output_type": "execute_result"
    }
   ],
   "source": [
    "grid = {'n_neighbors': list(range(1, 11))}\n",
    "optimizer = GridSearchCV(KNeighborsClassifier(), grid, cv=5, return_train_score=True, scoring='roc_auc')\n",
    "optimizer.fit(X_integral, y)\n",
    "plot_params_score(optimizer)\n",
    "optimizer.best_estimator_, optimizer.best_score_"
   ]
  },
  {
   "cell_type": "code",
   "execution_count": 5,
   "metadata": {},
   "outputs": [
    {
     "data": {
      "image/png": "[encoded data removed]",
      "text/plain": [
       "<matplotlib.figure.Figure at 0x2b52065f9b0>"
      ]
     },
     "metadata": {},
     "output_type": "display_data"
    },
    {
     "data": {
      "text/plain": [
       "(DecisionTreeClassifier(class_weight=None, criterion='gini', max_depth=7,\n",
       "             max_features=None, max_leaf_nodes=None,\n",
       "             min_impurity_decrease=0.0, min_impurity_split=None,\n",
       "             min_samples_leaf=1, min_samples_split=2,\n",
       "             min_weight_fraction_leaf=0.0, presort=False, random_state=42,\n",
       "             splitter='best'), 0.84143462745769326)"
      ]
     },
     "execution_count": 5,
     "metadata": {},
     "output_type": "execute_result"
    }
   ],
   "source": [
    "grid = {'max_depth': list(range(3, 40, 2))}\n",
    "optimizer = GridSearchCV(DecisionTreeClassifier(random_state=42), grid, cv=5, return_train_score=True, scoring='roc_auc')\n",
    "optimizer.fit(X_integral, y)\n",
    "optimizer.best_estimator_\n",
    "plot_params_score(optimizer)\n",
    "optimizer.best_estimator_, optimizer.best_score_"
   ]
  },
  {
   "cell_type": "code",
   "execution_count": 6,
   "metadata": {},
   "outputs": [
    {
     "data": {
      "image/png": "[encoded data removed]",
      "text/plain": [
       "<matplotlib.figure.Figure at 0x2b5219ccf28>"
      ]
     },
     "metadata": {},
     "output_type": "display_data"
    },
    {
     "data": {
      "text/plain": [
       "(SGDClassifier(alpha=0.0001, average=False, class_weight=None, epsilon=0.1,\n",
       "        eta0=0.0, fit_intercept=True, l1_ratio=0.15,\n",
       "        learning_rate='optimal', loss='hinge', max_iter=5, n_iter=None,\n",
       "        n_jobs=1, penalty='l2', power_t=0.5, random_state=42, shuffle=True,\n",
       "        tol=None, verbose=0, warm_start=False), 0.59675804674620869)"
      ]
     },
     "execution_count": 6,
     "metadata": {},
     "output_type": "execute_result"
    }
   ],
   "source": [
    "grid = {'loss': ['hinge', 'log', 'modified_huber', 'squared_hinge', 'perceptron']}\n",
    "\n",
    "# C:\\anaconda3\\lib\\site-packages\\sklearn\\linear_model\\stochastic_gradient.py:128: FutureWarning: max_iter and tol parameters ha\n",
    "# ve been added in <class 'sklearn.linear_model.stochastic_gradient.SGDClassifier'> in 0.19. If both are left unset, they defau\n",
    "# lt to max_iter=5 and tol=None. If tol is not None, max_iter defaults to max_iter=1000. From 0.21, default max_iter will be 10\n",
    "# 00, and default tol will be 1e-3.\n",
    "#   \"and default tol will be 1e-3.\" % type(self), FutureWarning)\n",
    "\n",
    "# use explicit max_iter=5 and tol=None to remove the above deprecation warning\n",
    "optimizer = GridSearchCV(SGDClassifier(random_state=42, max_iter=5, tol=None), grid, cv=5,\n",
    "                         return_train_score=True, scoring='roc_auc')\n",
    "optimizer.fit(X_integral, y)\n",
    "plot_params_score(optimizer)\n",
    "optimizer.best_estimator_, optimizer.best_score_"
   ]
  },
  {
   "cell_type": "markdown",
   "metadata": {},
   "source": [
    "Наибольшее среднее значение качества получилось у дерева решений с `max_depth=7`, наибольший доверительный интервал - у SGDClassifier'а с `loss='squared_hinge'`"
   ]
  },
  {
   "cell_type": "markdown",
   "metadata": {},
   "source": [
    "**Количество деревьев в Random Forest**\n",
    "\n",
    "Выберите какое-нибудь значение для числа деревьев n_estimators (не очень маленькое, но и не огромное, чтобы достаточно быстро обучаться: в дальнейшем мы будем обучать алгоритм, перебирая параметры по сетке).  "
   ]
  },
  {
   "cell_type": "markdown",
   "metadata": {},
   "source": [
    "В общем случае параметр число деревьев (*n_estimators*) в алгоритме RandomForest подбирается следующим образом. Как известно, в общем случае Random Forest не переобучается с увеличением количества деревьев. Подберите количество деревьев, начиная с которого качество на кросс-валидации стабилизируется. Обратите внимание, что для проведения этого эксперимента не нужно с нуля обучать много случайных лесов с различными количествами деревьев. Обучите один случайный лес с максимальным интересным количеством деревьев, а затем рассмотрите подмножества деревьев разных размеров, состоящих из деревьев построенного леса (поле [*estimators_*](http://scikit-learn.org/stable/modules/generated/sklearn.ensemble.RandomForestClassifier.html)). Применить класс GridSearchCV в данном задании затруднительно, поэтому предлагается самостоятельно написать цикл по числу деревьев.\n",
    "\n",
    "Пример кода есть в ноутбуке RandomForest  с семинара (функция *get_mse_list*). \n",
    "Постройте график, и вы увидите, начиная с какого значения n_estimators качество на кросс-валидации стабилизируется. Если на графике этого не видно, значит, исходное максимальное значение n_estimators было слишком маленьким, и стоит его увеличить. \n"
   ]
  },
  {
   "cell_type": "markdown",
   "metadata": {},
   "source": [
    "Однако, поскольку подобная процедура предстоит также после подбора важных параметров (после пункта 1.3), часто, чтобы не делать одно и то же два раза, изначально выбирают n_estimators, исходя из опыта, просто какое-то немаленькое число: 100, 500, 1000, ...    \n",
    "Как поступить вам - решайте сами. \n",
    "Либо вы реализуете подбор n_estimators два раза: до подбора *max_features* и *min_samples_leaf* и после подбора, либо только один раз после подбора.  Плюс второго подхода: пишите меньше кода, плюс первого подхода: до начала подбора гиперпараметров вы можете существенно уменьшить число деревьев, уменьшая, тем самым, время подбора гиперпараметров. "
   ]
  },
  {
   "cell_type": "markdown",
   "metadata": {},
   "source": [
    " Обучите RandomForest с выбранным числом деревьев. Проверьте качество по кросс-валидации."
   ]
  },
  {
   "cell_type": "code",
   "execution_count": 7,
   "metadata": {
    "collapsed": true
   },
   "outputs": [],
   "source": [
    "from sklearn.metrics import mean_squared_error as mse\n",
    "\n",
    "def get_scores_list(X, y, clf, score, print_train=True):\n",
    "    predictions = list()\n",
    "    scores = list()\n",
    "    for i, tree in enumerate(clf.estimators_):\n",
    "        predictions.append(tree.predict(X))\n",
    "        rf_prediction = np.mean(predictions, axis=0)\n",
    "        scores.append(score(y, rf_prediction))\n",
    "    if print_train:\n",
    "        print('Last score', scores[-1])\n",
    "    return scores\n",
    "\n",
    "def plot_score_graph(clf, X_train, X_test, y_train, y_test, score, print_train=True):\n",
    "    clf.fit(X_train, y_train)\n",
    "    train_mses = get_scores_list(X_train, y_train, clf, score, False)\n",
    "    test_mses = get_scores_list(X_test, y_test, clf, score)\n",
    "    if print_train:\n",
    "        plt.plot(train_mses, label='train set score')\n",
    "    plt.plot(test_mses, label='test set score')\n",
    "    plt.xlabel('n_estimators')\n",
    "    plt.ylabel('score')\n",
    "    plt.legend()"
   ]
  },
  {
   "cell_type": "code",
   "execution_count": 8,
   "metadata": {},
   "outputs": [
    {
     "name": "stdout",
     "output_type": "stream",
     "text": [
      "Last score 0.813334639967\n"
     ]
    },
    {
     "data": {
      "image/png": "[encoded data removed]",
      "text/plain": [
       "<matplotlib.figure.Figure at 0x2b521b758d0>"
      ]
     },
     "metadata": {},
     "output_type": "display_data"
    }
   ],
   "source": [
    "X_train, X_test, y_train, y_test = train_test_split(X_integral, y, test_size=0.9, random_state=1543)\n",
    "plot_score_graph(RandomForestClassifier(n_estimators=100, n_jobs=-1, random_state=42),\n",
    "                 X_train, X_test, y_train, y_test, roc_auc_score)"
   ]
  },
  {
   "cell_type": "markdown",
   "metadata": {},
   "source": [
    "Видно, что после 50 деревьев оценка почти не растет."
   ]
  },
  {
   "cell_type": "code",
   "execution_count": 9,
   "metadata": {},
   "outputs": [
    {
     "data": {
      "text/plain": [
       "0.81349146709070053"
      ]
     },
     "execution_count": 9,
     "metadata": {},
     "output_type": "execute_result"
    }
   ],
   "source": [
    "clf = RandomForestClassifier(n_estimators=50, random_state=42)\n",
    "cross_val_score(clf, X_integral, y, cv=5, scoring='roc_auc').mean()"
   ]
  },
  {
   "cell_type": "markdown",
   "metadata": {},
   "source": [
    "#### 1.2. Масштабирование (0.5 балла)"
   ]
  },
  {
   "cell_type": "markdown",
   "metadata": {},
   "source": [
    "При обучении алгоритмов стоит обращать внимание не только на их качество, но и каким образом они работают с данными. В этой задаче получилось так, что некоторые из используемых алгоритмов чувствительны к масштабу признаков. Чтобы убедиться, что это как-то могло повлиять на качество давайте посмотрим на значения самих признаков.\n",
    "\n",
    "Постройте гистограммы для признаков *age*, *fnlwgt*, *capital-gain*. Глядя на получившиеся графики, скажите в чем заключается особенность данных? На какие алгоритмы это может повлиять? Может ли масшитабирование повлиять на работу этих алгоритмов?"
   ]
  },
  {
   "cell_type": "code",
   "execution_count": 10,
   "metadata": {},
   "outputs": [
    {
     "data": {
      "text/plain": [
       "(array([ 2466.,  2776.,  2966.,  3066.,  1931.,  1203.,   667.,   183.,\n",
       "           62.,    27.]),\n",
       " array([ 17. ,  24.3,  31.6,  38.9,  46.2,  53.5,  60.8,  68.1,  75.4,\n",
       "         82.7,  90. ]),\n",
       " <a list of 10 Patch objects>)"
      ]
     },
     "execution_count": 10,
     "metadata": {},
     "output_type": "execute_result"
    },
    {
     "data": {
      "image/png": "[encoded data removed]",
      "text/plain": [
       "<matplotlib.figure.Figure at 0x2b521dd4400>"
      ]
     },
     "metadata": {},
     "output_type": "display_data"
    }
   ],
   "source": [
    "plt.hist(X_integral['age'])"
   ]
  },
  {
   "cell_type": "code",
   "execution_count": 11,
   "metadata": {},
   "outputs": [
    {
     "data": {
      "text/plain": [
       "(array([  6.68100000e+03,   6.86300000e+03,   1.52800000e+03,\n",
       "          2.15000000e+02,   4.40000000e+01,   4.00000000e+00,\n",
       "          6.00000000e+00,   1.00000000e+00,   2.00000000e+00,\n",
       "          3.00000000e+00]),\n",
       " array([   19302. ,   165842.3,   312382.6,   458922.9,   605463.2,\n",
       "          752003.5,   898543.8,  1045084.1,  1191624.4,  1338164.7,\n",
       "         1484705. ]),\n",
       " <a list of 10 Patch objects>)"
      ]
     },
     "execution_count": 11,
     "metadata": {},
     "output_type": "execute_result"
    },
    {
     "data": {
      "image/png": "[encoded data removed]",
      "text/plain": [
       "<matplotlib.figure.Figure at 0x2b522f4c0f0>"
      ]
     },
     "metadata": {},
     "output_type": "display_data"
    }
   ],
   "source": [
    "plt.hist(X_integral['fnlwgt'])"
   ]
  },
  {
   "cell_type": "code",
   "execution_count": 12,
   "metadata": {},
   "outputs": [
    {
     "data": {
      "text/plain": [
       "0        14019\n",
       "15024      178\n",
       "7688       144\n",
       "7298       134\n",
       "99999       66\n",
       "3103        50\n",
       "5178        50\n",
       "4386        43\n",
       "5013        42\n",
       "2174        28\n",
       "Name: capital-gain, dtype: int64"
      ]
     },
     "execution_count": 12,
     "metadata": {},
     "output_type": "execute_result"
    },
    {
     "data": {
      "image/png": "[encoded data removed]",
      "text/plain": [
       "<matplotlib.figure.Figure at 0x2b522f4cb70>"
      ]
     },
     "metadata": {},
     "output_type": "display_data"
    }
   ],
   "source": [
    "plt.hist(X_integral['capital-gain'])\n",
    "X_integral['capital-gain'].value_counts()[:10]"
   ]
  },
  {
   "cell_type": "markdown",
   "metadata": {},
   "source": [
    " "
   ]
  },
  {
   "cell_type": "markdown",
   "metadata": {},
   "source": [
    "Данные неоднородны. Возраст варьируется от 20 до 90, `fnlwgt` - примерно от 0 до 1400000, `capital-gain` - от 0 (самое часто встречаемое значение) до 100000. Самое большое влияние это оказывает на метод ближайших соседей, так как большая разница между признаком `fnlwgt` для двух объектов значительно отдаляет их друг от друга, при этом, возможно, признак `fnlwgt` - не самый важный из имеющихся, поэтому для метода ближайших соседей признаки нужно смасштабировать. Для SGDClassifier'а тоже нужно масштабирование, так как признак с большим разбросом будет оказывать большее влияние при подсчете расстояния."
   ]
  },
  {
   "cell_type": "markdown",
   "metadata": {},
   "source": [
    "Масштабирование признаков можно выполнить, например, одним из следующих способов:\n",
    " - $x_{new} = \\dfrac{x - \\mu}{\\sigma}$, где $\\mu, \\sigma$ — среднее и стандартное отклонение значения признака по всей выборке (см. функцию [scale](http://scikit-learn.org/stable/modules/generated/sklearn.preprocessing.scale.html))\n",
    " - $x_{new} = \\dfrac{x - x_{min}}{x_{max} - x_{min}}$, где $[x_{min}, x_{max}]$ — минимальный интервал значений признака\n",
    "\n",
    "Похожие схемы масштабирования приведены в классах [StandardScaler](http://scikit-learn.org/stable/modules/generated/sklearn.preprocessing.StandardScaler.html#sklearn.preprocessing.StandardScaler) и [MinMaxScaler](http://scikit-learn.org/stable/modules/generated/sklearn.preprocessing.MinMaxScaler.html#sklearn.preprocessing.MinMaxScaler).\n",
    " \n",
    "Масштабируйте все вещественные признаки одним (любым на Ваш выбор) из указанных способов и подберите оптимальные значения гиперпараметров аналогичо пункту выше.\n",
    "\n",
    "Изменилось ли качество у некоторых алгоритмов и почему?"
   ]
  },
  {
   "cell_type": "code",
   "execution_count": 13,
   "metadata": {},
   "outputs": [],
   "source": [
    "scaler = StandardScaler()\n",
    "X_int_scaled = scaler.fit_transform(X_integral)\n",
    "X_int_scaled = pd.DataFrame(X_int_scaled, index=X_integral.index, columns=X_integral.columns)"
   ]
  },
  {
   "cell_type": "code",
   "execution_count": 14,
   "metadata": {},
   "outputs": [
    {
     "data": {
      "image/png": "[encoded data removed]",
      "text/plain": [
       "<matplotlib.figure.Figure at 0x2b521b56710>"
      ]
     },
     "metadata": {},
     "output_type": "display_data"
    },
    {
     "data": {
      "text/plain": [
       "(KNeighborsClassifier(algorithm='auto', leaf_size=30, metric='minkowski',\n",
       "            metric_params=None, n_jobs=1, n_neighbors=10, p=2,\n",
       "            weights='uniform'), 0.80831854487443477)"
      ]
     },
     "execution_count": 14,
     "metadata": {},
     "output_type": "execute_result"
    }
   ],
   "source": [
    "grid = {'n_neighbors': list(range(1, 11))}\n",
    "optimizer = GridSearchCV(KNeighborsClassifier(), grid, cv=5, return_train_score=True, scoring='roc_auc')\n",
    "optimizer.fit(X_int_scaled, y)\n",
    "plot_params_score(optimizer)\n",
    "optimizer.best_estimator_, optimizer.best_score_"
   ]
  },
  {
   "cell_type": "code",
   "execution_count": 15,
   "metadata": {},
   "outputs": [
    {
     "data": {
      "image/png": "[encoded data removed]",
      "text/plain": [
       "<matplotlib.figure.Figure at 0x2b523032240>"
      ]
     },
     "metadata": {},
     "output_type": "display_data"
    },
    {
     "data": {
      "text/plain": [
       "(DecisionTreeClassifier(class_weight=None, criterion='gini', max_depth=7,\n",
       "             max_features=None, max_leaf_nodes=None,\n",
       "             min_impurity_decrease=0.0, min_impurity_split=None,\n",
       "             min_samples_leaf=1, min_samples_split=2,\n",
       "             min_weight_fraction_leaf=0.0, presort=False, random_state=42,\n",
       "             splitter='best'), 0.84148090978860723)"
      ]
     },
     "execution_count": 15,
     "metadata": {},
     "output_type": "execute_result"
    }
   ],
   "source": [
    "grid = {'max_depth': list(range(3, 40, 2))}\n",
    "optimizer = GridSearchCV(DecisionTreeClassifier(random_state=42), grid, cv=5, return_train_score=True, scoring='roc_auc')\n",
    "optimizer.fit(X_int_scaled, y)\n",
    "optimizer.best_estimator_\n",
    "plot_params_score(optimizer)\n",
    "optimizer.best_estimator_, optimizer.best_score_"
   ]
  },
  {
   "cell_type": "code",
   "execution_count": 16,
   "metadata": {},
   "outputs": [
    {
     "data": {
      "image/png": "[encoded data removed]",
      "text/plain": [
       "<matplotlib.figure.Figure at 0x2b52313ca20>"
      ]
     },
     "metadata": {},
     "output_type": "display_data"
    },
    {
     "data": {
      "text/plain": [
       "(SGDClassifier(alpha=0.0001, average=False, class_weight=None, epsilon=0.1,\n",
       "        eta0=0.0, fit_intercept=True, l1_ratio=0.15,\n",
       "        learning_rate='optimal', loss='log', max_iter=5, n_iter=None,\n",
       "        n_jobs=1, penalty='l2', power_t=0.5, random_state=42, shuffle=True,\n",
       "        tol=None, verbose=0, warm_start=False), 0.73129931188182273)"
      ]
     },
     "execution_count": 16,
     "metadata": {},
     "output_type": "execute_result"
    }
   ],
   "source": [
    "grid = {'loss': ['hinge', 'log', 'modified_huber', 'squared_hinge', 'perceptron']}\n",
    "\n",
    "optimizer = GridSearchCV(SGDClassifier(random_state=42, max_iter=5, tol=None), grid, cv=5,\n",
    "                         return_train_score=True, scoring='roc_auc')\n",
    "optimizer.fit(X_int_scaled, y)\n",
    "plot_params_score(optimizer)\n",
    "optimizer.best_estimator_, optimizer.best_score_"
   ]
  },
  {
   "cell_type": "code",
   "execution_count": 55,
   "metadata": {
    "scrolled": true
   },
   "outputs": [
    {
     "name": "stdout",
     "output_type": "stream",
     "text": [
      "Last score 0.81317948062\n"
     ]
    },
    {
     "data": {
      "image/png": "[encoded data removed]",
      "text/plain": [
       "<matplotlib.figure.Figure at 0x2b521b78358>"
      ]
     },
     "metadata": {},
     "output_type": "display_data"
    }
   ],
   "source": [
    "X_train, X_test, y_train, y_test = train_test_split(X_int_scaled, y, test_size=0.9, random_state=1543)\n",
    "plot_score_graph(RandomForestClassifier(n_estimators=100, n_jobs=-1, random_state=42),\n",
    "                 X_train, X_test, y_train, y_test, roc_auc_score)"
   ]
  },
  {
   "cell_type": "code",
   "execution_count": 18,
   "metadata": {},
   "outputs": [
    {
     "data": {
      "text/plain": [
       "0.81343376218086072"
      ]
     },
     "execution_count": 18,
     "metadata": {},
     "output_type": "execute_result"
    }
   ],
   "source": [
    "clf = RandomForestClassifier(n_estimators=50, random_state=42)\n",
    "cross_val_score(clf, X_int_scaled, y, cv=5, scoring='roc_auc').mean()"
   ]
  },
  {
   "cell_type": "markdown",
   "metadata": {},
   "source": [
    "Видно, что качество у метода ближайших соседей и SVM значительно улучшилось, а у DecisionTree и RandomForest почти не изменилось. Это происходит из-за того, что признаки с большим разбросом вносят больший вклад в расстояние между объектами, что влияет на работу метода ближайших соседей и SVM."
   ]
  },
  {
   "cell_type": "markdown",
   "metadata": {},
   "source": [
    "#### 1.3. Подбор нескольких гиперпараметров (1 балл)\n",
    "Теперь сделайте перебор нескольких гиперпараметров по сетке и найдите оптимальные комбинации (лучшее среднее значение качества) для каждого алгоритма в данном случае: \n",
    " - KNN — число соседей (*n_neighbors*) и метрика (*metric*)\n",
    " - DecisonTree — глубина дерева (*max_depth*) и минимальное число объектов обучающей выборки в листе (*min_samples_leaf*)\n",
    " - RandomForest — *max_features* и минимальное число объектов обучающей выборки в листе (*min_samples_leaf*) (при фиксированном количестве деревьев, найденном ранее)\n",
    " - SGDClassifier — оптимизируемая функция (*loss*) и *penalty*\n",
    "\n",
    "Обратите внимание, что эта операция может быть ресурсо- и трудоемкой. Как оптимизировать подбор параметров по сетке сказано в разделе \"Подбор гиперпараметров модели\"\n",
    "\n",
    "Какой из алгоритмов имеет наилучшее качество? "
   ]
  },
  {
   "cell_type": "code",
   "execution_count": 19,
   "metadata": {},
   "outputs": [
    {
     "name": "stdout",
     "output_type": "stream",
     "text": [
      "Fitting 5 folds for each of 30 candidates, totalling 150 fits\n"
     ]
    },
    {
     "name": "stderr",
     "output_type": "stream",
     "text": [
      "[Parallel(n_jobs=-1)]: Done  34 tasks      | elapsed:    8.8s\n",
      "[Parallel(n_jobs=-1)]: Done 150 out of 150 | elapsed:   23.7s finished\n"
     ]
    },
    {
     "data": {
      "text/plain": [
       "(KNeighborsClassifier(algorithm='auto', leaf_size=30, metric='manhattan',\n",
       "            metric_params=None, n_jobs=1, n_neighbors=10, p=2,\n",
       "            weights='uniform'), 0.81260659243615907)"
      ]
     },
     "execution_count": 19,
     "metadata": {},
     "output_type": "execute_result"
    }
   ],
   "source": [
    "grid = {\n",
    "    'n_neighbors': list(range(1, 11)),\n",
    "    'metric': ['euclidean', 'manhattan', 'chebyshev']\n",
    "}\n",
    "\n",
    "knn_optimizer = GridSearchCV(KNeighborsClassifier(), grid, cv=5,\n",
    "                             return_train_score=True, scoring='roc_auc', n_jobs=-1, verbose=1)\n",
    "knn_optimizer.fit(X_int_scaled, y)\n",
    "knn_optimizer.best_estimator_, knn_optimizer.best_score_"
   ]
  },
  {
   "cell_type": "code",
   "execution_count": 20,
   "metadata": {},
   "outputs": [
    {
     "name": "stdout",
     "output_type": "stream",
     "text": [
      "Fitting 5 folds for each of 171 candidates, totalling 855 fits\n"
     ]
    },
    {
     "name": "stderr",
     "output_type": "stream",
     "text": [
      "[Parallel(n_jobs=-1)]: Done  34 tasks      | elapsed:    5.3s\n",
      "[Parallel(n_jobs=-1)]: Done 855 out of 855 | elapsed:   10.2s finished\n"
     ]
    },
    {
     "data": {
      "text/plain": [
       "(DecisionTreeClassifier(class_weight=None, criterion='gini', max_depth=7,\n",
       "             max_features=None, max_leaf_nodes=None,\n",
       "             min_impurity_decrease=0.0, min_impurity_split=None,\n",
       "             min_samples_leaf=4, min_samples_split=2,\n",
       "             min_weight_fraction_leaf=0.0, presort=False, random_state=42,\n",
       "             splitter='best'), 0.84409953178671504)"
      ]
     },
     "execution_count": 20,
     "metadata": {},
     "output_type": "execute_result"
    }
   ],
   "source": [
    "grid = {'max_depth': list(range(3, 40, 2)), 'min_samples_leaf': list(range(1, 10))}\n",
    "tree_optimizer = GridSearchCV(DecisionTreeClassifier(random_state=42), grid, cv=5,\n",
    "                              return_train_score=True, scoring='roc_auc', n_jobs=-1, verbose=1)\n",
    "tree_optimizer.fit(X_int_scaled, y)\n",
    "tree_optimizer.best_estimator_, tree_optimizer.best_score_"
   ]
  },
  {
   "cell_type": "code",
   "execution_count": 21,
   "metadata": {},
   "outputs": [
    {
     "data": {
      "text/plain": [
       "(SGDClassifier(alpha=0.0001, average=False, class_weight=None, epsilon=0.1,\n",
       "        eta0=0.0, fit_intercept=True, l1_ratio=0.15,\n",
       "        learning_rate='optimal', loss='log', max_iter=5, n_iter=None,\n",
       "        n_jobs=1, penalty='l1', power_t=0.5, random_state=42, shuffle=True,\n",
       "        tol=None, verbose=0, warm_start=False), 0.78659814343726209)"
      ]
     },
     "execution_count": 21,
     "metadata": {},
     "output_type": "execute_result"
    }
   ],
   "source": [
    "grid = {\n",
    "    'loss': ['hinge', 'log', 'modified_huber', 'squared_hinge', 'perceptron'],\n",
    "    'penalty': ['none', 'l2', 'l1', 'elasticnet']\n",
    "}\n",
    "\n",
    "sgd_optimizer = GridSearchCV(SGDClassifier(random_state=42, max_iter=5, tol=None), grid, cv=5,\n",
    "                             return_train_score=True, scoring='roc_auc')\n",
    "sgd_optimizer.fit(X_int_scaled, y)\n",
    "sgd_optimizer.best_estimator_, sgd_optimizer.best_score_"
   ]
  },
  {
   "cell_type": "code",
   "execution_count": 22,
   "metadata": {},
   "outputs": [
    {
     "name": "stdout",
     "output_type": "stream",
     "text": [
      "Fitting 5 folds for each of 104 candidates, totalling 520 fits\n"
     ]
    },
    {
     "name": "stderr",
     "output_type": "stream",
     "text": [
      "[Parallel(n_jobs=-1)]: Done  34 tasks      | elapsed:   11.2s\n",
      "[Parallel(n_jobs=-1)]: Done 184 tasks      | elapsed:   23.3s\n",
      "[Parallel(n_jobs=-1)]: Done 434 tasks      | elapsed:   49.5s\n",
      "[Parallel(n_jobs=-1)]: Done 520 out of 520 | elapsed:   58.9s finished\n"
     ]
    },
    {
     "data": {
      "text/plain": [
       "(RandomForestClassifier(bootstrap=True, class_weight=None, criterion='gini',\n",
       "             max_depth=None, max_features='log2', max_leaf_nodes=None,\n",
       "             min_impurity_decrease=0.0, min_impurity_split=None,\n",
       "             min_samples_leaf=9, min_samples_split=2,\n",
       "             min_weight_fraction_leaf=0.0, n_estimators=50, n_jobs=1,\n",
       "             oob_score=False, random_state=42, verbose=0, warm_start=False),\n",
       " 0.852153545563054)"
      ]
     },
     "execution_count": 22,
     "metadata": {},
     "output_type": "execute_result"
    }
   ],
   "source": [
    "grid = {\n",
    "    'max_features': [None, 'log2', 'sqrt', 0.7, 0.5, 0.8, 3, 5],\n",
    "    'min_samples_leaf': list(range(1, 11)) + [0.1, 0.3, 0.5]\n",
    "}\n",
    "\n",
    "rf_optimizer = GridSearchCV(RandomForestClassifier(random_state=42, n_estimators=50), grid, cv=5,\n",
    "                            return_train_score=True, scoring='roc_auc', n_jobs=-1, verbose=1)\n",
    "rf_optimizer.fit(X_int_scaled, y)\n",
    "rf_optimizer.best_estimator_, rf_optimizer.best_score_"
   ]
  },
  {
   "cell_type": "markdown",
   "metadata": {},
   "source": [
    "Наилучшее качество имеет случайный лес с `max_features='log2'` и `min_samples_leaf=9`"
   ]
  },
  {
   "cell_type": "markdown",
   "metadata": {},
   "source": [
    "Сравните алгоритмы с точки зрения времени обучения. Обучение какого из алгоритмов работает дольше всего и, как вы думаете, почему?\n",
    "\n",
    "(hint: [GridSearchCV](http://scikit-learn.org/stable/modules/generated/sklearn.model_selection.GridSearchCV.html#sklearn.model_selection.GridSearchCV) подсчитывает не только качество на кросс-валидации, но и время работы алгоритмов)"
   ]
  },
  {
   "cell_type": "code",
   "execution_count": 23,
   "metadata": {},
   "outputs": [
    {
     "name": "stdout",
     "output_type": "stream",
     "text": [
      "knn 0.158020269076\n",
      "tree 0.0370024820517\n",
      "sgd 0.0067200922966\n",
      "rf 0.71233295294\n"
     ]
    }
   ],
   "source": [
    "print('knn', np.mean(knn_optimizer.cv_results_['mean_fit_time']))\n",
    "print('tree', np.mean(tree_optimizer.cv_results_['mean_fit_time']))\n",
    "print('sgd', np.mean(sgd_optimizer.cv_results_['mean_fit_time']))\n",
    "print('rf', np.mean(rf_optimizer.cv_results_['mean_fit_time']))"
   ]
  },
  {
   "cell_type": "markdown",
   "metadata": {},
   "source": [
    "Дольше всего работает обучение RandomForest, так как для него нужно обучить 50 деревьев (было бы больше, если бы мы не подобрали оптимальное количество деревьев выше)."
   ]
  },
  {
   "cell_type": "markdown",
   "metadata": {},
   "source": [
    " "
   ]
  },
  {
   "cell_type": "markdown",
   "metadata": {},
   "source": [
    "Теперь подберём число деревьев (*n_estimators*) в алгоритме RandomForest. Как известно, в общем случае Random Forest не переобучается с увеличением количества деревьев. Подберите количество деревьев, начиная с которого качество на кросс-валидации стабилизируется. Обратите внимание, что для проведения этого эксперимента не нужно с нуля обучать много случайных лесов с различными количествами деревьев. Обучите один случайный лес с максимальным интересным количеством деревьев, а затем рассмотрите подмножества деревьев разных размеров, состоящих из деревьев построенного леса (поле [*estimators_*](http://scikit-learn.org/stable/modules/generated/sklearn.ensemble.RandomForestClassifier.html))."
   ]
  },
  {
   "cell_type": "markdown",
   "metadata": {},
   "source": [
    "Применить класс GridSearchCV в данном задании затруднительно, поэтому предлагается самостоятельно написать цикл по числу деревьев."
   ]
  },
  {
   "cell_type": "markdown",
   "metadata": {},
   "source": [
    "**Важно:**  мы подбираем n_estimators при фиксированных, найденных ранее, значениях параметров *max_features* и *min_samples_leaf*."
   ]
  },
  {
   "cell_type": "code",
   "execution_count": 24,
   "metadata": {
    "scrolled": true
   },
   "outputs": [
    {
     "name": "stdout",
     "output_type": "stream",
     "text": [
      "Last score 0.827861549063\n"
     ]
    },
    {
     "data": {
      "image/png": "[encoded data removed]",
      "text/plain": [
       "<matplotlib.figure.Figure at 0x2b5231aaf98>"
      ]
     },
     "metadata": {},
     "output_type": "display_data"
    }
   ],
   "source": [
    "X_train, X_test, y_train, y_test = train_test_split(X_int_scaled, y, test_size=0.9, random_state=1543)\n",
    "plot_score_graph(RandomForestClassifier(n_estimators=200, n_jobs=-1, random_state=42, max_features='log2', min_samples_leaf=9),\n",
    "                 X_train, X_test, y_train, y_test, roc_auc_score)"
   ]
  },
  {
   "cell_type": "code",
   "execution_count": 25,
   "metadata": {},
   "outputs": [
    {
     "data": {
      "text/plain": [
       "0.85215345198274817"
      ]
     },
     "execution_count": 25,
     "metadata": {},
     "output_type": "execute_result"
    }
   ],
   "source": [
    "clf = RandomForestClassifier(n_estimators=50, random_state=42, max_features='log2', min_samples_leaf=9)\n",
    "cross_val_score(clf, X_int_scaled, y, cv=5, scoring='roc_auc').mean()"
   ]
  },
  {
   "cell_type": "markdown",
   "metadata": {},
   "source": [
    "#### 1.4. Выводы (1 балл)\n",
    "Постройте для разных алгоритмов графики [кривых обучения](http://scikit-learn.org/stable/modules/generated/sklearn.model_selection.learning_curve.html), изображающие зависимость качества на тестовой и обучающей выборках от количества объектов, на которых обучаются модели. Посмотрите на поведение кривых и ответьте на вопросы:\n",
    "* Может ли с ростом числа объектов убывать качество на тестовой выборке? А на обучающей? Почему?\n",
    "* Для каких целей можно использовать знание качества на обучающей части выборки?\n",
    "* Какой из алгоритмов лучше обучается на меньшем числе объектов?\n",
    "* Может ли добавление новых объектов значительно повысить качество какого-то из алгоритмов или при существующем наборе данных для всех алгоритмов произошло насыщение?"
   ]
  },
  {
   "cell_type": "code",
   "execution_count": 26,
   "metadata": {
    "collapsed": true
   },
   "outputs": [],
   "source": [
    "def plot_learning_curve(estimator, X, y, cv=None, n_jobs=1,\n",
    "                        train_sizes=np.linspace(.1, 1.0, 5)):\n",
    "    plt.figure()\n",
    "    plt.xlabel(\"Training examples\")\n",
    "    plt.ylabel(\"Score\")\n",
    "    train_sizes, train_scores, test_scores = learning_curve(\n",
    "        estimator, X, y, cv=cv, n_jobs=n_jobs, train_sizes=train_sizes)\n",
    "    train_scores_mean = np.mean(train_scores, axis=1)\n",
    "    train_scores_std = np.std(train_scores, axis=1)\n",
    "    test_scores_mean = np.mean(test_scores, axis=1)\n",
    "    test_scores_std = np.std(test_scores, axis=1)\n",
    "    plt.grid()\n",
    "\n",
    "    plt.fill_between(train_sizes, train_scores_mean - train_scores_std,\n",
    "                     train_scores_mean + train_scores_std, alpha=0.1,\n",
    "                     color=\"r\")\n",
    "    plt.fill_between(train_sizes, test_scores_mean - test_scores_std,\n",
    "                     test_scores_mean + test_scores_std, alpha=0.1, color=\"g\")\n",
    "    plt.plot(train_sizes, train_scores_mean, 'o-', color=\"r\",\n",
    "             label=\"Training score\")\n",
    "    plt.plot(train_sizes, test_scores_mean, 'o-', color=\"g\",\n",
    "             label=\"Cross-validation score\")\n",
    "\n",
    "    plt.legend(loc=\"best\")\n",
    "    return plt"
   ]
  },
  {
   "cell_type": "code",
   "execution_count": 27,
   "metadata": {
    "scrolled": false
   },
   "outputs": [
    {
     "data": {
      "text/plain": [
       "<module 'matplotlib.pyplot' from 'C:\\\\anaconda3\\\\lib\\\\site-packages\\\\matplotlib\\\\pyplot.py'>"
      ]
     },
     "execution_count": 27,
     "metadata": {},
     "output_type": "execute_result"
    },
    {
     "data": {
      "image/png": "[encoded data removed]",
      "text/plain": [
       "<matplotlib.figure.Figure at 0x2b5233537f0>"
      ]
     },
     "metadata": {},
     "output_type": "display_data"
    }
   ],
   "source": [
    "plot_learning_curve(KNeighborsClassifier(metric='manhattan', n_neighbors=10), X_int_scaled, y)"
   ]
  },
  {
   "cell_type": "code",
   "execution_count": 28,
   "metadata": {},
   "outputs": [
    {
     "data": {
      "text/plain": [
       "<module 'matplotlib.pyplot' from 'C:\\\\anaconda3\\\\lib\\\\site-packages\\\\matplotlib\\\\pyplot.py'>"
      ]
     },
     "execution_count": 28,
     "metadata": {},
     "output_type": "execute_result"
    },
    {
     "data": {
      "image/png": "[encoded data removed]",
      "text/plain": [
       "<matplotlib.figure.Figure at 0x2b523080908>"
      ]
     },
     "metadata": {},
     "output_type": "display_data"
    }
   ],
   "source": [
    "plot_learning_curve(DecisionTreeClassifier(random_state=42, max_depth=7, min_samples_leaf=4), X_int_scaled, y)"
   ]
  },
  {
   "cell_type": "code",
   "execution_count": 51,
   "metadata": {
    "scrolled": false
   },
   "outputs": [
    {
     "data": {
      "text/plain": [
       "<module 'matplotlib.pyplot' from 'C:\\\\anaconda3\\\\lib\\\\site-packages\\\\matplotlib\\\\pyplot.py'>"
      ]
     },
     "execution_count": 51,
     "metadata": {},
     "output_type": "execute_result"
    },
    {
     "data": {
      "image/png": "[encoded data removed]",
      "text/plain": [
       "<matplotlib.figure.Figure at 0x2b524569b70>"
      ]
     },
     "metadata": {},
     "output_type": "display_data"
    }
   ],
   "source": [
    "plot_learning_curve(SGDClassifier(random_state=42, max_iter=5, tol=None, loss='log', penalty='l1'), X_int_scaled, y)"
   ]
  },
  {
   "cell_type": "code",
   "execution_count": 30,
   "metadata": {},
   "outputs": [
    {
     "data": {
      "text/plain": [
       "<module 'matplotlib.pyplot' from 'C:\\\\anaconda3\\\\lib\\\\site-packages\\\\matplotlib\\\\pyplot.py'>"
      ]
     },
     "execution_count": 30,
     "metadata": {},
     "output_type": "execute_result"
    },
    {
     "data": {
      "image/png": "[encoded data removed]",
      "text/plain": [
       "<matplotlib.figure.Figure at 0x2b521b6bef0>"
      ]
     },
     "metadata": {},
     "output_type": "display_data"
    }
   ],
   "source": [
    "plot_learning_curve(RandomForestClassifier(n_estimators=50, random_state=42, max_features='log2', min_samples_leaf=9), X_int_scaled, y)"
   ]
  },
  {
   "cell_type": "markdown",
   "metadata": {},
   "source": [
    "Качество на обучающей выборке может убывать с ростом числа объектов, так как под небольшое число объектов можно легко подстроиться. Качество на тестовой выборке также может уменьшаться с ростом числа объектов. Возможно, это происходит из-за неравномерного распределения объектов, в результате которого с ростом числа объектов добавляютя объекты с признаками, на которых классификатор чаще ошибается. Или это может свидетельствовать о переобучении.\n",
    "\n",
    "Знание качества на обучающей выборке можно использовать, чтобы понять, не переобучился ли алгоритм (например, если качество очень большое).\n",
    "\n",
    "Судя по графикам, на меньшем числе объектов лучше обучается SGDClassifier. Также по графику видно, что с ростом числа объектов у него увеличивается доверительный интервал.\n",
    "\n",
    "По графикам видно, что для всех алгоритмов, кроме SGD, произошло насыщение. Для SGD возможно повышение качества при увеличении количества объектов."
   ]
  },
  {
   "cell_type": "markdown",
   "metadata": {},
   "source": [
    "### 2. Добавление категориальных признаков в модели (1 балл)\n",
    "\n",
    "Пока мы не использовали нечисловые признаки, которые есть в датасете. Давайте посмотрим, правильно ли мы сделали и увеличится ли качество моделей после добавлениях этих признаков. \n",
    "\n",
    "Преобразуйте все категориальные признаки с помощью метода one-hot-encoding (например, это можно сделать с помощью функции [pandas.get_dummies](http://pandas.pydata.org/pandas-docs/stable/generated/pandas.get_dummies.html) или [DictVectorizer](http://scikit-learn.org/stable/modules/generated/sklearn.feature_extraction.DictVectorizer.html) / [OneHotEncoder](http://scikit-learn.org/stable/modules/generated/sklearn.preprocessing.OneHotEncoder.html) из sklearn)."
   ]
  },
  {
   "cell_type": "code",
   "execution_count": 31,
   "metadata": {},
   "outputs": [
    {
     "data": {
      "text/html": [
       "<div>\n",
       "<style>\n",
       "    .dataframe thead tr:only-child th {\n",
       "        text-align: right;\n",
       "    }\n",
       "\n",
       "    .dataframe thead th {\n",
       "        text-align: left;\n",
       "    }\n",
       "\n",
       "    .dataframe tbody tr th {\n",
       "        vertical-align: top;\n",
       "    }\n",
       "</style>\n",
       "<table border=\"1\" class=\"dataframe\">\n",
       "  <thead>\n",
       "    <tr style=\"text-align: right;\">\n",
       "      <th></th>\n",
       "      <th>age</th>\n",
       "      <th>fnlwgt</th>\n",
       "      <th>education-num</th>\n",
       "      <th>capital-gain</th>\n",
       "      <th>capital-loss</th>\n",
       "      <th>hours-per-week</th>\n",
       "      <th>workclass_Federal-gov</th>\n",
       "      <th>workclass_Local-gov</th>\n",
       "      <th>workclass_Private</th>\n",
       "      <th>workclass_Self-emp-inc</th>\n",
       "      <th>...</th>\n",
       "      <th>relationship_Own-child</th>\n",
       "      <th>relationship_Unmarried</th>\n",
       "      <th>relationship_Wife</th>\n",
       "      <th>race_Amer-Indian-Eskimo</th>\n",
       "      <th>race_Asian-Pac-Islander</th>\n",
       "      <th>race_Black</th>\n",
       "      <th>race_Other</th>\n",
       "      <th>race_White</th>\n",
       "      <th>sex_Female</th>\n",
       "      <th>sex_Male</th>\n",
       "    </tr>\n",
       "  </thead>\n",
       "  <tbody>\n",
       "    <tr>\n",
       "      <th>0</th>\n",
       "      <td>-0.342919</td>\n",
       "      <td>0.900258</td>\n",
       "      <td>-0.450788</td>\n",
       "      <td>-0.065600</td>\n",
       "      <td>-0.21874</td>\n",
       "      <td>1.588223</td>\n",
       "      <td>0.0</td>\n",
       "      <td>1.0</td>\n",
       "      <td>0.0</td>\n",
       "      <td>0.0</td>\n",
       "      <td>...</td>\n",
       "      <td>0.0</td>\n",
       "      <td>0.0</td>\n",
       "      <td>0.0</td>\n",
       "      <td>0.0</td>\n",
       "      <td>0.0</td>\n",
       "      <td>1.0</td>\n",
       "      <td>0.0</td>\n",
       "      <td>0.0</td>\n",
       "      <td>0.0</td>\n",
       "      <td>1.0</td>\n",
       "    </tr>\n",
       "    <tr>\n",
       "      <th>1</th>\n",
       "      <td>0.114760</td>\n",
       "      <td>0.010683</td>\n",
       "      <td>-0.059086</td>\n",
       "      <td>-0.150439</td>\n",
       "      <td>-0.21874</td>\n",
       "      <td>-0.074178</td>\n",
       "      <td>0.0</td>\n",
       "      <td>0.0</td>\n",
       "      <td>1.0</td>\n",
       "      <td>0.0</td>\n",
       "      <td>...</td>\n",
       "      <td>0.0</td>\n",
       "      <td>0.0</td>\n",
       "      <td>0.0</td>\n",
       "      <td>0.0</td>\n",
       "      <td>0.0</td>\n",
       "      <td>0.0</td>\n",
       "      <td>0.0</td>\n",
       "      <td>1.0</td>\n",
       "      <td>0.0</td>\n",
       "      <td>1.0</td>\n",
       "    </tr>\n",
       "    <tr>\n",
       "      <th>2</th>\n",
       "      <td>-0.190359</td>\n",
       "      <td>-0.106280</td>\n",
       "      <td>1.116020</td>\n",
       "      <td>-0.150439</td>\n",
       "      <td>-0.21874</td>\n",
       "      <td>-0.074178</td>\n",
       "      <td>0.0</td>\n",
       "      <td>1.0</td>\n",
       "      <td>0.0</td>\n",
       "      <td>0.0</td>\n",
       "      <td>...</td>\n",
       "      <td>1.0</td>\n",
       "      <td>0.0</td>\n",
       "      <td>0.0</td>\n",
       "      <td>0.0</td>\n",
       "      <td>0.0</td>\n",
       "      <td>0.0</td>\n",
       "      <td>0.0</td>\n",
       "      <td>1.0</td>\n",
       "      <td>0.0</td>\n",
       "      <td>1.0</td>\n",
       "    </tr>\n",
       "    <tr>\n",
       "      <th>3</th>\n",
       "      <td>-1.258276</td>\n",
       "      <td>-0.041382</td>\n",
       "      <td>-0.059086</td>\n",
       "      <td>-0.150439</td>\n",
       "      <td>-0.21874</td>\n",
       "      <td>-0.905379</td>\n",
       "      <td>0.0</td>\n",
       "      <td>0.0</td>\n",
       "      <td>1.0</td>\n",
       "      <td>0.0</td>\n",
       "      <td>...</td>\n",
       "      <td>1.0</td>\n",
       "      <td>0.0</td>\n",
       "      <td>0.0</td>\n",
       "      <td>0.0</td>\n",
       "      <td>0.0</td>\n",
       "      <td>0.0</td>\n",
       "      <td>0.0</td>\n",
       "      <td>1.0</td>\n",
       "      <td>1.0</td>\n",
       "      <td>0.0</td>\n",
       "    </tr>\n",
       "    <tr>\n",
       "      <th>4</th>\n",
       "      <td>0.648719</td>\n",
       "      <td>-0.371197</td>\n",
       "      <td>1.116020</td>\n",
       "      <td>1.995391</td>\n",
       "      <td>-0.21874</td>\n",
       "      <td>-0.074178</td>\n",
       "      <td>0.0</td>\n",
       "      <td>0.0</td>\n",
       "      <td>1.0</td>\n",
       "      <td>0.0</td>\n",
       "      <td>...</td>\n",
       "      <td>0.0</td>\n",
       "      <td>0.0</td>\n",
       "      <td>0.0</td>\n",
       "      <td>0.0</td>\n",
       "      <td>0.0</td>\n",
       "      <td>0.0</td>\n",
       "      <td>0.0</td>\n",
       "      <td>1.0</td>\n",
       "      <td>0.0</td>\n",
       "      <td>1.0</td>\n",
       "    </tr>\n",
       "  </tbody>\n",
       "</table>\n",
       "<p>5 rows × 63 columns</p>\n",
       "</div>"
      ],
      "text/plain": [
       "        age    fnlwgt  education-num  capital-gain  capital-loss  \\\n",
       "0 -0.342919  0.900258      -0.450788     -0.065600      -0.21874   \n",
       "1  0.114760  0.010683      -0.059086     -0.150439      -0.21874   \n",
       "2 -0.190359 -0.106280       1.116020     -0.150439      -0.21874   \n",
       "3 -1.258276 -0.041382      -0.059086     -0.150439      -0.21874   \n",
       "4  0.648719 -0.371197       1.116020      1.995391      -0.21874   \n",
       "\n",
       "   hours-per-week  workclass_Federal-gov  workclass_Local-gov  \\\n",
       "0        1.588223                    0.0                  1.0   \n",
       "1       -0.074178                    0.0                  0.0   \n",
       "2       -0.074178                    0.0                  1.0   \n",
       "3       -0.905379                    0.0                  0.0   \n",
       "4       -0.074178                    0.0                  0.0   \n",
       "\n",
       "   workclass_Private  workclass_Self-emp-inc    ...     \\\n",
       "0                0.0                     0.0    ...      \n",
       "1                1.0                     0.0    ...      \n",
       "2                0.0                     0.0    ...      \n",
       "3                1.0                     0.0    ...      \n",
       "4                1.0                     0.0    ...      \n",
       "\n",
       "   relationship_Own-child  relationship_Unmarried  relationship_Wife  \\\n",
       "0                     0.0                     0.0                0.0   \n",
       "1                     0.0                     0.0                0.0   \n",
       "2                     1.0                     0.0                0.0   \n",
       "3                     1.0                     0.0                0.0   \n",
       "4                     0.0                     0.0                0.0   \n",
       "\n",
       "   race_Amer-Indian-Eskimo  race_Asian-Pac-Islander  race_Black  race_Other  \\\n",
       "0                      0.0                      0.0         1.0         0.0   \n",
       "1                      0.0                      0.0         0.0         0.0   \n",
       "2                      0.0                      0.0         0.0         0.0   \n",
       "3                      0.0                      0.0         0.0         0.0   \n",
       "4                      0.0                      0.0         0.0         0.0   \n",
       "\n",
       "   race_White  sex_Female  sex_Male  \n",
       "0         0.0         0.0       1.0  \n",
       "1         1.0         0.0       1.0  \n",
       "2         1.0         0.0       1.0  \n",
       "3         1.0         1.0       0.0  \n",
       "4         1.0         0.0       1.0  \n",
       "\n",
       "[5 rows x 63 columns]"
      ]
     },
     "execution_count": 31,
     "metadata": {},
     "output_type": "execute_result"
    }
   ],
   "source": [
    "X_int_cat = X_int_scaled.copy()\n",
    "X_int_cat.reset_index(drop=True, inplace=True)\n",
    "for column in non_integral:\n",
    "    label_encoder = LabelEncoder()\n",
    "    integer_encoded = label_encoder.fit_transform(data[column])\n",
    "    integer_encoded = integer_encoded.reshape(-1, 1)\n",
    "    \n",
    "    one_hot = OneHotEncoder(sparse=False)\n",
    "    one_hot_encoded = one_hot.fit_transform(integer_encoded)\n",
    "    \n",
    "    labels = data[column].sort_values().unique()\n",
    "    one_hot_df = pd.DataFrame(one_hot_encoded, columns=labels).add_prefix(f'{column}_')\n",
    "\n",
    "    X_int_cat = pd.concat([X_int_cat, one_hot_df], axis=1)\n",
    "\n",
    "X_int_cat.head()"
   ]
  },
  {
   "cell_type": "markdown",
   "metadata": {},
   "source": [
    "Так как после кодирования признаков получилось достаточно много, в этой работе мы не будем добавлять их и подбирать заново оптимальные гиперпараметры (хотя правильнее было бы это сделать). \n",
    "\n",
    "Добавьте к масштабированным вещественным признакам закодированные категориальные и обучите алгоритмы с наилучшими гиперпараметрами из предыдущего пункта. Дало ли добавление новых признаков прирост качества? Измеряйте качество как и раньше используя 5-Fold CV. Для этого удобно воспользоваться функцией [cross_val_score](http://scikit-learn.org/stable/modules/generated/sklearn.model_selection.cross_val_score.html#sklearn.model_selection.cross_val_score).\n",
    "\n",
    "Отличается ли теперь наилучший классификатор от наилучшего в предыдущем пункте?"
   ]
  },
  {
   "cell_type": "code",
   "execution_count": 32,
   "metadata": {},
   "outputs": [
    {
     "data": {
      "text/plain": [
       "0.87412769429170756"
      ]
     },
     "execution_count": 32,
     "metadata": {},
     "output_type": "execute_result"
    }
   ],
   "source": [
    "clf = KNeighborsClassifier(n_neighbors=10, metric='manhattan')\n",
    "cross_val_score(clf, X_int_cat, y, cv=5, scoring='roc_auc').mean()"
   ]
  },
  {
   "cell_type": "code",
   "execution_count": 33,
   "metadata": {},
   "outputs": [
    {
     "data": {
      "text/plain": [
       "0.89358790212003714"
      ]
     },
     "execution_count": 33,
     "metadata": {},
     "output_type": "execute_result"
    }
   ],
   "source": [
    "clf = DecisionTreeClassifier(random_state=42, max_depth=7, min_samples_leaf=4)\n",
    "cross_val_score(clf, X_int_cat, y, cv=5, scoring='roc_auc').mean()"
   ]
  },
  {
   "cell_type": "code",
   "execution_count": 34,
   "metadata": {},
   "outputs": [
    {
     "data": {
      "text/plain": [
       "0.87935134086628486"
      ]
     },
     "execution_count": 34,
     "metadata": {},
     "output_type": "execute_result"
    }
   ],
   "source": [
    "clf = SGDClassifier(random_state=42, max_iter=5, tol=None, loss='log', penalty='l1')\n",
    "cross_val_score(clf, X_int_cat, y, cv=5, scoring='roc_auc').mean()"
   ]
  },
  {
   "cell_type": "code",
   "execution_count": 35,
   "metadata": {},
   "outputs": [
    {
     "data": {
      "text/plain": [
       "0.90901092074037027"
      ]
     },
     "execution_count": 35,
     "metadata": {},
     "output_type": "execute_result"
    }
   ],
   "source": [
    "clf = RandomForestClassifier(n_estimators=50, random_state=42, max_features='log2', min_samples_leaf=9)\n",
    "cross_val_score(clf, X_int_cat, y, cv=5, scoring='roc_auc').mean()"
   ]
  },
  {
   "cell_type": "markdown",
   "metadata": {},
   "source": [
    "Качество заметно выросло, наилучший классификатор - все так же случайный лес."
   ]
  },
  {
   "cell_type": "markdown",
   "metadata": {},
   "source": [
    " "
   ]
  },
  {
   "cell_type": "markdown",
   "metadata": {},
   "source": [
    "### 3. Смешивание моделей - blending (1.5 балла)\n",
    "\n",
    "Во всех предыдущих пунктах мы получили много сильных моделей, которые могут быть достаточно разными по своей природе (например, метод ближайших соседей и случайный лес). Часто на практике оказывается возможным увеличить качество предсказани путем смешивания подобных разных моделей. Давайте посмотрим, действительно ли это дает прирост в качестве.\n",
    "\n",
    "Выберете из построенных моделей двух предыдущих пунктов две, которые дали наибольшее начество на кросс-валидации (обозначим их $clf_1$ и $clf_2$). Далее постройте новый классификатор, ответ которого на некотором объекте $x$ будет выглядеть следующим образом:\n",
    "\n",
    "$$result(x) = clf_1(x) * \\alpha + clf_2(x) * (1 - \\alpha)$$\n",
    "\n",
    "где $\\alpha$ — гиперпараметр нового классификатора."
   ]
  },
  {
   "cell_type": "markdown",
   "metadata": {},
   "source": [
    "#### 3.1. Реализация класса (1 балл)\n",
    "При реализации своих моделей хорошей практикой является создание sklearn-совместимых классов. Во-первых, такая реализация будет иметь стандартный интерфейс и позволит другим людям безболезненно обучать реализованные вами модели. Во-вторых, появляется возможность использовать любой функционал пакета sklearn, принимающий на вход модель, например, класс *GridSearchCV*, *learning_curve* и другие.\n",
    "\n",
    "Создайте классификатор, который инициализируется двумя произвольными классификаторами и параметром $\\alpha$. Во время обучения такой классификатор должен обучать обе базовые модели, а на этапе предсказания замешивать предсказания базовых моделей по формуле, указанной выше. \n",
    "\n",
    "Для создания пользовательского классификатора необходимо отнаследоваться от базовых классов *[BaseEstimator](http://scikit-learn.org/stable/modules/generated/sklearn.base.BaseEstimator.html), [ClassifierMixin](http://scikit-learn.org/stable/modules/generated/sklearn.base.ClassifierMixin.html)* и реализовать методы *\\_\\_init\\_\\_, fit, predict и predict_proba*. Пример sklearn-совместимого классификатора с комментариями можно найти [здесь](http://scikit-learn.org/stable/developers/contributing.html#rolling-your-own-estimator) "
   ]
  },
  {
   "cell_type": "code",
   "execution_count": 36,
   "metadata": {},
   "outputs": [],
   "source": [
    "class BlendingClassifier(BaseEstimator, ClassifierMixin):\n",
    "    def __init__(self, clf1, clf2, alpha=0.5):\n",
    "        self.clf1 = clf1\n",
    "        self.clf2 = clf2\n",
    "        self.alpha = alpha\n",
    "    \n",
    "    def fit(self, X, y):\n",
    "        self.clf1.fit(X, y)\n",
    "        self.clf2.fit(X, y)\n",
    "        return self\n",
    "    \n",
    "    def predict(self, X):\n",
    "        clf1_pred = self.clf1.predict(X)\n",
    "        clf2_pred = self.clf2.predict(X)\n",
    "        return clf1_pred*self.alpha + clf2_pred*(1 - self.alpha)\n",
    "    \n",
    "    def predict_proba(self, X):\n",
    "        clf1_pred_proba = self.clf1.predict_proba(X)\n",
    "        clf2_pred_proba = self.clf2.predict_proba(X)\n",
    "        return clf1_pred_proba*self.alpha + clf2_pred_proba*(1 - self.alpha)"
   ]
  },
  {
   "cell_type": "markdown",
   "metadata": {},
   "source": [
    "#### 3.2. Подбор $\\alpha$ (0.5 балла) \n",
    "Подберите по сетке от 0 до 1 значение $\\alpha$ для этого классификатора. \n",
    "Поскольку на обучающей выборе алгоритмы обычно дают более хорошее предсказание, чем на тестовой выборке, то $\\alpha$ корректно подбирать, используя предсказания именно на тестовой выборке, а не на обучающей. Чтобы получить предсказания для каждого объекта как если бы он был в тестовой выборке, используйте 5-Fold CV — $clf_1$ и $clf_2$.\n",
    "Если класс реализован правильно, то вы cможете использовать *GridSearchCV*, как в случае с обычными классификаторами.\n",
    "\n",
    "Изобразите на графике среднее качество по фолдам и доверительный интервал в зависимости от $\\alpha$.\n",
    "\n",
    "\n",
    "Out-of-fold предсказания можно получить, например, с помощью [cross_val_predict](http://scikit-learn.org/stable/modules/generated/sklearn.model_selection.cross_val_predict.html) в sklearn.\n",
    "\n",
    "Дал ли этот подход прирост к качеству по сравнению с моделями, обученными по-отдельности? Поясните, почему даже простой блендинг моделей может влять на итоговое качество?"
   ]
  },
  {
   "cell_type": "code",
   "execution_count": 41,
   "metadata": {
    "collapsed": true
   },
   "outputs": [],
   "source": [
    "def plot_params_score(alphas, scores):\n",
    "    means = np.zeros(len(scores))\n",
    "    stds = np.zeros(len(scores))\n",
    "    for i, score in enumerate(scores):\n",
    "        means[i] = np.mean(score)\n",
    "        stds[i] = np.std(score)\n",
    "\n",
    "    plt.errorbar(range(len(scores)), means, xerr=0.5, yerr=2*stds, linestyle='', fmt='o')\n",
    "    plt.xticks(range(len(scores)), alphas, rotation='vertical')\n",
    "    plt.xlabel('alpha')\n",
    "    plt.ylabel('score')\n",
    "    plt.show()"
   ]
  },
  {
   "cell_type": "code",
   "execution_count": 43,
   "metadata": {},
   "outputs": [
    {
     "name": "stdout",
     "output_type": "stream",
     "text": [
      "alpha: 0.1, score: 0.9056477018402479\n",
      "alpha: 0.2, score: 0.907129287163713\n",
      "alpha: 0.30000000000000004, score: 0.9084262694363883\n",
      "alpha: 0.4, score: 0.9094331121342834\n",
      "alpha: 0.5, score: 0.9102353777250519\n",
      "alpha: 0.6000000000000001, score: 0.9108342895459561\n",
      "alpha: 0.7000000000000001, score: 0.9111149243524105\n",
      "alpha: 0.8, score: 0.9110010689985095\n",
      "alpha: 0.9, score: 0.9103475379408478\n"
     ]
    },
    {
     "data": {
      "image/png": "[encoded data removed]",
      "text/plain": [
       "<matplotlib.figure.Figure at 0x2b5231cb780>"
      ]
     },
     "metadata": {},
     "output_type": "display_data"
    }
   ],
   "source": [
    "clf1 = RandomForestClassifier(n_estimators=50, random_state=42, max_features='log2', min_samples_leaf=9)\n",
    "clf2 = DecisionTreeClassifier(random_state=42, max_depth=7, min_samples_leaf=4)\n",
    "alphas = list(map(lambda i: i*0.1, range(1, 10)))\n",
    "scores = [0]*len(alphas)\n",
    "for i, alpha in enumerate(alphas):\n",
    "    blending = BlendingClassifier(clf1, clf2, alpha)\n",
    "    scores[i] = cross_val_score(blending, X_int_cat, y, cv=5, scoring='roc_auc')\n",
    "    print(f'alpha: {alpha}, score: {scores[i].mean()}')\n",
    "plot_params_score(alphas, scores)"
   ]
  },
  {
   "cell_type": "markdown",
   "metadata": {},
   "source": [
    "Блендинг дал прирост к качеству из-за того, что классификаторы могли ошибаться на разных ответах и поправлять ошибки друг друга."
   ]
  },
  {
   "cell_type": "markdown",
   "metadata": {},
   "source": [
    " "
   ]
  }
 ],
 "metadata": {
  "kernelspec": {
   "display_name": "Python 3",
   "language": "python",
   "name": "python3"
  },
  "language_info": {
   "codemirror_mode": {
    "name": "ipython",
    "version": 3
   },
   "file_extension": ".py",
   "mimetype": "text/x-python",
   "name": "python",
   "nbconvert_exporter": "python",
   "pygments_lexer": "ipython3",
   "version": "3.6.3"
  }
 },
 "nbformat": 4,
 "nbformat_minor": 1
}
