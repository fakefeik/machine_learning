{
 "cells": [
  {
   "cell_type": "markdown",
   "metadata": {},
   "source": [
    "# Лабораторная работа: Анализ данных о пассажирах Титаника\n",
    "\n",
    "---\n",
    "\n",
    "В рамках лабораторной работы необходимо провести ручной анализ данных о пассажирах затонувшего корабля Титаник. Будут оцениваться четкость ответов на вопросы, аккуратность отчета и кода.\n",
    "\n",
    "## Задание\n",
    "\n",
    "1. Загрузите набор данных: файл `train.csv` на странице учебного соревнования [Titanic: Machine Learning from Disaster](http://www.kaggle.com/c/titanic-gettingStarted/data). Там же вы найдете описание формата файла. Для загрузки файлов необходимо зарегистрироваться в Kaggle, если вы еще не имеете аккаунта. Обратите внимание — `train.csv` содержит не всех пассажиров, меньшая их часть была отложена на контроль (`test.csv`), но можно считать что разбиение было случайным (попадание пассажира в ту или иную группы не зависит от пассажира и его характеристик).\n",
    "2. Что данные могут рассказать о задаче? Попробуйте содержательно ответить на следующие вопросы, подкрепляя их свидетельствами в виде графиков, гистограмм, приводя статистики распределений (средние, медианы, стандартные отклонения):\n",
    "  - Как много пассажиров ехало первым классом?\n",
    "  - Какой возраст имели пассажиры?\n",
    "  - Коррелируют ли число братьев/сестер с числом родителей/детей?\n",
    "  - Какое самое популярное женское имя на корабле?\n",
    "  - Как варьируется цена билета на Титаник?\n",
    "  - Какие титулы имели пассажиры (примеры титула — Mrs., Mr.), едущие различными классами?\n",
    "  - Есть ли зависимость между классом и номером билета?\n",
    "  - Какой части пассажиров удалось выжить?\n",
    "3. Попробуйте вручную найти закономерности, описывающие выживших пассажиров:\n",
    "  - Верно ли, что женщины выживали чаще мужчин?\n",
    "  - Верно ли, что чаще выживали пассажиры с более дорогими билетами?\n",
    "  - Найдите закономерности, точно описывающие группу выживших пассажиров (все пассажиры, попадающие под правило — выжили). Что можно сказать про сложность и интерпретацию этих закономерностей? Есть ли среди них логичные? Есть ли примеры _ложных_ закономерностей? \n",
    "\n",
    "## Отчет\n",
    "\n",
    "Результат лабораторной работы — **отчет**. Мы предпочитаем принимать отчеты в формате ноутбуков IPython (`ipynb`-файл). Нам не интересен ваш код. Чем меньше кода, тем лучше всем: нам — меньше проверять, вам — проще найти ошибку или дополнить эксперимент.\n",
    "\n",
    "Постарайтесь сделать ваш отчет **интересным рассказом**, последовательно отвечающим на вопросы из задания.\n",
    "\n",
    "Не забывайте подписывать оси на графиках!\n",
    "\n",
    "![](http://imgs.xkcd.com/comics/convincing.png)\n",
    "\n",
    "## Инструменты для выполнения задания\n",
    "\n",
    "### IPython Notebook\n",
    "\n",
    "  * [Галерея интересных ноутбуков](https://github.com/ipython/ipython/wiki/A-gallery-of-interesting-IPython-Notebooks)\n",
    "\n",
    "### Библиотеки Python\n",
    "\n",
    "  * [NumPy](http://www.numpy.org/)\n",
    "    - [руководство для пользователей Matlab](http://wiki.scipy.org/NumPy_for_Matlab_Users)\n",
    "  * [Pandas](http://pandas.pydata.org/)\n",
    "    - [пример работы с данными при помощи pandas](http://nbviewer.ipython.org/github/agconti/kaggle-titanic/blob/master/Titanic.ipynb)\n",
    "  * [Matplotlib](http://matplotlib.org/index.html)\n",
    "    - [pyplot](http://matplotlib.org/api/pyplot_api.html) — эмуляция функционала графопостроений в Matlab\n",
    "    - [галерея примеров](http://matplotlib.org/gallery.html)\n",
    "  * [SciPy](http://scipy.org/)"
   ]
  },
  {
   "cell_type": "code",
   "execution_count": 2,
   "metadata": {
    "collapsed": true
   },
   "outputs": [],
   "source": [
    "import pandas as pd\n",
    "import numpy as np\n",
    "import seaborn as sns\n",
    "\n",
    "from matplotlib import pyplot as plt\n",
    "%matplotlib inline"
   ]
  },
  {
   "cell_type": "code",
   "execution_count": 3,
   "metadata": {},
   "outputs": [
    {
     "data": {
      "text/html": [
       "<div>\n",
       "<style>\n",
       "    .dataframe thead tr:only-child th {\n",
       "        text-align: right;\n",
       "    }\n",
       "\n",
       "    .dataframe thead th {\n",
       "        text-align: left;\n",
       "    }\n",
       "\n",
       "    .dataframe tbody tr th {\n",
       "        vertical-align: top;\n",
       "    }\n",
       "</style>\n",
       "<table border=\"1\" class=\"dataframe\">\n",
       "  <thead>\n",
       "    <tr style=\"text-align: right;\">\n",
       "      <th></th>\n",
       "      <th>PassengerId</th>\n",
       "      <th>Survived</th>\n",
       "      <th>Pclass</th>\n",
       "      <th>Name</th>\n",
       "      <th>Sex</th>\n",
       "      <th>Age</th>\n",
       "      <th>SibSp</th>\n",
       "      <th>Parch</th>\n",
       "      <th>Ticket</th>\n",
       "      <th>Fare</th>\n",
       "      <th>Cabin</th>\n",
       "      <th>Embarked</th>\n",
       "    </tr>\n",
       "  </thead>\n",
       "  <tbody>\n",
       "    <tr>\n",
       "      <th>0</th>\n",
       "      <td>1</td>\n",
       "      <td>0</td>\n",
       "      <td>3</td>\n",
       "      <td>Braund, Mr. Owen Harris</td>\n",
       "      <td>male</td>\n",
       "      <td>22.0</td>\n",
       "      <td>1</td>\n",
       "      <td>0</td>\n",
       "      <td>A/5 21171</td>\n",
       "      <td>7.2500</td>\n",
       "      <td>NaN</td>\n",
       "      <td>S</td>\n",
       "    </tr>\n",
       "    <tr>\n",
       "      <th>1</th>\n",
       "      <td>2</td>\n",
       "      <td>1</td>\n",
       "      <td>1</td>\n",
       "      <td>Cumings, Mrs. John Bradley (Florence Briggs Th...</td>\n",
       "      <td>female</td>\n",
       "      <td>38.0</td>\n",
       "      <td>1</td>\n",
       "      <td>0</td>\n",
       "      <td>PC 17599</td>\n",
       "      <td>71.2833</td>\n",
       "      <td>C85</td>\n",
       "      <td>C</td>\n",
       "    </tr>\n",
       "    <tr>\n",
       "      <th>2</th>\n",
       "      <td>3</td>\n",
       "      <td>1</td>\n",
       "      <td>3</td>\n",
       "      <td>Heikkinen, Miss. Laina</td>\n",
       "      <td>female</td>\n",
       "      <td>26.0</td>\n",
       "      <td>0</td>\n",
       "      <td>0</td>\n",
       "      <td>STON/O2. 3101282</td>\n",
       "      <td>7.9250</td>\n",
       "      <td>NaN</td>\n",
       "      <td>S</td>\n",
       "    </tr>\n",
       "    <tr>\n",
       "      <th>3</th>\n",
       "      <td>4</td>\n",
       "      <td>1</td>\n",
       "      <td>1</td>\n",
       "      <td>Futrelle, Mrs. Jacques Heath (Lily May Peel)</td>\n",
       "      <td>female</td>\n",
       "      <td>35.0</td>\n",
       "      <td>1</td>\n",
       "      <td>0</td>\n",
       "      <td>113803</td>\n",
       "      <td>53.1000</td>\n",
       "      <td>C123</td>\n",
       "      <td>S</td>\n",
       "    </tr>\n",
       "    <tr>\n",
       "      <th>4</th>\n",
       "      <td>5</td>\n",
       "      <td>0</td>\n",
       "      <td>3</td>\n",
       "      <td>Allen, Mr. William Henry</td>\n",
       "      <td>male</td>\n",
       "      <td>35.0</td>\n",
       "      <td>0</td>\n",
       "      <td>0</td>\n",
       "      <td>373450</td>\n",
       "      <td>8.0500</td>\n",
       "      <td>NaN</td>\n",
       "      <td>S</td>\n",
       "    </tr>\n",
       "  </tbody>\n",
       "</table>\n",
       "</div>"
      ],
      "text/plain": [
       "   PassengerId  Survived  Pclass  \\\n",
       "0            1         0       3   \n",
       "1            2         1       1   \n",
       "2            3         1       3   \n",
       "3            4         1       1   \n",
       "4            5         0       3   \n",
       "\n",
       "                                                Name     Sex   Age  SibSp  \\\n",
       "0                            Braund, Mr. Owen Harris    male  22.0      1   \n",
       "1  Cumings, Mrs. John Bradley (Florence Briggs Th...  female  38.0      1   \n",
       "2                             Heikkinen, Miss. Laina  female  26.0      0   \n",
       "3       Futrelle, Mrs. Jacques Heath (Lily May Peel)  female  35.0      1   \n",
       "4                           Allen, Mr. William Henry    male  35.0      0   \n",
       "\n",
       "   Parch            Ticket     Fare Cabin Embarked  \n",
       "0      0         A/5 21171   7.2500   NaN        S  \n",
       "1      0          PC 17599  71.2833   C85        C  \n",
       "2      0  STON/O2. 3101282   7.9250   NaN        S  \n",
       "3      0            113803  53.1000  C123        S  \n",
       "4      0            373450   8.0500   NaN        S  "
      ]
     },
     "execution_count": 3,
     "metadata": {},
     "output_type": "execute_result"
    }
   ],
   "source": [
    "train = pd.read_csv('train.csv')\n",
    "test = pd.read_csv('test.csv')\n",
    "\n",
    "train.head()"
   ]
  },
  {
   "cell_type": "markdown",
   "metadata": {},
   "source": [
    "#### Как много пассажиров ехало первым классом?"
   ]
  },
  {
   "cell_type": "code",
   "execution_count": 4,
   "metadata": {},
   "outputs": [
    {
     "data": {
      "text/plain": [
       "(array([ 216.,  184.,  491.]),\n",
       " array([ 1.        ,  1.66666667,  2.33333333,  3.        ]),\n",
       " <a list of 3 Patch objects>)"
      ]
     },
     "execution_count": 4,
     "metadata": {},
     "output_type": "execute_result"
    },
    {
     "data": {
      "image/png": "[encoded data removed]",
      "text/plain": [
       "<matplotlib.figure.Figure at 0x20c470d7dd8>"
      ]
     },
     "metadata": {},
     "output_type": "display_data"
    }
   ],
   "source": [
    "len(train[train['Pclass'] == 1])\n",
    "plt.ylabel('count')\n",
    "plt.xlabel('Pclass')\n",
    "plt.hist(train['Pclass'], bins=3)"
   ]
  },
  {
   "cell_type": "markdown",
   "metadata": {},
   "source": [
    "По гистограмме видно, что первым классом ехало 216 человек, что примерно вдвое меньше человек чем третьим (491) и немного больше чем вторым (184)"
   ]
  },
  {
   "cell_type": "markdown",
   "metadata": {},
   "source": [
    "#### Какой возраст имели пассажиры?"
   ]
  },
  {
   "cell_type": "code",
   "execution_count": 5,
   "metadata": {},
   "outputs": [
    {
     "data": {
      "text/plain": [
       "(29.69911764705882, 28.0)"
      ]
     },
     "execution_count": 5,
     "metadata": {},
     "output_type": "execute_result"
    }
   ],
   "source": [
    "train['Age'].mean(), train['Age'].median()"
   ]
  },
  {
   "cell_type": "code",
   "execution_count": 6,
   "metadata": {},
   "outputs": [
    {
     "data": {
      "text/plain": [
       "(array([  54.,   46.,  177.,  169.,  118.,   70.,   45.,   24.,    9.,    2.]),\n",
       " array([  0.42 ,   8.378,  16.336,  24.294,  32.252,  40.21 ,  48.168,\n",
       "         56.126,  64.084,  72.042,  80.   ]),\n",
       " <a list of 10 Patch objects>)"
      ]
     },
     "execution_count": 6,
     "metadata": {},
     "output_type": "execute_result"
    },
    {
     "data": {
      "image/png": "[encoded data removed]",
      "text/plain": [
       "<matplotlib.figure.Figure at 0x20c4710dc88>"
      ]
     },
     "metadata": {},
     "output_type": "display_data"
    }
   ],
   "source": [
    "plt.ylabel('count')\n",
    "plt.xlabel('Age')\n",
    "plt.hist(train['Age'].dropna())"
   ]
  },
  {
   "cell_type": "markdown",
   "metadata": {},
   "source": [
    "Видно, что большинство пассажиров были в возрасте 18-30 лет, также довольно много людей 30-35 лет. Далее чем больше количество лет, тем меньше пассажиров с таким возрастом. Также выделяется группа детей (0-18) лет. Средний возраст в датасете - 29.6 лет, медианный - 28."
   ]
  },
  {
   "cell_type": "markdown",
   "metadata": {},
   "source": [
    "#### Коррелируют ли число братьев/сестер с числом родителей/детей?"
   ]
  },
  {
   "cell_type": "code",
   "execution_count": 7,
   "metadata": {},
   "outputs": [
    {
     "data": {
      "text/html": [
       "<div>\n",
       "<style>\n",
       "    .dataframe thead tr:only-child th {\n",
       "        text-align: right;\n",
       "    }\n",
       "\n",
       "    .dataframe thead th {\n",
       "        text-align: left;\n",
       "    }\n",
       "\n",
       "    .dataframe tbody tr th {\n",
       "        vertical-align: top;\n",
       "    }\n",
       "</style>\n",
       "<table border=\"1\" class=\"dataframe\">\n",
       "  <thead>\n",
       "    <tr style=\"text-align: right;\">\n",
       "      <th></th>\n",
       "      <th>SibSp</th>\n",
       "      <th>Parch</th>\n",
       "    </tr>\n",
       "  </thead>\n",
       "  <tbody>\n",
       "    <tr>\n",
       "      <th>SibSp</th>\n",
       "      <td>1.000000</td>\n",
       "      <td>0.414838</td>\n",
       "    </tr>\n",
       "    <tr>\n",
       "      <th>Parch</th>\n",
       "      <td>0.414838</td>\n",
       "      <td>1.000000</td>\n",
       "    </tr>\n",
       "  </tbody>\n",
       "</table>\n",
       "</div>"
      ],
      "text/plain": [
       "          SibSp     Parch\n",
       "SibSp  1.000000  0.414838\n",
       "Parch  0.414838  1.000000"
      ]
     },
     "execution_count": 7,
     "metadata": {},
     "output_type": "execute_result"
    }
   ],
   "source": [
    "train[['SibSp', 'Parch']].corr()"
   ]
  },
  {
   "cell_type": "code",
   "execution_count": 8,
   "metadata": {},
   "outputs": [
    {
     "data": {
      "text/plain": [
       "<seaborn.axisgrid.PairGrid at 0x20c474bacc0>"
      ]
     },
     "execution_count": 8,
     "metadata": {},
     "output_type": "execute_result"
    },
    {
     "data": {
      "image/png": "[encoded data removed]",
      "text/plain": [
       "<matplotlib.figure.Figure at 0x20c474bac50>"
      ]
     },
     "metadata": {},
     "output_type": "display_data"
    }
   ],
   "source": [
    "sns.pairplot(train[['SibSp', 'Parch']])"
   ]
  },
  {
   "cell_type": "markdown",
   "metadata": {},
   "source": [
    "По коэффициенту корреляции 0.41 можно сказать, что есть слабая корреляция. Однако, по построенному pairplot'у нельзя увидеть какой-либо линейной зависимости. Так как корреляция - мера линейной зависимости, то в данном случае смотреть на коэффициент бессмысленно, так как линейной зависимости нет."
   ]
  },
  {
   "cell_type": "markdown",
   "metadata": {},
   "source": [
    "#### Какое самое популярное женское имя на корабле?"
   ]
  },
  {
   "cell_type": "code",
   "execution_count": 121,
   "metadata": {},
   "outputs": [
    {
     "data": {
      "text/plain": [
       "Anna         15\n",
       "Mary         14\n",
       "Elizabeth    11\n",
       "Margaret     10\n",
       "Alice         6\n",
       "Bertha        5\n",
       "Helen         5\n",
       "Maria         5\n",
       "Emily         4\n",
       "Annie         4\n",
       "Name: FirstName, dtype: int64"
      ]
     },
     "execution_count": 121,
     "metadata": {},
     "output_type": "execute_result"
    }
   ],
   "source": [
    "def get_first_name(name):\n",
    "    s = name.split()\n",
    "    if 'Mrs.' in s:\n",
    "        for i in range(s.index('Mrs.'), len(s)):\n",
    "            if s[i].startswith(\"(\"):\n",
    "                return s[i][1:].replace(')', '')\n",
    "        return s[s.index('Mrs.') + 1]\n",
    "    if 'Miss.' in s:\n",
    "        return s[s.index('Miss.') + 1]\n",
    "\n",
    "train['FirstName'] = train[train['Sex'] == 'female']['Name'].map(get_first_name)\n",
    "train['FirstName'].value_counts()[:10]"
   ]
  },
  {
   "cell_type": "markdown",
   "metadata": {},
   "source": [
    "Самое популярное женское имя - Анна. Следом идут Мэри и Элизабет."
   ]
  },
  {
   "cell_type": "markdown",
   "metadata": {},
   "source": [
    "#### Как варьируется цена билета на Титаник?"
   ]
  },
  {
   "cell_type": "code",
   "execution_count": 10,
   "metadata": {},
   "outputs": [
    {
     "data": {
      "text/plain": [
       "8.0500     43\n",
       "13.0000    42\n",
       "7.8958     38\n",
       "7.7500     34\n",
       "26.0000    31\n",
       "10.5000    24\n",
       "7.9250     18\n",
       "7.7750     16\n",
       "26.5500    15\n",
       "0.0000     15\n",
       "7.2292     15\n",
       "7.8542     13\n",
       "8.6625     13\n",
       "7.2500     13\n",
       "7.2250     12\n",
       "16.1000     9\n",
       "9.5000      9\n",
       "24.1500     8\n",
       "15.5000     8\n",
       "56.4958     7\n",
       "Name: Fare, dtype: int64"
      ]
     },
     "execution_count": 10,
     "metadata": {},
     "output_type": "execute_result"
    }
   ],
   "source": [
    "train['Fare'].value_counts().nlargest(20)"
   ]
  },
  {
   "cell_type": "code",
   "execution_count": 11,
   "metadata": {},
   "outputs": [
    {
     "data": {
      "text/plain": [
       "106.4250    2\n",
       "108.9000    2\n",
       "110.8833    4\n",
       "113.2750    3\n",
       "120.0000    4\n",
       "133.6500    2\n",
       "134.5000    2\n",
       "135.6333    3\n",
       "146.5208    2\n",
       "151.5500    4\n",
       "153.4625    3\n",
       "164.8667    2\n",
       "211.3375    3\n",
       "211.5000    1\n",
       "221.7792    1\n",
       "227.5250    4\n",
       "247.5208    2\n",
       "262.3750    2\n",
       "263.0000    4\n",
       "512.3292    3\n",
       "Name: Fare, dtype: int64"
      ]
     },
     "execution_count": 11,
     "metadata": {},
     "output_type": "execute_result"
    }
   ],
   "source": [
    "train['Fare'].value_counts().sort_index()[100:]"
   ]
  },
  {
   "cell_type": "code",
   "execution_count": 12,
   "metadata": {},
   "outputs": [
    {
     "data": {
      "text/plain": [
       "(array([ 732.,  106.,   31.,    2.,   11.,    6.,    0.,    0.,    0.,    3.]),\n",
       " array([   0.     ,   51.23292,  102.46584,  153.69876,  204.93168,\n",
       "         256.1646 ,  307.39752,  358.63044,  409.86336,  461.09628,\n",
       "         512.3292 ]),\n",
       " <a list of 10 Patch objects>)"
      ]
     },
     "execution_count": 12,
     "metadata": {},
     "output_type": "execute_result"
    },
    {
     "data": {
      "image/png": "[encoded data removed]",
      "text/plain": [
       "<matplotlib.figure.Figure at 0x20c47a1ddd8>"
      ]
     },
     "metadata": {},
     "output_type": "display_data"
    }
   ],
   "source": [
    "plt.ylabel('count')\n",
    "plt.xlabel('Fare')\n",
    "plt.hist(train['Fare'])"
   ]
  },
  {
   "cell_type": "markdown",
   "metadata": {},
   "source": [
    "По гистограмме видно, что большинство билетов было дешевле 100 фунтов. Если посмотреть на топ 20 значений по количеству пассажиров с данной ценой билета, можно сказать, что у большинства пассажиров билеты были дешевле 27 фунтов. Также были билеты, которые стоили более 100 фунтов (до 500), но их очень мало (есть несколько билетов за 100-160, несколько за 211-263 и три билета за 512)."
   ]
  },
  {
   "cell_type": "markdown",
   "metadata": {},
   "source": [
    "#### Какие титулы имели пассажиры (примеры титула — Mrs., Mr.), едущие различными классами?"
   ]
  },
  {
   "cell_type": "code",
   "execution_count": 13,
   "metadata": {
    "collapsed": true
   },
   "outputs": [],
   "source": [
    "def get_title(name):\n",
    "    return name.split(',')[1].split('.')[0]\n",
    "\n",
    "train['Title'] = train['Name'].map(get_title)"
   ]
  },
  {
   "cell_type": "code",
   "execution_count": 14,
   "metadata": {},
   "outputs": [
    {
     "data": {
      "text/plain": [
       " Mr              107\n",
       " Miss             46\n",
       " Mrs              42\n",
       " Dr                5\n",
       " Master            3\n",
       " Major             2\n",
       " Mlle              2\n",
       " Col               2\n",
       " Don               1\n",
       " Capt              1\n",
       " the Countess      1\n",
       " Jonkheer          1\n",
       " Mme               1\n",
       " Lady              1\n",
       " Sir               1\n",
       "Name: Title, dtype: int64"
      ]
     },
     "execution_count": 14,
     "metadata": {},
     "output_type": "execute_result"
    }
   ],
   "source": [
    "train[train['Pclass'] == 1]['Title'].value_counts()"
   ]
  },
  {
   "cell_type": "code",
   "execution_count": 15,
   "metadata": {},
   "outputs": [
    {
     "data": {
      "text/plain": [
       " Mr        91\n",
       " Mrs       41\n",
       " Miss      34\n",
       " Master     9\n",
       " Rev        6\n",
       " Dr         2\n",
       " Ms         1\n",
       "Name: Title, dtype: int64"
      ]
     },
     "execution_count": 15,
     "metadata": {},
     "output_type": "execute_result"
    }
   ],
   "source": [
    "train[train['Pclass'] == 2]['Title'].value_counts()"
   ]
  },
  {
   "cell_type": "code",
   "execution_count": 16,
   "metadata": {},
   "outputs": [
    {
     "data": {
      "text/plain": [
       " Mr        319\n",
       " Miss      102\n",
       " Mrs        42\n",
       " Master     28\n",
       "Name: Title, dtype: int64"
      ]
     },
     "execution_count": 16,
     "metadata": {},
     "output_type": "execute_result"
    }
   ],
   "source": [
    "train[train['Pclass'] == 3]['Title'].value_counts()"
   ]
  },
  {
   "cell_type": "markdown",
   "metadata": {},
   "source": [
    "Видно, что среди пассажиров первого класса намного больше редких титулов (например, Don, Major и прочие). Среди пассажиров второго класса редкие титулы также встречаются, но их меньше. В третьем классе редких титулов нет, но интересно, что титулов Miss (незамужних женщин) в нем в два с лишним раза больше, чем титулов Mrs (замужних), когда как в двух других классах количество Miss и Mrs примерно одинаковое. Больше всего во всех классах титулов Mr."
   ]
  },
  {
   "cell_type": "markdown",
   "metadata": {},
   "source": [
    "#### Есть ли зависимость между классом и номером билета?"
   ]
  },
  {
   "cell_type": "code",
   "execution_count": 17,
   "metadata": {
    "collapsed": true
   },
   "outputs": [],
   "source": [
    "def get_ticket_label(ticket):\n",
    "    s = ticket.split(' ')\n",
    "    if len(s) > 1:\n",
    "        return s[0]\n",
    "    return None\n",
    "\n",
    "train['TicketLabel'] = train['Ticket'].map(get_ticket_label)"
   ]
  },
  {
   "cell_type": "code",
   "execution_count": 18,
   "metadata": {},
   "outputs": [
    {
     "data": {
      "text/plain": [
       "PC        60\n",
       "WE/P       2\n",
       "W.E.P.     1\n",
       "F.C.       1\n",
       "Name: TicketLabel, dtype: int64"
      ]
     },
     "execution_count": 18,
     "metadata": {},
     "output_type": "execute_result"
    }
   ],
   "source": [
    "train[train['Pclass'] == 1]['TicketLabel'].value_counts()"
   ]
  },
  {
   "cell_type": "code",
   "execution_count": 19,
   "metadata": {},
   "outputs": [
    {
     "data": {
      "text/plain": [
       "C.A.        19\n",
       "S.O.C.       5\n",
       "F.C.C.       5\n",
       "SC/PARIS     5\n",
       "SC/Paris     4\n",
       "Name: TicketLabel, dtype: int64"
      ]
     },
     "execution_count": 19,
     "metadata": {},
     "output_type": "execute_result"
    }
   ],
   "source": [
    "train[train['Pclass'] == 2]['TicketLabel'].value_counts()[:5]"
   ]
  },
  {
   "cell_type": "code",
   "execution_count": 20,
   "metadata": {},
   "outputs": [
    {
     "data": {
      "text/plain": [
       "STON/O        12\n",
       "A/5           10\n",
       "SOTON/O.Q.     8\n",
       "CA.            8\n",
       "C.A.           8\n",
       "Name: TicketLabel, dtype: int64"
      ]
     },
     "execution_count": 20,
     "metadata": {},
     "output_type": "execute_result"
    }
   ],
   "source": [
    "train[train['Pclass'] == 3]['TicketLabel'].value_counts()[:5]"
   ]
  },
  {
   "cell_type": "markdown",
   "metadata": {},
   "source": [
    "В обсуждениях датасета [можно найти](https://www.kaggle.com/c/titanic/discussion/11127) обсуждение номеров билетов. Там обсуждаются интересные предположения. В частности, по номерам билета можно определить, например, няню или сопровождающего ребенка взрослого (у них скорее всего будет близкий номер). Также там говорится, что префикс билета возможно означает точку продажи билета или точку посадки. Если посчитать количество для каждого такого префикса по классам, то отчетливо видно, что у почти всех, кто едет первым классом, префикс `PC`, так что, возможно они покупали билеты в одном месте. Для второго класса у большинства пассажиров префикс `C.A.`, а для третьего - `STON/O` и `A/5`."
   ]
  },
  {
   "cell_type": "markdown",
   "metadata": {},
   "source": [
    "#### Какой части пассажиров удалось выжить?"
   ]
  },
  {
   "cell_type": "code",
   "execution_count": 21,
   "metadata": {},
   "outputs": [
    {
     "data": {
      "text/plain": [
       "0    549\n",
       "1    342\n",
       "Name: Survived, dtype: int64"
      ]
     },
     "execution_count": 21,
     "metadata": {},
     "output_type": "execute_result"
    }
   ],
   "source": [
    "train['Survived'].value_counts()"
   ]
  },
  {
   "cell_type": "code",
   "execution_count": 22,
   "metadata": {},
   "outputs": [
    {
     "name": "stdout",
     "output_type": "stream",
     "text": [
      "Survived: 38.38%\n"
     ]
    }
   ],
   "source": [
    "print(f'Survived: {round(100*train[\"Survived\"].value_counts()[1]/len(train), 2)}%')"
   ]
  },
  {
   "cell_type": "markdown",
   "metadata": {},
   "source": [
    "342 из 891 пассажирам удалось выжить."
   ]
  },
  {
   "cell_type": "markdown",
   "metadata": {},
   "source": [
    "----"
   ]
  },
  {
   "cell_type": "markdown",
   "metadata": {},
   "source": [
    "#### Верно ли, что женщины выживали чаще мужчин?"
   ]
  },
  {
   "cell_type": "code",
   "execution_count": 92,
   "metadata": {},
   "outputs": [
    {
     "name": "stdout",
     "output_type": "stream",
     "text": [
      "fem on board: 314, survived: 233 (74.2%)\n",
      "men on board: 577, survived: 109 (18.89%)\n"
     ]
    }
   ],
   "source": [
    "fem = train[train['Sex'] == 'female']\n",
    "fem_survived = fem['Survived'].value_counts()\n",
    "print(f'fem on board: {len(fem)}, survived: {fem_survived[1]} ({round(100*fem_survived[1]/len(fem), 2)}%)')\n",
    "\n",
    "man = train[train['Sex'] == 'male']\n",
    "man_survived = man['Survived'].value_counts()\n",
    "print(f'men on board: {len(man)}, survived: {man_survived[1]} ({round(100*man_survived[1]/len(man), 2)}%)')"
   ]
  },
  {
   "cell_type": "markdown",
   "metadata": {},
   "source": [
    "Верно. Из 577 мужчин выжило всего 109, среди 314 женщин выжили 233."
   ]
  },
  {
   "cell_type": "markdown",
   "metadata": {},
   "source": [
    "#### Верно ли, что чаще выживали пассажиры с более дорогими билетами?"
   ]
  },
  {
   "cell_type": "code",
   "execution_count": 30,
   "metadata": {},
   "outputs": [
    {
     "data": {
      "text/plain": [
       "Text(0,0.5,'Fare')"
      ]
     },
     "execution_count": 30,
     "metadata": {},
     "output_type": "execute_result"
    },
    {
     "data": {
      "image/png": "[encoded data removed]",
      "text/plain": [
       "<matplotlib.figure.Figure at 0x20c47ca0e48>"
      ]
     },
     "metadata": {},
     "output_type": "display_data"
    }
   ],
   "source": [
    "plt.scatter(train['Survived'], train['Fare'], alpha=0.2)\n",
    "plt.xlabel(\"Survived\")\n",
    "plt.ylabel(\"Fare\")"
   ]
  },
  {
   "cell_type": "code",
   "execution_count": 89,
   "metadata": {},
   "outputs": [
    {
     "name": "stdout",
     "output_type": "stream",
     "text": [
      "rich on board: 53, survived: 39 (73.58%)\n",
      "poor on board: 838, survived: 303 (36.16%)\n"
     ]
    }
   ],
   "source": [
    "rich = train[train['Fare'] >= 100]\n",
    "rich_survived = rich['Survived'].value_counts()\n",
    "print(f'rich on board: {len(rich)}, survived: {rich_survived[1]} ({round(100*rich_survived[1]/len(rich), 2)}%)')\n",
    "\n",
    "poor = train[train['Fare'] < 100]\n",
    "poor_survived = poor['Survived'].value_counts()\n",
    "print(f'poor on board: {len(poor)}, survived: {poor_survived[1]} ({round(100*poor_survived[1]/len(poor), 2)}%)')"
   ]
  },
  {
   "cell_type": "markdown",
   "metadata": {},
   "source": [
    "Да, верно. На scatterplot'е отчетливо видно, как при пересечении определенного порога (где-то в 100 фунтов) доля выживших становится больше. Это подтверждается более точной оценкой: среди тех, чьи билеты стоили более 100 фунтов, выжило 73.6 процента, среди тех, у кого билеты стоили менее 100 фунтов - 36.16%."
   ]
  },
  {
   "cell_type": "markdown",
   "metadata": {},
   "source": [
    "#### Найдите закономерности, точно описывающие группу выживших пассажиров"
   ]
  },
  {
   "cell_type": "markdown",
   "metadata": {},
   "source": [
    "Логика подсказывает, что сначала спасали женщин, детей и стариков. Возможно, пассажиры с более дорогими билетами также были в приоритете при спасении. Если перебрать комбинации этих параметров, скорее всего найдется такая группа."
   ]
  },
  {
   "cell_type": "code",
   "execution_count": 72,
   "metadata": {},
   "outputs": [
    {
     "data": {
      "text/plain": [
       "Text(0,0.5,'Age')"
      ]
     },
     "execution_count": 72,
     "metadata": {},
     "output_type": "execute_result"
    },
    {
     "data": {
      "image/png": "[encoded data removed]",
      "text/plain": [
       "<matplotlib.figure.Figure at 0x20c47eeeda0>"
      ]
     },
     "metadata": {},
     "output_type": "display_data"
    }
   ],
   "source": [
    "plt.scatter(train['Survived'], train['Age'], alpha=0.2)\n",
    "plt.xlabel(\"Survived\")\n",
    "plt.ylabel(\"Age\")"
   ]
  },
  {
   "cell_type": "markdown",
   "metadata": {},
   "source": [
    "По графику видно, что действительно среди пассажиров возрастной группы до 10 лет намного больше выживших. Про стариков такого сказать по графику нельзя. Посмотрим на пассажиров до 10 лет:"
   ]
  },
  {
   "cell_type": "code",
   "execution_count": 120,
   "metadata": {},
   "outputs": [
    {
     "data": {
      "text/plain": [
       "1    38\n",
       "0    24\n",
       "Name: Survived, dtype: int64"
      ]
     },
     "execution_count": 120,
     "metadata": {},
     "output_type": "execute_result"
    }
   ],
   "source": [
    "train[(train['Age'] < 10)]['Survived'].value_counts()"
   ]
  },
  {
   "cell_type": "markdown",
   "metadata": {},
   "source": [
    "Погибших там все еще достаточно много, группу выживших среди детей выделить проблематично.\n",
    "\n",
    "Попробуем теперь выделить группу выживших среди женщин (мы знаем, что они выживали чаще мужчин) и пассажиров с дорогими билетами:"
   ]
  },
  {
   "cell_type": "code",
   "execution_count": 61,
   "metadata": {},
   "outputs": [
    {
     "data": {
      "text/plain": [
       "1    62\n",
       "0     2\n",
       "Name: Survived, dtype: int64"
      ]
     },
     "execution_count": 61,
     "metadata": {},
     "output_type": "execute_result"
    }
   ],
   "source": [
    "train[(train['Sex'] == 'female') & (train['Fare'] > 70)]['Survived'].value_counts() # Почти получилось!"
   ]
  },
  {
   "cell_type": "code",
   "execution_count": 68,
   "metadata": {},
   "outputs": [
    {
     "data": {
      "text/plain": [
       "1    36\n",
       "Name: Survived, dtype: int64"
      ]
     },
     "execution_count": 68,
     "metadata": {},
     "output_type": "execute_result"
    }
   ],
   "source": [
    "train[(train['Sex'] == 'female') & (train['Fare'] > 70) & (train['Age'] > 30)]['Survived'].value_counts()"
   ]
  },
  {
   "cell_type": "markdown",
   "metadata": {},
   "source": [
    "Ура! Все барышни за 30 с дорогими билетами выжили. Это пример несложной и легко интерпретируемой закономерности, которая выглядит логично."
   ]
  },
  {
   "cell_type": "code",
   "execution_count": 106,
   "metadata": {},
   "outputs": [
    {
     "data": {
      "text/plain": [
       "1    4\n",
       "Name: Survived, dtype: int64"
      ]
     },
     "execution_count": 106,
     "metadata": {},
     "output_type": "execute_result"
    }
   ],
   "source": [
    "train[train['FirstName'] == 'Emily']['Survived'].value_counts()"
   ]
  },
  {
   "cell_type": "markdown",
   "metadata": {},
   "source": [
    "Вот пример нелогичной и ложной закономерности. Все девушки с именем Эмилии - выжили."
   ]
  }
 ],
 "metadata": {
  "kernelspec": {
   "display_name": "Python 3",
   "language": "python",
   "name": "python3"
  },
  "language_info": {
   "codemirror_mode": {
    "name": "ipython",
    "version": 3
   },
   "file_extension": ".py",
   "mimetype": "text/x-python",
   "name": "python",
   "nbconvert_exporter": "python",
   "pygments_lexer": "ipython3",
   "version": "3.6.3"
  }
 },
 "nbformat": 4,
 "nbformat_minor": 1
}
