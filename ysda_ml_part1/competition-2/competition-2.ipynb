{
 "cells": [
  {
   "cell_type": "code",
   "execution_count": 1,
   "metadata": {
    "collapsed": true
   },
   "outputs": [],
   "source": [
    "import numpy as np\n",
    "import pandas as pd\n",
    "import matplotlib.pyplot as plt\n",
    "\n",
    "from sklearn.base import BaseEstimator, ClassifierMixin\n",
    "from sklearn.metrics import log_loss\n",
    "from sklearn.ensemble import RandomForestClassifier\n",
    "from sklearn.linear_model import LogisticRegression\n",
    "from sklearn.decomposition import PCA\n",
    "from sklearn.preprocessing import Imputer, OneHotEncoder, LabelEncoder\n",
    "from sklearn.model_selection import cross_val_score, GridSearchCV, StratifiedKFold\n",
    "\n",
    "%matplotlib inline"
   ]
  },
  {
   "cell_type": "code",
   "execution_count": 2,
   "metadata": {
    "collapsed": true
   },
   "outputs": [],
   "source": [
    "train = pd.concat([pd.read_csv('X.train.csv'), pd.read_csv('y.train.csv')], axis=1)\n",
    "test = pd.read_csv('X.test.csv')\n",
    "meta = pd.read_csv('MetaData.csv')"
   ]
  },
  {
   "cell_type": "code",
   "execution_count": 3,
   "metadata": {
    "scrolled": true
   },
   "outputs": [
    {
     "data": {
      "text/html": [
       "<div>\n",
       "<style>\n",
       "    .dataframe thead tr:only-child th {\n",
       "        text-align: right;\n",
       "    }\n",
       "\n",
       "    .dataframe thead th {\n",
       "        text-align: left;\n",
       "    }\n",
       "\n",
       "    .dataframe tbody tr th {\n",
       "        vertical-align: top;\n",
       "    }\n",
       "</style>\n",
       "<table border=\"1\" class=\"dataframe\">\n",
       "  <thead>\n",
       "    <tr style=\"text-align: right;\">\n",
       "      <th></th>\n",
       "      <th>V2</th>\n",
       "      <th>V3</th>\n",
       "      <th>V4</th>\n",
       "      <th>V5</th>\n",
       "      <th>V6</th>\n",
       "      <th>V7</th>\n",
       "      <th>V8</th>\n",
       "      <th>V9</th>\n",
       "      <th>V10</th>\n",
       "      <th>V11</th>\n",
       "      <th>...</th>\n",
       "      <th>V1323</th>\n",
       "      <th>V1324</th>\n",
       "      <th>V1325</th>\n",
       "      <th>V1326</th>\n",
       "      <th>V1327</th>\n",
       "      <th>V1328</th>\n",
       "      <th>V1329</th>\n",
       "      <th>V1330</th>\n",
       "      <th>V1331</th>\n",
       "      <th>label</th>\n",
       "    </tr>\n",
       "  </thead>\n",
       "  <tbody>\n",
       "    <tr>\n",
       "      <th>0</th>\n",
       "      <td>826.0</td>\n",
       "      <td>0.0</td>\n",
       "      <td>0</td>\n",
       "      <td>0.0</td>\n",
       "      <td>0.0</td>\n",
       "      <td>0.0</td>\n",
       "      <td>0.0</td>\n",
       "      <td>NaN</td>\n",
       "      <td>NaN</td>\n",
       "      <td>0.0</td>\n",
       "      <td>...</td>\n",
       "      <td>0.0</td>\n",
       "      <td>0.0</td>\n",
       "      <td>0.0</td>\n",
       "      <td>1.0</td>\n",
       "      <td>1.0</td>\n",
       "      <td>0.0</td>\n",
       "      <td>NaN</td>\n",
       "      <td>0.0</td>\n",
       "      <td>0.5</td>\n",
       "      <td>0</td>\n",
       "    </tr>\n",
       "    <tr>\n",
       "      <th>1</th>\n",
       "      <td>15.0</td>\n",
       "      <td>0.0</td>\n",
       "      <td>0</td>\n",
       "      <td>0.0</td>\n",
       "      <td>0.0</td>\n",
       "      <td>0.0</td>\n",
       "      <td>0.0</td>\n",
       "      <td>0.030303</td>\n",
       "      <td>0.083333</td>\n",
       "      <td>0.0</td>\n",
       "      <td>...</td>\n",
       "      <td>0.0</td>\n",
       "      <td>1.0</td>\n",
       "      <td>0.0</td>\n",
       "      <td>0.0</td>\n",
       "      <td>0.0</td>\n",
       "      <td>0.5</td>\n",
       "      <td>0.0</td>\n",
       "      <td>0.5</td>\n",
       "      <td>0.0</td>\n",
       "      <td>0</td>\n",
       "    </tr>\n",
       "    <tr>\n",
       "      <th>2</th>\n",
       "      <td>242.0</td>\n",
       "      <td>0.0</td>\n",
       "      <td>0</td>\n",
       "      <td>0.0</td>\n",
       "      <td>0.0</td>\n",
       "      <td>0.0</td>\n",
       "      <td>0.0</td>\n",
       "      <td>NaN</td>\n",
       "      <td>NaN</td>\n",
       "      <td>0.0</td>\n",
       "      <td>...</td>\n",
       "      <td>1.0</td>\n",
       "      <td>0.0</td>\n",
       "      <td>0.5</td>\n",
       "      <td>0.0</td>\n",
       "      <td>0.0</td>\n",
       "      <td>1.0</td>\n",
       "      <td>0.0</td>\n",
       "      <td>0.0</td>\n",
       "      <td>0.5</td>\n",
       "      <td>0</td>\n",
       "    </tr>\n",
       "    <tr>\n",
       "      <th>3</th>\n",
       "      <td>1038.0</td>\n",
       "      <td>0.0</td>\n",
       "      <td>0</td>\n",
       "      <td>0.0</td>\n",
       "      <td>0.0</td>\n",
       "      <td>0.0</td>\n",
       "      <td>0.0</td>\n",
       "      <td>NaN</td>\n",
       "      <td>NaN</td>\n",
       "      <td>0.0</td>\n",
       "      <td>...</td>\n",
       "      <td>0.5</td>\n",
       "      <td>0.0</td>\n",
       "      <td>0.0</td>\n",
       "      <td>0.0</td>\n",
       "      <td>0.0</td>\n",
       "      <td>0.0</td>\n",
       "      <td>0.0</td>\n",
       "      <td>0.0</td>\n",
       "      <td>0.5</td>\n",
       "      <td>0</td>\n",
       "    </tr>\n",
       "    <tr>\n",
       "      <th>4</th>\n",
       "      <td>971.0</td>\n",
       "      <td>0.0</td>\n",
       "      <td>0</td>\n",
       "      <td>0.0</td>\n",
       "      <td>0.0</td>\n",
       "      <td>0.0</td>\n",
       "      <td>0.0</td>\n",
       "      <td>NaN</td>\n",
       "      <td>NaN</td>\n",
       "      <td>0.0</td>\n",
       "      <td>...</td>\n",
       "      <td>0.0</td>\n",
       "      <td>1.0</td>\n",
       "      <td>0.0</td>\n",
       "      <td>0.5</td>\n",
       "      <td>0.0</td>\n",
       "      <td>0.0</td>\n",
       "      <td>0.0</td>\n",
       "      <td>0.0</td>\n",
       "      <td>0.0</td>\n",
       "      <td>0</td>\n",
       "    </tr>\n",
       "  </tbody>\n",
       "</table>\n",
       "<p>5 rows × 1331 columns</p>\n",
       "</div>"
      ],
      "text/plain": [
       "       V2   V3  V4   V5   V6   V7   V8        V9       V10  V11  ...    V1323  \\\n",
       "0   826.0  0.0   0  0.0  0.0  0.0  0.0       NaN       NaN  0.0  ...      0.0   \n",
       "1    15.0  0.0   0  0.0  0.0  0.0  0.0  0.030303  0.083333  0.0  ...      0.0   \n",
       "2   242.0  0.0   0  0.0  0.0  0.0  0.0       NaN       NaN  0.0  ...      1.0   \n",
       "3  1038.0  0.0   0  0.0  0.0  0.0  0.0       NaN       NaN  0.0  ...      0.5   \n",
       "4   971.0  0.0   0  0.0  0.0  0.0  0.0       NaN       NaN  0.0  ...      0.0   \n",
       "\n",
       "   V1324  V1325  V1326  V1327  V1328  V1329  V1330  V1331  label  \n",
       "0    0.0    0.0    1.0    1.0    0.0    NaN    0.0    0.5      0  \n",
       "1    1.0    0.0    0.0    0.0    0.5    0.0    0.5    0.0      0  \n",
       "2    0.0    0.5    0.0    0.0    1.0    0.0    0.0    0.5      0  \n",
       "3    0.0    0.0    0.0    0.0    0.0    0.0    0.0    0.5      0  \n",
       "4    1.0    0.0    0.5    0.0    0.0    0.0    0.0    0.0      0  \n",
       "\n",
       "[5 rows x 1331 columns]"
      ]
     },
     "execution_count": 3,
     "metadata": {},
     "output_type": "execute_result"
    }
   ],
   "source": [
    "train.head()"
   ]
  },
  {
   "cell_type": "code",
   "execution_count": 4,
   "metadata": {},
   "outputs": [
    {
     "data": {
      "text/html": [
       "<div>\n",
       "<style>\n",
       "    .dataframe thead tr:only-child th {\n",
       "        text-align: right;\n",
       "    }\n",
       "\n",
       "    .dataframe thead th {\n",
       "        text-align: left;\n",
       "    }\n",
       "\n",
       "    .dataframe tbody tr th {\n",
       "        vertical-align: top;\n",
       "    }\n",
       "</style>\n",
       "<table border=\"1\" class=\"dataframe\">\n",
       "  <thead>\n",
       "    <tr style=\"text-align: right;\">\n",
       "      <th></th>\n",
       "      <th>V2</th>\n",
       "      <th>V3</th>\n",
       "      <th>V4</th>\n",
       "      <th>V5</th>\n",
       "      <th>V6</th>\n",
       "      <th>V7</th>\n",
       "      <th>V8</th>\n",
       "      <th>V9</th>\n",
       "      <th>V10</th>\n",
       "      <th>V11</th>\n",
       "      <th>...</th>\n",
       "      <th>V1322</th>\n",
       "      <th>V1323</th>\n",
       "      <th>V1324</th>\n",
       "      <th>V1325</th>\n",
       "      <th>V1326</th>\n",
       "      <th>V1327</th>\n",
       "      <th>V1328</th>\n",
       "      <th>V1329</th>\n",
       "      <th>V1330</th>\n",
       "      <th>V1331</th>\n",
       "    </tr>\n",
       "  </thead>\n",
       "  <tbody>\n",
       "    <tr>\n",
       "      <th>0</th>\n",
       "      <td>685.0</td>\n",
       "      <td>0.0</td>\n",
       "      <td>0</td>\n",
       "      <td>0.0</td>\n",
       "      <td>0.0</td>\n",
       "      <td>0.0</td>\n",
       "      <td>0.0</td>\n",
       "      <td>0.010101</td>\n",
       "      <td>0.097222</td>\n",
       "      <td>0.0</td>\n",
       "      <td>...</td>\n",
       "      <td>0.5</td>\n",
       "      <td>0.5</td>\n",
       "      <td>0.5</td>\n",
       "      <td>0.0</td>\n",
       "      <td>0.5</td>\n",
       "      <td>0.5</td>\n",
       "      <td>0.5</td>\n",
       "      <td>0.0</td>\n",
       "      <td>0.0</td>\n",
       "      <td>0.0</td>\n",
       "    </tr>\n",
       "    <tr>\n",
       "      <th>1</th>\n",
       "      <td>1150.0</td>\n",
       "      <td>0.0</td>\n",
       "      <td>0</td>\n",
       "      <td>0.0</td>\n",
       "      <td>0.0</td>\n",
       "      <td>0.0</td>\n",
       "      <td>0.0</td>\n",
       "      <td>0.010101</td>\n",
       "      <td>0.083333</td>\n",
       "      <td>0.0</td>\n",
       "      <td>...</td>\n",
       "      <td>0.5</td>\n",
       "      <td>0.5</td>\n",
       "      <td>0.5</td>\n",
       "      <td>0.0</td>\n",
       "      <td>0.5</td>\n",
       "      <td>0.0</td>\n",
       "      <td>0.0</td>\n",
       "      <td>0.0</td>\n",
       "      <td>0.0</td>\n",
       "      <td>0.5</td>\n",
       "    </tr>\n",
       "    <tr>\n",
       "      <th>2</th>\n",
       "      <td>91.0</td>\n",
       "      <td>0.0</td>\n",
       "      <td>1</td>\n",
       "      <td>0.0</td>\n",
       "      <td>0.0</td>\n",
       "      <td>0.0</td>\n",
       "      <td>1.0</td>\n",
       "      <td>0.010101</td>\n",
       "      <td>0.097222</td>\n",
       "      <td>0.0</td>\n",
       "      <td>...</td>\n",
       "      <td>0.0</td>\n",
       "      <td>0.5</td>\n",
       "      <td>0.5</td>\n",
       "      <td>0.0</td>\n",
       "      <td>0.0</td>\n",
       "      <td>0.0</td>\n",
       "      <td>0.0</td>\n",
       "      <td>0.0</td>\n",
       "      <td>0.0</td>\n",
       "      <td>0.0</td>\n",
       "    </tr>\n",
       "    <tr>\n",
       "      <th>3</th>\n",
       "      <td>332.0</td>\n",
       "      <td>0.0</td>\n",
       "      <td>1</td>\n",
       "      <td>0.0</td>\n",
       "      <td>0.0</td>\n",
       "      <td>0.0</td>\n",
       "      <td>1.0</td>\n",
       "      <td>NaN</td>\n",
       "      <td>NaN</td>\n",
       "      <td>0.0</td>\n",
       "      <td>...</td>\n",
       "      <td>0.5</td>\n",
       "      <td>0.5</td>\n",
       "      <td>0.5</td>\n",
       "      <td>0.0</td>\n",
       "      <td>0.5</td>\n",
       "      <td>0.0</td>\n",
       "      <td>0.0</td>\n",
       "      <td>NaN</td>\n",
       "      <td>0.0</td>\n",
       "      <td>0.0</td>\n",
       "    </tr>\n",
       "    <tr>\n",
       "      <th>4</th>\n",
       "      <td>714.0</td>\n",
       "      <td>0.0</td>\n",
       "      <td>1</td>\n",
       "      <td>0.0</td>\n",
       "      <td>0.0</td>\n",
       "      <td>1.0</td>\n",
       "      <td>1.0</td>\n",
       "      <td>NaN</td>\n",
       "      <td>NaN</td>\n",
       "      <td>NaN</td>\n",
       "      <td>...</td>\n",
       "      <td>0.5</td>\n",
       "      <td>1.0</td>\n",
       "      <td>0.0</td>\n",
       "      <td>0.0</td>\n",
       "      <td>0.0</td>\n",
       "      <td>0.0</td>\n",
       "      <td>0.0</td>\n",
       "      <td>NaN</td>\n",
       "      <td>0.0</td>\n",
       "      <td>0.0</td>\n",
       "    </tr>\n",
       "  </tbody>\n",
       "</table>\n",
       "<p>5 rows × 1330 columns</p>\n",
       "</div>"
      ],
      "text/plain": [
       "       V2   V3  V4   V5   V6   V7   V8        V9       V10  V11  ...    V1322  \\\n",
       "0   685.0  0.0   0  0.0  0.0  0.0  0.0  0.010101  0.097222  0.0  ...      0.5   \n",
       "1  1150.0  0.0   0  0.0  0.0  0.0  0.0  0.010101  0.083333  0.0  ...      0.5   \n",
       "2    91.0  0.0   1  0.0  0.0  0.0  1.0  0.010101  0.097222  0.0  ...      0.0   \n",
       "3   332.0  0.0   1  0.0  0.0  0.0  1.0       NaN       NaN  0.0  ...      0.5   \n",
       "4   714.0  0.0   1  0.0  0.0  1.0  1.0       NaN       NaN  NaN  ...      0.5   \n",
       "\n",
       "   V1323  V1324  V1325  V1326  V1327  V1328  V1329  V1330  V1331  \n",
       "0    0.5    0.5    0.0    0.5    0.5    0.5    0.0    0.0    0.0  \n",
       "1    0.5    0.5    0.0    0.5    0.0    0.0    0.0    0.0    0.5  \n",
       "2    0.5    0.5    0.0    0.0    0.0    0.0    0.0    0.0    0.0  \n",
       "3    0.5    0.5    0.0    0.5    0.0    0.0    NaN    0.0    0.0  \n",
       "4    1.0    0.0    0.0    0.0    0.0    0.0    NaN    0.0    0.0  \n",
       "\n",
       "[5 rows x 1330 columns]"
      ]
     },
     "execution_count": 4,
     "metadata": {},
     "output_type": "execute_result"
    }
   ],
   "source": [
    "test.head()"
   ]
  },
  {
   "cell_type": "code",
   "execution_count": 5,
   "metadata": {},
   "outputs": [
    {
     "data": {
      "text/html": [
       "<div>\n",
       "<style>\n",
       "    .dataframe thead tr:only-child th {\n",
       "        text-align: right;\n",
       "    }\n",
       "\n",
       "    .dataframe thead th {\n",
       "        text-align: left;\n",
       "    }\n",
       "\n",
       "    .dataframe tbody tr th {\n",
       "        vertical-align: top;\n",
       "    }\n",
       "</style>\n",
       "<table border=\"1\" class=\"dataframe\">\n",
       "  <thead>\n",
       "    <tr style=\"text-align: right;\">\n",
       "      <th></th>\n",
       "      <th>varnum</th>\n",
       "      <th>type</th>\n",
       "      <th>Column Type</th>\n",
       "    </tr>\n",
       "  </thead>\n",
       "  <tbody>\n",
       "    <tr>\n",
       "      <th>0</th>\n",
       "      <td>V2</td>\n",
       "      <td>char</td>\n",
       "      <td>Numeric</td>\n",
       "    </tr>\n",
       "    <tr>\n",
       "      <th>1</th>\n",
       "      <td>V3</td>\n",
       "      <td>num</td>\n",
       "      <td>Category</td>\n",
       "    </tr>\n",
       "    <tr>\n",
       "      <th>2</th>\n",
       "      <td>V4</td>\n",
       "      <td>num</td>\n",
       "      <td>Category</td>\n",
       "    </tr>\n",
       "    <tr>\n",
       "      <th>3</th>\n",
       "      <td>V5</td>\n",
       "      <td>num</td>\n",
       "      <td>Category</td>\n",
       "    </tr>\n",
       "    <tr>\n",
       "      <th>4</th>\n",
       "      <td>V6</td>\n",
       "      <td>num</td>\n",
       "      <td>Category</td>\n",
       "    </tr>\n",
       "  </tbody>\n",
       "</table>\n",
       "</div>"
      ],
      "text/plain": [
       "  varnum  type Column Type\n",
       "0     V2  char     Numeric\n",
       "1     V3   num    Category\n",
       "2     V4   num    Category\n",
       "3     V5   num    Category\n",
       "4     V6   num    Category"
      ]
     },
     "execution_count": 5,
     "metadata": {},
     "output_type": "execute_result"
    }
   ],
   "source": [
    "meta.head()"
   ]
  },
  {
   "cell_type": "code",
   "execution_count": 6,
   "metadata": {},
   "outputs": [],
   "source": [
    "num = meta[meta['Column Type'] == 'Numeric']['varnum'].tolist()\n",
    "cat = meta[meta['Column Type'] == 'Category']['varnum'].tolist()\n",
    "cats = []\n",
    "for c in cat:\n",
    "    v = test[c].value_counts().index.tolist()\n",
    "    if len(v) == 2 and 0 in v and 1 in v:\n",
    "        cats.append(c)\n",
    "\n",
    "def leave_num(data):\n",
    "    return data[num]\n",
    "\n",
    "def leave_bool(data):  \n",
    "    return data[num + cats]"
   ]
  },
  {
   "cell_type": "code",
   "execution_count": 7,
   "metadata": {
    "collapsed": true
   },
   "outputs": [],
   "source": [
    "def onehot_encode(train, test):\n",
    "    first_n = train.shape[0]\n",
    "    onehot = pd.get_dummies(pd.concat([train, test]), columns=cat)\n",
    "    return onehot[:first_n], onehot[first_n:]"
   ]
  },
  {
   "cell_type": "code",
   "execution_count": 8,
   "metadata": {
    "collapsed": true
   },
   "outputs": [],
   "source": [
    "def save(clf, X_train, X_test):\n",
    "    clf.fit(X_train, train.label)\n",
    "\n",
    "    Y_test = pd.DataFrame()\n",
    "    Y_test['Id'] = np.arange(X_test.shape[0])\n",
    "    Y_test['Prediction'] = clf.predict_proba(X_test)[:, 1]\n",
    "\n",
    "    Y_test.to_csv('res.csv', index=False)"
   ]
  },
  {
   "cell_type": "code",
   "execution_count": 9,
   "metadata": {
    "collapsed": true
   },
   "outputs": [],
   "source": [
    "X_train_imp, X_test_imp = train.drop('label', axis=1).fillna(-1), test.fillna(-1)\n",
    "X_train_num, X_test_num = leave_num(X_train_imp), leave_num(X_test_imp)\n",
    "X_train_bool, X_test_bool = leave_bool(X_train_imp), leave_bool(X_test_imp)\n",
    "X_train_onehot, X_test_onehot = onehot_encode(X_train_imp, X_test_imp)"
   ]
  },
  {
   "cell_type": "markdown",
   "metadata": {},
   "source": [
    "Сначала была предпринята попытка улучшить baseline решение - подбор параметров `min_samples_leaf` и `max_features`, а также выставление какого-то большого числа `n_estimators` для случайного леса. В результате запуска `GridSearchCV` были подобраны `min_samples_leaf=11, max_features=200`, количество деревьев было выставлено в `n_estimators=20000`. Были испробованы разные методы заполнения пропусков - `most_frequent, fillna(0), fillna(-1)`, в результате последний показал наилучшее качество. Кажется, это произошло из-за того, что часто в данных образуются пропуски из-за каких-то специфических причин и лучше это явно обозначать (в данном случае поставив в значение признака `-1`)."
   ]
  },
  {
   "cell_type": "code",
   "execution_count": null,
   "metadata": {},
   "outputs": [],
   "source": [
    "param_grid = {\n",
    "    'min_samples_leaf': [1, 2, 3, 4, 5, 6, 7, 8, 9, 10, 11, 12],\n",
    "    'max_features': [50, 100, 200, 'sqrt', 'log2']\n",
    "}\n",
    "clf = RandomForestClassifier(n_estimators=200, n_jobs=-1, random_state=42, criterion='entropy')\n",
    "optimizer = GridSearchCV(clf, param_grid, scoring='neg_log_loss', cv=5)\n",
    "optimizer.fit(X_train_imp, train.label)\n",
    "optimizer.best_estimator_, optimizer.best_score_"
   ]
  },
  {
   "cell_type": "code",
   "execution_count": 11,
   "metadata": {
    "collapsed": true
   },
   "outputs": [],
   "source": [
    "clf = RandomForestClassifier(n_estimators=20000, n_jobs=-1, random_state=42,\n",
    "                             min_samples_leaf=11, max_features=200)"
   ]
  },
  {
   "cell_type": "code",
   "execution_count": 12,
   "metadata": {},
   "outputs": [
    {
     "data": {
      "text/plain": [
       "0.21952912240018216"
      ]
     },
     "execution_count": 12,
     "metadata": {},
     "output_type": "execute_result"
    }
   ],
   "source": [
    "-np.mean(cross_val_score(clf, X_train_imp, train.label, scoring='neg_log_loss', cv=5))"
   ]
  },
  {
   "cell_type": "code",
   "execution_count": 13,
   "metadata": {
    "collapsed": true
   },
   "outputs": [],
   "source": [
    "save(clf, X_train_imp, X_test_imp)"
   ]
  },
  {
   "cell_type": "markdown",
   "metadata": {},
   "source": [
    "Далее был произведен еще один подбор параметров (в `max_features` добавлены бОльшие значения, а также попробован энтропийный критерий вместо критерия джини). В результате были подобраны параметры `min_samples_leaf=7, max_features=400`. Ошибка оказалась меньше, чем в предыдущей попытке, поэтому в дальнейшем использовался `criterion='entropy'`."
   ]
  },
  {
   "cell_type": "code",
   "execution_count": 15,
   "metadata": {},
   "outputs": [
    {
     "data": {
      "text/plain": [
       "(RandomForestClassifier(bootstrap=True, class_weight=None, criterion='entropy',\n",
       "             max_depth=None, max_features=400, max_leaf_nodes=None,\n",
       "             min_impurity_decrease=0.0, min_impurity_split=None,\n",
       "             min_samples_leaf=7, min_samples_split=2,\n",
       "             min_weight_fraction_leaf=0.0, n_estimators=200, n_jobs=-1,\n",
       "             oob_score=False, random_state=42, verbose=0, warm_start=False),\n",
       " -0.21660566063133974)"
      ]
     },
     "execution_count": 15,
     "metadata": {},
     "output_type": "execute_result"
    }
   ],
   "source": [
    "param_grid = {\n",
    "    'min_samples_leaf': [2, 3, 5, 7, 9, 11, 12],\n",
    "    'max_features': [200, 300, 400, 'sqrt', 'log2']\n",
    "}\n",
    "clf = RandomForestClassifier(n_estimators=200, n_jobs=-1, random_state=42, criterion='entropy')\n",
    "optimizer = GridSearchCV(clf, param_grid, scoring='neg_log_loss', cv=5)\n",
    "optimizer.fit(X_train_imp, train.label)\n",
    "optimizer.best_estimator_, optimizer.best_score_"
   ]
  },
  {
   "cell_type": "code",
   "execution_count": 16,
   "metadata": {
    "collapsed": true
   },
   "outputs": [],
   "source": [
    "clf = RandomForestClassifier(n_estimators=20000, n_jobs=-1, random_state=42,\n",
    "                             min_samples_leaf=7, max_features=400, criterion='entropy')"
   ]
  },
  {
   "cell_type": "code",
   "execution_count": 17,
   "metadata": {},
   "outputs": [
    {
     "data": {
      "text/plain": [
       "0.21714792455484938"
      ]
     },
     "execution_count": 17,
     "metadata": {},
     "output_type": "execute_result"
    }
   ],
   "source": [
    "-np.mean(cross_val_score(clf, X_train_imp, train.label, scoring='neg_log_loss', cv=5))"
   ]
  },
  {
   "cell_type": "code",
   "execution_count": 18,
   "metadata": {
    "collapsed": true
   },
   "outputs": [],
   "source": [
    "save(clf, X_train_imp, X_test_imp)"
   ]
  },
  {
   "cell_type": "markdown",
   "metadata": {},
   "source": [
    "---"
   ]
  },
  {
   "cell_type": "markdown",
   "metadata": {},
   "source": [
    "Далее был произведен One-hot encoding, после чего была попытка обучить на этих данных логистическую регрессию, а также случайный лес и сравнить с предыдущими результатами. Видно, что результат получился хуже как для логистической регрессии, так и для случайного леса."
   ]
  },
  {
   "cell_type": "code",
   "execution_count": 22,
   "metadata": {
    "scrolled": false
   },
   "outputs": [
    {
     "data": {
      "text/plain": [
       "(LogisticRegression(C=0.13, class_weight=None, dual=False, fit_intercept=True,\n",
       "           intercept_scaling=1, max_iter=100, multi_class='ovr', n_jobs=1,\n",
       "           penalty='l1', random_state=42, solver='liblinear', tol=0.0001,\n",
       "           verbose=0, warm_start=False), -0.2271032613027047)"
      ]
     },
     "execution_count": 22,
     "metadata": {},
     "output_type": "execute_result"
    }
   ],
   "source": [
    "param_grid = {'C': [0.01, 0.13, 0.14, 0.15,0.16, 0.5]}\n",
    "clf = LogisticRegression(penalty='l1', random_state=42)\n",
    "optimizer = GridSearchCV(clf, param_grid, scoring='neg_log_loss', cv=5, n_jobs=-1)\n",
    "optimizer.fit(X_train_onehot, train.label)\n",
    "optimizer.best_estimator_, optimizer.best_score_"
   ]
  },
  {
   "cell_type": "code",
   "execution_count": 23,
   "metadata": {},
   "outputs": [
    {
     "data": {
      "text/plain": [
       "(RandomForestClassifier(bootstrap=True, class_weight=None, criterion='gini',\n",
       "             max_depth=None, max_features=100, max_leaf_nodes=None,\n",
       "             min_impurity_decrease=0.0, min_impurity_split=None,\n",
       "             min_samples_leaf=7, min_samples_split=2,\n",
       "             min_weight_fraction_leaf=0.0, n_estimators=500, n_jobs=-1,\n",
       "             oob_score=False, random_state=42, verbose=0, warm_start=False),\n",
       " -0.22095191148333732)"
      ]
     },
     "execution_count": 23,
     "metadata": {},
     "output_type": "execute_result"
    }
   ],
   "source": [
    "param_grid = {\n",
    "    'min_samples_leaf': [1, 2, 3, 4, 5, 6, 7, 8, 9, 10],\n",
    "    'max_features': [50, 100, 'sqrt', 'log2']\n",
    "}\n",
    "clf = RandomForestClassifier(n_estimators=500, n_jobs=-1, random_state=42)\n",
    "optimizer = GridSearchCV(clf, param_grid, scoring='neg_log_loss', cv=5)\n",
    "optimizer.fit(X_train_onehot, train.label)\n",
    "optimizer.best_estimator_, optimizer.best_score_"
   ]
  },
  {
   "cell_type": "code",
   "execution_count": null,
   "metadata": {
    "collapsed": true
   },
   "outputs": [],
   "source": [
    "clf = RandomForestClassifier(n_estimators=500, max_features=100, random_state=42,\n",
    "                             min_samples_leaf=10, n_jobs=-1)\n",
    "save(clf, X_train_onehot, X_test_onehot)"
   ]
  },
  {
   "cell_type": "markdown",
   "metadata": {},
   "source": [
    "Далее для логистической регрессии произведена попытка обучиться только на числовых данных и на категориальных данных, у которых только 2 категории (0 и 1) [назовем их булевыми]. Видно, что ошибка при обучении только на числовых данных больше, чем при обучении на числовых и булевых, поэтому в дальнейшем использовалась логистическая регрессия на числовых и булевых признаках."
   ]
  },
  {
   "cell_type": "code",
   "execution_count": 24,
   "metadata": {},
   "outputs": [
    {
     "data": {
      "text/plain": [
       "(LogisticRegression(C=0.43, class_weight=None, dual=False, fit_intercept=True,\n",
       "           intercept_scaling=1, max_iter=100, multi_class='ovr', n_jobs=1,\n",
       "           penalty='l1', random_state=42, solver='liblinear', tol=0.0001,\n",
       "           verbose=0, warm_start=False), -0.22472507144967466)"
      ]
     },
     "execution_count": 24,
     "metadata": {},
     "output_type": "execute_result"
    }
   ],
   "source": [
    "param_grid = {'C': [0.43, 0.45, 0.47, 0.5, 0.55]}\n",
    "clf = LogisticRegression(penalty='l1', random_state=42)\n",
    "optimizer = GridSearchCV(clf, param_grid, scoring='neg_log_loss', cv=5, n_jobs=-1)\n",
    "optimizer.fit(X_train_num, train.label)\n",
    "optimizer.best_estimator_, optimizer.best_score_"
   ]
  },
  {
   "cell_type": "code",
   "execution_count": 25,
   "metadata": {},
   "outputs": [
    {
     "data": {
      "text/plain": [
       "(LogisticRegression(C=0.197, class_weight=None, dual=False, fit_intercept=True,\n",
       "           intercept_scaling=1, max_iter=100, multi_class='ovr', n_jobs=1,\n",
       "           penalty='l1', random_state=42, solver='liblinear', tol=0.0001,\n",
       "           verbose=0, warm_start=False), -0.2226198537009394)"
      ]
     },
     "execution_count": 25,
     "metadata": {},
     "output_type": "execute_result"
    }
   ],
   "source": [
    "param_grid = {'C': [0.196, 0.197, 0.199, 0.22]}\n",
    "clf = LogisticRegression(penalty='l1', random_state=42)\n",
    "optimizer = GridSearchCV(clf, param_grid, scoring='neg_log_loss', cv=5, n_jobs=-1)\n",
    "optimizer.fit(X_train_bool, train.label)\n",
    "optimizer.best_estimator_, optimizer.best_score_"
   ]
  },
  {
   "cell_type": "code",
   "execution_count": 26,
   "metadata": {},
   "outputs": [],
   "source": [
    "clf = LogisticRegression(penalty='l1', random_state=42, C=0.199)\n",
    "save(clf, X_train_bool, X_test_bool)"
   ]
  },
  {
   "cell_type": "markdown",
   "metadata": {},
   "source": [
    "Также было проверено предположение, что ошибка может уменьшиться при балансировке данных (не уменьшилась)."
   ]
  },
  {
   "cell_type": "code",
   "execution_count": 27,
   "metadata": {},
   "outputs": [
    {
     "data": {
      "text/plain": [
       "(LogisticRegression(C=0.27, class_weight='balanced', dual=False,\n",
       "           fit_intercept=True, intercept_scaling=1, max_iter=100,\n",
       "           multi_class='ovr', n_jobs=1, penalty='l1', random_state=42,\n",
       "           solver='liblinear', tol=0.0001, verbose=0, warm_start=False),\n",
       " -0.46652655986918351)"
      ]
     },
     "execution_count": 27,
     "metadata": {},
     "output_type": "execute_result"
    }
   ],
   "source": [
    "param_grid = {'C': [0.196, 0.197, 0.199, 0.27, 0.3, 0.33, 0.5, 1]}\n",
    "clf = LogisticRegression(penalty='l1', random_state=42, class_weight='balanced')\n",
    "optimizer = GridSearchCV(clf, param_grid, scoring='neg_log_loss', cv=5, n_jobs=-1)\n",
    "optimizer.fit(X_train_bool, train.label)\n",
    "optimizer.best_estimator_, optimizer.best_score_"
   ]
  },
  {
   "cell_type": "markdown",
   "metadata": {},
   "source": [
    "---"
   ]
  },
  {
   "cell_type": "markdown",
   "metadata": {
    "collapsed": true
   },
   "source": [
    "Далее из лабы был позаимствован `BlendingClassifier` с небольшими изменениями: так как ранее мы показали, что LogisticRegression и RandomForest показывают наилучшие результаты на разных данных, в конструктор были добавлены параметры `clf1_preprocess`, `clf2_preprocess` - функции, которые преобразуют исходные фичи в фичи, нужные конкретному классификатору. По умолчанию, если ничего не передать, эти функции ничего не делают с `X`."
   ]
  },
  {
   "cell_type": "code",
   "execution_count": 30,
   "metadata": {
    "collapsed": true
   },
   "outputs": [],
   "source": [
    "class BlendingClassifier(BaseEstimator, ClassifierMixin):\n",
    "    def __init__(self, clf1, clf2, clf1_preprocess=lambda x: x, clf2_preprocess=lambda x: x, alpha=0.5):\n",
    "        self.clf1 = clf1\n",
    "        self.clf2 = clf2\n",
    "        self.clf1_preprocess = clf1_preprocess\n",
    "        self.clf2_preprocess = clf2_preprocess\n",
    "        self.alpha = alpha\n",
    "    \n",
    "    def fit(self, X, y):\n",
    "        self.clf1.fit(self.clf1_preprocess(X), y)\n",
    "        self.clf2.fit(self.clf2_preprocess(X), y)\n",
    "        return self\n",
    "    \n",
    "    def predict(self, X):\n",
    "        clf1_pred = self.clf1.predict(self.clf1_preprocess(X))\n",
    "        clf2_pred = self.clf2.predict(self.clf2_preprocess(X))\n",
    "        return clf1_pred*self.alpha + clf2_pred*(1 - self.alpha)\n",
    "    \n",
    "    def predict_proba(self, X):\n",
    "        clf1_pred_proba = self.clf1.predict_proba(self.clf1_preprocess(X))\n",
    "        clf2_pred_proba = self.clf2.predict_proba(self.clf2_preprocess(X))\n",
    "        return clf1_pred_proba*self.alpha + clf2_pred_proba*(1 - self.alpha)"
   ]
  },
  {
   "cell_type": "code",
   "execution_count": 31,
   "metadata": {
    "collapsed": true
   },
   "outputs": [],
   "source": [
    "def plot_params_score(alphas, scores):\n",
    "    means = np.zeros(len(scores))\n",
    "    stds = np.zeros(len(scores))\n",
    "    for i, score in enumerate(scores):\n",
    "        means[i] = np.mean(score)\n",
    "        stds[i] = np.std(score)\n",
    "\n",
    "    plt.errorbar(range(len(scores)), means, xerr=0.5, yerr=2*stds, linestyle='', fmt='o')\n",
    "    plt.xticks(range(len(scores)), alphas, rotation='vertical')\n",
    "    plt.xlabel('alpha')\n",
    "    plt.ylabel('score')\n",
    "    plt.show()"
   ]
  },
  {
   "cell_type": "code",
   "execution_count": null,
   "metadata": {},
   "outputs": [],
   "source": [
    "param_grid = {'C': [0.196, 0.197, 0.199, 0.27, 0.3, 0.33, 0.5, 1]}\n",
    "clf = LogisticRegression(penalty='l1', random_state=42)\n",
    "optimizer = GridSearchCV(clf, param_grid, scoring='neg_log_loss', cv=5, n_jobs=-1)\n",
    "optimizer.fit(X_train_bool, train.label)\n",
    "optimizer.best_estimator_, optimizer.best_score_"
   ]
  },
  {
   "cell_type": "code",
   "execution_count": 33,
   "metadata": {},
   "outputs": [
    {
     "name": "stdout",
     "output_type": "stream",
     "text": [
      "alpha: 0.1, score: -0.22089369758867633\n",
      "alpha: 0.2, score: -0.21947181709087077\n",
      "alpha: 0.30000000000000004, score: -0.21833591945853176\n",
      "alpha: 0.4, score: -0.21745182582475814\n",
      "alpha: 0.5, score: -0.21679951089684288\n",
      "alpha: 0.6000000000000001, score: -0.2163684807066911\n",
      "alpha: 0.7000000000000001, score: -0.21615612269957074\n",
      "alpha: 0.8, score: -0.21616799515539106\n",
      "alpha: 0.9, score: -0.21642051523865763\n"
     ]
    },
    {
     "data": {
      "image/png": "[encoded data removed]",
      "text/plain": [
       "<matplotlib.figure.Figure at 0x174284fda20>"
      ]
     },
     "metadata": {},
     "output_type": "display_data"
    }
   ],
   "source": [
    "clf1 = RandomForestClassifier(n_estimators=1000, min_samples_leaf=2, max_features=200,\n",
    "                              criterion='entropy', random_state=42, n_jobs=-1)\n",
    "clf2 = LogisticRegression(penalty='l1', random_state=42, C=0.2)\n",
    "alphas = list(map(lambda i: i*0.1, range(1, 10)))\n",
    "scores = [0]*len(alphas)\n",
    "for i, alpha in enumerate(alphas):\n",
    "    blending = BlendingClassifier(clf1, clf2, clf2_preprocess=leave_bool, alpha=alpha)\n",
    "    scores[i] = cross_val_score(blending, X_train_imp, train.label, cv=5, scoring='neg_log_loss')\n",
    "    print(f'alpha: {alpha}, score: {scores[i].mean()}')\n",
    "plot_params_score(alphas, scores)"
   ]
  },
  {
   "cell_type": "code",
   "execution_count": 34,
   "metadata": {},
   "outputs": [],
   "source": [
    "clf1 = RandomForestClassifier(n_estimators=10000, min_samples_leaf=2, max_features=200,\n",
    "                              criterion='entropy', random_state=42, n_jobs=-1)\n",
    "clf2 = LogisticRegression(penalty='l1', random_state=42, C=0.2)\n",
    "clf = BlendingClassifier(clf1, clf2, clf2_preprocess=leave_bool, alpha=0.8)\n",
    "save(clf, X_train_imp, X_test_imp)"
   ]
  },
  {
   "cell_type": "markdown",
   "metadata": {},
   "source": [
    "В итоге с помощью такого блендинга с `alpha=0.8` удалось добиться\n",
    "\n",
    "`Public Score: 0.23006`,\n",
    "\n",
    "`Private Score: 0.21227`."
   ]
  },
  {
   "cell_type": "markdown",
   "metadata": {},
   "source": [
    "---"
   ]
  },
  {
   "cell_type": "markdown",
   "metadata": {},
   "source": [
    "После пары про PCA был испробован этот метод - теперь логистическая регрессия на числовых и булевых признаках в блендинге заменена на логрег на n признаках после PCA."
   ]
  },
  {
   "cell_type": "code",
   "execution_count": 35,
   "metadata": {},
   "outputs": [
    {
     "data": {
      "text/html": [
       "<div>\n",
       "<style>\n",
       "    .dataframe thead tr:only-child th {\n",
       "        text-align: right;\n",
       "    }\n",
       "\n",
       "    .dataframe thead th {\n",
       "        text-align: left;\n",
       "    }\n",
       "\n",
       "    .dataframe tbody tr th {\n",
       "        vertical-align: top;\n",
       "    }\n",
       "</style>\n",
       "<table border=\"1\" class=\"dataframe\">\n",
       "  <thead>\n",
       "    <tr style=\"text-align: right;\">\n",
       "      <th></th>\n",
       "      <th>pca_0</th>\n",
       "      <th>pca_1</th>\n",
       "      <th>pca_2</th>\n",
       "      <th>pca_3</th>\n",
       "      <th>pca_4</th>\n",
       "      <th>pca_5</th>\n",
       "      <th>pca_6</th>\n",
       "      <th>pca_7</th>\n",
       "      <th>pca_8</th>\n",
       "      <th>pca_9</th>\n",
       "      <th>...</th>\n",
       "      <th>pca_20</th>\n",
       "      <th>pca_21</th>\n",
       "      <th>pca_22</th>\n",
       "      <th>pca_23</th>\n",
       "      <th>pca_24</th>\n",
       "      <th>pca_25</th>\n",
       "      <th>pca_26</th>\n",
       "      <th>pca_27</th>\n",
       "      <th>pca_28</th>\n",
       "      <th>pca_29</th>\n",
       "    </tr>\n",
       "  </thead>\n",
       "  <tbody>\n",
       "    <tr>\n",
       "      <th>0</th>\n",
       "      <td>397.223524</td>\n",
       "      <td>9.202526</td>\n",
       "      <td>-2.189962</td>\n",
       "      <td>4.549270</td>\n",
       "      <td>-2.860389</td>\n",
       "      <td>-0.661128</td>\n",
       "      <td>-1.127714</td>\n",
       "      <td>-1.576609</td>\n",
       "      <td>2.435424</td>\n",
       "      <td>-0.214111</td>\n",
       "      <td>...</td>\n",
       "      <td>0.725411</td>\n",
       "      <td>-1.880986</td>\n",
       "      <td>-1.253019</td>\n",
       "      <td>2.886256</td>\n",
       "      <td>-0.980574</td>\n",
       "      <td>2.297412</td>\n",
       "      <td>1.228414</td>\n",
       "      <td>-0.378631</td>\n",
       "      <td>-0.605802</td>\n",
       "      <td>0.823404</td>\n",
       "    </tr>\n",
       "    <tr>\n",
       "      <th>1</th>\n",
       "      <td>-413.796002</td>\n",
       "      <td>-2.642708</td>\n",
       "      <td>-1.816578</td>\n",
       "      <td>3.667889</td>\n",
       "      <td>-3.706980</td>\n",
       "      <td>-2.615337</td>\n",
       "      <td>2.154200</td>\n",
       "      <td>0.870472</td>\n",
       "      <td>-1.079709</td>\n",
       "      <td>-1.906726</td>\n",
       "      <td>...</td>\n",
       "      <td>-1.719804</td>\n",
       "      <td>1.113808</td>\n",
       "      <td>-1.419744</td>\n",
       "      <td>0.418493</td>\n",
       "      <td>0.472745</td>\n",
       "      <td>-1.704450</td>\n",
       "      <td>1.735314</td>\n",
       "      <td>0.174928</td>\n",
       "      <td>-0.530689</td>\n",
       "      <td>0.675752</td>\n",
       "    </tr>\n",
       "    <tr>\n",
       "      <th>2</th>\n",
       "      <td>-186.792513</td>\n",
       "      <td>-4.251938</td>\n",
       "      <td>-4.995192</td>\n",
       "      <td>4.231895</td>\n",
       "      <td>2.960767</td>\n",
       "      <td>1.232992</td>\n",
       "      <td>-1.997857</td>\n",
       "      <td>-2.006408</td>\n",
       "      <td>-1.497303</td>\n",
       "      <td>1.266953</td>\n",
       "      <td>...</td>\n",
       "      <td>1.144931</td>\n",
       "      <td>0.094340</td>\n",
       "      <td>-0.533998</td>\n",
       "      <td>-0.873726</td>\n",
       "      <td>-1.637557</td>\n",
       "      <td>0.221892</td>\n",
       "      <td>-0.282241</td>\n",
       "      <td>0.688962</td>\n",
       "      <td>1.135661</td>\n",
       "      <td>1.948798</td>\n",
       "    </tr>\n",
       "    <tr>\n",
       "      <th>3</th>\n",
       "      <td>609.182722</td>\n",
       "      <td>-3.988165</td>\n",
       "      <td>0.875283</td>\n",
       "      <td>-6.216485</td>\n",
       "      <td>2.647138</td>\n",
       "      <td>-0.395348</td>\n",
       "      <td>2.577097</td>\n",
       "      <td>-1.594666</td>\n",
       "      <td>1.456206</td>\n",
       "      <td>-1.572396</td>\n",
       "      <td>...</td>\n",
       "      <td>2.252659</td>\n",
       "      <td>-1.107131</td>\n",
       "      <td>-1.518347</td>\n",
       "      <td>-1.274131</td>\n",
       "      <td>0.044414</td>\n",
       "      <td>0.670109</td>\n",
       "      <td>0.130090</td>\n",
       "      <td>2.876533</td>\n",
       "      <td>-0.455379</td>\n",
       "      <td>-1.370996</td>\n",
       "    </tr>\n",
       "    <tr>\n",
       "      <th>4</th>\n",
       "      <td>542.184498</td>\n",
       "      <td>-3.108270</td>\n",
       "      <td>1.562811</td>\n",
       "      <td>-5.742595</td>\n",
       "      <td>-0.700203</td>\n",
       "      <td>-0.212724</td>\n",
       "      <td>2.938653</td>\n",
       "      <td>2.474078</td>\n",
       "      <td>4.090147</td>\n",
       "      <td>-0.824463</td>\n",
       "      <td>...</td>\n",
       "      <td>-1.404799</td>\n",
       "      <td>1.965380</td>\n",
       "      <td>-1.486253</td>\n",
       "      <td>-1.266973</td>\n",
       "      <td>-2.139169</td>\n",
       "      <td>-0.847958</td>\n",
       "      <td>-0.288191</td>\n",
       "      <td>1.387620</td>\n",
       "      <td>-0.873406</td>\n",
       "      <td>-1.634543</td>\n",
       "    </tr>\n",
       "  </tbody>\n",
       "</table>\n",
       "<p>5 rows × 30 columns</p>\n",
       "</div>"
      ],
      "text/plain": [
       "        pca_0     pca_1     pca_2     pca_3     pca_4     pca_5     pca_6  \\\n",
       "0  397.223524  9.202526 -2.189962  4.549270 -2.860389 -0.661128 -1.127714   \n",
       "1 -413.796002 -2.642708 -1.816578  3.667889 -3.706980 -2.615337  2.154200   \n",
       "2 -186.792513 -4.251938 -4.995192  4.231895  2.960767  1.232992 -1.997857   \n",
       "3  609.182722 -3.988165  0.875283 -6.216485  2.647138 -0.395348  2.577097   \n",
       "4  542.184498 -3.108270  1.562811 -5.742595 -0.700203 -0.212724  2.938653   \n",
       "\n",
       "      pca_7     pca_8     pca_9    ...       pca_20    pca_21    pca_22  \\\n",
       "0 -1.576609  2.435424 -0.214111    ...     0.725411 -1.880986 -1.253019   \n",
       "1  0.870472 -1.079709 -1.906726    ...    -1.719804  1.113808 -1.419744   \n",
       "2 -2.006408 -1.497303  1.266953    ...     1.144931  0.094340 -0.533998   \n",
       "3 -1.594666  1.456206 -1.572396    ...     2.252659 -1.107131 -1.518347   \n",
       "4  2.474078  4.090147 -0.824463    ...    -1.404799  1.965380 -1.486253   \n",
       "\n",
       "     pca_23    pca_24    pca_25    pca_26    pca_27    pca_28    pca_29  \n",
       "0  2.886256 -0.980574  2.297412  1.228414 -0.378631 -0.605802  0.823404  \n",
       "1  0.418493  0.472745 -1.704450  1.735314  0.174928 -0.530689  0.675752  \n",
       "2 -0.873726 -1.637557  0.221892 -0.282241  0.688962  1.135661  1.948798  \n",
       "3 -1.274131  0.044414  0.670109  0.130090  2.876533 -0.455379 -1.370996  \n",
       "4 -1.266973 -2.139169 -0.847958 -0.288191  1.387620 -0.873406 -1.634543  \n",
       "\n",
       "[5 rows x 30 columns]"
      ]
     },
     "execution_count": 35,
     "metadata": {},
     "output_type": "execute_result"
    }
   ],
   "source": [
    "n = 30\n",
    "pca = PCA(n_components=n, random_state=1)\n",
    "pca.fit(X_train_onehot)\n",
    "tr = pca.transform(X_train_onehot)\n",
    "tr = pd.DataFrame(tr, columns=list(map(lambda i: f'pca_{i}', range(n))))\n",
    "tr.head()"
   ]
  },
  {
   "cell_type": "markdown",
   "metadata": {},
   "source": [
    "Одна компонента объясняет 99% дисперсии - очень странный результат."
   ]
  },
  {
   "cell_type": "code",
   "execution_count": 36,
   "metadata": {},
   "outputs": [
    {
     "name": "stdout",
     "output_type": "stream",
     "text": [
      "1\n",
      "0.995802922398\n"
     ]
    }
   ],
   "source": [
    "s = 0\n",
    "for i, e in enumerate(sorted(pca.explained_variance_ratio_, key=lambda x: -x)):\n",
    "    s += e\n",
    "    if s >= 0.9:\n",
    "        print(i + 1)\n",
    "        break\n",
    "print(s)"
   ]
  },
  {
   "cell_type": "code",
   "execution_count": 37,
   "metadata": {},
   "outputs": [
    {
     "data": {
      "text/plain": [
       "(LogisticRegression(C=0.055, class_weight=None, dual=False, fit_intercept=True,\n",
       "           intercept_scaling=1, max_iter=100, multi_class='ovr', n_jobs=1,\n",
       "           penalty='l1', random_state=42, solver='liblinear', tol=0.0001,\n",
       "           verbose=0, warm_start=False), -0.22288462741954426)"
      ]
     },
     "execution_count": 37,
     "metadata": {},
     "output_type": "execute_result"
    }
   ],
   "source": [
    "param_grid = {'C': [0.01, 0.04,0.045, 0.05,0.055, 0.057, 0.07, 0.09, 0.1, 0.12, 0.2, 0.3, 0.33, 0.5, 1]}\n",
    "clf = LogisticRegression(penalty='l1', random_state=42)\n",
    "optimizer = GridSearchCV(clf, param_grid, scoring='neg_log_loss', cv=5, n_jobs=-1)\n",
    "optimizer.fit(tr, train.label)\n",
    "optimizer.best_estimator_, optimizer.best_score_"
   ]
  },
  {
   "cell_type": "code",
   "execution_count": 38,
   "metadata": {
    "collapsed": true
   },
   "outputs": [],
   "source": [
    "# После нескольких запусков PCA с различными n_components, было выбрано значение 30\n",
    "# pca(10), C=0.1:  -0.22436733959923694\n",
    "# pca(40), C=0.05: -0.22347890884850466\n",
    "# pca(30), C=0.05: -0.22277993871800517"
   ]
  },
  {
   "cell_type": "code",
   "execution_count": 39,
   "metadata": {},
   "outputs": [
    {
     "data": {
      "text/plain": [
       "(RandomForestClassifier(bootstrap=True, class_weight=None, criterion='gini',\n",
       "             max_depth=None, max_features=10, max_leaf_nodes=None,\n",
       "             min_impurity_decrease=0.0, min_impurity_split=None,\n",
       "             min_samples_leaf=8, min_samples_split=2,\n",
       "             min_weight_fraction_leaf=0.0, n_estimators=500, n_jobs=-1,\n",
       "             oob_score=False, random_state=42, verbose=0, warm_start=False),\n",
       " -0.22985487329132009)"
      ]
     },
     "execution_count": 39,
     "metadata": {},
     "output_type": "execute_result"
    }
   ],
   "source": [
    "param_grid = {\n",
    "    'min_samples_leaf': [1, 2, 3, 4, 5, 6, 7, 8, 9, 10],\n",
    "    'max_features': [10, 'sqrt', 'log2']\n",
    "}\n",
    "clf = RandomForestClassifier(n_estimators=500, n_jobs=-1, random_state=42)\n",
    "optimizer = GridSearchCV(clf, param_grid, scoring='neg_log_loss', cv=5)\n",
    "optimizer.fit(tr, train.label)\n",
    "optimizer.best_estimator_, optimizer.best_score_"
   ]
  },
  {
   "cell_type": "markdown",
   "metadata": {},
   "source": [
    "Видно, что блендинг на преобразованных данных оказался хуже, чем предыдущий."
   ]
  },
  {
   "cell_type": "code",
   "execution_count": 40,
   "metadata": {},
   "outputs": [
    {
     "name": "stdout",
     "output_type": "stream",
     "text": [
      "alpha: 0.1, score: -0.22279529010960158\n",
      "alpha: 0.2, score: -0.22263431955972193\n",
      "alpha: 0.30000000000000004, score: -0.22274067935721537\n",
      "alpha: 0.4, score: -0.22307952358295272\n",
      "alpha: 0.5, score: -0.22363349410469527\n",
      "alpha: 0.6000000000000001, score: -0.22439522782036905\n",
      "alpha: 0.7000000000000001, score: -0.22536469329770323\n",
      "alpha: 0.8, score: -0.22654854755415524\n",
      "alpha: 0.9, score: -0.22796087570816023\n"
     ]
    },
    {
     "data": {
      "image/png": "[encoded data removed]",
      "text/plain": [
       "<matplotlib.figure.Figure at 0x17424b0cb00>"
      ]
     },
     "metadata": {},
     "output_type": "display_data"
    }
   ],
   "source": [
    "clf1 = RandomForestClassifier(n_estimators=20000, min_samples_leaf=10, max_features='sqrt',\n",
    "                              criterion='entropy', random_state=42, n_jobs=-1)\n",
    "clf2 = LogisticRegression(penalty='l1', random_state=42, C=0.1)\n",
    "alphas = list(map(lambda i: i*0.1, range(1, 10)))\n",
    "scores = [0]*len(alphas)\n",
    "for i, alpha in enumerate(alphas):\n",
    "    blending = BlendingClassifier(clf1, clf2, alpha=alpha)\n",
    "    scores[i] = cross_val_score(blending, tr, train.label, cv=5, scoring='neg_log_loss')\n",
    "    print(f'alpha: {alpha}, score: {scores[i].mean()}')\n",
    "plot_params_score(alphas, scores)"
   ]
  },
  {
   "cell_type": "markdown",
   "metadata": {},
   "source": [
    "Поэтому нужно взять RandomForest на изначальных признаках и LogisticRegression на преобразованных. Однако, `BlendingClassifier` не получится запустить, так как в него не получится просунуть преобразование one hot encoding - придется все делать руками."
   ]
  },
  {
   "cell_type": "code",
   "execution_count": 49,
   "metadata": {
    "collapsed": true
   },
   "outputs": [],
   "source": [
    "clf1 = RandomForestClassifier(n_estimators=2000, min_samples_leaf=2, max_features=200,\n",
    "                              criterion='entropy', random_state=42, n_jobs=-1)\n",
    "clf2 = LogisticRegression(penalty='l1', random_state=42, C=0.05)"
   ]
  },
  {
   "cell_type": "code",
   "execution_count": 50,
   "metadata": {},
   "outputs": [
    {
     "name": "stdout",
     "output_type": "stream",
     "text": [
      "alpha=0.1, loss=0.22122174744406617\n",
      "alpha=0.2, loss=0.2198384419342377\n",
      "alpha=0.30000000000000004, loss=0.218693058784504\n",
      "alpha=0.4, loss=0.2177634670632198\n",
      "alpha=0.5, loss=0.21703738042267884\n",
      "alpha=0.6000000000000001, loss=0.2165096871230403\n",
      "alpha=0.7000000000000001, loss=0.21618171763144206\n",
      "alpha=0.8, loss=0.2160621610721626\n",
      "alpha=0.9, loss=0.2161710321906233\n"
     ]
    },
    {
     "data": {
      "image/png": "[encoded data removed]",
      "text/plain": [
       "<matplotlib.figure.Figure at 0x17440518358>"
      ]
     },
     "metadata": {},
     "output_type": "display_data"
    }
   ],
   "source": [
    "alphas = list(map(lambda i: i*0.1, range(1, 10)))\n",
    "scores = [0]*len(alphas)\n",
    "for i, alpha in enumerate(alphas):\n",
    "    skf = StratifiedKFold(n_splits=5, random_state=42)\n",
    "    losses = []\n",
    "    for train_index, test_index in skf.split(X_train_imp, train.label):\n",
    "        clf1.fit(X_train_imp.iloc[train_index], train.label[train_index])\n",
    "        pred1 = clf1.predict_proba(X_train_imp.iloc[test_index])\n",
    "        clf2.fit(tr.iloc[train_index], train.label[train_index])\n",
    "        pred2 = clf2.predict_proba(tr.iloc[test_index])\n",
    "        pred = pred1*alpha + pred2*(1 - alpha)\n",
    "        losses.append(log_loss(train.label[test_index], pred))\n",
    "    print(f'alpha={alpha}, loss={np.mean(losses)}')\n",
    "    scores[i] = losses\n",
    "plot_params_score(alphas, scores)"
   ]
  },
  {
   "cell_type": "code",
   "execution_count": 51,
   "metadata": {},
   "outputs": [
    {
     "name": "stdout",
     "output_type": "stream",
     "text": [
      "alpha=0.75, loss=0.21609498533213375\n",
      "alpha=0.78, loss=0.2160686627857591\n",
      "alpha=0.8, loss=0.2160621610721626\n",
      "alpha=0.82, loss=0.2160647274736359\n",
      "alpha=0.85, loss=0.21608610358087693\n"
     ]
    },
    {
     "data": {
      "image/png": "[encoded data removed]",
      "text/plain": [
       "<matplotlib.figure.Figure at 0x17424af0cc0>"
      ]
     },
     "metadata": {},
     "output_type": "display_data"
    }
   ],
   "source": [
    "alphas = [0.75, 0.78, 0.8, 0.82, 0.85]\n",
    "scores = [0]*len(alphas)\n",
    "for i, alpha in enumerate(alphas):\n",
    "    skf = StratifiedKFold(n_splits=5, random_state=42)\n",
    "    losses = []\n",
    "    for train_index, test_index in skf.split(X_train_imp, train.label):\n",
    "        clf1.fit(X_train_imp.iloc[train_index], train.label[train_index])\n",
    "        pred1 = clf1.predict_proba(X_train_imp.iloc[test_index])\n",
    "        clf2.fit(tr.iloc[train_index], train.label[train_index])\n",
    "        pred2 = clf2.predict_proba(tr.iloc[test_index])\n",
    "        pred = pred1*alpha + pred2*(1 - alpha)\n",
    "        losses.append(log_loss(train.label[test_index], pred))\n",
    "    print(f'alpha={alpha}, loss={np.mean(losses)}')\n",
    "    scores[i] = losses\n",
    "plot_params_score(alphas, scores)"
   ]
  },
  {
   "cell_type": "markdown",
   "metadata": {},
   "source": [
    "Видно, что оценка получилась лучше, чем при блендинге с логистической регрессией, обученной на числовых и булевых признаках, однако, Public Score оказался хуже."
   ]
  },
  {
   "cell_type": "code",
   "execution_count": 44,
   "metadata": {},
   "outputs": [
    {
     "data": {
      "text/plain": [
       "LogisticRegression(C=0.05, class_weight=None, dual=False, fit_intercept=True,\n",
       "          intercept_scaling=1, max_iter=100, multi_class='ovr', n_jobs=1,\n",
       "          penalty='l1', random_state=42, solver='liblinear', tol=0.0001,\n",
       "          verbose=0, warm_start=False)"
      ]
     },
     "execution_count": 44,
     "metadata": {},
     "output_type": "execute_result"
    }
   ],
   "source": [
    "clf1 = RandomForestClassifier(n_estimators=50000, min_samples_leaf=3, max_features=300,\n",
    "                              criterion='entropy', random_state=42, n_jobs=-1)\n",
    "clf2 = LogisticRegression(penalty='l1', random_state=42, C=0.05)\n",
    "clf1.fit(X_train_imp, train.label)\n",
    "clf2.fit(tr, train.label)"
   ]
  },
  {
   "cell_type": "code",
   "execution_count": 45,
   "metadata": {
    "collapsed": true
   },
   "outputs": [],
   "source": [
    "tr_test = pca.transform(X_test_onehot)"
   ]
  },
  {
   "cell_type": "code",
   "execution_count": 46,
   "metadata": {
    "collapsed": true
   },
   "outputs": [],
   "source": [
    "alpha = 0.8\n",
    "pred1 = clf1.predict_proba(X_test_imp)\n",
    "pred2 = clf2.predict_proba(tr_test)\n",
    "pred = pred1*alpha + pred2*(1 - alpha)"
   ]
  },
  {
   "cell_type": "code",
   "execution_count": 47,
   "metadata": {
    "collapsed": true
   },
   "outputs": [],
   "source": [
    "Y_test = pd.DataFrame()\n",
    "Y_test['Id'] = np.arange(X_test_imp.shape[0])\n",
    "Y_test['Prediction'] = pred[:, 1]\n",
    "\n",
    "Y_test.to_csv('res1.csv', index=False)"
   ]
  },
  {
   "cell_type": "markdown",
   "metadata": {},
   "source": [
    "В итоге с помощью такого блендинга с `alpha=0.8` удалось добиться\n",
    "\n",
    "`Public Score: 0.23048`,\n",
    "\n",
    "`Private Score: 0.21220`."
   ]
  }
 ],
 "metadata": {
  "kernelspec": {
   "display_name": "Python 3",
   "language": "python",
   "name": "python3"
  },
  "language_info": {
   "codemirror_mode": {
    "name": "ipython",
    "version": 3
   },
   "file_extension": ".py",
   "mimetype": "text/x-python",
   "name": "python",
   "nbconvert_exporter": "python",
   "pygments_lexer": "ipython3",
   "version": "3.6.3"
  }
 },
 "nbformat": 4,
 "nbformat_minor": 2
}
